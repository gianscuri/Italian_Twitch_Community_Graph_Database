{
 "cells": [
  {
   "cell_type": "code",
   "execution_count": 2,
   "metadata": {
    "ExecuteTime": {
     "end_time": "2022-05-31T12:24:35.615231Z",
     "start_time": "2022-05-31T12:24:34.275897Z"
    }
   },
   "outputs": [],
   "source": [
    "from neo4j import GraphDatabase\n",
    "import pandas as pd"
   ]
  },
  {
   "cell_type": "markdown",
   "metadata": {},
   "source": [
    "### Streamer nodes"
   ]
  },
  {
   "cell_type": "code",
   "execution_count": 15,
   "metadata": {
    "ExecuteTime": {
     "end_time": "2022-05-31T10:33:37.844119Z",
     "start_time": "2022-05-31T10:33:36.224314Z"
    }
   },
   "outputs": [
    {
     "data": {
      "text/html": [
       "<div>\n",
       "<style scoped>\n",
       "    .dataframe tbody tr th:only-of-type {\n",
       "        vertical-align: middle;\n",
       "    }\n",
       "\n",
       "    .dataframe tbody tr th {\n",
       "        vertical-align: top;\n",
       "    }\n",
       "\n",
       "    .dataframe thead th {\n",
       "        text-align: right;\n",
       "    }\n",
       "</style>\n",
       "<table border=\"1\" class=\"dataframe\">\n",
       "  <thead>\n",
       "    <tr style=\"text-align: right;\">\n",
       "      <th></th>\n",
       "      <th>streamer</th>\n",
       "      <th>minutes_live</th>\n",
       "      <th>viewer_mean</th>\n",
       "      <th>viewer_peak</th>\n",
       "      <th>spect_mean</th>\n",
       "      <th>spect_tot</th>\n",
       "    </tr>\n",
       "    <tr>\n",
       "      <th>ID_streamer</th>\n",
       "      <th></th>\n",
       "      <th></th>\n",
       "      <th></th>\n",
       "      <th></th>\n",
       "      <th></th>\n",
       "      <th></th>\n",
       "    </tr>\n",
       "  </thead>\n",
       "  <tbody>\n",
       "    <tr>\n",
       "      <th>0</th>\n",
       "      <td>LyonWGFLive</td>\n",
       "      <td>1155</td>\n",
       "      <td>14011</td>\n",
       "      <td>19727</td>\n",
       "      <td>9337</td>\n",
       "      <td>58801</td>\n",
       "    </tr>\n",
       "    <tr>\n",
       "      <th>1</th>\n",
       "      <td>Tumblurr</td>\n",
       "      <td>2925</td>\n",
       "      <td>13683</td>\n",
       "      <td>32436</td>\n",
       "      <td>10655</td>\n",
       "      <td>148019</td>\n",
       "    </tr>\n",
       "    <tr>\n",
       "      <th>2</th>\n",
       "      <td>ChristianVieriOfficial</td>\n",
       "      <td>570</td>\n",
       "      <td>11014</td>\n",
       "      <td>24931</td>\n",
       "      <td>7056</td>\n",
       "      <td>64614</td>\n",
       "    </tr>\n",
       "    <tr>\n",
       "      <th>3</th>\n",
       "      <td>GrenBaud</td>\n",
       "      <td>1005</td>\n",
       "      <td>10285</td>\n",
       "      <td>30017</td>\n",
       "      <td>7600</td>\n",
       "      <td>78521</td>\n",
       "    </tr>\n",
       "    <tr>\n",
       "      <th>4</th>\n",
       "      <td>ZanoXVII</td>\n",
       "      <td>3480</td>\n",
       "      <td>7681</td>\n",
       "      <td>13973</td>\n",
       "      <td>5699</td>\n",
       "      <td>157718</td>\n",
       "    </tr>\n",
       "    <tr>\n",
       "      <th>...</th>\n",
       "      <td>...</td>\n",
       "      <td>...</td>\n",
       "      <td>...</td>\n",
       "      <td>...</td>\n",
       "      <td>...</td>\n",
       "      <td>...</td>\n",
       "    </tr>\n",
       "    <tr>\n",
       "      <th>2972</th>\n",
       "      <td>QLASH_Simracing</td>\n",
       "      <td>180</td>\n",
       "      <td>10</td>\n",
       "      <td>15</td>\n",
       "      <td>5</td>\n",
       "      <td>20</td>\n",
       "    </tr>\n",
       "    <tr>\n",
       "      <th>2973</th>\n",
       "      <td>teoKrazia</td>\n",
       "      <td>120</td>\n",
       "      <td>10</td>\n",
       "      <td>15</td>\n",
       "      <td>8</td>\n",
       "      <td>21</td>\n",
       "    </tr>\n",
       "    <tr>\n",
       "      <th>2974</th>\n",
       "      <td>yume940</td>\n",
       "      <td>225</td>\n",
       "      <td>10</td>\n",
       "      <td>23</td>\n",
       "      <td>6</td>\n",
       "      <td>27</td>\n",
       "    </tr>\n",
       "    <tr>\n",
       "      <th>2975</th>\n",
       "      <td>zanella_productions</td>\n",
       "      <td>165</td>\n",
       "      <td>10</td>\n",
       "      <td>12</td>\n",
       "      <td>8</td>\n",
       "      <td>17</td>\n",
       "    </tr>\n",
       "    <tr>\n",
       "      <th>2976</th>\n",
       "      <td>webhak7</td>\n",
       "      <td>30</td>\n",
       "      <td>10</td>\n",
       "      <td>13</td>\n",
       "      <td>8</td>\n",
       "      <td>10</td>\n",
       "    </tr>\n",
       "  </tbody>\n",
       "</table>\n",
       "<p>2977 rows × 6 columns</p>\n",
       "</div>"
      ],
      "text/plain": [
       "                           streamer  minutes_live  viewer_mean  viewer_peak  \\\n",
       "ID_streamer                                                                   \n",
       "0                       LyonWGFLive          1155        14011        19727   \n",
       "1                          Tumblurr          2925        13683        32436   \n",
       "2            ChristianVieriOfficial           570        11014        24931   \n",
       "3                          GrenBaud          1005        10285        30017   \n",
       "4                          ZanoXVII          3480         7681        13973   \n",
       "...                             ...           ...          ...          ...   \n",
       "2972                QLASH_Simracing           180           10           15   \n",
       "2973                      teoKrazia           120           10           15   \n",
       "2974                        yume940           225           10           23   \n",
       "2975            zanella_productions           165           10           12   \n",
       "2976                        webhak7            30           10           13   \n",
       "\n",
       "             spect_mean  spect_tot  \n",
       "ID_streamer                         \n",
       "0                  9337      58801  \n",
       "1                 10655     148019  \n",
       "2                  7056      64614  \n",
       "3                  7600      78521  \n",
       "4                  5699     157718  \n",
       "...                 ...        ...  \n",
       "2972                  5         20  \n",
       "2973                  8         21  \n",
       "2974                  6         27  \n",
       "2975                  8         17  \n",
       "2976                  8         10  \n",
       "\n",
       "[2977 rows x 6 columns]"
      ]
     },
     "execution_count": 15,
     "metadata": {},
     "output_type": "execute_result"
    }
   ],
   "source": [
    "pd.read_csv('https://raw.githubusercontent.com/gianscuri/Twitch_Community_Graph/main/DataProcessing/Streamer_dataset.csv',\n",
    "            index_col = ['ID_streamer'])"
   ]
  },
  {
   "cell_type": "code",
   "execution_count": 6,
   "metadata": {
    "ExecuteTime": {
     "end_time": "2022-05-31T09:30:37.151404Z",
     "start_time": "2022-05-31T09:30:37.143203Z"
    }
   },
   "outputs": [],
   "source": [
    "streamer_constraint = '''\n",
    "CREATE CONSTRAINT StreamerNameKey IF NOT EXISTS\n",
    "FOR (s:Streamer)\n",
    "REQUIRE s.Name IS UNIQUE\n",
    "'''"
   ]
  },
  {
   "cell_type": "code",
   "execution_count": 32,
   "metadata": {
    "ExecuteTime": {
     "end_time": "2022-05-31T10:50:55.537739Z",
     "start_time": "2022-05-31T10:50:55.523627Z"
    }
   },
   "outputs": [],
   "source": [
    "streamer_import_nodes = '''\n",
    "LOAD CSV WITH HEADERS FROM 'https://raw.githubusercontent.com/gianscuri/Twitch_Community_Graph/main/DataProcessing/Streamer_dataset.csv' AS row\n",
    "MERGE (s:Streamer {Name: row.streamer})\n",
    "FOREACH(ignoreMe IN CASE WHEN trim(row.ID_streamer) <> \"\" THEN [1] ELSE [] END | SET s.ID_streamer = row.ID_streamer)\n",
    "FOREACH(ignoreMe IN CASE WHEN trim(row.minutes_live) <> \"\" THEN [1] ELSE [] END | SET s.minutes_live = row.minutes_live)\n",
    "RETURN s\n",
    "'''"
   ]
  },
  {
   "cell_type": "markdown",
   "metadata": {},
   "source": [
    "### Game nodes"
   ]
  },
  {
   "cell_type": "code",
   "execution_count": 12,
   "metadata": {
    "ExecuteTime": {
     "end_time": "2022-05-31T10:32:27.839415Z",
     "start_time": "2022-05-31T10:32:27.394860Z"
    },
    "scrolled": true
   },
   "outputs": [
    {
     "data": {
      "text/html": [
       "<div>\n",
       "<style scoped>\n",
       "    .dataframe tbody tr th:only-of-type {\n",
       "        vertical-align: middle;\n",
       "    }\n",
       "\n",
       "    .dataframe tbody tr th {\n",
       "        vertical-align: top;\n",
       "    }\n",
       "\n",
       "    .dataframe thead th {\n",
       "        text-align: right;\n",
       "    }\n",
       "</style>\n",
       "<table border=\"1\" class=\"dataframe\">\n",
       "  <thead>\n",
       "    <tr style=\"text-align: right;\">\n",
       "      <th></th>\n",
       "      <th>game_name</th>\n",
       "    </tr>\n",
       "    <tr>\n",
       "      <th>ID_game</th>\n",
       "      <th></th>\n",
       "    </tr>\n",
       "  </thead>\n",
       "  <tbody>\n",
       "    <tr>\n",
       "      <th>0</th>\n",
       "      <td>Harvest Days: My Dream Farm</td>\n",
       "    </tr>\n",
       "    <tr>\n",
       "      <th>1</th>\n",
       "      <td>Pokémon FireRed/LeafGreen</td>\n",
       "    </tr>\n",
       "    <tr>\n",
       "      <th>2</th>\n",
       "      <td>Xenoverse: Per Aspera Ad Astra</td>\n",
       "    </tr>\n",
       "    <tr>\n",
       "      <th>3</th>\n",
       "      <td>Star Wars Battlefront II</td>\n",
       "    </tr>\n",
       "    <tr>\n",
       "      <th>4</th>\n",
       "      <td>Golf Club: Wasteland</td>\n",
       "    </tr>\n",
       "    <tr>\n",
       "      <th>...</th>\n",
       "      <td>...</td>\n",
       "    </tr>\n",
       "    <tr>\n",
       "      <th>1139</th>\n",
       "      <td>Europa Universalis IV</td>\n",
       "    </tr>\n",
       "    <tr>\n",
       "      <th>1140</th>\n",
       "      <td>Slime Rancher</td>\n",
       "    </tr>\n",
       "    <tr>\n",
       "      <th>1141</th>\n",
       "      <td>I'm Only Sleeping</td>\n",
       "    </tr>\n",
       "    <tr>\n",
       "      <th>1142</th>\n",
       "      <td>XCOM 2</td>\n",
       "    </tr>\n",
       "    <tr>\n",
       "      <th>1143</th>\n",
       "      <td>Card Shark</td>\n",
       "    </tr>\n",
       "  </tbody>\n",
       "</table>\n",
       "<p>1144 rows × 1 columns</p>\n",
       "</div>"
      ],
      "text/plain": [
       "                              game_name\n",
       "ID_game                                \n",
       "0           Harvest Days: My Dream Farm\n",
       "1             Pokémon FireRed/LeafGreen\n",
       "2        Xenoverse: Per Aspera Ad Astra\n",
       "3              Star Wars Battlefront II\n",
       "4                  Golf Club: Wasteland\n",
       "...                                 ...\n",
       "1139              Europa Universalis IV\n",
       "1140                      Slime Rancher\n",
       "1141                  I'm Only Sleeping\n",
       "1142                             XCOM 2\n",
       "1143                         Card Shark\n",
       "\n",
       "[1144 rows x 1 columns]"
      ]
     },
     "execution_count": 12,
     "metadata": {},
     "output_type": "execute_result"
    }
   ],
   "source": [
    "pd.read_csv('https://raw.githubusercontent.com/gianscuri/Twitch_Community_Graph/main/DataProcessing/Games_dataset.csv',\n",
    "            index_col = ['ID_game'])"
   ]
  },
  {
   "cell_type": "markdown",
   "metadata": {},
   "source": [
    "### Streamer - streamer"
   ]
  },
  {
   "cell_type": "code",
   "execution_count": 4,
   "metadata": {
    "ExecuteTime": {
     "end_time": "2022-05-31T12:25:20.123265Z",
     "start_time": "2022-05-31T12:25:17.969641Z"
    },
    "scrolled": false
   },
   "outputs": [
    {
     "data": {
      "text/html": [
       "<div>\n",
       "<style scoped>\n",
       "    .dataframe tbody tr th:only-of-type {\n",
       "        vertical-align: middle;\n",
       "    }\n",
       "\n",
       "    .dataframe tbody tr th {\n",
       "        vertical-align: top;\n",
       "    }\n",
       "\n",
       "    .dataframe thead th {\n",
       "        text-align: right;\n",
       "    }\n",
       "</style>\n",
       "<table border=\"1\" class=\"dataframe\">\n",
       "  <thead>\n",
       "    <tr style=\"text-align: right;\">\n",
       "      <th></th>\n",
       "      <th></th>\n",
       "      <th>overlap_percentage</th>\n",
       "    </tr>\n",
       "    <tr>\n",
       "      <th>ID_streamer_i</th>\n",
       "      <th>ID_streamer_j</th>\n",
       "      <th></th>\n",
       "    </tr>\n",
       "  </thead>\n",
       "  <tbody>\n",
       "    <tr>\n",
       "      <th rowspan=\"5\" valign=\"top\">0</th>\n",
       "      <th>1</th>\n",
       "      <td>2.4</td>\n",
       "    </tr>\n",
       "    <tr>\n",
       "      <th>3</th>\n",
       "      <td>1.8</td>\n",
       "    </tr>\n",
       "    <tr>\n",
       "      <th>4</th>\n",
       "      <td>3.9</td>\n",
       "    </tr>\n",
       "    <tr>\n",
       "      <th>5</th>\n",
       "      <td>2.5</td>\n",
       "    </tr>\n",
       "    <tr>\n",
       "      <th>7</th>\n",
       "      <td>1.8</td>\n",
       "    </tr>\n",
       "    <tr>\n",
       "      <th>...</th>\n",
       "      <th>...</th>\n",
       "      <td>...</td>\n",
       "    </tr>\n",
       "    <tr>\n",
       "      <th>2962</th>\n",
       "      <th>2973</th>\n",
       "      <td>4.8</td>\n",
       "    </tr>\n",
       "    <tr>\n",
       "      <th>2963</th>\n",
       "      <th>2966</th>\n",
       "      <td>1.1</td>\n",
       "    </tr>\n",
       "    <tr>\n",
       "      <th rowspan=\"2\" valign=\"top\">2964</th>\n",
       "      <th>2966</th>\n",
       "      <td>1.1</td>\n",
       "    </tr>\n",
       "    <tr>\n",
       "      <th>2974</th>\n",
       "      <td>3.7</td>\n",
       "    </tr>\n",
       "    <tr>\n",
       "      <th>2966</th>\n",
       "      <th>2969</th>\n",
       "      <td>3.4</td>\n",
       "    </tr>\n",
       "  </tbody>\n",
       "</table>\n",
       "<p>534237 rows × 1 columns</p>\n",
       "</div>"
      ],
      "text/plain": [
       "                             overlap_percentage\n",
       "ID_streamer_i ID_streamer_j                    \n",
       "0             1                             2.4\n",
       "              3                             1.8\n",
       "              4                             3.9\n",
       "              5                             2.5\n",
       "              7                             1.8\n",
       "...                                         ...\n",
       "2962          2973                          4.8\n",
       "2963          2966                          1.1\n",
       "2964          2966                          1.1\n",
       "              2974                          3.7\n",
       "2966          2969                          3.4\n",
       "\n",
       "[534237 rows x 1 columns]"
      ]
     },
     "execution_count": 4,
     "metadata": {},
     "output_type": "execute_result"
    }
   ],
   "source": [
    "pd.read_csv('https://raw.githubusercontent.com/gianscuri/Twitch_Community_Graph/main/DataProcessing/Streamer-Streamer_dataset.csv',\n",
    "            index_col = ['ID_streamer_i', 'ID_streamer_j'])"
   ]
  },
  {
   "cell_type": "code",
   "execution_count": null,
   "metadata": {},
   "outputs": [],
   "source": [
    "streamer_rel ='''\n",
    "LOAD CSV WITH HEADERS FROM \"https://raw.githubusercontent.com/gianscuri/Twitch_Community_Graph/main/DataProcessing/Streamer-Streamer_dataset.csv\" AS row\n",
    "MATCH (i:Streamer {Name: row.ID_streamer_i}), (j:Streamer {Name: row.ID_streamer_j})\n",
    "CREATE (i)-[:OVERLAP]->(j)\n",
    "'''\n",
    "\n"
   ]
  },
  {
   "cell_type": "markdown",
   "metadata": {},
   "source": [
    "## Import su Neo4J"
   ]
  },
  {
   "cell_type": "code",
   "execution_count": 33,
   "metadata": {
    "ExecuteTime": {
     "end_time": "2022-05-31T10:51:01.773656Z",
     "start_time": "2022-05-31T10:51:01.758047Z"
    }
   },
   "outputs": [],
   "source": [
    "data_base_connection = GraphDatabase.driver(uri = \"bolt://localhost:7687\", auth=(\"neo4j\", \"twitch\"))\n",
    "session = data_base_connection.session()"
   ]
  },
  {
   "cell_type": "code",
   "execution_count": 34,
   "metadata": {
    "ExecuteTime": {
     "end_time": "2022-05-31T10:51:06.008399Z",
     "start_time": "2022-05-31T10:51:03.371207Z"
    }
   },
   "outputs": [
    {
     "data": {
      "text/plain": [
       "<neo4j.work.result.Result at 0x17887865550>"
      ]
     },
     "execution_count": 34,
     "metadata": {},
     "output_type": "execute_result"
    }
   ],
   "source": [
    "# POKEMON: Import vincoli e nodi\n",
    "\n",
    "#session.run(streamer_constraint)\n",
    "session.run(streamer_import_nodes)\n",
    "\n",
    "# MOVES: Import vincoli e nodi\n",
    "# session.run(moves_constraint)\n",
    "# session.run(moves_import_nodes)\n",
    "\n",
    "# TYPES: Import vincoli e nodi\n",
    "# session.run(types_constraint)\n",
    "# session.run(types_import_nodes)\n",
    "\n",
    "# ITEMS: Import vincoli e nodi\n",
    "# session.run(items_constraint)\n",
    "# session.run(items_import_nodes)\n",
    "\n",
    "# ABILITIES: Import vincoli e nodi\n",
    "# session.run(abilities_constraint)\n",
    "# session.run(abilities_import_nodes)\n",
    "\n",
    "# NATURES: Import vincoli e nodi\n",
    "# session.run(natures_constraint)\n",
    "# session.run(natures_import_nodes)"
   ]
  },
  {
   "cell_type": "code",
   "execution_count": null,
   "metadata": {},
   "outputs": [],
   "source": []
  },
  {
   "cell_type": "code",
   "execution_count": 16,
   "metadata": {
    "ExecuteTime": {
     "end_time": "2022-05-31T10:36:09.813076Z",
     "start_time": "2022-05-31T10:36:09.801960Z"
    }
   },
   "outputs": [
    {
     "name": "stdout",
     "output_type": "stream",
     "text": [
      "LOAD CSV WITH HEADERS FROM 'https://github.com/gianscuri/Twitch_Community_Graph/blob/main/DataProcessing/Streamer_dataset.csv' AS rowMERGE (s:Streamer {Name: row.streamer})\n"
     ]
    },
    {
     "data": {
      "text/plain": [
       "'\\npok_nokey = pok.drop(\\'Name\\', axis=1)\\npok_nokey=pok_nokey.columns\\npok_nokey = pok_nokey.values.tolist()\\npok_execution_commands = []\\nfor i in pok_nokey:\\n    neo4j_create_statemenet =\"FOREACH(ignoreMe IN CASE WHEN trim(row.\"+ str(i)  + \")\" + \" <> \"\" THEN [1] ELSE [] END | SET p.\"+str(i)+\" = row.\"+str(i) +\")\"\\n    pok_execution_commands.append(neo4j_create_statemenet)\\npok_creation_node = \\'\\n\\'.join(pok_execution_commands)\\npok_final_query = str(pok_import_csv)+\\'\\n\\'+str(pok_key)+\\'\\n\\'+str(pok_creation_node)+\\'\\n\\'+\\'RETURN p\\'\\nprint(pok_final_query) # bisogna sistemare i nomi delle proprietà che deevono essere conformi alle convenzioni neo4j'"
      ]
     },
     "execution_count": 16,
     "metadata": {},
     "output_type": "execute_result"
    }
   ],
   "source": [
    "# Creo i nodi e per ogni proprietà che aggiungo vado a controllare se nel file il dato è presente: se si, aggiungo la proprietà e inserisco il valore mentre se il dato \n",
    "# non è presente non inserisco la proprietà.\n",
    "# Per la chiave del nodo (in questo caso il nome del pokemon) non faccio il controllo in quanto su neo4j ho inserito il vincolo di KEY che implica che la proprietà esista \n",
    "# e che sia unica \n",
    "streamer_import_csv = \"LOAD CSV WITH HEADERS FROM 'https://github.com/gianscuri/Twitch_Community_Graph/blob/main/DataProcessing/Streamer_dataset.csv' AS row\"\n",
    "streamer_key = \"MERGE (s:Streamer {Name: row.streamer})\"\n",
    "print(streamer_import_csv + streamer_key)\n",
    "\n",
    "'''\n",
    "pok_nokey = pok.drop('Name', axis=1)\n",
    "pok_nokey=pok_nokey.columns\n",
    "pok_nokey = pok_nokey.values.tolist()\n",
    "pok_execution_commands = []\n",
    "for i in pok_nokey:\n",
    "    neo4j_create_statemenet =\"FOREACH(ignoreMe IN CASE WHEN trim(row.\"+ str(i)  + \")\" + \" <> \\\"\\\" THEN [1] ELSE [] END | SET p.\"+str(i)+\" = row.\"+str(i) +\")\"\n",
    "    pok_execution_commands.append(neo4j_create_statemenet)\n",
    "pok_creation_node = '\\n'.join(pok_execution_commands)\n",
    "pok_final_query = str(pok_import_csv)+'\\n'+str(pok_key)+'\\n'+str(pok_creation_node)+'\\n'+'RETURN p'\n",
    "print(pok_final_query) # bisogna sistemare i nomi delle proprietà che deevono essere conformi alle convenzioni neo4j'''"
   ]
  },
  {
   "cell_type": "code",
   "execution_count": null,
   "metadata": {},
   "outputs": [],
   "source": [
    "pok_import_nodes = '''\n",
    "LOAD CSV WITH HEADERS FROM 'https://raw.githubusercontent.com/rmarconzini/Dataset/main/df_pokemon_import.csv' AS row\n",
    "MERGE (p:Pokemon {Name: row.Name})\n",
    "FOREACH(ignoreMe IN CASE WHEN trim(row.NationalPokedexNumber) <> \"\" THEN [1] ELSE [] END | SET p.NationalPokedexNumber = toInteger(row.NationalPokedexNumber))\n",
    "FOREACH(ignoreMe IN CASE WHEN trim(row.Species) <> \"\" THEN [1] ELSE [] END | SET p.Species = row.Species)\n",
    "FOREACH(ignoreMe IN CASE WHEN trim(row.Variant) <> \"\" THEN [1] ELSE [] END | SET p.Variant = row.Variant)\n",
    "FOREACH(ignoreMe IN CASE WHEN trim(row.Generation) <> \"\" THEN [1] ELSE [] END | SET p.Generation = toInteger(row.Generation))\n",
    "FOREACH(ignoreMe IN CASE WHEN trim(row.Rarity) <> \"\" THEN [1] ELSE [] END | SET p.Rarity = row.Rarity)\n",
    "FOREACH(ignoreMe IN CASE WHEN trim(row.Type1) <> \"\" THEN [1] ELSE [] END | SET p.Type1 = row.Type1)\n",
    "FOREACH(ignoreMe IN CASE WHEN trim(row.Type2) <> \"\" THEN [1] ELSE [] END | SET p.Type2 = row.Type2)\n",
    "FOREACH(ignoreMe IN CASE WHEN trim(row.Total) <> \"\" THEN [1] ELSE [] END | SET p.Total = toInteger(row.Total))\n",
    "FOREACH(ignoreMe IN CASE WHEN trim(row.HP) <> \"\" THEN [1] ELSE [] END | SET p.HP = toInteger(row.HP))\n",
    "FOREACH(ignoreMe IN CASE WHEN trim(row.Attack) <> \"\" THEN [1] ELSE [] END | SET p.Attack = toInteger(row.Attack))\n",
    "FOREACH(ignoreMe IN CASE WHEN trim(row.Defense) <> \"\" THEN [1] ELSE [] END | SET p.Defense = toInteger(row.Defense))\n",
    "FOREACH(ignoreMe IN CASE WHEN trim(row.SpAtk) <> \"\" THEN [1] ELSE [] END | SET p.SpAtk = toInteger(row.SpAtk))\n",
    "FOREACH(ignoreMe IN CASE WHEN trim(row.SpDef) <> \"\" THEN [1] ELSE [] END | SET p.SpDef = toInteger(row.SpDef))\n",
    "FOREACH(ignoreMe IN CASE WHEN trim(row.Speed) <> \"\" THEN [1] ELSE [] END | SET p.Speed = toInteger(row.Speed))\n",
    "FOREACH(ignoreMe IN CASE WHEN trim(row.image_url) <> \"\" THEN [1] ELSE [] END | SET p.image_url = row.image_url)\n",
    "FOREACH(ignoreMe IN CASE WHEN trim(row.Vgc2022Rules) <> \"\" THEN [1] ELSE [] END | SET p.Vgc2022Rules = row.Vgc2022Rules)\n",
    "FOREACH(ignoreMe IN CASE WHEN trim(row.MonthlyUsageMarch2022) <> \"\" THEN [1] ELSE [] END | SET p.MonthlyUsageMarch2022 = toInteger(row.MonthlyUsageMarch2022))\n",
    "FOREACH(ignoreMe IN CASE WHEN trim(row.UsagePercentMarch2022) <> \"\" THEN [1] ELSE [] END | SET p.UsagePercentMarch2022 = toInteger(row.UsagePercentMarch2022))\n",
    "FOREACH(ignoreMe IN CASE WHEN trim(row.MonthlyRankMarch2022) <> \"\" THEN [1] ELSE [] END | SET p.MonthlyRankMarch2022 = toInteger(row.MonthlyRankMarch2022))\n",
    "RETURN p\n",
    "'''"
   ]
  }
 ],
 "metadata": {
  "interpreter": {
   "hash": "ad2bdc8ecc057115af97d19610ffacc2b4e99fae6737bb82f5d7fb13d2f2c186"
  },
  "kernelspec": {
   "display_name": "Python 3 (ipykernel)",
   "language": "python",
   "name": "python3"
  },
  "language_info": {
   "codemirror_mode": {
    "name": "ipython",
    "version": 3
   },
   "file_extension": ".py",
   "mimetype": "text/x-python",
   "name": "python",
   "nbconvert_exporter": "python",
   "pygments_lexer": "ipython3",
   "version": "3.9.7"
  },
  "toc": {
   "base_numbering": 1,
   "nav_menu": {},
   "number_sections": true,
   "sideBar": true,
   "skip_h1_title": false,
   "title_cell": "Table of Contents",
   "title_sidebar": "Contents",
   "toc_cell": false,
   "toc_position": {},
   "toc_section_display": true,
   "toc_window_display": false
  }
 },
 "nbformat": 4,
 "nbformat_minor": 2
}
