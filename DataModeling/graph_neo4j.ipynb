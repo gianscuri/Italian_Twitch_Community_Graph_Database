{
 "cells": [
  {
   "cell_type": "markdown",
   "metadata": {},
   "source": [
    "# Import datasets in Neo4j"
   ]
  },
  {
   "cell_type": "code",
   "execution_count": 1,
   "metadata": {
    "ExecuteTime": {
     "end_time": "2022-05-31T15:54:32.623744Z",
     "start_time": "2022-05-31T15:54:31.748666Z"
    }
   },
   "outputs": [],
   "source": [
    "from neo4j import GraphDatabase\n",
    "import pandas as pd"
   ]
  },
  {
   "cell_type": "markdown",
   "metadata": {},
   "source": [
    "## Streamer nodes"
   ]
  },
  {
   "cell_type": "code",
   "execution_count": 18,
   "metadata": {
    "ExecuteTime": {
     "end_time": "2022-05-31T16:08:53.980262Z",
     "start_time": "2022-05-31T16:08:53.319090Z"
    }
   },
   "outputs": [
    {
     "data": {
      "text/html": [
       "<div>\n",
       "<style scoped>\n",
       "    .dataframe tbody tr th:only-of-type {\n",
       "        vertical-align: middle;\n",
       "    }\n",
       "\n",
       "    .dataframe tbody tr th {\n",
       "        vertical-align: top;\n",
       "    }\n",
       "\n",
       "    .dataframe thead th {\n",
       "        text-align: right;\n",
       "    }\n",
       "</style>\n",
       "<table border=\"1\" class=\"dataframe\">\n",
       "  <thead>\n",
       "    <tr style=\"text-align: right;\">\n",
       "      <th></th>\n",
       "      <th>ID_streamer</th>\n",
       "      <th>minutes_live</th>\n",
       "      <th>viewer_mean</th>\n",
       "      <th>viewer_peak</th>\n",
       "      <th>spect_mean</th>\n",
       "      <th>spect_tot</th>\n",
       "    </tr>\n",
       "    <tr>\n",
       "      <th>streamer</th>\n",
       "      <th></th>\n",
       "      <th></th>\n",
       "      <th></th>\n",
       "      <th></th>\n",
       "      <th></th>\n",
       "      <th></th>\n",
       "    </tr>\n",
       "  </thead>\n",
       "  <tbody>\n",
       "    <tr>\n",
       "      <th>QLASH_Simracing</th>\n",
       "      <td>2972</td>\n",
       "      <td>180</td>\n",
       "      <td>10</td>\n",
       "      <td>15</td>\n",
       "      <td>5</td>\n",
       "      <td>20</td>\n",
       "    </tr>\n",
       "    <tr>\n",
       "      <th>teoKrazia</th>\n",
       "      <td>2973</td>\n",
       "      <td>120</td>\n",
       "      <td>10</td>\n",
       "      <td>15</td>\n",
       "      <td>8</td>\n",
       "      <td>21</td>\n",
       "    </tr>\n",
       "    <tr>\n",
       "      <th>yume940</th>\n",
       "      <td>2974</td>\n",
       "      <td>225</td>\n",
       "      <td>10</td>\n",
       "      <td>23</td>\n",
       "      <td>6</td>\n",
       "      <td>27</td>\n",
       "    </tr>\n",
       "    <tr>\n",
       "      <th>zanella_productions</th>\n",
       "      <td>2975</td>\n",
       "      <td>165</td>\n",
       "      <td>10</td>\n",
       "      <td>12</td>\n",
       "      <td>8</td>\n",
       "      <td>17</td>\n",
       "    </tr>\n",
       "    <tr>\n",
       "      <th>webhak7</th>\n",
       "      <td>2976</td>\n",
       "      <td>30</td>\n",
       "      <td>10</td>\n",
       "      <td>13</td>\n",
       "      <td>8</td>\n",
       "      <td>10</td>\n",
       "    </tr>\n",
       "  </tbody>\n",
       "</table>\n",
       "</div>"
      ],
      "text/plain": [
       "                     ID_streamer  minutes_live  viewer_mean  viewer_peak  \\\n",
       "streamer                                                                   \n",
       "QLASH_Simracing             2972           180           10           15   \n",
       "teoKrazia                   2973           120           10           15   \n",
       "yume940                     2974           225           10           23   \n",
       "zanella_productions         2975           165           10           12   \n",
       "webhak7                     2976            30           10           13   \n",
       "\n",
       "                     spect_mean  spect_tot  \n",
       "streamer                                    \n",
       "QLASH_Simracing               5         20  \n",
       "teoKrazia                     8         21  \n",
       "yume940                       6         27  \n",
       "zanella_productions           8         17  \n",
       "webhak7                       8         10  "
      ]
     },
     "execution_count": 18,
     "metadata": {},
     "output_type": "execute_result"
    }
   ],
   "source": [
    "streamer_dataset = pd.read_csv('https://raw.githubusercontent.com/gianscuri/Twitch_Community_Graph/main/DataProcessing/Streamer_dataset.csv',\n",
    "                               index_col = ['streamer']\n",
    "                              )\n",
    "streamer_dataset.tail()"
   ]
  },
  {
   "cell_type": "code",
   "execution_count": 3,
   "metadata": {
    "ExecuteTime": {
     "end_time": "2022-05-31T15:54:33.180294Z",
     "start_time": "2022-05-31T15:54:33.172277Z"
    }
   },
   "outputs": [],
   "source": [
    "streamer_constraint = '''\n",
    "CREATE CONSTRAINT StreamerNameKey IF NOT EXISTS\n",
    "FOR (s:Streamer)\n",
    "REQUIRE s.Name IS UNIQUE\n",
    "'''"
   ]
  },
  {
   "cell_type": "code",
   "execution_count": 4,
   "metadata": {
    "ExecuteTime": {
     "end_time": "2022-05-31T15:54:33.196279Z",
     "start_time": "2022-05-31T15:54:33.180294Z"
    }
   },
   "outputs": [
    {
     "name": "stdout",
     "output_type": "stream",
     "text": [
      "LOAD CSV WITH HEADERS FROM 'https://raw.githubusercontent.com/gianscuri/Twitch_Community_Graph/main/DataProcessing/Streamer_dataset.csv' AS row\n",
      "MERGE (s:Streamer {Name: row.streamer})\n",
      "FOREACH(ignoreMe IN CASE WHEN trim(row.ID_streamer) <> \"\" THEN [1] ELSE [] END | SET s.ID_streamer = row.ID_streamer)\n",
      "FOREACH(ignoreMe IN CASE WHEN trim(row.minutes_live) <> \"\" THEN [1] ELSE [] END | SET s.minutes_live = row.minutes_live)\n",
      "FOREACH(ignoreMe IN CASE WHEN trim(row.viewer_mean) <> \"\" THEN [1] ELSE [] END | SET s.viewer_mean = row.viewer_mean)\n",
      "FOREACH(ignoreMe IN CASE WHEN trim(row.viewer_peak) <> \"\" THEN [1] ELSE [] END | SET s.viewer_peak = row.viewer_peak)\n",
      "FOREACH(ignoreMe IN CASE WHEN trim(row.spect_mean) <> \"\" THEN [1] ELSE [] END | SET s.spect_mean = row.spect_mean)\n",
      "FOREACH(ignoreMe IN CASE WHEN trim(row.spect_tot) <> \"\" THEN [1] ELSE [] END | SET s.spect_tot = row.spect_tot)\n",
      "RETURN s\n"
     ]
    }
   ],
   "source": [
    "streamer_import_csv = \"LOAD CSV WITH HEADERS FROM 'https://raw.githubusercontent.com/gianscuri/Twitch_Community_Graph/main/DataProcessing/Streamer_dataset.csv' AS row\"\n",
    "streamer_key = \"MERGE (s:Streamer {Name: row.streamer})\"\n",
    "\n",
    "streamer_execution_commands = []\n",
    "for i in streamer_dataset.columns:\n",
    "    neo4j_create_statemenet =\"FOREACH(ignoreMe IN CASE WHEN trim(row.\"+ str(i)  + \")\" + \" <> \\\"\\\" THEN [1] ELSE [] END | SET s.\"+str(i)+\" = row.\"+str(i) +\")\"\n",
    "    streamer_execution_commands.append(neo4j_create_statemenet)\n",
    "\n",
    "streamer_creation_node = '\\n'.join(streamer_execution_commands)\n",
    "streamer_final_query = str(streamer_import_csv)+'\\n'+str(streamer_key)+'\\n'+str(streamer_creation_node)+'\\n'+\"RETURN s\"\n",
    "print(streamer_final_query) # bisogna sistemare i nomi delle proprietà che deevono essere conformi alle convenzioni neo4j"
   ]
  },
  {
   "cell_type": "code",
   "execution_count": 5,
   "metadata": {
    "ExecuteTime": {
     "end_time": "2022-05-31T15:54:33.205508Z",
     "start_time": "2022-05-31T15:54:33.196279Z"
    }
   },
   "outputs": [],
   "source": [
    "streamer_import_nodes = '''\n",
    "LOAD CSV WITH HEADERS FROM 'https://raw.githubusercontent.com/gianscuri/Twitch_Community_Graph/main/DataProcessing/Streamer_dataset.csv' AS row\n",
    "MERGE (s:Streamer {Name: row.streamer})\n",
    "FOREACH(ignoreMe IN CASE WHEN trim(row.ID_streamer) <> \"\" THEN [1] ELSE [] END | SET s.ID_streamer = row.ID_streamer)\n",
    "FOREACH(ignoreMe IN CASE WHEN trim(row.minutes_live) <> \"\" THEN [1] ELSE [] END | SET s.minutes_live = row.minutes_live)\n",
    "FOREACH(ignoreMe IN CASE WHEN trim(row.viewer_mean) <> \"\" THEN [1] ELSE [] END | SET s.viewer_mean = row.viewer_mean)\n",
    "FOREACH(ignoreMe IN CASE WHEN trim(row.viewer_peak) <> \"\" THEN [1] ELSE [] END | SET s.viewer_peak = row.viewer_peak)\n",
    "FOREACH(ignoreMe IN CASE WHEN trim(row.spect_mean) <> \"\" THEN [1] ELSE [] END | SET s.spect_mean = row.spect_mean)\n",
    "FOREACH(ignoreMe IN CASE WHEN trim(row.spect_tot) <> \"\" THEN [1] ELSE [] END | SET s.spect_tot = row.spect_tot)\n",
    "RETURN s\n",
    "'''"
   ]
  },
  {
   "cell_type": "markdown",
   "metadata": {},
   "source": [
    "## Games nodes"
   ]
  },
  {
   "cell_type": "code",
   "execution_count": 16,
   "metadata": {
    "ExecuteTime": {
     "end_time": "2022-05-31T15:55:11.164902Z",
     "start_time": "2022-05-31T15:55:10.934134Z"
    },
    "scrolled": true
   },
   "outputs": [
    {
     "data": {
      "text/html": [
       "<div>\n",
       "<style scoped>\n",
       "    .dataframe tbody tr th:only-of-type {\n",
       "        vertical-align: middle;\n",
       "    }\n",
       "\n",
       "    .dataframe tbody tr th {\n",
       "        vertical-align: top;\n",
       "    }\n",
       "\n",
       "    .dataframe thead th {\n",
       "        text-align: right;\n",
       "    }\n",
       "</style>\n",
       "<table border=\"1\" class=\"dataframe\">\n",
       "  <thead>\n",
       "    <tr style=\"text-align: right;\">\n",
       "      <th></th>\n",
       "      <th>ID_game</th>\n",
       "    </tr>\n",
       "    <tr>\n",
       "      <th>game_name</th>\n",
       "      <th></th>\n",
       "    </tr>\n",
       "  </thead>\n",
       "  <tbody>\n",
       "    <tr>\n",
       "      <th>Monster Hunter Generations Ultimate</th>\n",
       "      <td>0</td>\n",
       "    </tr>\n",
       "    <tr>\n",
       "      <th>Alice: Madness Returns</th>\n",
       "      <td>1</td>\n",
       "    </tr>\n",
       "    <tr>\n",
       "      <th>Hold Fast</th>\n",
       "      <td>2</td>\n",
       "    </tr>\n",
       "    <tr>\n",
       "      <th>Pokémon Trading Card Game Online</th>\n",
       "      <td>3</td>\n",
       "    </tr>\n",
       "    <tr>\n",
       "      <th>Witch It</th>\n",
       "      <td>4</td>\n",
       "    </tr>\n",
       "  </tbody>\n",
       "</table>\n",
       "</div>"
      ],
      "text/plain": [
       "                                     ID_game\n",
       "game_name                                   \n",
       "Monster Hunter Generations Ultimate        0\n",
       "Alice: Madness Returns                     1\n",
       "Hold Fast                                  2\n",
       "Pokémon Trading Card Game Online           3\n",
       "Witch It                                   4"
      ]
     },
     "execution_count": 16,
     "metadata": {},
     "output_type": "execute_result"
    }
   ],
   "source": [
    "games_dataset = pd.read_csv('https://raw.githubusercontent.com/gianscuri/Twitch_Community_Graph/main/DataProcessing/Games_dataset.csv',\n",
    "                            index_col = ['game_name'])\n",
    "games_dataset.head()"
   ]
  },
  {
   "cell_type": "code",
   "execution_count": 7,
   "metadata": {
    "ExecuteTime": {
     "end_time": "2022-05-31T15:54:33.658938Z",
     "start_time": "2022-05-31T15:54:33.650941Z"
    }
   },
   "outputs": [],
   "source": [
    "games_constraint = '''\n",
    "CREATE CONSTRAINT GamesNameKey IF NOT EXISTS\n",
    "FOR (g:Game)\n",
    "REQUIRE g.Name IS UNIQUE\n",
    "'''"
   ]
  },
  {
   "cell_type": "code",
   "execution_count": 8,
   "metadata": {
    "ExecuteTime": {
     "end_time": "2022-05-31T15:54:33.674944Z",
     "start_time": "2022-05-31T15:54:33.658938Z"
    }
   },
   "outputs": [
    {
     "name": "stdout",
     "output_type": "stream",
     "text": [
      "LOAD CSV WITH HEADERS FROM 'https://raw.githubusercontent.com/gianscuri/Twitch_Community_Graph/main/DataProcessing/Games_dataset.csv' AS row\n",
      "MERGE (g:Game {Name: row.game_name})\n",
      "FOREACH(ignoreMe IN CASE WHEN trim(row.ID_game) <> \"\" THEN [1] ELSE [] END | SET g.ID_game = row.ID_game)\n",
      "RETURN g\n"
     ]
    }
   ],
   "source": [
    "games_import_csv = \"LOAD CSV WITH HEADERS FROM 'https://raw.githubusercontent.com/gianscuri/Twitch_Community_Graph/main/DataProcessing/Games_dataset.csv' AS row\"\n",
    "games_key = \"MERGE (g:Game {Name: row.game_name})\"\n",
    "\n",
    "games_execution_commands = []\n",
    "for i in games_dataset.columns:\n",
    "    neo4j_create_statemenet =\"FOREACH(ignoreMe IN CASE WHEN trim(row.\"+ str(i)  + \")\" + \" <> \\\"\\\" THEN [1] ELSE [] END | SET g.\"+str(i)+\" = row.\"+str(i) +\")\"\n",
    "    games_execution_commands.append(neo4j_create_statemenet)\n",
    "\n",
    "games_creation_node = '\\n'.join(games_execution_commands)\n",
    "games_final_query = str(games_import_csv)+'\\n'+str(games_key)+'\\n'+str(games_creation_node)+'\\n'+\"RETURN g\"\n",
    "print(games_final_query) # bisogna sistemare i nomi delle proprietà che deevono essere conformi alle convenzioni neo4j"
   ]
  },
  {
   "cell_type": "code",
   "execution_count": 9,
   "metadata": {
    "ExecuteTime": {
     "end_time": "2022-05-31T15:54:33.690943Z",
     "start_time": "2022-05-31T15:54:33.674944Z"
    }
   },
   "outputs": [],
   "source": [
    "games_import_nodes = '''\n",
    "LOAD CSV WITH HEADERS FROM 'https://raw.githubusercontent.com/gianscuri/Twitch_Community_Graph/main/DataProcessing/Games_dataset.csv' AS row\n",
    "MERGE (g:Game {Name: row.game_name})\n",
    "FOREACH(ignoreMe IN CASE WHEN trim(row.ID_game) <> \"\" THEN [1] ELSE [] END | SET g.ID_game = row.ID_game)\n",
    "RETURN g'''"
   ]
  },
  {
   "cell_type": "markdown",
   "metadata": {},
   "source": [
    "## Streamer - streamer relation"
   ]
  },
  {
   "cell_type": "code",
   "execution_count": 15,
   "metadata": {
    "ExecuteTime": {
     "end_time": "2022-05-31T15:55:04.564683Z",
     "start_time": "2022-05-31T15:55:03.688406Z"
    },
    "scrolled": false
   },
   "outputs": [
    {
     "data": {
      "text/html": [
       "<div>\n",
       "<style scoped>\n",
       "    .dataframe tbody tr th:only-of-type {\n",
       "        vertical-align: middle;\n",
       "    }\n",
       "\n",
       "    .dataframe tbody tr th {\n",
       "        vertical-align: top;\n",
       "    }\n",
       "\n",
       "    .dataframe thead th {\n",
       "        text-align: right;\n",
       "    }\n",
       "</style>\n",
       "<table border=\"1\" class=\"dataframe\">\n",
       "  <thead>\n",
       "    <tr style=\"text-align: right;\">\n",
       "      <th></th>\n",
       "      <th></th>\n",
       "      <th>overlap_percentage</th>\n",
       "    </tr>\n",
       "    <tr>\n",
       "      <th>ID_streamer_i</th>\n",
       "      <th>ID_streamer_j</th>\n",
       "      <th></th>\n",
       "    </tr>\n",
       "  </thead>\n",
       "  <tbody>\n",
       "    <tr>\n",
       "      <th rowspan=\"5\" valign=\"top\">0</th>\n",
       "      <th>18</th>\n",
       "      <td>5.9</td>\n",
       "    </tr>\n",
       "    <tr>\n",
       "      <th>19</th>\n",
       "      <td>6.3</td>\n",
       "    </tr>\n",
       "    <tr>\n",
       "      <th>28</th>\n",
       "      <td>5.5</td>\n",
       "    </tr>\n",
       "    <tr>\n",
       "      <th>55</th>\n",
       "      <td>5.4</td>\n",
       "    </tr>\n",
       "    <tr>\n",
       "      <th>88</th>\n",
       "      <td>9.8</td>\n",
       "    </tr>\n",
       "  </tbody>\n",
       "</table>\n",
       "</div>"
      ],
      "text/plain": [
       "                             overlap_percentage\n",
       "ID_streamer_i ID_streamer_j                    \n",
       "0             18                            5.9\n",
       "              19                            6.3\n",
       "              28                            5.5\n",
       "              55                            5.4\n",
       "              88                            9.8"
      ]
     },
     "execution_count": 15,
     "metadata": {},
     "output_type": "execute_result"
    }
   ],
   "source": [
    "streamer_streamer_dataset = pd.read_csv('https://raw.githubusercontent.com/gianscuri/Twitch_Community_Graph/main/DataProcessing/Streamer-Streamer_dataset.csv',\n",
    "                                        index_col = ['ID_streamer_i', 'ID_streamer_j'])\n",
    "streamer_streamer_dataset.head()"
   ]
  },
  {
   "cell_type": "code",
   "execution_count": 11,
   "metadata": {
    "ExecuteTime": {
     "end_time": "2022-05-31T15:54:39.083407Z",
     "start_time": "2022-05-31T15:54:39.071059Z"
    }
   },
   "outputs": [],
   "source": [
    "streamer_streamer_rel ='''\n",
    "LOAD CSV WITH HEADERS FROM \"https://raw.githubusercontent.com/gianscuri/Twitch_Community_Graph/main/DataProcessing/Streamer-Streamer_dataset.csv\" AS row\n",
    "MATCH (i:Streamer {ID_streamer: row.ID_streamer_i}), (j:Streamer {ID_streamer: row.ID_streamer_j})\n",
    "CREATE (i)-[:OVERLAP {OverlapPercentage: toFloat(row.overlap_percentage)}]->(j)\n",
    "'''"
   ]
  },
  {
   "cell_type": "markdown",
   "metadata": {},
   "source": [
    "## Streamer - games relation"
   ]
  },
  {
   "cell_type": "code",
   "execution_count": 14,
   "metadata": {
    "ExecuteTime": {
     "end_time": "2022-05-31T15:54:56.520258Z",
     "start_time": "2022-05-31T15:54:56.336587Z"
    }
   },
   "outputs": [
    {
     "data": {
      "text/html": [
       "<div>\n",
       "<style scoped>\n",
       "    .dataframe tbody tr th:only-of-type {\n",
       "        vertical-align: middle;\n",
       "    }\n",
       "\n",
       "    .dataframe tbody tr th {\n",
       "        vertical-align: top;\n",
       "    }\n",
       "\n",
       "    .dataframe thead th {\n",
       "        text-align: right;\n",
       "    }\n",
       "</style>\n",
       "<table border=\"1\" class=\"dataframe\">\n",
       "  <thead>\n",
       "    <tr style=\"text-align: right;\">\n",
       "      <th></th>\n",
       "      <th></th>\n",
       "      <th>minutes</th>\n",
       "    </tr>\n",
       "    <tr>\n",
       "      <th>ID_game</th>\n",
       "      <th>ID_streamer</th>\n",
       "      <th></th>\n",
       "    </tr>\n",
       "  </thead>\n",
       "  <tbody>\n",
       "    <tr>\n",
       "      <th rowspan=\"5\" valign=\"top\">351</th>\n",
       "      <th>80</th>\n",
       "      <td>165</td>\n",
       "    </tr>\n",
       "    <tr>\n",
       "      <th>335</th>\n",
       "      <td>45</td>\n",
       "    </tr>\n",
       "    <tr>\n",
       "      <th>421</th>\n",
       "      <td>120</td>\n",
       "    </tr>\n",
       "    <tr>\n",
       "      <th>471</th>\n",
       "      <td>480</td>\n",
       "    </tr>\n",
       "    <tr>\n",
       "      <th>517</th>\n",
       "      <td>30</td>\n",
       "    </tr>\n",
       "  </tbody>\n",
       "</table>\n",
       "</div>"
      ],
      "text/plain": [
       "                     minutes\n",
       "ID_game ID_streamer         \n",
       "351     80               165\n",
       "        335               45\n",
       "        421              120\n",
       "        471              480\n",
       "        517               30"
      ]
     },
     "execution_count": 14,
     "metadata": {},
     "output_type": "execute_result"
    }
   ],
   "source": [
    "streamer_games_dataset = pd.read_csv('https://raw.githubusercontent.com/gianscuri/Twitch_Community_Graph/main/DataProcessing/Streamer-Games_dataset.csv',\n",
    "                                     index_col = ['ID_game', 'ID_streamer'])\n",
    "streamer_games_dataset.head()"
   ]
  },
  {
   "cell_type": "code",
   "execution_count": 13,
   "metadata": {
    "ExecuteTime": {
     "end_time": "2022-05-31T15:54:39.506718Z",
     "start_time": "2022-05-31T15:54:39.490693Z"
    }
   },
   "outputs": [],
   "source": [
    "streamer_games_rel ='''\n",
    "LOAD CSV WITH HEADERS FROM \"https://raw.githubusercontent.com/gianscuri/Twitch_Community_Graph/main/DataProcessing/Streamer-Games_dataset.csv\" AS row\n",
    "MATCH (g:Game {ID_game: row.ID_game}), (s:Streamer {ID_streamer: row.ID_streamer})\n",
    "CREATE (s)-[:PLAYED {MinutesPlayed: toInteger(row.minutes)}]->(g)\n",
    "'''"
   ]
  },
  {
   "cell_type": "markdown",
   "metadata": {},
   "source": [
    "## Import su Neo4J"
   ]
  },
  {
   "cell_type": "code",
   "execution_count": 20,
   "metadata": {
    "ExecuteTime": {
     "end_time": "2022-05-31T16:12:32.792093Z",
     "start_time": "2022-05-31T16:12:32.785490Z"
    }
   },
   "outputs": [],
   "source": [
    "data_base_connection = GraphDatabase.driver(uri = \"bolt://localhost:7687\", auth=(\"neo4j\", \"twitch\"))\n",
    "session = data_base_connection.session()"
   ]
  },
  {
   "cell_type": "code",
   "execution_count": null,
   "metadata": {},
   "outputs": [],
   "source": [
    "#session.run('''MATCH ()-[r] DELETE r''')\n",
    "#session.run('''MATCH (n) DELETE n''')"
   ]
  },
  {
   "cell_type": "code",
   "execution_count": 58,
   "metadata": {
    "ExecuteTime": {
     "end_time": "2022-05-31T14:54:13.524981Z",
     "start_time": "2022-05-31T14:54:13.170765Z"
    }
   },
   "outputs": [
    {
     "data": {
      "text/plain": [
       "<neo4j.work.result.Result at 0x13c7d4c6400>"
      ]
     },
     "execution_count": 58,
     "metadata": {},
     "output_type": "execute_result"
    }
   ],
   "source": [
    "session.run(streamer_constraint)\n",
    "session.run(streamer_import_nodes)"
   ]
  },
  {
   "cell_type": "code",
   "execution_count": 75,
   "metadata": {
    "ExecuteTime": {
     "end_time": "2022-05-31T15:10:25.881806Z",
     "start_time": "2022-05-31T15:10:25.777327Z"
    }
   },
   "outputs": [
    {
     "data": {
      "text/plain": [
       "<neo4j.work.result.Result at 0x13c7dcd6430>"
      ]
     },
     "execution_count": 75,
     "metadata": {},
     "output_type": "execute_result"
    }
   ],
   "source": [
    "session.run(games_constraint)\n",
    "session.run(games_import_nodes)"
   ]
  },
  {
   "cell_type": "code",
   "execution_count": 81,
   "metadata": {
    "ExecuteTime": {
     "end_time": "2022-05-31T15:28:39.894162Z",
     "start_time": "2022-05-31T15:22:29.603035Z"
    }
   },
   "outputs": [
    {
     "data": {
      "text/plain": [
       "<neo4j.work.result.Result at 0x13c7debbe80>"
      ]
     },
     "execution_count": 81,
     "metadata": {},
     "output_type": "execute_result"
    }
   ],
   "source": [
    "session.run(streamer_streamer_rel)"
   ]
  },
  {
   "cell_type": "code",
   "execution_count": 85,
   "metadata": {
    "ExecuteTime": {
     "end_time": "2022-05-31T15:34:16.510199Z",
     "start_time": "2022-05-31T15:34:00.586918Z"
    }
   },
   "outputs": [
    {
     "data": {
      "text/plain": [
       "<neo4j.work.result.Result at 0x13c7df15400>"
      ]
     },
     "execution_count": 85,
     "metadata": {},
     "output_type": "execute_result"
    }
   ],
   "source": [
    "session.run(streamer_games_rel)"
   ]
  },
  {
   "cell_type": "markdown",
   "metadata": {},
   "source": [
    "## Queries"
   ]
  },
  {
   "cell_type": "code",
   "execution_count": 23,
   "metadata": {
    "ExecuteTime": {
     "end_time": "2022-05-31T16:13:12.686787Z",
     "start_time": "2022-05-31T16:13:12.682389Z"
    }
   },
   "outputs": [],
   "source": [
    "'''MATCH p=()-[r:PLAYED]->() RETURN p LIMIT 25'''"
   ]
  },
  {
   "cell_type": "code",
   "execution_count": null,
   "metadata": {},
   "outputs": [],
   "source": [
    "'''MATCH p=()-[r:PLAYED]->() RETURN p LIMIT 25'''"
   ]
  },
  {
   "cell_type": "code",
   "execution_count": null,
   "metadata": {},
   "outputs": [],
   "source": [
    "'''MATCH p=(s:Streamer {Name: 'GrenBaud'})-[]->() RETURN p LIMIT 25'''"
   ]
  },
  {
   "cell_type": "code",
   "execution_count": null,
   "metadata": {},
   "outputs": [],
   "source": [
    "'''MATCH p=(s:Streamer {Name: 'GrenBaud'})-[r:OVERLAP]->()\n",
    "WHERE r.OverlapPercentage > 60\n",
    "RETURN p'''"
   ]
  }
 ],
 "metadata": {
  "interpreter": {
   "hash": "ad2bdc8ecc057115af97d19610ffacc2b4e99fae6737bb82f5d7fb13d2f2c186"
  },
  "kernelspec": {
   "display_name": "Python 3 (ipykernel)",
   "language": "python",
   "name": "python3"
  },
  "language_info": {
   "codemirror_mode": {
    "name": "ipython",
    "version": 3
   },
   "file_extension": ".py",
   "mimetype": "text/x-python",
   "name": "python",
   "nbconvert_exporter": "python",
   "pygments_lexer": "ipython3",
   "version": "3.9.7"
  },
  "toc": {
   "base_numbering": 1,
   "nav_menu": {},
   "number_sections": true,
   "sideBar": true,
   "skip_h1_title": false,
   "title_cell": "Table of Contents",
   "title_sidebar": "Contents",
   "toc_cell": false,
   "toc_position": {},
   "toc_section_display": true,
   "toc_window_display": false
  }
 },
 "nbformat": 4,
 "nbformat_minor": 2
}
