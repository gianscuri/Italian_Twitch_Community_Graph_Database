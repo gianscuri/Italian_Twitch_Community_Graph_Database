{
 "cells": [
  {
   "cell_type": "markdown",
   "metadata": {},
   "source": [
    "# Import datasets in Neo4j"
   ]
  },
  {
   "cell_type": "code",
   "execution_count": 95,
   "metadata": {
    "ExecuteTime": {
     "end_time": "2022-06-16T07:24:15.833535Z",
     "start_time": "2022-06-16T07:24:15.824525Z"
    }
   },
   "outputs": [],
   "source": [
    "from neo4j import GraphDatabase\n",
    "import pandas as pd"
   ]
  },
  {
   "cell_type": "markdown",
   "metadata": {},
   "source": [
    "## Streamer nodes"
   ]
  },
  {
   "cell_type": "code",
   "execution_count": 96,
   "metadata": {
    "ExecuteTime": {
     "end_time": "2022-06-16T07:24:19.065677Z",
     "start_time": "2022-06-16T07:24:18.653178Z"
    }
   },
   "outputs": [
    {
     "data": {
      "text/html": [
       "<div>\n",
       "<style scoped>\n",
       "    .dataframe tbody tr th:only-of-type {\n",
       "        vertical-align: middle;\n",
       "    }\n",
       "\n",
       "    .dataframe tbody tr th {\n",
       "        vertical-align: top;\n",
       "    }\n",
       "\n",
       "    .dataframe thead th {\n",
       "        text-align: right;\n",
       "    }\n",
       "</style>\n",
       "<table border=\"1\" class=\"dataframe\">\n",
       "  <thead>\n",
       "    <tr style=\"text-align: right;\">\n",
       "      <th></th>\n",
       "      <th>idStreamer</th>\n",
       "      <th>minutesLive</th>\n",
       "      <th>viewerMean</th>\n",
       "      <th>viewerPeak</th>\n",
       "      <th>spectMean</th>\n",
       "      <th>spectTot</th>\n",
       "      <th>socialLinks</th>\n",
       "    </tr>\n",
       "    <tr>\n",
       "      <th>streamer</th>\n",
       "      <th></th>\n",
       "      <th></th>\n",
       "      <th></th>\n",
       "      <th></th>\n",
       "      <th></th>\n",
       "      <th></th>\n",
       "      <th></th>\n",
       "    </tr>\n",
       "  </thead>\n",
       "  <tbody>\n",
       "    <tr>\n",
       "      <th>LyonWGFLive</th>\n",
       "      <td>0</td>\n",
       "      <td>1155</td>\n",
       "      <td>14011</td>\n",
       "      <td>19727</td>\n",
       "      <td>9337</td>\n",
       "      <td>58801</td>\n",
       "      <td>https://www.youtube.com/user/WhenGamersFail; h...</td>\n",
       "    </tr>\n",
       "    <tr>\n",
       "      <th>Tumblurr</th>\n",
       "      <td>1</td>\n",
       "      <td>2925</td>\n",
       "      <td>13683</td>\n",
       "      <td>32436</td>\n",
       "      <td>10655</td>\n",
       "      <td>148019</td>\n",
       "      <td>NaN</td>\n",
       "    </tr>\n",
       "    <tr>\n",
       "      <th>ChristianVieriOfficial</th>\n",
       "      <td>2</td>\n",
       "      <td>570</td>\n",
       "      <td>11014</td>\n",
       "      <td>24931</td>\n",
       "      <td>7056</td>\n",
       "      <td>64614</td>\n",
       "      <td>https://www.instagram.com/christianvieri/; htt...</td>\n",
       "    </tr>\n",
       "    <tr>\n",
       "      <th>GrenBaud</th>\n",
       "      <td>3</td>\n",
       "      <td>1005</td>\n",
       "      <td>10285</td>\n",
       "      <td>30017</td>\n",
       "      <td>7600</td>\n",
       "      <td>78521</td>\n",
       "      <td>https://www.tiktok.com/@grenbaud; https://www....</td>\n",
       "    </tr>\n",
       "    <tr>\n",
       "      <th>ZanoXVII</th>\n",
       "      <td>4</td>\n",
       "      <td>3480</td>\n",
       "      <td>7681</td>\n",
       "      <td>13973</td>\n",
       "      <td>5699</td>\n",
       "      <td>157718</td>\n",
       "      <td>https://www.instagram.com/zanoxvii/; https://w...</td>\n",
       "    </tr>\n",
       "    <tr>\n",
       "      <th>...</th>\n",
       "      <td>...</td>\n",
       "      <td>...</td>\n",
       "      <td>...</td>\n",
       "      <td>...</td>\n",
       "      <td>...</td>\n",
       "      <td>...</td>\n",
       "      <td>...</td>\n",
       "    </tr>\n",
       "    <tr>\n",
       "      <th>QLASH_Simracing</th>\n",
       "      <td>2972</td>\n",
       "      <td>180</td>\n",
       "      <td>10</td>\n",
       "      <td>15</td>\n",
       "      <td>5</td>\n",
       "      <td>20</td>\n",
       "      <td>https://www.instagram.com/qlash_global/; https...</td>\n",
       "    </tr>\n",
       "    <tr>\n",
       "      <th>teoKrazia</th>\n",
       "      <td>2973</td>\n",
       "      <td>120</td>\n",
       "      <td>10</td>\n",
       "      <td>15</td>\n",
       "      <td>8</td>\n",
       "      <td>21</td>\n",
       "      <td>https://twitter.com/teoKrazia; https://www.ins...</td>\n",
       "    </tr>\n",
       "    <tr>\n",
       "      <th>yume940</th>\n",
       "      <td>2974</td>\n",
       "      <td>225</td>\n",
       "      <td>10</td>\n",
       "      <td>23</td>\n",
       "      <td>6</td>\n",
       "      <td>27</td>\n",
       "      <td>https://www.instagram.com/leeyume940/; https:/...</td>\n",
       "    </tr>\n",
       "    <tr>\n",
       "      <th>zanella_productions</th>\n",
       "      <td>2975</td>\n",
       "      <td>165</td>\n",
       "      <td>10</td>\n",
       "      <td>12</td>\n",
       "      <td>8</td>\n",
       "      <td>17</td>\n",
       "      <td>https://t.me/+v6EFZ-1MHo5iOWU0; https://www.in...</td>\n",
       "    </tr>\n",
       "    <tr>\n",
       "      <th>webhak7</th>\n",
       "      <td>2976</td>\n",
       "      <td>30</td>\n",
       "      <td>10</td>\n",
       "      <td>13</td>\n",
       "      <td>8</td>\n",
       "      <td>10</td>\n",
       "      <td>https://www.instagram.com/webhak7</td>\n",
       "    </tr>\n",
       "  </tbody>\n",
       "</table>\n",
       "<p>2977 rows × 7 columns</p>\n",
       "</div>"
      ],
      "text/plain": [
       "                        idStreamer  minutesLive  viewerMean  viewerPeak  \\\n",
       "streamer                                                                  \n",
       "LyonWGFLive                      0         1155       14011       19727   \n",
       "Tumblurr                         1         2925       13683       32436   \n",
       "ChristianVieriOfficial           2          570       11014       24931   \n",
       "GrenBaud                         3         1005       10285       30017   \n",
       "ZanoXVII                         4         3480        7681       13973   \n",
       "...                            ...          ...         ...         ...   \n",
       "QLASH_Simracing               2972          180          10          15   \n",
       "teoKrazia                     2973          120          10          15   \n",
       "yume940                       2974          225          10          23   \n",
       "zanella_productions           2975          165          10          12   \n",
       "webhak7                       2976           30          10          13   \n",
       "\n",
       "                        spectMean  spectTot  \\\n",
       "streamer                                      \n",
       "LyonWGFLive                  9337     58801   \n",
       "Tumblurr                    10655    148019   \n",
       "ChristianVieriOfficial       7056     64614   \n",
       "GrenBaud                     7600     78521   \n",
       "ZanoXVII                     5699    157718   \n",
       "...                           ...       ...   \n",
       "QLASH_Simracing                 5        20   \n",
       "teoKrazia                       8        21   \n",
       "yume940                         6        27   \n",
       "zanella_productions             8        17   \n",
       "webhak7                         8        10   \n",
       "\n",
       "                                                              socialLinks  \n",
       "streamer                                                                   \n",
       "LyonWGFLive             https://www.youtube.com/user/WhenGamersFail; h...  \n",
       "Tumblurr                                                              NaN  \n",
       "ChristianVieriOfficial  https://www.instagram.com/christianvieri/; htt...  \n",
       "GrenBaud                https://www.tiktok.com/@grenbaud; https://www....  \n",
       "ZanoXVII                https://www.instagram.com/zanoxvii/; https://w...  \n",
       "...                                                                   ...  \n",
       "QLASH_Simracing         https://www.instagram.com/qlash_global/; https...  \n",
       "teoKrazia               https://twitter.com/teoKrazia; https://www.ins...  \n",
       "yume940                 https://www.instagram.com/leeyume940/; https:/...  \n",
       "zanella_productions     https://t.me/+v6EFZ-1MHo5iOWU0; https://www.in...  \n",
       "webhak7                                 https://www.instagram.com/webhak7  \n",
       "\n",
       "[2977 rows x 7 columns]"
      ]
     },
     "execution_count": 96,
     "metadata": {},
     "output_type": "execute_result"
    }
   ],
   "source": [
    "streamer_dataset = pd.read_csv('https://raw.githubusercontent.com/gianscuri/Twitch_Community_Graph/main/DataProcessing/Streamer_dataset.csv',\n",
    "                               index_col = ['streamer']\n",
    "                              )\n",
    "streamer_dataset"
   ]
  },
  {
   "cell_type": "code",
   "execution_count": 44,
   "metadata": {
    "ExecuteTime": {
     "end_time": "2022-06-15T17:34:43.377369Z",
     "start_time": "2022-06-15T17:34:43.371379Z"
    }
   },
   "outputs": [],
   "source": [
    "#streamer_dataset.columns = ['idStreamer', 'minutesLive', 'viewerMean', 'viewerPeak', 'spectMean', 'spectTot', 'socialLinks']"
   ]
  },
  {
   "cell_type": "code",
   "execution_count": 74,
   "metadata": {
    "ExecuteTime": {
     "end_time": "2022-06-15T19:07:11.860598Z",
     "start_time": "2022-06-15T19:07:11.852252Z"
    }
   },
   "outputs": [],
   "source": [
    "streamer_constraint = '''\n",
    "CREATE CONSTRAINT StreamerNameKey IF NOT EXISTS\n",
    "FOR (s:Streamer)\n",
    "REQUIRE s.Name IS UNIQUE\n",
    "'''"
   ]
  },
  {
   "cell_type": "code",
   "execution_count": 75,
   "metadata": {
    "ExecuteTime": {
     "end_time": "2022-06-15T19:07:16.241453Z",
     "start_time": "2022-06-15T19:07:16.233090Z"
    }
   },
   "outputs": [
    {
     "name": "stdout",
     "output_type": "stream",
     "text": [
      "LOAD CSV WITH HEADERS FROM 'https://raw.githubusercontent.com/gianscuri/Twitch_Community_Graph/main/DataProcessing/Streamer_dataset.csv' AS row\n",
      "MERGE (s:Streamer {Name: row.streamer})\n",
      "FOREACH(ignoreMe IN CASE WHEN trim(row.idStreamer) <> \"\" THEN [1] ELSE [] END | SET s.idStreamer = row.idStreamer)\n",
      "FOREACH(ignoreMe IN CASE WHEN trim(row.minutesLive) <> \"\" THEN [1] ELSE [] END | SET s.minutesLive = row.minutesLive)\n",
      "FOREACH(ignoreMe IN CASE WHEN trim(row.viewerMean) <> \"\" THEN [1] ELSE [] END | SET s.viewerMean = row.viewerMean)\n",
      "FOREACH(ignoreMe IN CASE WHEN trim(row.viewerPeak) <> \"\" THEN [1] ELSE [] END | SET s.viewerPeak = row.viewerPeak)\n",
      "FOREACH(ignoreMe IN CASE WHEN trim(row.spectMean) <> \"\" THEN [1] ELSE [] END | SET s.spectMean = row.spectMean)\n",
      "FOREACH(ignoreMe IN CASE WHEN trim(row.spectTot) <> \"\" THEN [1] ELSE [] END | SET s.spectTot = row.spectTot)\n",
      "FOREACH(ignoreMe IN CASE WHEN trim(row.socialLinks) <> \"\" THEN [1] ELSE [] END | SET s.socialLinks = row.socialLinks)\n",
      "RETURN s\n"
     ]
    }
   ],
   "source": [
    "streamer_import_csv = \"LOAD CSV WITH HEADERS FROM 'https://raw.githubusercontent.com/gianscuri/Twitch_Community_Graph/main/DataProcessing/Streamer_dataset.csv' AS row\"\n",
    "streamer_key = \"MERGE (s:Streamer {Name: row.streamer})\"\n",
    "\n",
    "streamer_execution_commands = []\n",
    "for i in streamer_dataset.columns:\n",
    "    neo4j_create_statemenet =\"FOREACH(ignoreMe IN CASE WHEN trim(row.\"+ str(i)  + \")\" + \" <> \\\"\\\" THEN [1] ELSE [] END | SET s.\"+str(i)+\" = row.\"+str(i) +\")\"\n",
    "    streamer_execution_commands.append(neo4j_create_statemenet)\n",
    "\n",
    "streamer_creation_node = '\\n'.join(streamer_execution_commands)\n",
    "streamer_final_query = str(streamer_import_csv)+'\\n'+str(streamer_key)+'\\n'+str(streamer_creation_node)+'\\n'+\"RETURN s\"\n",
    "print(streamer_final_query) # bisogna sistemare i nomi delle proprietà che deevono essere conformi alle convenzioni neo4j"
   ]
  },
  {
   "cell_type": "code",
   "execution_count": 53,
   "metadata": {
    "ExecuteTime": {
     "end_time": "2022-06-15T17:50:26.206663Z",
     "start_time": "2022-06-15T17:50:26.189009Z"
    }
   },
   "outputs": [],
   "source": [
    "streamer_import_nodes = '''\n",
    "LOAD CSV WITH HEADERS FROM 'https://raw.githubusercontent.com/gianscuri/Twitch_Community_Graph/main/DataProcessing/Streamer_dataset.csv' AS row\n",
    "MERGE (s:Streamer {Name: row.streamer})\n",
    "FOREACH(ignoreMe IN CASE WHEN trim(row.idStreamer) <> \"\" THEN [1] ELSE [] END | SET s.idStreamer = row.idStreamer)\n",
    "FOREACH(ignoreMe IN CASE WHEN trim(row.minutesLive) <> \"\" THEN [1] ELSE [] END | SET s.minutesLive = row.minutesLive)\n",
    "FOREACH(ignoreMe IN CASE WHEN trim(row.viewerMean) <> \"\" THEN [1] ELSE [] END | SET s.viewerMean = row.viewerMean)\n",
    "FOREACH(ignoreMe IN CASE WHEN trim(row.viewerPeak) <> \"\" THEN [1] ELSE [] END | SET s.viewerPeak = row.viewerPeak)\n",
    "FOREACH(ignoreMe IN CASE WHEN trim(row.spectMean) <> \"\" THEN [1] ELSE [] END | SET s.spectMean = row.spectMean)\n",
    "FOREACH(ignoreMe IN CASE WHEN trim(row.spectTot) <> \"\" THEN [1] ELSE [] END | SET s.spectTot = row.spectTot)\n",
    "FOREACH(ignoreMe IN CASE WHEN trim(row.socialLinks) <> \"\" THEN [1] ELSE [] END | SET s.socialLinks = row.socialLinks)\n",
    "RETURN s\n",
    "'''"
   ]
  },
  {
   "cell_type": "markdown",
   "metadata": {},
   "source": [
    "## Games nodes"
   ]
  },
  {
   "cell_type": "code",
   "execution_count": 76,
   "metadata": {
    "ExecuteTime": {
     "end_time": "2022-06-15T19:07:28.490430Z",
     "start_time": "2022-06-15T19:07:28.251585Z"
    },
    "scrolled": true
   },
   "outputs": [
    {
     "data": {
      "text/html": [
       "<div>\n",
       "<style scoped>\n",
       "    .dataframe tbody tr th:only-of-type {\n",
       "        vertical-align: middle;\n",
       "    }\n",
       "\n",
       "    .dataframe tbody tr th {\n",
       "        vertical-align: top;\n",
       "    }\n",
       "\n",
       "    .dataframe thead th {\n",
       "        text-align: right;\n",
       "    }\n",
       "</style>\n",
       "<table border=\"1\" class=\"dataframe\">\n",
       "  <thead>\n",
       "    <tr style=\"text-align: right;\">\n",
       "      <th></th>\n",
       "      <th>idGame</th>\n",
       "      <th>steamName</th>\n",
       "      <th>developer</th>\n",
       "      <th>publisher</th>\n",
       "      <th>releaseDate</th>\n",
       "      <th>categories</th>\n",
       "    </tr>\n",
       "    <tr>\n",
       "      <th>gameName</th>\n",
       "      <th></th>\n",
       "      <th></th>\n",
       "      <th></th>\n",
       "      <th></th>\n",
       "      <th></th>\n",
       "      <th></th>\n",
       "    </tr>\n",
       "  </thead>\n",
       "  <tbody>\n",
       "    <tr>\n",
       "      <th>Monster Hunter Generations Ultimate</th>\n",
       "      <td>0</td>\n",
       "      <td>NaN</td>\n",
       "      <td>NaN</td>\n",
       "      <td>NaN</td>\n",
       "      <td>NaN</td>\n",
       "      <td>NaN</td>\n",
       "    </tr>\n",
       "    <tr>\n",
       "      <th>Alice: Madness Returns</th>\n",
       "      <td>1</td>\n",
       "      <td>Alice: Madness Returns</td>\n",
       "      <td>Spicy Horse Games</td>\n",
       "      <td>Electronic Arts</td>\n",
       "      <td>2011-06-17</td>\n",
       "      <td>3D Platformer; Action-Adventure; Hack and Slas...</td>\n",
       "    </tr>\n",
       "    <tr>\n",
       "      <th>Hold Fast</th>\n",
       "      <td>2</td>\n",
       "      <td>NaN</td>\n",
       "      <td>NaN</td>\n",
       "      <td>NaN</td>\n",
       "      <td>NaN</td>\n",
       "      <td>NaN</td>\n",
       "    </tr>\n",
       "    <tr>\n",
       "      <th>Pokémon Trading Card Game Online</th>\n",
       "      <td>3</td>\n",
       "      <td>NaN</td>\n",
       "      <td>NaN</td>\n",
       "      <td>NaN</td>\n",
       "      <td>NaN</td>\n",
       "      <td>NaN</td>\n",
       "    </tr>\n",
       "    <tr>\n",
       "      <th>Witch It</th>\n",
       "      <td>4</td>\n",
       "      <td>Witch It</td>\n",
       "      <td>Barrel Roll Games</td>\n",
       "      <td>Daedalic Entertainment</td>\n",
       "      <td>2020-10-22</td>\n",
       "      <td>Multiplayer; Funny; Casual; Action; Indie; Hid...</td>\n",
       "    </tr>\n",
       "  </tbody>\n",
       "</table>\n",
       "</div>"
      ],
      "text/plain": [
       "                                     idGame               steamName  \\\n",
       "gameName                                                              \n",
       "Monster Hunter Generations Ultimate       0                     NaN   \n",
       "Alice: Madness Returns                    1  Alice: Madness Returns   \n",
       "Hold Fast                                 2                     NaN   \n",
       "Pokémon Trading Card Game Online          3                     NaN   \n",
       "Witch It                                  4                Witch It   \n",
       "\n",
       "                                             developer  \\\n",
       "gameName                                                 \n",
       "Monster Hunter Generations Ultimate                NaN   \n",
       "Alice: Madness Returns               Spicy Horse Games   \n",
       "Hold Fast                                          NaN   \n",
       "Pokémon Trading Card Game Online                   NaN   \n",
       "Witch It                             Barrel Roll Games   \n",
       "\n",
       "                                                  publisher releaseDate  \\\n",
       "gameName                                                                  \n",
       "Monster Hunter Generations Ultimate                     NaN         NaN   \n",
       "Alice: Madness Returns                      Electronic Arts  2011-06-17   \n",
       "Hold Fast                                               NaN         NaN   \n",
       "Pokémon Trading Card Game Online                        NaN         NaN   \n",
       "Witch It                             Daedalic Entertainment  2020-10-22   \n",
       "\n",
       "                                                                            categories  \n",
       "gameName                                                                                \n",
       "Monster Hunter Generations Ultimate                                                NaN  \n",
       "Alice: Madness Returns               3D Platformer; Action-Adventure; Hack and Slas...  \n",
       "Hold Fast                                                                          NaN  \n",
       "Pokémon Trading Card Game Online                                                   NaN  \n",
       "Witch It                             Multiplayer; Funny; Casual; Action; Indie; Hid...  "
      ]
     },
     "execution_count": 76,
     "metadata": {},
     "output_type": "execute_result"
    }
   ],
   "source": [
    "games_dataset = pd.read_csv('https://raw.githubusercontent.com/gianscuri/Twitch_Community_Graph/main/DataProcessing/info_df.csv',\n",
    "                            index_col = ['gameName'])\n",
    "games_dataset.head()"
   ]
  },
  {
   "cell_type": "code",
   "execution_count": 12,
   "metadata": {
    "ExecuteTime": {
     "end_time": "2022-06-02T22:53:47.129666Z",
     "start_time": "2022-06-02T22:53:47.110551Z"
    }
   },
   "outputs": [],
   "source": [
    "#games_dataset.columns = ['idGame']"
   ]
  },
  {
   "cell_type": "code",
   "execution_count": 77,
   "metadata": {
    "ExecuteTime": {
     "end_time": "2022-06-15T19:07:32.463428Z",
     "start_time": "2022-06-15T19:07:32.455749Z"
    }
   },
   "outputs": [],
   "source": [
    "games_constraint = '''\n",
    "CREATE CONSTRAINT GamesNameKey IF NOT EXISTS\n",
    "FOR (g:Game)\n",
    "REQUIRE g.Name IS UNIQUE\n",
    "'''"
   ]
  },
  {
   "cell_type": "code",
   "execution_count": 78,
   "metadata": {
    "ExecuteTime": {
     "end_time": "2022-06-15T19:07:35.880655Z",
     "start_time": "2022-06-15T19:07:35.861646Z"
    }
   },
   "outputs": [
    {
     "name": "stdout",
     "output_type": "stream",
     "text": [
      "LOAD CSV WITH HEADERS FROM 'https://raw.githubusercontent.com/gianscuri/Twitch_Community_Graph/main/DataProcessing/info_df.csv' AS row\n",
      "MERGE (g:Game {Name: row.gameName})\n",
      "FOREACH(ignoreMe IN CASE WHEN trim(row.idGame) <> \"\" THEN [1] ELSE [] END | SET g.idGame = row.idGame)\n",
      "FOREACH(ignoreMe IN CASE WHEN trim(row.steamName) <> \"\" THEN [1] ELSE [] END | SET g.steamName = row.steamName)\n",
      "FOREACH(ignoreMe IN CASE WHEN trim(row.developer) <> \"\" THEN [1] ELSE [] END | SET g.developer = row.developer)\n",
      "FOREACH(ignoreMe IN CASE WHEN trim(row.publisher) <> \"\" THEN [1] ELSE [] END | SET g.publisher = row.publisher)\n",
      "FOREACH(ignoreMe IN CASE WHEN trim(row.releaseDate) <> \"\" THEN [1] ELSE [] END | SET g.releaseDate = row.releaseDate)\n",
      "FOREACH(ignoreMe IN CASE WHEN trim(row.categories) <> \"\" THEN [1] ELSE [] END | SET g.categories = row.categories)\n",
      "RETURN g\n"
     ]
    }
   ],
   "source": [
    "games_import_csv = \"LOAD CSV WITH HEADERS FROM 'https://raw.githubusercontent.com/gianscuri/Twitch_Community_Graph/main/DataProcessing/info_df.csv' AS row\"\n",
    "games_key = \"MERGE (g:Game {Name: row.gameName})\"\n",
    "\n",
    "games_execution_commands = []\n",
    "for i in games_dataset.columns:\n",
    "    neo4j_create_statemenet =\"FOREACH(ignoreMe IN CASE WHEN trim(row.\"+ str(i)  + \")\" + \" <> \\\"\\\" THEN [1] ELSE [] END | SET g.\"+str(i)+\" = row.\"+str(i) +\")\"\n",
    "    games_execution_commands.append(neo4j_create_statemenet)\n",
    "\n",
    "games_creation_node = '\\n'.join(games_execution_commands)\n",
    "games_final_query = str(games_import_csv)+'\\n'+str(games_key)+'\\n'+str(games_creation_node)+'\\n'+\"RETURN g\"\n",
    "print(games_final_query) # bisogna sistemare i nomi delle proprietà che deevono essere conformi alle convenzioni neo4j"
   ]
  },
  {
   "cell_type": "code",
   "execution_count": 79,
   "metadata": {
    "ExecuteTime": {
     "end_time": "2022-06-15T19:07:46.196932Z",
     "start_time": "2022-06-15T19:07:46.186558Z"
    }
   },
   "outputs": [],
   "source": [
    "games_import_nodes = '''\n",
    "LOAD CSV WITH HEADERS FROM 'https://raw.githubusercontent.com/gianscuri/Twitch_Community_Graph/main/DataProcessing/info_df.csv' AS row\n",
    "MERGE (g:Game {Name: row.gameName})\n",
    "FOREACH(ignoreMe IN CASE WHEN trim(row.idGame) <> \"\" THEN [1] ELSE [] END | SET g.idGame = row.idGame)\n",
    "FOREACH(ignoreMe IN CASE WHEN trim(row.steamName) <> \"\" THEN [1] ELSE [] END | SET g.steamName = row.steamName)\n",
    "FOREACH(ignoreMe IN CASE WHEN trim(row.developer) <> \"\" THEN [1] ELSE [] END | SET g.developer = row.developer)\n",
    "FOREACH(ignoreMe IN CASE WHEN trim(row.publisher) <> \"\" THEN [1] ELSE [] END | SET g.publisher = row.publisher)\n",
    "FOREACH(ignoreMe IN CASE WHEN trim(row.releaseDate) <> \"\" THEN [1] ELSE [] END | SET g.releaseDate = row.releaseDate)\n",
    "FOREACH(ignoreMe IN CASE WHEN trim(row.categories) <> \"\" THEN [1] ELSE [] END | SET g.categories = row.categories)\n",
    "RETURN g\n",
    "'''"
   ]
  },
  {
   "cell_type": "markdown",
   "metadata": {},
   "source": [
    "## Streamer - streamer relation"
   ]
  },
  {
   "cell_type": "code",
   "execution_count": 80,
   "metadata": {
    "ExecuteTime": {
     "end_time": "2022-06-15T19:07:53.606657Z",
     "start_time": "2022-06-15T19:07:53.047593Z"
    },
    "scrolled": false
   },
   "outputs": [
    {
     "data": {
      "text/html": [
       "<div>\n",
       "<style scoped>\n",
       "    .dataframe tbody tr th:only-of-type {\n",
       "        vertical-align: middle;\n",
       "    }\n",
       "\n",
       "    .dataframe tbody tr th {\n",
       "        vertical-align: top;\n",
       "    }\n",
       "\n",
       "    .dataframe thead th {\n",
       "        text-align: right;\n",
       "    }\n",
       "</style>\n",
       "<table border=\"1\" class=\"dataframe\">\n",
       "  <thead>\n",
       "    <tr style=\"text-align: right;\">\n",
       "      <th></th>\n",
       "      <th></th>\n",
       "      <th>overlap_percentage</th>\n",
       "    </tr>\n",
       "    <tr>\n",
       "      <th>ID_streamer_i</th>\n",
       "      <th>ID_streamer_j</th>\n",
       "      <th></th>\n",
       "    </tr>\n",
       "  </thead>\n",
       "  <tbody>\n",
       "    <tr>\n",
       "      <th rowspan=\"5\" valign=\"top\">0</th>\n",
       "      <th>95</th>\n",
       "      <td>15.0</td>\n",
       "    </tr>\n",
       "    <tr>\n",
       "      <th>129</th>\n",
       "      <td>13.1</td>\n",
       "    </tr>\n",
       "    <tr>\n",
       "      <th>141</th>\n",
       "      <td>18.1</td>\n",
       "    </tr>\n",
       "    <tr>\n",
       "      <th>176</th>\n",
       "      <td>10.2</td>\n",
       "    </tr>\n",
       "    <tr>\n",
       "      <th>182</th>\n",
       "      <td>14.0</td>\n",
       "    </tr>\n",
       "  </tbody>\n",
       "</table>\n",
       "</div>"
      ],
      "text/plain": [
       "                             overlap_percentage\n",
       "ID_streamer_i ID_streamer_j                    \n",
       "0             95                           15.0\n",
       "              129                          13.1\n",
       "              141                          18.1\n",
       "              176                          10.2\n",
       "              182                          14.0"
      ]
     },
     "execution_count": 80,
     "metadata": {},
     "output_type": "execute_result"
    }
   ],
   "source": [
    "streamer_streamer_dataset = pd.read_csv('https://raw.githubusercontent.com/gianscuri/Twitch_Community_Graph/main/DataProcessing/Streamer-Streamer_dataset.csv',\n",
    "                                        index_col = ['ID_streamer_i', 'ID_streamer_j'])\n",
    "streamer_streamer_dataset.head()"
   ]
  },
  {
   "cell_type": "code",
   "execution_count": 91,
   "metadata": {
    "ExecuteTime": {
     "end_time": "2022-06-15T19:11:03.771530Z",
     "start_time": "2022-06-15T19:11:03.756522Z"
    }
   },
   "outputs": [],
   "source": [
    "streamer_streamer_rel ='''\n",
    "LOAD CSV WITH HEADERS FROM \"https://raw.githubusercontent.com/gianscuri/Twitch_Community_Graph/main/DataProcessing/Streamer-Streamer_dataset.csv\" AS row\n",
    "MATCH (i:Streamer {ID_streamer: row.ID_streamer_i}), (j:Streamer {ID_streamer: row.ID_streamer_j})\n",
    "CREATE (i)-[:HAS_VIEWERSHIP_OVERLAPPED_WITH {overlapPercentage: toFloat(row.overlap_percentage)}]->(j)\n",
    "'''"
   ]
  },
  {
   "cell_type": "markdown",
   "metadata": {},
   "source": [
    "## Streamer - games relation"
   ]
  },
  {
   "cell_type": "code",
   "execution_count": 82,
   "metadata": {
    "ExecuteTime": {
     "end_time": "2022-06-15T19:07:54.262222Z",
     "start_time": "2022-06-15T19:07:54.003564Z"
    }
   },
   "outputs": [
    {
     "data": {
      "text/html": [
       "<div>\n",
       "<style scoped>\n",
       "    .dataframe tbody tr th:only-of-type {\n",
       "        vertical-align: middle;\n",
       "    }\n",
       "\n",
       "    .dataframe tbody tr th {\n",
       "        vertical-align: top;\n",
       "    }\n",
       "\n",
       "    .dataframe thead th {\n",
       "        text-align: right;\n",
       "    }\n",
       "</style>\n",
       "<table border=\"1\" class=\"dataframe\">\n",
       "  <thead>\n",
       "    <tr style=\"text-align: right;\">\n",
       "      <th></th>\n",
       "      <th></th>\n",
       "      <th>minutes</th>\n",
       "    </tr>\n",
       "    <tr>\n",
       "      <th>ID_game</th>\n",
       "      <th>ID_streamer</th>\n",
       "      <th></th>\n",
       "    </tr>\n",
       "  </thead>\n",
       "  <tbody>\n",
       "    <tr>\n",
       "      <th rowspan=\"5\" valign=\"top\">351</th>\n",
       "      <th>80</th>\n",
       "      <td>165</td>\n",
       "    </tr>\n",
       "    <tr>\n",
       "      <th>335</th>\n",
       "      <td>45</td>\n",
       "    </tr>\n",
       "    <tr>\n",
       "      <th>421</th>\n",
       "      <td>120</td>\n",
       "    </tr>\n",
       "    <tr>\n",
       "      <th>471</th>\n",
       "      <td>480</td>\n",
       "    </tr>\n",
       "    <tr>\n",
       "      <th>517</th>\n",
       "      <td>30</td>\n",
       "    </tr>\n",
       "  </tbody>\n",
       "</table>\n",
       "</div>"
      ],
      "text/plain": [
       "                     minutes\n",
       "ID_game ID_streamer         \n",
       "351     80               165\n",
       "        335               45\n",
       "        421              120\n",
       "        471              480\n",
       "        517               30"
      ]
     },
     "execution_count": 82,
     "metadata": {},
     "output_type": "execute_result"
    }
   ],
   "source": [
    "streamer_games_dataset = pd.read_csv('https://raw.githubusercontent.com/gianscuri/Twitch_Community_Graph/main/DataProcessing/Streamer-Games_dataset.csv',\n",
    "                                     index_col = ['ID_game', 'ID_streamer'])\n",
    "streamer_games_dataset.head()"
   ]
  },
  {
   "cell_type": "code",
   "execution_count": 92,
   "metadata": {
    "ExecuteTime": {
     "end_time": "2022-06-15T19:11:13.561606Z",
     "start_time": "2022-06-15T19:11:13.547089Z"
    }
   },
   "outputs": [],
   "source": [
    "streamer_games_rel ='''\n",
    "LOAD CSV WITH HEADERS FROM \"https://raw.githubusercontent.com/gianscuri/Twitch_Community_Graph/main/DataProcessing/Streamer-Games_dataset.csv\" AS row\n",
    "MATCH (g:Game {ID_game: row.ID_game}), (s:Streamer {ID_streamer: row.ID_streamer})\n",
    "CREATE (s)-[:PLAYED {minutesPlayed: toInteger(row.minutes)}]->(g)\n",
    "'''"
   ]
  },
  {
   "cell_type": "markdown",
   "metadata": {},
   "source": [
    "## Import su Neo4J"
   ]
  },
  {
   "cell_type": "code",
   "execution_count": 84,
   "metadata": {
    "ExecuteTime": {
     "end_time": "2022-06-15T19:07:56.920303Z",
     "start_time": "2022-06-15T19:07:56.906188Z"
    }
   },
   "outputs": [],
   "source": [
    "data_base_connection = GraphDatabase.driver(uri = \"bolt://localhost:7687\", auth=(\"neo4j\", \"twitch\"))\n",
    "session = data_base_connection.session()"
   ]
  },
  {
   "cell_type": "code",
   "execution_count": 72,
   "metadata": {
    "ExecuteTime": {
     "end_time": "2022-06-15T19:06:51.314980Z",
     "start_time": "2022-06-15T19:06:49.266674Z"
    }
   },
   "outputs": [
    {
     "data": {
      "text/plain": [
       "<neo4j.work.result.Result at 0x1f610f63820>"
      ]
     },
     "execution_count": 72,
     "metadata": {},
     "output_type": "execute_result"
    }
   ],
   "source": [
    "#session.run('''MATCH ()-[r] DELETE r''')\n",
    "#session.run('''MATCH (n) DELETE n''')"
   ]
  },
  {
   "cell_type": "code",
   "execution_count": 87,
   "metadata": {
    "ExecuteTime": {
     "end_time": "2022-06-15T19:08:19.621418Z",
     "start_time": "2022-06-15T19:08:19.096869Z"
    }
   },
   "outputs": [
    {
     "data": {
      "text/plain": [
       "<neo4j.work.result.Result at 0x1f612db8520>"
      ]
     },
     "execution_count": 87,
     "metadata": {},
     "output_type": "execute_result"
    }
   ],
   "source": [
    "session.run(streamer_constraint)\n",
    "session.run(streamer_import_nodes)"
   ]
  },
  {
   "cell_type": "code",
   "execution_count": 89,
   "metadata": {
    "ExecuteTime": {
     "end_time": "2022-06-15T19:09:36.660134Z",
     "start_time": "2022-06-15T19:09:36.530211Z"
    }
   },
   "outputs": [
    {
     "data": {
      "text/plain": [
       "<neo4j.work.result.Result at 0x1f6135cbac0>"
      ]
     },
     "execution_count": 89,
     "metadata": {},
     "output_type": "execute_result"
    }
   ],
   "source": [
    "session.run(games_constraint)\n",
    "session.run(games_import_nodes)"
   ]
  },
  {
   "cell_type": "code",
   "execution_count": 94,
   "metadata": {
    "ExecuteTime": {
     "end_time": "2022-06-15T19:13:52.992686Z",
     "start_time": "2022-06-15T19:12:47.383654Z"
    }
   },
   "outputs": [
    {
     "data": {
      "text/plain": [
       "<neo4j.work.result.Result at 0x1f61378a820>"
      ]
     },
     "execution_count": 94,
     "metadata": {},
     "output_type": "execute_result"
    }
   ],
   "source": [
    "session.run(streamer_streamer_rel)"
   ]
  },
  {
   "cell_type": "code",
   "execution_count": 90,
   "metadata": {
    "ExecuteTime": {
     "end_time": "2022-06-15T19:10:31.327728Z",
     "start_time": "2022-06-15T19:10:27.881331Z"
    }
   },
   "outputs": [
    {
     "data": {
      "text/plain": [
       "<neo4j.work.result.Result at 0x1f61378a040>"
      ]
     },
     "execution_count": 90,
     "metadata": {},
     "output_type": "execute_result"
    }
   ],
   "source": [
    "session.run(streamer_games_rel)"
   ]
  },
  {
   "cell_type": "markdown",
   "metadata": {},
   "source": [
    "## Queries"
   ]
  },
  {
   "cell_type": "code",
   "execution_count": 23,
   "metadata": {
    "ExecuteTime": {
     "end_time": "2022-05-31T16:13:12.686787Z",
     "start_time": "2022-05-31T16:13:12.682389Z"
    }
   },
   "outputs": [],
   "source": [
    "'''MATCH p=()-[r:PLAYED]->() RETURN p LIMIT 25'''"
   ]
  },
  {
   "cell_type": "code",
   "execution_count": null,
   "metadata": {},
   "outputs": [],
   "source": [
    "'''MATCH p=()-[r:PLAYED]->() RETURN p LIMIT 25'''"
   ]
  },
  {
   "cell_type": "code",
   "execution_count": null,
   "metadata": {},
   "outputs": [],
   "source": [
    "'''MATCH p=(s:Streamer {Name: 'GrenBaud'})-[]->() RETURN p LIMIT 25'''"
   ]
  },
  {
   "cell_type": "code",
   "execution_count": null,
   "metadata": {},
   "outputs": [],
   "source": [
    "'''MATCH p=(s:Streamer {Name: 'GrenBaud'})-[r:OVERLAP]->()\n",
    "WHERE r.OverlapPercentage > 60\n",
    "RETURN p'''"
   ]
  }
 ],
 "metadata": {
  "interpreter": {
   "hash": "ad2bdc8ecc057115af97d19610ffacc2b4e99fae6737bb82f5d7fb13d2f2c186"
  },
  "kernelspec": {
   "display_name": "Python 3 (ipykernel)",
   "language": "python",
   "name": "python3"
  },
  "language_info": {
   "codemirror_mode": {
    "name": "ipython",
    "version": 3
   },
   "file_extension": ".py",
   "mimetype": "text/x-python",
   "name": "python",
   "nbconvert_exporter": "python",
   "pygments_lexer": "ipython3",
   "version": "3.9.7"
  },
  "toc": {
   "base_numbering": 1,
   "nav_menu": {},
   "number_sections": true,
   "sideBar": true,
   "skip_h1_title": false,
   "title_cell": "Table of Contents",
   "title_sidebar": "Contents",
   "toc_cell": false,
   "toc_position": {},
   "toc_section_display": true,
   "toc_window_display": false
  }
 },
 "nbformat": 4,
 "nbformat_minor": 2
}
