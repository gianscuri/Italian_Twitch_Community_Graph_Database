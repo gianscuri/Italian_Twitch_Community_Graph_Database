{
 "cells": [
  {
   "cell_type": "code",
   "execution_count": 1,
   "metadata": {
    "ExecuteTime": {
     "end_time": "2022-05-31T10:20:25.543712Z",
     "start_time": "2022-05-31T10:20:25.094889Z"
    }
   },
   "outputs": [],
   "source": [
    "from neo4j import GraphDatabase\n",
    "import pandas as pd"
   ]
  },
  {
   "cell_type": "markdown",
   "metadata": {},
   "source": [
    "### Streamer nodes"
   ]
  },
  {
   "cell_type": "code",
   "execution_count": 6,
   "metadata": {
    "ExecuteTime": {
     "end_time": "2022-05-31T10:24:24.358278Z",
     "start_time": "2022-05-31T10:24:24.056899Z"
    }
   },
   "outputs": [
    {
     "data": {
      "text/html": [
       "<div>\n",
       "<style scoped>\n",
       "    .dataframe tbody tr th:only-of-type {\n",
       "        vertical-align: middle;\n",
       "    }\n",
       "\n",
       "    .dataframe tbody tr th {\n",
       "        vertical-align: top;\n",
       "    }\n",
       "\n",
       "    .dataframe thead th {\n",
       "        text-align: right;\n",
       "    }\n",
       "</style>\n",
       "<table border=\"1\" class=\"dataframe\">\n",
       "  <thead>\n",
       "    <tr style=\"text-align: right;\">\n",
       "      <th></th>\n",
       "      <th>ID_streamer</th>\n",
       "      <th>streamer</th>\n",
       "      <th>minutes_live</th>\n",
       "      <th>viewer_mean</th>\n",
       "      <th>viewer_peak</th>\n",
       "      <th>spect_mean</th>\n",
       "      <th>spect_tot</th>\n",
       "    </tr>\n",
       "  </thead>\n",
       "  <tbody>\n",
       "    <tr>\n",
       "      <th>0</th>\n",
       "      <td>0</td>\n",
       "      <td>LyonWGFLive</td>\n",
       "      <td>1155</td>\n",
       "      <td>14011</td>\n",
       "      <td>19727</td>\n",
       "      <td>9337</td>\n",
       "      <td>58801</td>\n",
       "    </tr>\n",
       "    <tr>\n",
       "      <th>1</th>\n",
       "      <td>1</td>\n",
       "      <td>Tumblurr</td>\n",
       "      <td>2925</td>\n",
       "      <td>13683</td>\n",
       "      <td>32436</td>\n",
       "      <td>10655</td>\n",
       "      <td>148019</td>\n",
       "    </tr>\n",
       "    <tr>\n",
       "      <th>2</th>\n",
       "      <td>2</td>\n",
       "      <td>ChristianVieriOfficial</td>\n",
       "      <td>570</td>\n",
       "      <td>11014</td>\n",
       "      <td>24931</td>\n",
       "      <td>7056</td>\n",
       "      <td>64614</td>\n",
       "    </tr>\n",
       "    <tr>\n",
       "      <th>3</th>\n",
       "      <td>3</td>\n",
       "      <td>GrenBaud</td>\n",
       "      <td>1005</td>\n",
       "      <td>10285</td>\n",
       "      <td>30017</td>\n",
       "      <td>7600</td>\n",
       "      <td>78521</td>\n",
       "    </tr>\n",
       "    <tr>\n",
       "      <th>4</th>\n",
       "      <td>4</td>\n",
       "      <td>ZanoXVII</td>\n",
       "      <td>3480</td>\n",
       "      <td>7681</td>\n",
       "      <td>13973</td>\n",
       "      <td>5699</td>\n",
       "      <td>157718</td>\n",
       "    </tr>\n",
       "    <tr>\n",
       "      <th>...</th>\n",
       "      <td>...</td>\n",
       "      <td>...</td>\n",
       "      <td>...</td>\n",
       "      <td>...</td>\n",
       "      <td>...</td>\n",
       "      <td>...</td>\n",
       "      <td>...</td>\n",
       "    </tr>\n",
       "    <tr>\n",
       "      <th>2972</th>\n",
       "      <td>2972</td>\n",
       "      <td>QLASH_Simracing</td>\n",
       "      <td>180</td>\n",
       "      <td>10</td>\n",
       "      <td>15</td>\n",
       "      <td>5</td>\n",
       "      <td>20</td>\n",
       "    </tr>\n",
       "    <tr>\n",
       "      <th>2973</th>\n",
       "      <td>2973</td>\n",
       "      <td>teoKrazia</td>\n",
       "      <td>120</td>\n",
       "      <td>10</td>\n",
       "      <td>15</td>\n",
       "      <td>8</td>\n",
       "      <td>21</td>\n",
       "    </tr>\n",
       "    <tr>\n",
       "      <th>2974</th>\n",
       "      <td>2974</td>\n",
       "      <td>yume940</td>\n",
       "      <td>225</td>\n",
       "      <td>10</td>\n",
       "      <td>23</td>\n",
       "      <td>6</td>\n",
       "      <td>27</td>\n",
       "    </tr>\n",
       "    <tr>\n",
       "      <th>2975</th>\n",
       "      <td>2975</td>\n",
       "      <td>zanella_productions</td>\n",
       "      <td>165</td>\n",
       "      <td>10</td>\n",
       "      <td>12</td>\n",
       "      <td>8</td>\n",
       "      <td>17</td>\n",
       "    </tr>\n",
       "    <tr>\n",
       "      <th>2976</th>\n",
       "      <td>2976</td>\n",
       "      <td>webhak7</td>\n",
       "      <td>30</td>\n",
       "      <td>10</td>\n",
       "      <td>13</td>\n",
       "      <td>8</td>\n",
       "      <td>10</td>\n",
       "    </tr>\n",
       "  </tbody>\n",
       "</table>\n",
       "<p>2977 rows × 7 columns</p>\n",
       "</div>"
      ],
      "text/plain": [
       "      ID_streamer                streamer  minutes_live  viewer_mean  \\\n",
       "0               0             LyonWGFLive          1155        14011   \n",
       "1               1                Tumblurr          2925        13683   \n",
       "2               2  ChristianVieriOfficial           570        11014   \n",
       "3               3                GrenBaud          1005        10285   \n",
       "4               4                ZanoXVII          3480         7681   \n",
       "...           ...                     ...           ...          ...   \n",
       "2972         2972         QLASH_Simracing           180           10   \n",
       "2973         2973               teoKrazia           120           10   \n",
       "2974         2974                 yume940           225           10   \n",
       "2975         2975     zanella_productions           165           10   \n",
       "2976         2976                 webhak7            30           10   \n",
       "\n",
       "      viewer_peak  spect_mean  spect_tot  \n",
       "0           19727        9337      58801  \n",
       "1           32436       10655     148019  \n",
       "2           24931        7056      64614  \n",
       "3           30017        7600      78521  \n",
       "4           13973        5699     157718  \n",
       "...           ...         ...        ...  \n",
       "2972           15           5         20  \n",
       "2973           15           8         21  \n",
       "2974           23           6         27  \n",
       "2975           12           8         17  \n",
       "2976           13           8         10  \n",
       "\n",
       "[2977 rows x 7 columns]"
      ]
     },
     "execution_count": 6,
     "metadata": {},
     "output_type": "execute_result"
    }
   ],
   "source": [
    "pd.read_csv('https://raw.githubusercontent.com/gianscuri/Twitch_Community_Graph/main/DataProcessing/Streamer_dataset.csv')"
   ]
  },
  {
   "cell_type": "code",
   "execution_count": 7,
   "metadata": {
    "ExecuteTime": {
     "end_time": "2022-05-31T10:25:04.280463Z",
     "start_time": "2022-05-31T10:25:04.048713Z"
    }
   },
   "outputs": [
    {
     "data": {
      "text/html": [
       "<div>\n",
       "<style scoped>\n",
       "    .dataframe tbody tr th:only-of-type {\n",
       "        vertical-align: middle;\n",
       "    }\n",
       "\n",
       "    .dataframe tbody tr th {\n",
       "        vertical-align: top;\n",
       "    }\n",
       "\n",
       "    .dataframe thead th {\n",
       "        text-align: right;\n",
       "    }\n",
       "</style>\n",
       "<table border=\"1\" class=\"dataframe\">\n",
       "  <thead>\n",
       "    <tr style=\"text-align: right;\">\n",
       "      <th></th>\n",
       "      <th>ID_game</th>\n",
       "      <th>game_name</th>\n",
       "    </tr>\n",
       "  </thead>\n",
       "  <tbody>\n",
       "    <tr>\n",
       "      <th>0</th>\n",
       "      <td>0</td>\n",
       "      <td>NaN</td>\n",
       "    </tr>\n",
       "    <tr>\n",
       "      <th>1</th>\n",
       "      <td>1</td>\n",
       "      <td>Animal Crossing: New Horizons</td>\n",
       "    </tr>\n",
       "    <tr>\n",
       "      <th>2</th>\n",
       "      <td>2</td>\n",
       "      <td>Astroneer</td>\n",
       "    </tr>\n",
       "    <tr>\n",
       "      <th>3</th>\n",
       "      <td>3</td>\n",
       "      <td>Baba is You</td>\n",
       "    </tr>\n",
       "    <tr>\n",
       "      <th>4</th>\n",
       "      <td>4</td>\n",
       "      <td>Bloodstained: Ritual of the Night</td>\n",
       "    </tr>\n",
       "    <tr>\n",
       "      <th>...</th>\n",
       "      <td>...</td>\n",
       "      <td>...</td>\n",
       "    </tr>\n",
       "    <tr>\n",
       "      <th>1140</th>\n",
       "      <td>1140</td>\n",
       "      <td>Poppy Playtime</td>\n",
       "    </tr>\n",
       "    <tr>\n",
       "      <th>1141</th>\n",
       "      <td>1141</td>\n",
       "      <td>Final Fantasy IX</td>\n",
       "    </tr>\n",
       "    <tr>\n",
       "      <th>1142</th>\n",
       "      <td>1142</td>\n",
       "      <td>Ghost Exile</td>\n",
       "    </tr>\n",
       "    <tr>\n",
       "      <th>1143</th>\n",
       "      <td>1143</td>\n",
       "      <td>Higurashi: When They Cry</td>\n",
       "    </tr>\n",
       "    <tr>\n",
       "      <th>1144</th>\n",
       "      <td>1144</td>\n",
       "      <td>Deathtrap Dungeon: The Golden Room</td>\n",
       "    </tr>\n",
       "  </tbody>\n",
       "</table>\n",
       "<p>1145 rows × 2 columns</p>\n",
       "</div>"
      ],
      "text/plain": [
       "      ID_game                           game_name\n",
       "0           0                                 NaN\n",
       "1           1       Animal Crossing: New Horizons\n",
       "2           2                           Astroneer\n",
       "3           3                         Baba is You\n",
       "4           4   Bloodstained: Ritual of the Night\n",
       "...       ...                                 ...\n",
       "1140     1140                      Poppy Playtime\n",
       "1141     1141                    Final Fantasy IX\n",
       "1142     1142                         Ghost Exile\n",
       "1143     1143            Higurashi: When They Cry\n",
       "1144     1144  Deathtrap Dungeon: The Golden Room\n",
       "\n",
       "[1145 rows x 2 columns]"
      ]
     },
     "execution_count": 7,
     "metadata": {},
     "output_type": "execute_result"
    }
   ],
   "source": [
    "pd.read_csv('https://raw.githubusercontent.com/gianscuri/Twitch_Community_Graph/main/DataProcessing/Games_dataset.csv')"
   ]
  },
  {
   "cell_type": "code",
   "execution_count": 6,
   "metadata": {
    "ExecuteTime": {
     "end_time": "2022-05-31T09:30:37.151404Z",
     "start_time": "2022-05-31T09:30:37.143203Z"
    }
   },
   "outputs": [],
   "source": [
    "streamer_constraint = '''\n",
    "CREATE CONSTRAINT StreamerNameKey IF NOT EXISTS\n",
    "FOR (s:Streamer)\n",
    "REQUIRE s.Name IS UNIQUE\n",
    "'''"
   ]
  },
  {
   "cell_type": "code",
   "execution_count": 12,
   "metadata": {
    "ExecuteTime": {
     "end_time": "2022-05-31T10:17:53.447709Z",
     "start_time": "2022-05-31T10:17:53.439210Z"
    }
   },
   "outputs": [
    {
     "data": {
      "text/plain": [
       "'\\npok_nokey = pok.drop(\\'Name\\', axis=1)\\npok_nokey=pok_nokey.columns\\npok_nokey = pok_nokey.values.tolist()\\npok_execution_commands = []\\nfor i in pok_nokey:\\n    neo4j_create_statemenet =\"FOREACH(ignoreMe IN CASE WHEN trim(row.\"+ str(i)  + \")\" + \" <> \"\" THEN [1] ELSE [] END | SET p.\"+str(i)+\" = row.\"+str(i) +\")\"\\n    pok_execution_commands.append(neo4j_create_statemenet)\\npok_creation_node = \\'\\n\\'.join(pok_execution_commands)\\npok_final_query = str(pok_import_csv)+\\'\\n\\'+str(pok_key)+\\'\\n\\'+str(pok_creation_node)+\\'\\n\\'+\\'RETURN p\\'\\nprint(pok_final_query) # bisogna sistemare i nomi delle proprietà che deevono essere conformi alle convenzioni neo4j'"
      ]
     },
     "execution_count": 12,
     "metadata": {},
     "output_type": "execute_result"
    }
   ],
   "source": [
    "# Creo i nodi e per ogni proprietà che aggiungo vado a controllare se nel file il dato è presente: se si, aggiungo la proprietà e inserisco il valore mentre se il dato \n",
    "# non è presente non inserisco la proprietà.\n",
    "# Per la chiave del nodo (in questo caso il nome del pokemon) non faccio il controllo in quanto su neo4j ho inserito il vincolo di KEY che implica che la proprietà esista \n",
    "# e che sia unica \n",
    "pok_import_csv = \"LOAD CSV WITH HEADERS FROM 'https://github.com/gianscuri/Twitch_Community_Graph/blob/main/DataProcessing/Streamer_dataset.csv' AS row\"\n",
    "pok_key = \"MERGE (s:Streamer {Name: row.Name})\"\n",
    "\n",
    "'''\n",
    "pok_nokey = pok.drop('Name', axis=1)\n",
    "pok_nokey=pok_nokey.columns\n",
    "pok_nokey = pok_nokey.values.tolist()\n",
    "pok_execution_commands = []\n",
    "for i in pok_nokey:\n",
    "    neo4j_create_statemenet =\"FOREACH(ignoreMe IN CASE WHEN trim(row.\"+ str(i)  + \")\" + \" <> \\\"\\\" THEN [1] ELSE [] END | SET p.\"+str(i)+\" = row.\"+str(i) +\")\"\n",
    "    pok_execution_commands.append(neo4j_create_statemenet)\n",
    "pok_creation_node = '\\n'.join(pok_execution_commands)\n",
    "pok_final_query = str(pok_import_csv)+'\\n'+str(pok_key)+'\\n'+str(pok_creation_node)+'\\n'+'RETURN p'\n",
    "print(pok_final_query) # bisogna sistemare i nomi delle proprietà che deevono essere conformi alle convenzioni neo4j'''"
   ]
  },
  {
   "cell_type": "code",
   "execution_count": null,
   "metadata": {},
   "outputs": [],
   "source": [
    "pok_import_nodes = '''\n",
    "LOAD CSV WITH HEADERS FROM 'https://raw.githubusercontent.com/rmarconzini/Dataset/main/df_pokemon_import.csv' AS row\n",
    "MERGE (p:Pokemon {Name: row.Name})\n",
    "FOREACH(ignoreMe IN CASE WHEN trim(row.NationalPokedexNumber) <> \"\" THEN [1] ELSE [] END | SET p.NationalPokedexNumber = toInteger(row.NationalPokedexNumber))\n",
    "FOREACH(ignoreMe IN CASE WHEN trim(row.Species) <> \"\" THEN [1] ELSE [] END | SET p.Species = row.Species)\n",
    "FOREACH(ignoreMe IN CASE WHEN trim(row.Variant) <> \"\" THEN [1] ELSE [] END | SET p.Variant = row.Variant)\n",
    "FOREACH(ignoreMe IN CASE WHEN trim(row.Generation) <> \"\" THEN [1] ELSE [] END | SET p.Generation = toInteger(row.Generation))\n",
    "FOREACH(ignoreMe IN CASE WHEN trim(row.Rarity) <> \"\" THEN [1] ELSE [] END | SET p.Rarity = row.Rarity)\n",
    "FOREACH(ignoreMe IN CASE WHEN trim(row.Type1) <> \"\" THEN [1] ELSE [] END | SET p.Type1 = row.Type1)\n",
    "FOREACH(ignoreMe IN CASE WHEN trim(row.Type2) <> \"\" THEN [1] ELSE [] END | SET p.Type2 = row.Type2)\n",
    "FOREACH(ignoreMe IN CASE WHEN trim(row.Total) <> \"\" THEN [1] ELSE [] END | SET p.Total = toInteger(row.Total))\n",
    "FOREACH(ignoreMe IN CASE WHEN trim(row.HP) <> \"\" THEN [1] ELSE [] END | SET p.HP = toInteger(row.HP))\n",
    "FOREACH(ignoreMe IN CASE WHEN trim(row.Attack) <> \"\" THEN [1] ELSE [] END | SET p.Attack = toInteger(row.Attack))\n",
    "FOREACH(ignoreMe IN CASE WHEN trim(row.Defense) <> \"\" THEN [1] ELSE [] END | SET p.Defense = toInteger(row.Defense))\n",
    "FOREACH(ignoreMe IN CASE WHEN trim(row.SpAtk) <> \"\" THEN [1] ELSE [] END | SET p.SpAtk = toInteger(row.SpAtk))\n",
    "FOREACH(ignoreMe IN CASE WHEN trim(row.SpDef) <> \"\" THEN [1] ELSE [] END | SET p.SpDef = toInteger(row.SpDef))\n",
    "FOREACH(ignoreMe IN CASE WHEN trim(row.Speed) <> \"\" THEN [1] ELSE [] END | SET p.Speed = toInteger(row.Speed))\n",
    "FOREACH(ignoreMe IN CASE WHEN trim(row.image_url) <> \"\" THEN [1] ELSE [] END | SET p.image_url = row.image_url)\n",
    "FOREACH(ignoreMe IN CASE WHEN trim(row.Vgc2022Rules) <> \"\" THEN [1] ELSE [] END | SET p.Vgc2022Rules = row.Vgc2022Rules)\n",
    "FOREACH(ignoreMe IN CASE WHEN trim(row.MonthlyUsageMarch2022) <> \"\" THEN [1] ELSE [] END | SET p.MonthlyUsageMarch2022 = toInteger(row.MonthlyUsageMarch2022))\n",
    "FOREACH(ignoreMe IN CASE WHEN trim(row.UsagePercentMarch2022) <> \"\" THEN [1] ELSE [] END | SET p.UsagePercentMarch2022 = toInteger(row.UsagePercentMarch2022))\n",
    "FOREACH(ignoreMe IN CASE WHEN trim(row.MonthlyRankMarch2022) <> \"\" THEN [1] ELSE [] END | SET p.MonthlyRankMarch2022 = toInteger(row.MonthlyRankMarch2022))\n",
    "RETURN p\n",
    "'''"
   ]
  },
  {
   "cell_type": "markdown",
   "metadata": {},
   "source": [
    "## Import su Neo4J"
   ]
  },
  {
   "cell_type": "code",
   "execution_count": 7,
   "metadata": {
    "ExecuteTime": {
     "end_time": "2022-05-31T09:30:49.406373Z",
     "start_time": "2022-05-31T09:30:49.398371Z"
    }
   },
   "outputs": [],
   "source": [
    "data_base_connection = GraphDatabase.driver(uri = \"bolt://localhost:7687\", auth=(\"neo4j\", \"twitch\"))\n",
    "session = data_base_connection.session()"
   ]
  },
  {
   "cell_type": "code",
   "execution_count": 8,
   "metadata": {
    "ExecuteTime": {
     "end_time": "2022-05-31T09:30:53.643434Z",
     "start_time": "2022-05-31T09:30:50.745702Z"
    }
   },
   "outputs": [
    {
     "data": {
      "text/plain": [
       "<neo4j.work.result.Result at 0x1d75416c100>"
      ]
     },
     "execution_count": 8,
     "metadata": {},
     "output_type": "execute_result"
    }
   ],
   "source": [
    "# POKEMON: Import vincoli e nodi\n",
    "\n",
    "session.run(streamer_constraint)\n",
    "# session.run(pok_import_nodes)\n",
    "\n",
    "# MOVES: Import vincoli e nodi\n",
    "# session.run(moves_constraint)\n",
    "# session.run(moves_import_nodes)\n",
    "\n",
    "# TYPES: Import vincoli e nodi\n",
    "# session.run(types_constraint)\n",
    "# session.run(types_import_nodes)\n",
    "\n",
    "# ITEMS: Import vincoli e nodi\n",
    "# session.run(items_constraint)\n",
    "# session.run(items_import_nodes)\n",
    "\n",
    "# ABILITIES: Import vincoli e nodi\n",
    "# session.run(abilities_constraint)\n",
    "# session.run(abilities_import_nodes)\n",
    "\n",
    "# NATURES: Import vincoli e nodi\n",
    "# session.run(natures_constraint)\n",
    "# session.run(natures_import_nodes)"
   ]
  }
 ],
 "metadata": {
  "interpreter": {
   "hash": "ad2bdc8ecc057115af97d19610ffacc2b4e99fae6737bb82f5d7fb13d2f2c186"
  },
  "kernelspec": {
   "display_name": "Python 3 (ipykernel)",
   "language": "python",
   "name": "python3"
  },
  "language_info": {
   "codemirror_mode": {
    "name": "ipython",
    "version": 3
   },
   "file_extension": ".py",
   "mimetype": "text/x-python",
   "name": "python",
   "nbconvert_exporter": "python",
   "pygments_lexer": "ipython3",
   "version": "3.9.7"
  },
  "toc": {
   "base_numbering": 1,
   "nav_menu": {},
   "number_sections": true,
   "sideBar": true,
   "skip_h1_title": false,
   "title_cell": "Table of Contents",
   "title_sidebar": "Contents",
   "toc_cell": false,
   "toc_position": {},
   "toc_section_display": true,
   "toc_window_display": false
  }
 },
 "nbformat": 4,
 "nbformat_minor": 2
}
