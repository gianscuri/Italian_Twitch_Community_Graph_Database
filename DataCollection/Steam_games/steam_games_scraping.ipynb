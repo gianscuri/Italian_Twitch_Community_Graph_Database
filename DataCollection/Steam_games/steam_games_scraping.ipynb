{
 "cells": [
  {
   "cell_type": "markdown",
   "id": "46cf3a14",
   "metadata": {},
   "source": [
    "# SteamDB scraping"
   ]
  },
  {
   "cell_type": "code",
   "execution_count": 1,
   "id": "59cb7dd9",
   "metadata": {
    "ExecuteTime": {
     "end_time": "2022-07-15T14:06:45.754526Z",
     "start_time": "2022-07-15T14:06:44.919423Z"
    }
   },
   "outputs": [],
   "source": [
    "from selenium import webdriver\n",
    "from webdriver_manager.chrome import ChromeDriverManager\n",
    "from selenium.webdriver.support.ui import WebDriverWait\n",
    "from selenium.webdriver.common.by import By\n",
    "from selenium.webdriver.support import expected_conditions as EC\n",
    "from selenium.webdriver.support.ui import Select\n",
    "\n",
    "from bs4 import BeautifulSoup\n",
    "import pandas as pd\n",
    "import requests\n",
    "import json"
   ]
  },
  {
   "cell_type": "markdown",
   "id": "d61ff4dd",
   "metadata": {},
   "source": [
    "## Open site"
   ]
  },
  {
   "cell_type": "code",
   "execution_count": 2,
   "id": "0ca8cd4b",
   "metadata": {
    "ExecuteTime": {
     "end_time": "2022-07-15T14:06:47.821560Z",
     "start_time": "2022-07-15T14:06:45.759532Z"
    }
   },
   "outputs": [
    {
     "name": "stdout",
     "output_type": "stream",
     "text": [
      "\n"
     ]
    },
    {
     "name": "stderr",
     "output_type": "stream",
     "text": [
      "[WDM] - ====== WebDriver manager ======\n",
      "[WDM] - Current google-chrome version is 103.0.5060\n",
      "[WDM] - Get LATEST chromedriver version for 103.0.5060 google-chrome\n",
      "[WDM] - Driver [C:\\Users\\gianl\\.wdm\\drivers\\chromedriver\\win32\\103.0.5060.53\\chromedriver.exe] found in cache\n",
      "C:\\Users\\gianl\\AppData\\Local\\Temp/ipykernel_18096/1503906442.py:1: DeprecationWarning: executable_path has been deprecated, please pass in a Service object\n",
      "  driver = webdriver.Chrome(ChromeDriverManager().install())\n"
     ]
    }
   ],
   "source": [
    "driver = webdriver.Chrome(ChromeDriverManager().install())"
   ]
  },
  {
   "cell_type": "code",
   "execution_count": 3,
   "id": "b6f23c47",
   "metadata": {
    "ExecuteTime": {
     "end_time": "2022-07-15T14:06:49.771418Z",
     "start_time": "2022-07-15T14:06:47.823562Z"
    }
   },
   "outputs": [],
   "source": [
    "driver.get('https://steamdb.info/graph/')"
   ]
  },
  {
   "cell_type": "code",
   "execution_count": 4,
   "id": "7b9de4cf",
   "metadata": {
    "ExecuteTime": {
     "end_time": "2022-07-15T14:06:53.385396Z",
     "start_time": "2022-07-15T14:06:49.772449Z"
    }
   },
   "outputs": [],
   "source": [
    "select = Select(WebDriverWait(driver, 1).until(EC.element_to_be_clickable((By.NAME, \"table-apps_length\"))))\n",
    "select.select_by_value('-1') #show \"all\" results"
   ]
  },
  {
   "cell_type": "markdown",
   "id": "4ddc0295",
   "metadata": {},
   "source": [
    "## Scraping"
   ]
  },
  {
   "cell_type": "markdown",
   "id": "c9753b7a",
   "metadata": {},
   "source": [
    "### Obtain list Id Games"
   ]
  },
  {
   "cell_type": "code",
   "execution_count": 5,
   "id": "0b08a132",
   "metadata": {
    "ExecuteTime": {
     "end_time": "2022-07-15T14:06:56.720255Z",
     "start_time": "2022-07-15T14:06:53.387395Z"
    }
   },
   "outputs": [],
   "source": [
    "html = driver.page_source\n",
    "soup = BeautifulSoup(html, \"lxml\")"
   ]
  },
  {
   "cell_type": "code",
   "execution_count": 6,
   "id": "a7b58a0a",
   "metadata": {
    "ExecuteTime": {
     "end_time": "2022-07-15T14:06:56.959254Z",
     "start_time": "2022-07-15T14:06:56.722254Z"
    }
   },
   "outputs": [],
   "source": [
    "games = soup.find_all(\"tr\", class_='app')"
   ]
  },
  {
   "cell_type": "code",
   "execution_count": 7,
   "id": "3a2d72ff",
   "metadata": {
    "ExecuteTime": {
     "end_time": "2022-07-15T14:06:56.990254Z",
     "start_time": "2022-07-15T14:06:56.961255Z"
    }
   },
   "outputs": [
    {
     "data": {
      "text/plain": [
       "5648"
      ]
     },
     "execution_count": 7,
     "metadata": {},
     "output_type": "execute_result"
    }
   ],
   "source": [
    "id_games = [int(game['data-appid']) for game in games]\n",
    "len(id_games)"
   ]
  },
  {
   "cell_type": "markdown",
   "id": "d8969002",
   "metadata": {},
   "source": [
    "### Requests all games"
   ]
  },
  {
   "cell_type": "markdown",
   "id": "237fd3b3",
   "metadata": {},
   "source": [
    "Create dictionary with relevant data for every game"
   ]
  },
  {
   "cell_type": "code",
   "execution_count": 38,
   "id": "3ce2f6d9",
   "metadata": {
    "ExecuteTime": {
     "end_time": "2022-07-15T13:41:55.112817Z",
     "start_time": "2022-07-15T13:21:50.294199Z"
    }
   },
   "outputs": [
    {
     "name": "stdout",
     "output_type": "stream",
     "text": [
      "5598\r"
     ]
    }
   ],
   "source": [
    "steam_games = {}\n",
    "\n",
    "for count, i in enumerate(id_games):\n",
    "    print(count+1, end= \"\\r\")\n",
    "    \n",
    "    \n",
    "    driver.get(f'https://steamdb.info/api/RenderAppHover/?appid={i}')\n",
    "    html = driver.page_source\n",
    "    window = BeautifulSoup(html, \"lxml\")\n",
    "    \n",
    "    if 'HTTP ERROR 406' in html:\n",
    "        pass\n",
    "    else:\n",
    "        steam_games[i] = {}\n",
    "        \n",
    "        #title of game\n",
    "        steam_games[i]['title'] = window.find('a',class_='hover_title').text\n",
    "\n",
    "        #info game\n",
    "        for elem in window.find_all('div', class_='hover_body hover_meta'):\n",
    "            if elem.find('b') is not None:\n",
    "                steam_games[i][elem.text.split(':')[0].strip('\\n')] = elem.find('b').text\n",
    "\n",
    "        #categories\n",
    "        if window.find('div',class_='hover_body hover_tag_row') is not None:\n",
    "            steam_games[i]['categories'] = window.find('div',class_='hover_body hover_tag_row').text.strip().split('\\n')"
   ]
  },
  {
   "cell_type": "code",
   "execution_count": 39,
   "id": "5bb12d46",
   "metadata": {
    "ExecuteTime": {
     "end_time": "2022-07-15T13:42:16.177866Z",
     "start_time": "2022-07-15T13:42:16.166412Z"
    }
   },
   "outputs": [
    {
     "name": "stdout",
     "output_type": "stream",
     "text": [
      "Total games: \t 5599\n",
      "Scraped games: \t 3198\n"
     ]
    }
   ],
   "source": [
    "print('Total games: \\t', len(id_games))\n",
    "print('Scraped games: \\t', len(steam_games))"
   ]
  },
  {
   "cell_type": "code",
   "execution_count": 46,
   "id": "3de19928",
   "metadata": {
    "ExecuteTime": {
     "end_time": "2022-07-15T13:44:01.991663Z",
     "start_time": "2022-07-15T13:44:01.972213Z"
    }
   },
   "outputs": [
    {
     "name": "stdout",
     "output_type": "stream",
     "text": [
      "{\n",
      "    \"title\": \"Leif's Adventure: Netherworld Hero Demo\",\n",
      "    \"Developer\": \"OneManOnMars Art &amp; Games e.K.\",\n",
      "    \"Publisher\": \"OneManOnMars Art & Games e.K.\",\n",
      "    \"Release Date\": \"Unknown\",\n",
      "    \"Last Update\": \"13 June 2022\",\n",
      "    \"24h Player Peak\": \"1\",\n",
      "    \"Followers\": \"0\"\n",
      "}\n"
     ]
    }
   ],
   "source": [
    "print(json.dumps(steam_games[i], indent = 4, default= str))"
   ]
  },
  {
   "cell_type": "markdown",
   "id": "8265d6d3",
   "metadata": {},
   "source": [
    "## Export"
   ]
  },
  {
   "cell_type": "code",
   "execution_count": 41,
   "id": "227d3da2",
   "metadata": {
    "ExecuteTime": {
     "end_time": "2022-06-14T16:24:58.945649Z",
     "start_time": "2022-06-14T16:24:58.826312Z"
    }
   },
   "outputs": [],
   "source": [
    "with open('steam_games.json', 'w') as writefile:\n",
    "    writefile.write(json.dumps(steam_games))"
   ]
  }
 ],
 "metadata": {
  "kernelspec": {
   "display_name": "Python 3 (ipykernel)",
   "language": "python",
   "name": "python3"
  },
  "language_info": {
   "codemirror_mode": {
    "name": "ipython",
    "version": 3
   },
   "file_extension": ".py",
   "mimetype": "text/x-python",
   "name": "python",
   "nbconvert_exporter": "python",
   "pygments_lexer": "ipython3",
   "version": "3.9.7"
  },
  "toc": {
   "base_numbering": 1,
   "nav_menu": {},
   "number_sections": true,
   "sideBar": true,
   "skip_h1_title": true,
   "title_cell": "Table of Contents",
   "title_sidebar": "Contents",
   "toc_cell": false,
   "toc_position": {},
   "toc_section_display": true,
   "toc_window_display": true
  }
 },
 "nbformat": 4,
 "nbformat_minor": 5
}
