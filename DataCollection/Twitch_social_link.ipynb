{
 "cells": [
  {
   "cell_type": "markdown",
   "id": "39234330",
   "metadata": {},
   "source": [
    "## Scraping link on bio streamer"
   ]
  },
  {
   "cell_type": "code",
   "execution_count": 63,
   "id": "d2f761b8",
   "metadata": {},
   "outputs": [],
   "source": [
    "import requests\n",
    "import json\n",
    "import time"
   ]
  },
  {
   "cell_type": "code",
   "execution_count": 64,
   "id": "709260b8",
   "metadata": {},
   "outputs": [],
   "source": [
    "#prova\n",
    "streamers = ['pizfn', 'Cerbero_Podcast', 'Xiuder_']"
   ]
  },
  {
   "cell_type": "code",
   "execution_count": 66,
   "id": "6d1c410f",
   "metadata": {
    "scrolled": true
   },
   "outputs": [
    {
     "name": "stdout",
     "output_type": "stream",
     "text": [
      "--- 1.0700688362121582 seconds ---\n"
     ]
    }
   ],
   "source": [
    "headers = {'user-agent':'Mozilla/5.0 (Windows NT 10.0; Win64; x64) AppleWebKit/537.36 (KHTML, like Gecko) Chrome/96.0.4664.110 Safari/537.36'}\n",
    "home_url = 'https://www.twitch.tv/'\n",
    "landing = requests.get(home_url,headers=headers)\n",
    "\n",
    "\n",
    "z = landing.text.strip()\n",
    "start = 'clientId=\"'\n",
    "end = '\",commonOptions='\n",
    "clientId = z[z.find(start)+len(start):z.rfind(end)].strip()\n",
    "\n",
    "\n",
    "headers = {\n",
    "    'user-agent':'Mozilla/5.0 (Windows NT 10.0; Win64; x64) AppleWebKit/537.36 (KHTML, like Gecko) Chrome/96.0.4664.110 Safari/537.36',\n",
    "    'Client-Id': clientId\n",
    "    }\n",
    "\n",
    "url = 'https://gql.twitch.tv/gql'\n",
    "\n",
    "start = time.time()\n",
    "\n",
    "dict_url = {}\n",
    "for username in streamers:\n",
    "    payload = [{\n",
    "            \"operationName\":\"ChannelRoot_AboutPanel\",\n",
    "            \"variables\": {\n",
    "                \"channelLogin\":username,\n",
    "                \"skipSchedule\":True\n",
    "                },\n",
    "            \"extensions\": {\n",
    "                \"persistedQuery\": {\n",
    "                    \"version\":1,\n",
    "                    \"sha256Hash\":\"6089531acef6c09ece01b440c41978f4c8dc60cb4fa0124c9a9d3f896709b6c6\"\n",
    "                    }\n",
    "                }\n",
    "            }]\n",
    "    resp = requests.post(url,headers=headers,data=json.dumps(payload)).json()\n",
    "    socials_url = [x['url'] for x in resp[0]['data']['user']['channel']['socialMedias']]  \n",
    "\n",
    "    #twitter_url = [x['url'] for x in resp[0]['data']['user']['channel']['socialMedias'] if 'twitter.com' in x['url']]\n",
    "    \n",
    "    dict_url[username] = socials_url\n",
    "\n",
    "\n",
    "print(\"--- %s seconds ---\" % (time.time() - start))"
   ]
  },
  {
   "cell_type": "code",
   "execution_count": 67,
   "id": "5ff131c3",
   "metadata": {},
   "outputs": [
    {
     "data": {
      "text/plain": [
       "{'pizfn': ['https://www.instagram.com/piz.fn/',\n",
       "  'https://twitter.com/pizfn2',\n",
       "  'https://www.youtube.com/channel/UCDV4wS_5wj7WPvUV-4f_ybA',\n",
       "  'https://www.instagram.com/morningstarsesport/'],\n",
       " 'Cerbero_Podcast': ['https://www.youtube.com/channel/UCs0TfWEGJZ22tRO36a07uzg',\n",
       "  'https://www.instagram.com/cerberopodcastreal/?hl=it'],\n",
       " 'Xiuder_': ['https://www.youtube.com/xiuder',\n",
       "  'https://www.smart-gfx.com/merch-xiuder',\n",
       "  'https://www.instagram.com/xiuder',\n",
       "  'https://twitter.com/Xiuder_?ref_src=twsrc%5Egoogle%7Ctwcamp%5Eserp%7Ctwgr%5Eauthor',\n",
       "  'https://www.tiktok.com/@xiuderofficial?lang=it']}"
      ]
     },
     "execution_count": 67,
     "metadata": {},
     "output_type": "execute_result"
    }
   ],
   "source": [
    "dict_url"
   ]
  }
 ],
 "metadata": {
  "kernelspec": {
   "display_name": "Python 3 (ipykernel)",
   "language": "python",
   "name": "python3"
  },
  "language_info": {
   "codemirror_mode": {
    "name": "ipython",
    "version": 3
   },
   "file_extension": ".py",
   "mimetype": "text/x-python",
   "name": "python",
   "nbconvert_exporter": "python",
   "pygments_lexer": "ipython3",
   "version": "3.9.12"
  }
 },
 "nbformat": 4,
 "nbformat_minor": 5
}
