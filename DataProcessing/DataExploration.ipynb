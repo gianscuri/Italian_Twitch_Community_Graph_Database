{
 "cells": [
  {
   "cell_type": "markdown",
   "id": "605e1a27",
   "metadata": {},
   "source": [
    "# Data exploration"
   ]
  },
  {
   "cell_type": "code",
   "execution_count": 4,
   "id": "3c2603f5",
   "metadata": {
    "ExecuteTime": {
     "end_time": "2022-07-14T15:29:53.242140Z",
     "start_time": "2022-07-14T15:29:53.228649Z"
    }
   },
   "outputs": [],
   "source": [
    "import pandas as pd\n",
    "import numpy as np\n",
    "import datetime\n",
    "from datetime import datetime\n",
    "import matplotlib.pyplot as plt"
   ]
  },
  {
   "cell_type": "markdown",
   "id": "cdf31a14",
   "metadata": {},
   "source": [
    "## Log file"
   ]
  },
  {
   "cell_type": "code",
   "execution_count": 40,
   "id": "96997127",
   "metadata": {
    "ExecuteTime": {
     "end_time": "2022-07-14T15:36:52.999556Z",
     "start_time": "2022-07-14T15:36:52.970235Z"
    }
   },
   "outputs": [],
   "source": [
    "df= pd.read_csv('../DataCollection/Twitch_stream_spect/Twitch_stream_collection_CLEAN.log', index_col=0)"
   ]
  },
  {
   "cell_type": "code",
   "execution_count": 41,
   "id": "3c9573a4",
   "metadata": {
    "ExecuteTime": {
     "end_time": "2022-07-14T15:36:53.661614Z",
     "start_time": "2022-07-14T15:36:53.647035Z"
    }
   },
   "outputs": [
    {
     "data": {
      "text/html": [
       "<div>\n",
       "<style scoped>\n",
       "    .dataframe tbody tr th:only-of-type {\n",
       "        vertical-align: middle;\n",
       "    }\n",
       "\n",
       "    .dataframe tbody tr th {\n",
       "        vertical-align: top;\n",
       "    }\n",
       "\n",
       "    .dataframe thead th {\n",
       "        text-align: right;\n",
       "    }\n",
       "</style>\n",
       "<table border=\"1\" class=\"dataframe\">\n",
       "  <thead>\n",
       "    <tr style=\"text-align: right;\">\n",
       "      <th></th>\n",
       "      <th>Time</th>\n",
       "      <th>num</th>\n",
       "      <th>Type</th>\n",
       "      <th>Cod</th>\n",
       "      <th>Message</th>\n",
       "    </tr>\n",
       "  </thead>\n",
       "  <tbody>\n",
       "    <tr>\n",
       "      <th>1</th>\n",
       "      <td>2022-05-05 15:09:18</td>\n",
       "      <td>133</td>\n",
       "      <td>INFO</td>\n",
       "      <td>2</td>\n",
       "      <td>Numero di stream online: 1597</td>\n",
       "    </tr>\n",
       "    <tr>\n",
       "      <th>2</th>\n",
       "      <td>2022-05-05 15:09:25</td>\n",
       "      <td>487</td>\n",
       "      <td>INFO</td>\n",
       "      <td>3</td>\n",
       "      <td>Numero di spettatori online: 44353</td>\n",
       "    </tr>\n",
       "    <tr>\n",
       "      <th>5</th>\n",
       "      <td>2022-05-05 15:14:18</td>\n",
       "      <td>425</td>\n",
       "      <td>INFO</td>\n",
       "      <td>2</td>\n",
       "      <td>Numero di stream online: 1658</td>\n",
       "    </tr>\n",
       "    <tr>\n",
       "      <th>6</th>\n",
       "      <td>2022-05-05 15:14:26</td>\n",
       "      <td>874</td>\n",
       "      <td>INFO</td>\n",
       "      <td>3</td>\n",
       "      <td>Numero di spettatori online: 45230</td>\n",
       "    </tr>\n",
       "    <tr>\n",
       "      <th>9</th>\n",
       "      <td>2022-05-05 15:19:40</td>\n",
       "      <td>947</td>\n",
       "      <td>INFO</td>\n",
       "      <td>2</td>\n",
       "      <td>Numero di stream online: 1692</td>\n",
       "    </tr>\n",
       "  </tbody>\n",
       "</table>\n",
       "</div>"
      ],
      "text/plain": [
       "                  Time  num  Type  Cod                             Message\n",
       "1  2022-05-05 15:09:18  133  INFO    2       Numero di stream online: 1597\n",
       "2  2022-05-05 15:09:25  487  INFO    3  Numero di spettatori online: 44353\n",
       "5  2022-05-05 15:14:18  425  INFO    2       Numero di stream online: 1658\n",
       "6  2022-05-05 15:14:26  874  INFO    3  Numero di spettatori online: 45230\n",
       "9  2022-05-05 15:19:40  947  INFO    2       Numero di stream online: 1692"
      ]
     },
     "execution_count": 41,
     "metadata": {},
     "output_type": "execute_result"
    }
   ],
   "source": [
    "df=df[(df['Cod']== 2) |(df['Cod']== 3)]\n",
    "df.head()"
   ]
  },
  {
   "cell_type": "code",
   "execution_count": 42,
   "id": "295918b2",
   "metadata": {
    "ExecuteTime": {
     "end_time": "2022-07-14T15:36:55.924518Z",
     "start_time": "2022-07-14T15:36:55.891516Z"
    }
   },
   "outputs": [],
   "source": [
    "df['Num'] = df['Message'].str.split(':').str[1]\n",
    "df['Num'] = pd.to_numeric(df['Num'])"
   ]
  },
  {
   "cell_type": "code",
   "execution_count": 43,
   "id": "75238789",
   "metadata": {
    "ExecuteTime": {
     "end_time": "2022-07-14T15:36:56.587152Z",
     "start_time": "2022-07-14T15:36:56.576200Z"
    }
   },
   "outputs": [],
   "source": [
    "df['Time'] = pd.to_datetime(df['Time'], format='%Y-%m-%d %H:%M:%S')"
   ]
  },
  {
   "cell_type": "code",
   "execution_count": 46,
   "id": "566d7bb8",
   "metadata": {
    "ExecuteTime": {
     "end_time": "2022-07-14T15:37:09.725704Z",
     "start_time": "2022-07-14T15:37:09.718019Z"
    }
   },
   "outputs": [],
   "source": [
    "df['Hour']= df['Time'].dt.hour"
   ]
  },
  {
   "cell_type": "code",
   "execution_count": 47,
   "id": "d05da57a",
   "metadata": {
    "ExecuteTime": {
     "end_time": "2022-07-14T15:37:10.147992Z",
     "start_time": "2022-07-14T15:37:10.128961Z"
    }
   },
   "outputs": [
    {
     "data": {
      "text/html": [
       "<div>\n",
       "<style scoped>\n",
       "    .dataframe tbody tr th:only-of-type {\n",
       "        vertical-align: middle;\n",
       "    }\n",
       "\n",
       "    .dataframe tbody tr th {\n",
       "        vertical-align: top;\n",
       "    }\n",
       "\n",
       "    .dataframe thead th {\n",
       "        text-align: right;\n",
       "    }\n",
       "</style>\n",
       "<table border=\"1\" class=\"dataframe\">\n",
       "  <thead>\n",
       "    <tr style=\"text-align: right;\">\n",
       "      <th></th>\n",
       "      <th>Time</th>\n",
       "      <th>num</th>\n",
       "      <th>Type</th>\n",
       "      <th>Cod</th>\n",
       "      <th>Message</th>\n",
       "      <th>Num</th>\n",
       "      <th>Hour</th>\n",
       "    </tr>\n",
       "  </thead>\n",
       "  <tbody>\n",
       "    <tr>\n",
       "      <th>1</th>\n",
       "      <td>2022-05-05 15:09:18</td>\n",
       "      <td>133</td>\n",
       "      <td>INFO</td>\n",
       "      <td>2</td>\n",
       "      <td>Numero di stream online: 1597</td>\n",
       "      <td>1597</td>\n",
       "      <td>15</td>\n",
       "    </tr>\n",
       "    <tr>\n",
       "      <th>2</th>\n",
       "      <td>2022-05-05 15:09:25</td>\n",
       "      <td>487</td>\n",
       "      <td>INFO</td>\n",
       "      <td>3</td>\n",
       "      <td>Numero di spettatori online: 44353</td>\n",
       "      <td>44353</td>\n",
       "      <td>15</td>\n",
       "    </tr>\n",
       "    <tr>\n",
       "      <th>5</th>\n",
       "      <td>2022-05-05 15:14:18</td>\n",
       "      <td>425</td>\n",
       "      <td>INFO</td>\n",
       "      <td>2</td>\n",
       "      <td>Numero di stream online: 1658</td>\n",
       "      <td>1658</td>\n",
       "      <td>15</td>\n",
       "    </tr>\n",
       "    <tr>\n",
       "      <th>6</th>\n",
       "      <td>2022-05-05 15:14:26</td>\n",
       "      <td>874</td>\n",
       "      <td>INFO</td>\n",
       "      <td>3</td>\n",
       "      <td>Numero di spettatori online: 45230</td>\n",
       "      <td>45230</td>\n",
       "      <td>15</td>\n",
       "    </tr>\n",
       "    <tr>\n",
       "      <th>9</th>\n",
       "      <td>2022-05-05 15:19:40</td>\n",
       "      <td>947</td>\n",
       "      <td>INFO</td>\n",
       "      <td>2</td>\n",
       "      <td>Numero di stream online: 1692</td>\n",
       "      <td>1692</td>\n",
       "      <td>15</td>\n",
       "    </tr>\n",
       "  </tbody>\n",
       "</table>\n",
       "</div>"
      ],
      "text/plain": [
       "                 Time  num  Type  Cod                             Message  \\\n",
       "1 2022-05-05 15:09:18  133  INFO    2       Numero di stream online: 1597   \n",
       "2 2022-05-05 15:09:25  487  INFO    3  Numero di spettatori online: 44353   \n",
       "5 2022-05-05 15:14:18  425  INFO    2       Numero di stream online: 1658   \n",
       "6 2022-05-05 15:14:26  874  INFO    3  Numero di spettatori online: 45230   \n",
       "9 2022-05-05 15:19:40  947  INFO    2       Numero di stream online: 1692   \n",
       "\n",
       "     Num  Hour  \n",
       "1   1597    15  \n",
       "2  44353    15  \n",
       "5   1658    15  \n",
       "6  45230    15  \n",
       "9   1692    15  "
      ]
     },
     "execution_count": 47,
     "metadata": {},
     "output_type": "execute_result"
    }
   ],
   "source": [
    "df.head()"
   ]
  },
  {
   "cell_type": "markdown",
   "id": "850c6eeb",
   "metadata": {},
   "source": [
    "### Streamer online"
   ]
  },
  {
   "cell_type": "code",
   "execution_count": 24,
   "id": "044b2667",
   "metadata": {
    "ExecuteTime": {
     "end_time": "2022-07-14T15:32:31.807955Z",
     "start_time": "2022-07-14T15:32:31.794956Z"
    }
   },
   "outputs": [
    {
     "data": {
      "text/html": [
       "<div>\n",
       "<style scoped>\n",
       "    .dataframe tbody tr th:only-of-type {\n",
       "        vertical-align: middle;\n",
       "    }\n",
       "\n",
       "    .dataframe tbody tr th {\n",
       "        vertical-align: top;\n",
       "    }\n",
       "\n",
       "    .dataframe thead th {\n",
       "        text-align: right;\n",
       "    }\n",
       "</style>\n",
       "<table border=\"1\" class=\"dataframe\">\n",
       "  <thead>\n",
       "    <tr style=\"text-align: right;\">\n",
       "      <th></th>\n",
       "      <th>Num</th>\n",
       "    </tr>\n",
       "    <tr>\n",
       "      <th>Hour</th>\n",
       "      <th></th>\n",
       "    </tr>\n",
       "  </thead>\n",
       "  <tbody>\n",
       "    <tr>\n",
       "      <th>0</th>\n",
       "      <td>2088.771242</td>\n",
       "    </tr>\n",
       "    <tr>\n",
       "      <th>1</th>\n",
       "      <td>1372.298013</td>\n",
       "    </tr>\n",
       "    <tr>\n",
       "      <th>2</th>\n",
       "      <td>881.217949</td>\n",
       "    </tr>\n",
       "    <tr>\n",
       "      <th>3</th>\n",
       "      <td>564.678788</td>\n",
       "    </tr>\n",
       "    <tr>\n",
       "      <th>4</th>\n",
       "      <td>381.070968</td>\n",
       "    </tr>\n",
       "  </tbody>\n",
       "</table>\n",
       "</div>"
      ],
      "text/plain": [
       "              Num\n",
       "Hour             \n",
       "0     2088.771242\n",
       "1     1372.298013\n",
       "2      881.217949\n",
       "3      564.678788\n",
       "4      381.070968"
      ]
     },
     "execution_count": 24,
     "metadata": {},
     "output_type": "execute_result"
    }
   ],
   "source": [
    "streamon= df[df['Cod']== 2]\n",
    "streamon=streamon.groupby('Hour')['Num'].mean()\n",
    "streamon= streamon.to_frame()\n",
    "streamon.head()"
   ]
  },
  {
   "cell_type": "code",
   "execution_count": 16,
   "id": "dddcbff2",
   "metadata": {
    "scrolled": true
   },
   "outputs": [
    {
     "data": {
      "text/plain": [
       "Text(0.5, 1.0, 'Media di streamer online per fascia oraria')"
      ]
     },
     "execution_count": 16,
     "metadata": {},
     "output_type": "execute_result"
    },
    {
     "data": {
      "image/png": "[encoded data removed]",
      "text/plain": [
       "<Figure size 432x288 with 1 Axes>"
      ]
     },
     "metadata": {
      "needs_background": "light"
     },
     "output_type": "display_data"
    }
   ],
   "source": [
    "streamon.plot(kind='bar', legend=False)\n",
    "plt.title('Media di streamer online per fascia oraria')"
   ]
  },
  {
   "cell_type": "markdown",
   "id": "0009ff32",
   "metadata": {},
   "source": [
    "### Spectators online"
   ]
  },
  {
   "cell_type": "code",
   "execution_count": 25,
   "id": "700e89d6",
   "metadata": {
    "ExecuteTime": {
     "end_time": "2022-07-14T15:32:52.464165Z",
     "start_time": "2022-07-14T15:32:52.453694Z"
    }
   },
   "outputs": [
    {
     "data": {
      "text/html": [
       "<div>\n",
       "<style scoped>\n",
       "    .dataframe tbody tr th:only-of-type {\n",
       "        vertical-align: middle;\n",
       "    }\n",
       "\n",
       "    .dataframe tbody tr th {\n",
       "        vertical-align: top;\n",
       "    }\n",
       "\n",
       "    .dataframe thead th {\n",
       "        text-align: right;\n",
       "    }\n",
       "</style>\n",
       "<table border=\"1\" class=\"dataframe\">\n",
       "  <thead>\n",
       "    <tr style=\"text-align: right;\">\n",
       "      <th></th>\n",
       "      <th>Num</th>\n",
       "    </tr>\n",
       "    <tr>\n",
       "      <th>Hour</th>\n",
       "      <th></th>\n",
       "    </tr>\n",
       "  </thead>\n",
       "  <tbody>\n",
       "    <tr>\n",
       "      <th>0</th>\n",
       "      <td>88376.764706</td>\n",
       "    </tr>\n",
       "    <tr>\n",
       "      <th>1</th>\n",
       "      <td>63891.973510</td>\n",
       "    </tr>\n",
       "    <tr>\n",
       "      <th>2</th>\n",
       "      <td>41619.282051</td>\n",
       "    </tr>\n",
       "    <tr>\n",
       "      <th>3</th>\n",
       "      <td>24144.600000</td>\n",
       "    </tr>\n",
       "    <tr>\n",
       "      <th>4</th>\n",
       "      <td>13334.341935</td>\n",
       "    </tr>\n",
       "  </tbody>\n",
       "</table>\n",
       "</div>"
      ],
      "text/plain": [
       "               Num\n",
       "Hour              \n",
       "0     88376.764706\n",
       "1     63891.973510\n",
       "2     41619.282051\n",
       "3     24144.600000\n",
       "4     13334.341935"
      ]
     },
     "execution_count": 25,
     "metadata": {},
     "output_type": "execute_result"
    }
   ],
   "source": [
    "specton= df[df['Cod']== 3]\n",
    "specton=specton.groupby('Hour')['Num'].mean()\n",
    "specton=specton.to_frame()\n",
    "specton.head()"
   ]
  },
  {
   "cell_type": "code",
   "execution_count": 17,
   "id": "94456554",
   "metadata": {},
   "outputs": [
    {
     "data": {
      "text/plain": [
       "Text(0.5, 1.0, 'Media di spettatori online per fascia oraria')"
      ]
     },
     "execution_count": 17,
     "metadata": {},
     "output_type": "execute_result"
    },
    {
     "data": {
      "image/png": "[encoded data removed]",
      "text/plain": [
       "<Figure size 432x288 with 1 Axes>"
      ]
     },
     "metadata": {
      "needs_background": "light"
     },
     "output_type": "display_data"
    }
   ],
   "source": [
    "specton.plot(kind='bar', color= 'green', legend= False)\n",
    "plt.title('Media di spettatori online per fascia oraria')"
   ]
  },
  {
   "cell_type": "markdown",
   "id": "b9f1d604",
   "metadata": {},
   "source": [
    "## Streamer dataset"
   ]
  },
  {
   "cell_type": "code",
   "execution_count": 48,
   "id": "2b58a623",
   "metadata": {
    "ExecuteTime": {
     "end_time": "2022-07-14T15:39:36.205312Z",
     "start_time": "2022-07-14T15:39:36.177207Z"
    }
   },
   "outputs": [],
   "source": [
    "streamer_dataset = pd.read_csv('Output_datasets/Streamer_dataset.csv')"
   ]
  },
  {
   "cell_type": "code",
   "execution_count": 50,
   "id": "7f574be6",
   "metadata": {
    "ExecuteTime": {
     "end_time": "2022-07-14T15:40:01.417042Z",
     "start_time": "2022-07-14T15:40:01.398010Z"
    }
   },
   "outputs": [
    {
     "data": {
      "text/html": [
       "<div>\n",
       "<style scoped>\n",
       "    .dataframe tbody tr th:only-of-type {\n",
       "        vertical-align: middle;\n",
       "    }\n",
       "\n",
       "    .dataframe tbody tr th {\n",
       "        vertical-align: top;\n",
       "    }\n",
       "\n",
       "    .dataframe thead th {\n",
       "        text-align: right;\n",
       "    }\n",
       "</style>\n",
       "<table border=\"1\" class=\"dataframe\">\n",
       "  <thead>\n",
       "    <tr style=\"text-align: right;\">\n",
       "      <th></th>\n",
       "      <th>idStreamer</th>\n",
       "      <th>streamer</th>\n",
       "      <th>minutesLive</th>\n",
       "      <th>viewerMean</th>\n",
       "      <th>viewerPeak</th>\n",
       "      <th>spectMean</th>\n",
       "      <th>spectTot</th>\n",
       "      <th>socialLinks</th>\n",
       "    </tr>\n",
       "  </thead>\n",
       "  <tbody>\n",
       "    <tr>\n",
       "      <th>0</th>\n",
       "      <td>0</td>\n",
       "      <td>LyonWGFLive</td>\n",
       "      <td>1155</td>\n",
       "      <td>14011</td>\n",
       "      <td>19727</td>\n",
       "      <td>9337</td>\n",
       "      <td>58801</td>\n",
       "      <td>https://www.youtube.com/user/WhenGamersFail; h...</td>\n",
       "    </tr>\n",
       "    <tr>\n",
       "      <th>1</th>\n",
       "      <td>1</td>\n",
       "      <td>Tumblurr</td>\n",
       "      <td>2925</td>\n",
       "      <td>13683</td>\n",
       "      <td>32436</td>\n",
       "      <td>10655</td>\n",
       "      <td>148019</td>\n",
       "      <td>NaN</td>\n",
       "    </tr>\n",
       "    <tr>\n",
       "      <th>2</th>\n",
       "      <td>2</td>\n",
       "      <td>ChristianVieriOfficial</td>\n",
       "      <td>570</td>\n",
       "      <td>11014</td>\n",
       "      <td>24931</td>\n",
       "      <td>7056</td>\n",
       "      <td>64614</td>\n",
       "      <td>https://www.instagram.com/christianvieri/; htt...</td>\n",
       "    </tr>\n",
       "    <tr>\n",
       "      <th>3</th>\n",
       "      <td>3</td>\n",
       "      <td>GrenBaud</td>\n",
       "      <td>1005</td>\n",
       "      <td>10285</td>\n",
       "      <td>30017</td>\n",
       "      <td>7600</td>\n",
       "      <td>78521</td>\n",
       "      <td>https://www.tiktok.com/@grenbaud; https://www....</td>\n",
       "    </tr>\n",
       "    <tr>\n",
       "      <th>4</th>\n",
       "      <td>4</td>\n",
       "      <td>ZanoXVII</td>\n",
       "      <td>3480</td>\n",
       "      <td>7681</td>\n",
       "      <td>13973</td>\n",
       "      <td>5699</td>\n",
       "      <td>157718</td>\n",
       "      <td>https://www.instagram.com/zanoxvii/; https://w...</td>\n",
       "    </tr>\n",
       "    <tr>\n",
       "      <th>...</th>\n",
       "      <td>...</td>\n",
       "      <td>...</td>\n",
       "      <td>...</td>\n",
       "      <td>...</td>\n",
       "      <td>...</td>\n",
       "      <td>...</td>\n",
       "      <td>...</td>\n",
       "      <td>...</td>\n",
       "    </tr>\n",
       "    <tr>\n",
       "      <th>2972</th>\n",
       "      <td>2972</td>\n",
       "      <td>QLASH_Simracing</td>\n",
       "      <td>180</td>\n",
       "      <td>10</td>\n",
       "      <td>15</td>\n",
       "      <td>5</td>\n",
       "      <td>20</td>\n",
       "      <td>https://www.instagram.com/qlash_global/; https...</td>\n",
       "    </tr>\n",
       "    <tr>\n",
       "      <th>2973</th>\n",
       "      <td>2973</td>\n",
       "      <td>teoKrazia</td>\n",
       "      <td>120</td>\n",
       "      <td>10</td>\n",
       "      <td>15</td>\n",
       "      <td>8</td>\n",
       "      <td>21</td>\n",
       "      <td>https://twitter.com/teoKrazia; https://www.ins...</td>\n",
       "    </tr>\n",
       "    <tr>\n",
       "      <th>2974</th>\n",
       "      <td>2974</td>\n",
       "      <td>yume940</td>\n",
       "      <td>225</td>\n",
       "      <td>10</td>\n",
       "      <td>23</td>\n",
       "      <td>6</td>\n",
       "      <td>27</td>\n",
       "      <td>https://www.instagram.com/leeyume940/; https:/...</td>\n",
       "    </tr>\n",
       "    <tr>\n",
       "      <th>2975</th>\n",
       "      <td>2975</td>\n",
       "      <td>zanella_productions</td>\n",
       "      <td>165</td>\n",
       "      <td>10</td>\n",
       "      <td>12</td>\n",
       "      <td>8</td>\n",
       "      <td>17</td>\n",
       "      <td>https://t.me/+v6EFZ-1MHo5iOWU0; https://www.in...</td>\n",
       "    </tr>\n",
       "    <tr>\n",
       "      <th>2976</th>\n",
       "      <td>2976</td>\n",
       "      <td>webhak7</td>\n",
       "      <td>30</td>\n",
       "      <td>10</td>\n",
       "      <td>13</td>\n",
       "      <td>8</td>\n",
       "      <td>10</td>\n",
       "      <td>https://www.instagram.com/webhak7</td>\n",
       "    </tr>\n",
       "  </tbody>\n",
       "</table>\n",
       "<p>2977 rows × 8 columns</p>\n",
       "</div>"
      ],
      "text/plain": [
       "      idStreamer                streamer  minutesLive  viewerMean  viewerPeak  \\\n",
       "0              0             LyonWGFLive         1155       14011       19727   \n",
       "1              1                Tumblurr         2925       13683       32436   \n",
       "2              2  ChristianVieriOfficial          570       11014       24931   \n",
       "3              3                GrenBaud         1005       10285       30017   \n",
       "4              4                ZanoXVII         3480        7681       13973   \n",
       "...          ...                     ...          ...         ...         ...   \n",
       "2972        2972         QLASH_Simracing          180          10          15   \n",
       "2973        2973               teoKrazia          120          10          15   \n",
       "2974        2974                 yume940          225          10          23   \n",
       "2975        2975     zanella_productions          165          10          12   \n",
       "2976        2976                 webhak7           30          10          13   \n",
       "\n",
       "      spectMean  spectTot                                        socialLinks  \n",
       "0          9337     58801  https://www.youtube.com/user/WhenGamersFail; h...  \n",
       "1         10655    148019                                                NaN  \n",
       "2          7056     64614  https://www.instagram.com/christianvieri/; htt...  \n",
       "3          7600     78521  https://www.tiktok.com/@grenbaud; https://www....  \n",
       "4          5699    157718  https://www.instagram.com/zanoxvii/; https://w...  \n",
       "...         ...       ...                                                ...  \n",
       "2972          5        20  https://www.instagram.com/qlash_global/; https...  \n",
       "2973          8        21  https://twitter.com/teoKrazia; https://www.ins...  \n",
       "2974          6        27  https://www.instagram.com/leeyume940/; https:/...  \n",
       "2975          8        17  https://t.me/+v6EFZ-1MHo5iOWU0; https://www.in...  \n",
       "2976          8        10                  https://www.instagram.com/webhak7  \n",
       "\n",
       "[2977 rows x 8 columns]"
      ]
     },
     "execution_count": 50,
     "metadata": {},
     "output_type": "execute_result"
    }
   ],
   "source": [
    "streamer_dataset"
   ]
  },
  {
   "cell_type": "code",
   "execution_count": 61,
   "id": "84965c4d",
   "metadata": {
    "ExecuteTime": {
     "end_time": "2022-07-14T15:44:59.618896Z",
     "start_time": "2022-07-14T15:44:59.609928Z"
    }
   },
   "outputs": [],
   "source": [
    "stats=streamer_dataset[['minutesLive', 'spectTot']].describe()\n",
    "stats.drop('count', axis=0, inplace=True)"
   ]
  },
  {
   "cell_type": "code",
   "execution_count": 66,
   "id": "360a3c7c",
   "metadata": {
    "ExecuteTime": {
     "end_time": "2022-07-14T15:45:17.789251Z",
     "start_time": "2022-07-14T15:45:17.781215Z"
    }
   },
   "outputs": [],
   "source": [
    "stats.rename(columns= {'minutesLive': 'minuti trascorsi in live',\n",
    "                      'spectTot': 'spettatori totali'}, inplace=True)"
   ]
  },
  {
   "cell_type": "code",
   "execution_count": 67,
   "id": "8bfab134",
   "metadata": {
    "ExecuteTime": {
     "end_time": "2022-07-14T15:45:18.010343Z",
     "start_time": "2022-07-14T15:45:17.991339Z"
    }
   },
   "outputs": [
    {
     "data": {
      "text/html": [
       "<div>\n",
       "<style scoped>\n",
       "    .dataframe tbody tr th:only-of-type {\n",
       "        vertical-align: middle;\n",
       "    }\n",
       "\n",
       "    .dataframe tbody tr th {\n",
       "        vertical-align: top;\n",
       "    }\n",
       "\n",
       "    .dataframe thead th {\n",
       "        text-align: right;\n",
       "    }\n",
       "</style>\n",
       "<table border=\"1\" class=\"dataframe\">\n",
       "  <thead>\n",
       "    <tr style=\"text-align: right;\">\n",
       "      <th></th>\n",
       "      <th>minuti trascorsi in live</th>\n",
       "      <th>spettatori totali</th>\n",
       "    </tr>\n",
       "  </thead>\n",
       "  <tbody>\n",
       "    <tr>\n",
       "      <th>mean</th>\n",
       "      <td>1466.684582</td>\n",
       "      <td>1656.022506</td>\n",
       "    </tr>\n",
       "    <tr>\n",
       "      <th>std</th>\n",
       "      <td>1735.805536</td>\n",
       "      <td>7450.436019</td>\n",
       "    </tr>\n",
       "    <tr>\n",
       "      <th>min</th>\n",
       "      <td>15.000000</td>\n",
       "      <td>10.000000</td>\n",
       "    </tr>\n",
       "    <tr>\n",
       "      <th>25%</th>\n",
       "      <td>345.000000</td>\n",
       "      <td>82.000000</td>\n",
       "    </tr>\n",
       "    <tr>\n",
       "      <th>50%</th>\n",
       "      <td>960.000000</td>\n",
       "      <td>231.000000</td>\n",
       "    </tr>\n",
       "    <tr>\n",
       "      <th>75%</th>\n",
       "      <td>2010.000000</td>\n",
       "      <td>801.000000</td>\n",
       "    </tr>\n",
       "    <tr>\n",
       "      <th>max</th>\n",
       "      <td>19125.000000</td>\n",
       "      <td>157718.000000</td>\n",
       "    </tr>\n",
       "  </tbody>\n",
       "</table>\n",
       "</div>"
      ],
      "text/plain": [
       "      minuti trascorsi in live  spettatori totali\n",
       "mean               1466.684582        1656.022506\n",
       "std                1735.805536        7450.436019\n",
       "min                  15.000000          10.000000\n",
       "25%                 345.000000          82.000000\n",
       "50%                 960.000000         231.000000\n",
       "75%                2010.000000         801.000000\n",
       "max               19125.000000      157718.000000"
      ]
     },
     "execution_count": 67,
     "metadata": {},
     "output_type": "execute_result"
    }
   ],
   "source": [
    "stats"
   ]
  },
  {
   "cell_type": "markdown",
   "id": "0eef8365",
   "metadata": {},
   "source": [
    "## Games dataset"
   ]
  },
  {
   "cell_type": "code",
   "execution_count": 132,
   "id": "e93738de",
   "metadata": {
    "ExecuteTime": {
     "end_time": "2022-07-14T18:57:30.647543Z",
     "start_time": "2022-07-14T18:57:30.614751Z"
    }
   },
   "outputs": [
    {
     "data": {
      "text/html": [
       "<div>\n",
       "<style scoped>\n",
       "    .dataframe tbody tr th:only-of-type {\n",
       "        vertical-align: middle;\n",
       "    }\n",
       "\n",
       "    .dataframe tbody tr th {\n",
       "        vertical-align: top;\n",
       "    }\n",
       "\n",
       "    .dataframe thead th {\n",
       "        text-align: right;\n",
       "    }\n",
       "</style>\n",
       "<table border=\"1\" class=\"dataframe\">\n",
       "  <thead>\n",
       "    <tr style=\"text-align: right;\">\n",
       "      <th></th>\n",
       "      <th>idGame</th>\n",
       "      <th>gameName</th>\n",
       "      <th>steamName</th>\n",
       "      <th>developer</th>\n",
       "      <th>publisher</th>\n",
       "      <th>releaseDate</th>\n",
       "      <th>categories</th>\n",
       "    </tr>\n",
       "  </thead>\n",
       "  <tbody>\n",
       "    <tr>\n",
       "      <th>0</th>\n",
       "      <td>0</td>\n",
       "      <td>Monster Hunter Generations Ultimate</td>\n",
       "      <td>NaN</td>\n",
       "      <td>NaN</td>\n",
       "      <td>NaN</td>\n",
       "      <td>NaN</td>\n",
       "      <td>NaN</td>\n",
       "    </tr>\n",
       "    <tr>\n",
       "      <th>1</th>\n",
       "      <td>1</td>\n",
       "      <td>Alice: Madness Returns</td>\n",
       "      <td>Alice: Madness Returns</td>\n",
       "      <td>Spicy Horse Games</td>\n",
       "      <td>Electronic Arts</td>\n",
       "      <td>2011-06-17</td>\n",
       "      <td>3D Platformer; Action-Adventure; Hack and Slas...</td>\n",
       "    </tr>\n",
       "    <tr>\n",
       "      <th>2</th>\n",
       "      <td>2</td>\n",
       "      <td>Hold Fast</td>\n",
       "      <td>NaN</td>\n",
       "      <td>NaN</td>\n",
       "      <td>NaN</td>\n",
       "      <td>NaN</td>\n",
       "      <td>NaN</td>\n",
       "    </tr>\n",
       "    <tr>\n",
       "      <th>3</th>\n",
       "      <td>3</td>\n",
       "      <td>Pokémon Trading Card Game Online</td>\n",
       "      <td>NaN</td>\n",
       "      <td>NaN</td>\n",
       "      <td>NaN</td>\n",
       "      <td>NaN</td>\n",
       "      <td>NaN</td>\n",
       "    </tr>\n",
       "    <tr>\n",
       "      <th>4</th>\n",
       "      <td>4</td>\n",
       "      <td>Witch It</td>\n",
       "      <td>Witch It</td>\n",
       "      <td>Barrel Roll Games</td>\n",
       "      <td>Daedalic Entertainment</td>\n",
       "      <td>2020-10-22</td>\n",
       "      <td>Multiplayer; Funny; Casual; Action; Indie; Hid...</td>\n",
       "    </tr>\n",
       "    <tr>\n",
       "      <th>...</th>\n",
       "      <td>...</td>\n",
       "      <td>...</td>\n",
       "      <td>...</td>\n",
       "      <td>...</td>\n",
       "      <td>...</td>\n",
       "      <td>...</td>\n",
       "      <td>...</td>\n",
       "    </tr>\n",
       "    <tr>\n",
       "      <th>1139</th>\n",
       "      <td>1139</td>\n",
       "      <td>Rise of Nations: Extended Edition</td>\n",
       "      <td>Rise of Nations: Extended Edition</td>\n",
       "      <td>SkyBox Labs</td>\n",
       "      <td>Xbox Game Studios</td>\n",
       "      <td>2014-06-12</td>\n",
       "      <td>Strategy; RTS; Classic; Multiplayer; Historica...</td>\n",
       "    </tr>\n",
       "    <tr>\n",
       "      <th>1140</th>\n",
       "      <td>1140</td>\n",
       "      <td>Paper Mario: The Origami King</td>\n",
       "      <td>NaN</td>\n",
       "      <td>NaN</td>\n",
       "      <td>NaN</td>\n",
       "      <td>NaN</td>\n",
       "      <td>NaN</td>\n",
       "    </tr>\n",
       "    <tr>\n",
       "      <th>1141</th>\n",
       "      <td>1141</td>\n",
       "      <td>The Inheritance of Crimson Manor</td>\n",
       "      <td>NaN</td>\n",
       "      <td>NaN</td>\n",
       "      <td>NaN</td>\n",
       "      <td>NaN</td>\n",
       "      <td>NaN</td>\n",
       "    </tr>\n",
       "    <tr>\n",
       "      <th>1142</th>\n",
       "      <td>1142</td>\n",
       "      <td>Occult</td>\n",
       "      <td>NaN</td>\n",
       "      <td>NaN</td>\n",
       "      <td>NaN</td>\n",
       "      <td>NaN</td>\n",
       "      <td>NaN</td>\n",
       "    </tr>\n",
       "    <tr>\n",
       "      <th>1143</th>\n",
       "      <td>1143</td>\n",
       "      <td>Sign of Silence</td>\n",
       "      <td>Sign of Silence</td>\n",
       "      <td>Renderise</td>\n",
       "      <td>NaN</td>\n",
       "      <td>2020-10-01</td>\n",
       "      <td>Horror; Co-op; Multiplayer; Atmospheric; Singl...</td>\n",
       "    </tr>\n",
       "  </tbody>\n",
       "</table>\n",
       "<p>1144 rows × 7 columns</p>\n",
       "</div>"
      ],
      "text/plain": [
       "      idGame                             gameName  \\\n",
       "0          0  Monster Hunter Generations Ultimate   \n",
       "1          1               Alice: Madness Returns   \n",
       "2          2                            Hold Fast   \n",
       "3          3     Pokémon Trading Card Game Online   \n",
       "4          4                             Witch It   \n",
       "...      ...                                  ...   \n",
       "1139    1139    Rise of Nations: Extended Edition   \n",
       "1140    1140        Paper Mario: The Origami King   \n",
       "1141    1141     The Inheritance of Crimson Manor   \n",
       "1142    1142                               Occult   \n",
       "1143    1143                      Sign of Silence   \n",
       "\n",
       "                              steamName          developer  \\\n",
       "0                                   NaN                NaN   \n",
       "1                Alice: Madness Returns  Spicy Horse Games   \n",
       "2                                   NaN                NaN   \n",
       "3                                   NaN                NaN   \n",
       "4                              Witch It  Barrel Roll Games   \n",
       "...                                 ...                ...   \n",
       "1139  Rise of Nations: Extended Edition        SkyBox Labs   \n",
       "1140                                NaN                NaN   \n",
       "1141                                NaN                NaN   \n",
       "1142                                NaN                NaN   \n",
       "1143                    Sign of Silence          Renderise   \n",
       "\n",
       "                   publisher releaseDate  \\\n",
       "0                        NaN         NaN   \n",
       "1            Electronic Arts  2011-06-17   \n",
       "2                        NaN         NaN   \n",
       "3                        NaN         NaN   \n",
       "4     Daedalic Entertainment  2020-10-22   \n",
       "...                      ...         ...   \n",
       "1139       Xbox Game Studios  2014-06-12   \n",
       "1140                     NaN         NaN   \n",
       "1141                     NaN         NaN   \n",
       "1142                     NaN         NaN   \n",
       "1143                     NaN  2020-10-01   \n",
       "\n",
       "                                             categories  \n",
       "0                                                   NaN  \n",
       "1     3D Platformer; Action-Adventure; Hack and Slas...  \n",
       "2                                                   NaN  \n",
       "3                                                   NaN  \n",
       "4     Multiplayer; Funny; Casual; Action; Indie; Hid...  \n",
       "...                                                 ...  \n",
       "1139  Strategy; RTS; Classic; Multiplayer; Historica...  \n",
       "1140                                                NaN  \n",
       "1141                                                NaN  \n",
       "1142                                                NaN  \n",
       "1143  Horror; Co-op; Multiplayer; Atmospheric; Singl...  \n",
       "\n",
       "[1144 rows x 7 columns]"
      ]
     },
     "execution_count": 132,
     "metadata": {},
     "output_type": "execute_result"
    }
   ],
   "source": [
    "games = pd.read_csv(\"Output_datasets/Games_dataset.csv\")\n",
    "games"
   ]
  },
  {
   "cell_type": "code",
   "execution_count": 74,
   "id": "f9e83313",
   "metadata": {
    "ExecuteTime": {
     "end_time": "2022-07-14T15:50:20.769434Z",
     "start_time": "2022-07-14T15:50:20.761437Z"
    }
   },
   "outputs": [],
   "source": [
    "games['releaseDate'] =  pd.to_datetime(games['releaseDate'], format='%Y-%m-%d') #convert in datetime object"
   ]
  },
  {
   "cell_type": "markdown",
   "id": "685e544f",
   "metadata": {},
   "source": [
    "### Games per year"
   ]
  },
  {
   "cell_type": "code",
   "execution_count": 120,
   "id": "a47f09cf",
   "metadata": {
    "ExecuteTime": {
     "end_time": "2022-07-14T16:00:02.643385Z",
     "start_time": "2022-07-14T16:00:02.623417Z"
    }
   },
   "outputs": [
    {
     "data": {
      "text/html": [
       "<div>\n",
       "<style scoped>\n",
       "    .dataframe tbody tr th:only-of-type {\n",
       "        vertical-align: middle;\n",
       "    }\n",
       "\n",
       "    .dataframe tbody tr th {\n",
       "        vertical-align: top;\n",
       "    }\n",
       "\n",
       "    .dataframe thead th {\n",
       "        text-align: right;\n",
       "    }\n",
       "</style>\n",
       "<table border=\"1\" class=\"dataframe\">\n",
       "  <thead>\n",
       "    <tr style=\"text-align: right;\">\n",
       "      <th></th>\n",
       "      <th>count</th>\n",
       "    </tr>\n",
       "    <tr>\n",
       "      <th>releaseDate</th>\n",
       "      <th></th>\n",
       "    </tr>\n",
       "  </thead>\n",
       "  <tbody>\n",
       "    <tr>\n",
       "      <th>2018</th>\n",
       "      <td>45</td>\n",
       "    </tr>\n",
       "    <tr>\n",
       "      <th>2019</th>\n",
       "      <td>31</td>\n",
       "    </tr>\n",
       "    <tr>\n",
       "      <th>2020</th>\n",
       "      <td>41</td>\n",
       "    </tr>\n",
       "    <tr>\n",
       "      <th>2021</th>\n",
       "      <td>78</td>\n",
       "    </tr>\n",
       "    <tr>\n",
       "      <th>2022</th>\n",
       "      <td>46</td>\n",
       "    </tr>\n",
       "  </tbody>\n",
       "</table>\n",
       "</div>"
      ],
      "text/plain": [
       "             count\n",
       "releaseDate       \n",
       "2018            45\n",
       "2019            31\n",
       "2020            41\n",
       "2021            78\n",
       "2022            46"
      ]
     },
     "execution_count": 120,
     "metadata": {},
     "output_type": "execute_result"
    }
   ],
   "source": [
    "temp = games.groupby(games['releaseDate'].dt.year)[['idGame']].count().tail()\n",
    "temp.index = temp.index.astype(int)\n",
    "temp.rename(columns= {'idGame': 'count'}, inplace=True)\n",
    "temp"
   ]
  },
  {
   "cell_type": "code",
   "execution_count": 131,
   "id": "19408b0e",
   "metadata": {
    "ExecuteTime": {
     "end_time": "2022-07-14T18:57:10.704311Z",
     "start_time": "2022-07-14T18:57:10.569076Z"
    },
    "scrolled": true
   },
   "outputs": [
    {
     "data": {
      "text/plain": [
       "Text(0.5, 1.0, 'Videogiochi usciti negli ultimi 5 anni presenti su steamDB')"
      ]
     },
     "execution_count": 131,
     "metadata": {},
     "output_type": "execute_result"
    },
    {
     "data": {
      "image/png": "[encoded data removed]",
      "text/plain": [
       "<Figure size 432x288 with 1 Axes>"
      ]
     },
     "metadata": {
      "needs_background": "light"
     },
     "output_type": "display_data"
    }
   ],
   "source": [
    "fig,ax = plt.subplots()\n",
    "rects = ax.bar(range(len(temp['count'])), temp['count'], color='crimson')\n",
    "ax.set_xticks([ind for ind in inds])\n",
    "ax.set_xticklabels(temp.index)\n",
    "ax.set_ylabel('Num. games')\n",
    "ax.set_title('Videogiochi usciti negli ultimi 5 anni presenti su steamDB')"
   ]
  },
  {
   "cell_type": "markdown",
   "id": "343c431b",
   "metadata": {},
   "source": [
    "### Oldest and newest games"
   ]
  },
  {
   "cell_type": "code",
   "execution_count": 110,
   "id": "e5e50934",
   "metadata": {
    "ExecuteTime": {
     "end_time": "2022-07-14T15:59:15.351666Z",
     "start_time": "2022-07-14T15:59:15.333610Z"
    }
   },
   "outputs": [
    {
     "data": {
      "text/html": [
       "<div>\n",
       "<style scoped>\n",
       "    .dataframe tbody tr th:only-of-type {\n",
       "        vertical-align: middle;\n",
       "    }\n",
       "\n",
       "    .dataframe tbody tr th {\n",
       "        vertical-align: top;\n",
       "    }\n",
       "\n",
       "    .dataframe thead th {\n",
       "        text-align: right;\n",
       "    }\n",
       "</style>\n",
       "<table border=\"1\" class=\"dataframe\">\n",
       "  <thead>\n",
       "    <tr style=\"text-align: right;\">\n",
       "      <th></th>\n",
       "      <th>idGame</th>\n",
       "      <th>gameName</th>\n",
       "      <th>steamName</th>\n",
       "      <th>developer</th>\n",
       "      <th>publisher</th>\n",
       "      <th>releaseDate</th>\n",
       "      <th>categories</th>\n",
       "    </tr>\n",
       "  </thead>\n",
       "  <tbody>\n",
       "    <tr>\n",
       "      <th>381</th>\n",
       "      <td>381</td>\n",
       "      <td>The Curse of Monkey Island</td>\n",
       "      <td>The Curse of Monkey Island</td>\n",
       "      <td>LucasArts</td>\n",
       "      <td>NaN</td>\n",
       "      <td>1997-10-31</td>\n",
       "      <td>\"1990s\"; Point &amp; Click; Cult Classic; Adventur...</td>\n",
       "    </tr>\n",
       "  </tbody>\n",
       "</table>\n",
       "</div>"
      ],
      "text/plain": [
       "     idGame                    gameName                   steamName  \\\n",
       "381     381  The Curse of Monkey Island  The Curse of Monkey Island   \n",
       "\n",
       "     developer publisher releaseDate  \\\n",
       "381  LucasArts       NaN  1997-10-31   \n",
       "\n",
       "                                            categories  \n",
       "381  \"1990s\"; Point & Click; Cult Classic; Adventur...  "
      ]
     },
     "execution_count": 110,
     "metadata": {},
     "output_type": "execute_result"
    }
   ],
   "source": [
    "games[games['releaseDate']==games['releaseDate'].min() ]"
   ]
  },
  {
   "cell_type": "code",
   "execution_count": 111,
   "id": "6ecaa3c6",
   "metadata": {
    "ExecuteTime": {
     "end_time": "2022-07-14T15:59:15.462952Z",
     "start_time": "2022-07-14T15:59:15.438714Z"
    }
   },
   "outputs": [
    {
     "data": {
      "text/html": [
       "<div>\n",
       "<style scoped>\n",
       "    .dataframe tbody tr th:only-of-type {\n",
       "        vertical-align: middle;\n",
       "    }\n",
       "\n",
       "    .dataframe tbody tr th {\n",
       "        vertical-align: top;\n",
       "    }\n",
       "\n",
       "    .dataframe thead th {\n",
       "        text-align: right;\n",
       "    }\n",
       "</style>\n",
       "<table border=\"1\" class=\"dataframe\">\n",
       "  <thead>\n",
       "    <tr style=\"text-align: right;\">\n",
       "      <th></th>\n",
       "      <th>idGame</th>\n",
       "      <th>gameName</th>\n",
       "      <th>steamName</th>\n",
       "      <th>developer</th>\n",
       "      <th>publisher</th>\n",
       "      <th>releaseDate</th>\n",
       "      <th>categories</th>\n",
       "    </tr>\n",
       "  </thead>\n",
       "  <tbody>\n",
       "    <tr>\n",
       "      <th>380</th>\n",
       "      <td>380</td>\n",
       "      <td>Card Shark</td>\n",
       "      <td>Card Shark</td>\n",
       "      <td>Nerial</td>\n",
       "      <td>Devolver Digital</td>\n",
       "      <td>2022-06-02</td>\n",
       "      <td>Indie; Stealth; Story Rich; Historical; Myster...</td>\n",
       "    </tr>\n",
       "  </tbody>\n",
       "</table>\n",
       "</div>"
      ],
      "text/plain": [
       "     idGame    gameName   steamName developer         publisher releaseDate  \\\n",
       "380     380  Card Shark  Card Shark    Nerial  Devolver Digital  2022-06-02   \n",
       "\n",
       "                                            categories  \n",
       "380  Indie; Stealth; Story Rich; Historical; Myster...  "
      ]
     },
     "execution_count": 111,
     "metadata": {},
     "output_type": "execute_result"
    }
   ],
   "source": [
    "games[games['releaseDate']==games['releaseDate'].max() ]"
   ]
  },
  {
   "cell_type": "markdown",
   "id": "a0ac89df",
   "metadata": {},
   "source": [
    "### Latest games"
   ]
  },
  {
   "cell_type": "code",
   "execution_count": 112,
   "id": "05752256",
   "metadata": {
    "ExecuteTime": {
     "end_time": "2022-07-14T15:59:15.991678Z",
     "start_time": "2022-07-14T15:59:15.972215Z"
    }
   },
   "outputs": [
    {
     "data": {
      "text/plain": [
       "11"
      ]
     },
     "execution_count": 112,
     "metadata": {},
     "output_type": "execute_result"
    }
   ],
   "source": [
    "games_contemp= games[(games['releaseDate']>='2022-05-05') & (games['releaseDate']<='2022-05-19') ] #periodo di acquisizione dati da Twitch\n",
    "games_contemp.shape[0]"
   ]
  },
  {
   "cell_type": "code",
   "execution_count": 113,
   "id": "0ff2638e",
   "metadata": {
    "ExecuteTime": {
     "end_time": "2022-07-14T15:59:16.715857Z",
     "start_time": "2022-07-14T15:59:16.700709Z"
    }
   },
   "outputs": [
    {
     "data": {
      "text/html": [
       "<div>\n",
       "<style scoped>\n",
       "    .dataframe tbody tr th:only-of-type {\n",
       "        vertical-align: middle;\n",
       "    }\n",
       "\n",
       "    .dataframe tbody tr th {\n",
       "        vertical-align: top;\n",
       "    }\n",
       "\n",
       "    .dataframe thead th {\n",
       "        text-align: right;\n",
       "    }\n",
       "</style>\n",
       "<table border=\"1\" class=\"dataframe\">\n",
       "  <thead>\n",
       "    <tr style=\"text-align: right;\">\n",
       "      <th></th>\n",
       "      <th>idGame</th>\n",
       "      <th>gameName</th>\n",
       "      <th>steamName</th>\n",
       "      <th>developer</th>\n",
       "      <th>publisher</th>\n",
       "      <th>releaseDate</th>\n",
       "      <th>categories</th>\n",
       "    </tr>\n",
       "  </thead>\n",
       "  <tbody>\n",
       "    <tr>\n",
       "      <th>137</th>\n",
       "      <td>137</td>\n",
       "      <td>Source of Madness</td>\n",
       "      <td>Source of Madness</td>\n",
       "      <td>Carry Castle</td>\n",
       "      <td>Thunderful Publishing</td>\n",
       "      <td>2022-05-11</td>\n",
       "      <td>Rogue-lite; Lovecraftian; Action; Action RPG; ...</td>\n",
       "    </tr>\n",
       "    <tr>\n",
       "      <th>146</th>\n",
       "      <td>146</td>\n",
       "      <td>Eiyuden Chronicle: Rising</td>\n",
       "      <td>Eiyuden Chronicle: Rising</td>\n",
       "      <td>NatsumeAtari</td>\n",
       "      <td>505 Games</td>\n",
       "      <td>2022-05-10</td>\n",
       "      <td>Adventure; RPG; Action RPG; Action-Adventure; ...</td>\n",
       "    </tr>\n",
       "    <tr>\n",
       "      <th>297</th>\n",
       "      <td>297</td>\n",
       "      <td>Brigandine: The Legend of Runersia</td>\n",
       "      <td>Brigandine The Legend of Runersia</td>\n",
       "      <td>Happinet</td>\n",
       "      <td>NaN</td>\n",
       "      <td>2022-05-10</td>\n",
       "      <td>Strategy; Turn-Based Strategy; Turn-Based Tact...</td>\n",
       "    </tr>\n",
       "    <tr>\n",
       "      <th>473</th>\n",
       "      <td>473</td>\n",
       "      <td>V Rising</td>\n",
       "      <td>V Rising</td>\n",
       "      <td>Stunlock Studios</td>\n",
       "      <td>NaN</td>\n",
       "      <td>2022-05-17</td>\n",
       "      <td>Survival; Open World; Vampire; Crafting; PvP; PvE</td>\n",
       "    </tr>\n",
       "    <tr>\n",
       "      <th>603</th>\n",
       "      <td>603</td>\n",
       "      <td>Warhammer 40,000: Chaos Gate - Daemonhunters</td>\n",
       "      <td>Warhammer 40,000: Chaos Gate - Daemonhunters</td>\n",
       "      <td>Complex Games</td>\n",
       "      <td>Frontier Foundry</td>\n",
       "      <td>2022-05-05</td>\n",
       "      <td>Warhammer 40K; Turn-Based Strategy; Strategy R...</td>\n",
       "    </tr>\n",
       "    <tr>\n",
       "      <th>720</th>\n",
       "      <td>720</td>\n",
       "      <td>Arma Reforger</td>\n",
       "      <td>Arma Reforger</td>\n",
       "      <td>Bohemia Interactive</td>\n",
       "      <td>NaN</td>\n",
       "      <td>2022-05-17</td>\n",
       "      <td>Action; Simulation; Strategy; Shooter; Sandbox...</td>\n",
       "    </tr>\n",
       "    <tr>\n",
       "      <th>753</th>\n",
       "      <td>753</td>\n",
       "      <td>Ultimate Epic Battle Simulator 2</td>\n",
       "      <td>Ultimate Epic Battle Simulator 2</td>\n",
       "      <td>Brilliant Game Studios</td>\n",
       "      <td>NaN</td>\n",
       "      <td>2022-05-12</td>\n",
       "      <td>Simulation; Action; Strategy; God Game; Sandbo...</td>\n",
       "    </tr>\n",
       "    <tr>\n",
       "      <th>820</th>\n",
       "      <td>820</td>\n",
       "      <td>Citizen Sleeper</td>\n",
       "      <td>Citizen Sleeper</td>\n",
       "      <td>Jump Over The Age</td>\n",
       "      <td>Fellow Traveller</td>\n",
       "      <td>2022-05-05</td>\n",
       "      <td>RPG; Cyberpunk; Choices Matter; Tabletop; Expl...</td>\n",
       "    </tr>\n",
       "    <tr>\n",
       "      <th>834</th>\n",
       "      <td>834</td>\n",
       "      <td>We Were Here Forever</td>\n",
       "      <td>We Were Here Forever</td>\n",
       "      <td>Total Mayhem Games</td>\n",
       "      <td>NaN</td>\n",
       "      <td>2022-05-10</td>\n",
       "      <td>Exploration; Puzzle; Online Co-Op; Escape Room...</td>\n",
       "    </tr>\n",
       "    <tr>\n",
       "      <th>1007</th>\n",
       "      <td>1007</td>\n",
       "      <td>Little Witch in the Woods</td>\n",
       "      <td>Little Witch in the Woods</td>\n",
       "      <td>SUNNY SIDE UP</td>\n",
       "      <td>NaN</td>\n",
       "      <td>2022-05-16</td>\n",
       "      <td>Cute; Pixel Graphics; Funny; RPG; Magic; Relaxing</td>\n",
       "    </tr>\n",
       "    <tr>\n",
       "      <th>1039</th>\n",
       "      <td>1039</td>\n",
       "      <td>Songs of Conquest</td>\n",
       "      <td>Songs of Conquest</td>\n",
       "      <td>Lavapotion</td>\n",
       "      <td>Coffee Stain Publishing</td>\n",
       "      <td>2022-05-10</td>\n",
       "      <td>Adventure; Strategy; Turn-Based Strategy; Turn...</td>\n",
       "    </tr>\n",
       "  </tbody>\n",
       "</table>\n",
       "</div>"
      ],
      "text/plain": [
       "      idGame                                      gameName  \\\n",
       "137      137                             Source of Madness   \n",
       "146      146                     Eiyuden Chronicle: Rising   \n",
       "297      297            Brigandine: The Legend of Runersia   \n",
       "473      473                                      V Rising   \n",
       "603      603  Warhammer 40,000: Chaos Gate - Daemonhunters   \n",
       "720      720                                 Arma Reforger   \n",
       "753      753              Ultimate Epic Battle Simulator 2   \n",
       "820      820                               Citizen Sleeper   \n",
       "834      834                          We Were Here Forever   \n",
       "1007    1007                     Little Witch in the Woods   \n",
       "1039    1039                             Songs of Conquest   \n",
       "\n",
       "                                         steamName               developer  \\\n",
       "137                              Source of Madness            Carry Castle   \n",
       "146                      Eiyuden Chronicle: Rising            NatsumeAtari   \n",
       "297              Brigandine The Legend of Runersia                Happinet   \n",
       "473                                       V Rising        Stunlock Studios   \n",
       "603   Warhammer 40,000: Chaos Gate - Daemonhunters           Complex Games   \n",
       "720                                  Arma Reforger     Bohemia Interactive   \n",
       "753               Ultimate Epic Battle Simulator 2  Brilliant Game Studios   \n",
       "820                                Citizen Sleeper       Jump Over The Age   \n",
       "834                           We Were Here Forever      Total Mayhem Games   \n",
       "1007                     Little Witch in the Woods           SUNNY SIDE UP   \n",
       "1039                             Songs of Conquest              Lavapotion   \n",
       "\n",
       "                    publisher releaseDate  \\\n",
       "137     Thunderful Publishing  2022-05-11   \n",
       "146                505 Games   2022-05-10   \n",
       "297                       NaN  2022-05-10   \n",
       "473                       NaN  2022-05-17   \n",
       "603          Frontier Foundry  2022-05-05   \n",
       "720                       NaN  2022-05-17   \n",
       "753                       NaN  2022-05-12   \n",
       "820          Fellow Traveller  2022-05-05   \n",
       "834                       NaN  2022-05-10   \n",
       "1007                      NaN  2022-05-16   \n",
       "1039  Coffee Stain Publishing  2022-05-10   \n",
       "\n",
       "                                             categories  \n",
       "137   Rogue-lite; Lovecraftian; Action; Action RPG; ...  \n",
       "146   Adventure; RPG; Action RPG; Action-Adventure; ...  \n",
       "297   Strategy; Turn-Based Strategy; Turn-Based Tact...  \n",
       "473   Survival; Open World; Vampire; Crafting; PvP; PvE  \n",
       "603   Warhammer 40K; Turn-Based Strategy; Strategy R...  \n",
       "720   Action; Simulation; Strategy; Shooter; Sandbox...  \n",
       "753   Simulation; Action; Strategy; God Game; Sandbo...  \n",
       "820   RPG; Cyberpunk; Choices Matter; Tabletop; Expl...  \n",
       "834   Exploration; Puzzle; Online Co-Op; Escape Room...  \n",
       "1007  Cute; Pixel Graphics; Funny; RPG; Magic; Relaxing  \n",
       "1039  Adventure; Strategy; Turn-Based Strategy; Turn...  "
      ]
     },
     "execution_count": 113,
     "metadata": {},
     "output_type": "execute_result"
    }
   ],
   "source": [
    "games_contemp"
   ]
  },
  {
   "cell_type": "code",
   "execution_count": 114,
   "id": "c1369fdd",
   "metadata": {
    "ExecuteTime": {
     "end_time": "2022-07-14T15:59:17.213778Z",
     "start_time": "2022-07-14T15:59:17.190739Z"
    }
   },
   "outputs": [
    {
     "data": {
      "text/html": [
       "<div>\n",
       "<style scoped>\n",
       "    .dataframe tbody tr th:only-of-type {\n",
       "        vertical-align: middle;\n",
       "    }\n",
       "\n",
       "    .dataframe tbody tr th {\n",
       "        vertical-align: top;\n",
       "    }\n",
       "\n",
       "    .dataframe thead th {\n",
       "        text-align: right;\n",
       "    }\n",
       "</style>\n",
       "<table border=\"1\" class=\"dataframe\">\n",
       "  <thead>\n",
       "    <tr style=\"text-align: right;\">\n",
       "      <th></th>\n",
       "      <th>gameName</th>\n",
       "      <th>categories</th>\n",
       "    </tr>\n",
       "  </thead>\n",
       "  <tbody>\n",
       "    <tr>\n",
       "      <th>137</th>\n",
       "      <td>Source of Madness</td>\n",
       "      <td>Rogue-lite; Lovecraftian; Action; Action RPG; ...</td>\n",
       "    </tr>\n",
       "    <tr>\n",
       "      <th>146</th>\n",
       "      <td>Eiyuden Chronicle: Rising</td>\n",
       "      <td>Adventure; RPG; Action RPG; Action-Adventure; ...</td>\n",
       "    </tr>\n",
       "    <tr>\n",
       "      <th>297</th>\n",
       "      <td>Brigandine: The Legend of Runersia</td>\n",
       "      <td>Strategy; Turn-Based Strategy; Turn-Based Tact...</td>\n",
       "    </tr>\n",
       "    <tr>\n",
       "      <th>473</th>\n",
       "      <td>V Rising</td>\n",
       "      <td>Survival; Open World; Vampire; Crafting; PvP; PvE</td>\n",
       "    </tr>\n",
       "    <tr>\n",
       "      <th>603</th>\n",
       "      <td>Warhammer 40,000: Chaos Gate - Daemonhunters</td>\n",
       "      <td>Warhammer 40K; Turn-Based Strategy; Strategy R...</td>\n",
       "    </tr>\n",
       "    <tr>\n",
       "      <th>720</th>\n",
       "      <td>Arma Reforger</td>\n",
       "      <td>Action; Simulation; Strategy; Shooter; Sandbox...</td>\n",
       "    </tr>\n",
       "    <tr>\n",
       "      <th>753</th>\n",
       "      <td>Ultimate Epic Battle Simulator 2</td>\n",
       "      <td>Simulation; Action; Strategy; God Game; Sandbo...</td>\n",
       "    </tr>\n",
       "    <tr>\n",
       "      <th>820</th>\n",
       "      <td>Citizen Sleeper</td>\n",
       "      <td>RPG; Cyberpunk; Choices Matter; Tabletop; Expl...</td>\n",
       "    </tr>\n",
       "    <tr>\n",
       "      <th>834</th>\n",
       "      <td>We Were Here Forever</td>\n",
       "      <td>Exploration; Puzzle; Online Co-Op; Escape Room...</td>\n",
       "    </tr>\n",
       "    <tr>\n",
       "      <th>1007</th>\n",
       "      <td>Little Witch in the Woods</td>\n",
       "      <td>Cute; Pixel Graphics; Funny; RPG; Magic; Relaxing</td>\n",
       "    </tr>\n",
       "    <tr>\n",
       "      <th>1039</th>\n",
       "      <td>Songs of Conquest</td>\n",
       "      <td>Adventure; Strategy; Turn-Based Strategy; Turn...</td>\n",
       "    </tr>\n",
       "  </tbody>\n",
       "</table>\n",
       "</div>"
      ],
      "text/plain": [
       "                                          gameName  \\\n",
       "137                              Source of Madness   \n",
       "146                      Eiyuden Chronicle: Rising   \n",
       "297             Brigandine: The Legend of Runersia   \n",
       "473                                       V Rising   \n",
       "603   Warhammer 40,000: Chaos Gate - Daemonhunters   \n",
       "720                                  Arma Reforger   \n",
       "753               Ultimate Epic Battle Simulator 2   \n",
       "820                                Citizen Sleeper   \n",
       "834                           We Were Here Forever   \n",
       "1007                     Little Witch in the Woods   \n",
       "1039                             Songs of Conquest   \n",
       "\n",
       "                                             categories  \n",
       "137   Rogue-lite; Lovecraftian; Action; Action RPG; ...  \n",
       "146   Adventure; RPG; Action RPG; Action-Adventure; ...  \n",
       "297   Strategy; Turn-Based Strategy; Turn-Based Tact...  \n",
       "473   Survival; Open World; Vampire; Crafting; PvP; PvE  \n",
       "603   Warhammer 40K; Turn-Based Strategy; Strategy R...  \n",
       "720   Action; Simulation; Strategy; Shooter; Sandbox...  \n",
       "753   Simulation; Action; Strategy; God Game; Sandbo...  \n",
       "820   RPG; Cyberpunk; Choices Matter; Tabletop; Expl...  \n",
       "834   Exploration; Puzzle; Online Co-Op; Escape Room...  \n",
       "1007  Cute; Pixel Graphics; Funny; RPG; Magic; Relaxing  \n",
       "1039  Adventure; Strategy; Turn-Based Strategy; Turn...  "
      ]
     },
     "execution_count": 114,
     "metadata": {},
     "output_type": "execute_result"
    }
   ],
   "source": [
    "games_contemp[['gameName',  'categories']]"
   ]
  },
  {
   "cell_type": "markdown",
   "id": "f012c7c5",
   "metadata": {},
   "source": [
    "### Biggest developer"
   ]
  },
  {
   "cell_type": "code",
   "execution_count": 115,
   "id": "19bc1fa7",
   "metadata": {
    "ExecuteTime": {
     "end_time": "2022-07-14T15:59:17.908698Z",
     "start_time": "2022-07-14T15:59:17.885041Z"
    }
   },
   "outputs": [
    {
     "data": {
      "text/html": [
       "<div>\n",
       "<style scoped>\n",
       "    .dataframe tbody tr th:only-of-type {\n",
       "        vertical-align: middle;\n",
       "    }\n",
       "\n",
       "    .dataframe tbody tr th {\n",
       "        vertical-align: top;\n",
       "    }\n",
       "\n",
       "    .dataframe thead th {\n",
       "        text-align: right;\n",
       "    }\n",
       "</style>\n",
       "<table border=\"1\" class=\"dataframe\">\n",
       "  <thead>\n",
       "    <tr style=\"text-align: right;\">\n",
       "      <th></th>\n",
       "      <th>developer</th>\n",
       "    </tr>\n",
       "  </thead>\n",
       "  <tbody>\n",
       "    <tr>\n",
       "      <th>CAPCOM Co., Ltd.</th>\n",
       "      <td>14</td>\n",
       "    </tr>\n",
       "    <tr>\n",
       "      <th>Square Enix</th>\n",
       "      <td>12</td>\n",
       "    </tr>\n",
       "    <tr>\n",
       "      <th>Valve</th>\n",
       "      <td>8</td>\n",
       "    </tr>\n",
       "    <tr>\n",
       "      <th>Ubisoft Montreal</th>\n",
       "      <td>7</td>\n",
       "    </tr>\n",
       "    <tr>\n",
       "      <th>Arc System Works</th>\n",
       "      <td>6</td>\n",
       "    </tr>\n",
       "    <tr>\n",
       "      <th>Capcom</th>\n",
       "      <td>6</td>\n",
       "    </tr>\n",
       "    <tr>\n",
       "      <th>Infinity Ward</th>\n",
       "      <td>6</td>\n",
       "    </tr>\n",
       "    <tr>\n",
       "      <th>Rockstar Games</th>\n",
       "      <td>5</td>\n",
       "    </tr>\n",
       "    <tr>\n",
       "      <th>Konami Digital Entertainment</th>\n",
       "      <td>5</td>\n",
       "    </tr>\n",
       "    <tr>\n",
       "      <th>BANDAI NAMCO Studios Inc.</th>\n",
       "      <td>5</td>\n",
       "    </tr>\n",
       "  </tbody>\n",
       "</table>\n",
       "</div>"
      ],
      "text/plain": [
       "                              developer\n",
       "CAPCOM Co., Ltd.                     14\n",
       "Square Enix                          12\n",
       "Valve                                 8\n",
       "Ubisoft Montreal                      7\n",
       "Arc System Works                      6\n",
       "Capcom                                6\n",
       "Infinity Ward                         6\n",
       "Rockstar Games                        5\n",
       "Konami Digital Entertainment          5\n",
       "BANDAI NAMCO Studios Inc.             5"
      ]
     },
     "execution_count": 115,
     "metadata": {},
     "output_type": "execute_result"
    }
   ],
   "source": [
    "games['developer'].value_counts().to_frame().head(10)"
   ]
  }
 ],
 "metadata": {
  "kernelspec": {
   "display_name": "Python 3 (ipykernel)",
   "language": "python",
   "name": "python3"
  },
  "language_info": {
   "codemirror_mode": {
    "name": "ipython",
    "version": 3
   },
   "file_extension": ".py",
   "mimetype": "text/x-python",
   "name": "python",
   "nbconvert_exporter": "python",
   "pygments_lexer": "ipython3",
   "version": "3.9.7"
  },
  "toc": {
   "base_numbering": 1,
   "nav_menu": {},
   "number_sections": true,
   "sideBar": true,
   "skip_h1_title": true,
   "title_cell": "Table of Contents",
   "title_sidebar": "Contents",
   "toc_cell": false,
   "toc_position": {},
   "toc_section_display": true,
   "toc_window_display": true
  }
 },
 "nbformat": 4,
 "nbformat_minor": 5
}
