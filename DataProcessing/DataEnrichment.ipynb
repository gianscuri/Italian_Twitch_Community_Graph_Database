{
 "cells": [
  {
   "cell_type": "markdown",
   "id": "9b708008",
   "metadata": {},
   "source": [
    "# Info games enrichment"
   ]
  },
  {
   "cell_type": "markdown",
   "id": "37a77067",
   "metadata": {},
   "source": [
    "This script allows to enrich the `games_datasets` with games info from SteamDB"
   ]
  },
  {
   "cell_type": "markdown",
   "id": "c093368d",
   "metadata": {},
   "source": [
    "## PreProcessing"
   ]
  },
  {
   "cell_type": "code",
   "execution_count": 1,
   "id": "176387a4",
   "metadata": {
    "ExecuteTime": {
     "end_time": "2022-07-14T20:13:24.509846Z",
     "start_time": "2022-07-14T20:13:24.493845Z"
    }
   },
   "outputs": [],
   "source": [
    "#!pip install thefuzz\n",
    "#!pip install python-Levenshtein"
   ]
  },
  {
   "cell_type": "code",
   "execution_count": 2,
   "id": "9573496f",
   "metadata": {
    "ExecuteTime": {
     "end_time": "2022-07-14T20:13:25.414211Z",
     "start_time": "2022-07-14T20:13:24.515839Z"
    }
   },
   "outputs": [
    {
     "name": "stderr",
     "output_type": "stream",
     "text": [
      "C:\\ProgramData\\Anaconda3\\lib\\site-packages\\thefuzz\\fuzz.py:11: UserWarning: Using slow pure-python SequenceMatcher. Install python-Levenshtein to remove this warning\n",
      "  warnings.warn('Using slow pure-python SequenceMatcher. Install python-Levenshtein to remove this warning')\n"
     ]
    }
   ],
   "source": [
    "import pandas as pd\n",
    "import json\n",
    "import collections\n",
    "import re\n",
    "import numpy as np\n",
    "import requests\n",
    "from thefuzz import fuzz\n",
    "from thefuzz import process"
   ]
  },
  {
   "cell_type": "markdown",
   "id": "e7dafe90",
   "metadata": {},
   "source": [
    "### Import Twitch games"
   ]
  },
  {
   "cell_type": "code",
   "execution_count": 3,
   "id": "24e37697",
   "metadata": {
    "ExecuteTime": {
     "end_time": "2022-07-14T20:13:25.476298Z",
     "start_time": "2022-07-14T20:13:25.420211Z"
    }
   },
   "outputs": [
    {
     "data": {
      "text/html": [
       "<div>\n",
       "<style scoped>\n",
       "    .dataframe tbody tr th:only-of-type {\n",
       "        vertical-align: middle;\n",
       "    }\n",
       "\n",
       "    .dataframe tbody tr th {\n",
       "        vertical-align: top;\n",
       "    }\n",
       "\n",
       "    .dataframe thead th {\n",
       "        text-align: right;\n",
       "    }\n",
       "</style>\n",
       "<table border=\"1\" class=\"dataframe\">\n",
       "  <thead>\n",
       "    <tr style=\"text-align: right;\">\n",
       "      <th></th>\n",
       "      <th>game_name</th>\n",
       "    </tr>\n",
       "    <tr>\n",
       "      <th>ID_game</th>\n",
       "      <th></th>\n",
       "    </tr>\n",
       "  </thead>\n",
       "  <tbody>\n",
       "    <tr>\n",
       "      <th>0</th>\n",
       "      <td>Monster Hunter Generations Ultimate</td>\n",
       "    </tr>\n",
       "    <tr>\n",
       "      <th>1</th>\n",
       "      <td>Alice: Madness Returns</td>\n",
       "    </tr>\n",
       "    <tr>\n",
       "      <th>2</th>\n",
       "      <td>Hold Fast</td>\n",
       "    </tr>\n",
       "    <tr>\n",
       "      <th>3</th>\n",
       "      <td>Pokémon Trading Card Game Online</td>\n",
       "    </tr>\n",
       "    <tr>\n",
       "      <th>4</th>\n",
       "      <td>Witch It</td>\n",
       "    </tr>\n",
       "    <tr>\n",
       "      <th>...</th>\n",
       "      <td>...</td>\n",
       "    </tr>\n",
       "    <tr>\n",
       "      <th>1139</th>\n",
       "      <td>Rise of Nations: Extended Edition</td>\n",
       "    </tr>\n",
       "    <tr>\n",
       "      <th>1140</th>\n",
       "      <td>Paper Mario: The Origami King</td>\n",
       "    </tr>\n",
       "    <tr>\n",
       "      <th>1141</th>\n",
       "      <td>The Inheritance of Crimson Manor</td>\n",
       "    </tr>\n",
       "    <tr>\n",
       "      <th>1142</th>\n",
       "      <td>Occult</td>\n",
       "    </tr>\n",
       "    <tr>\n",
       "      <th>1143</th>\n",
       "      <td>Sign of Silence</td>\n",
       "    </tr>\n",
       "  </tbody>\n",
       "</table>\n",
       "<p>1144 rows × 1 columns</p>\n",
       "</div>"
      ],
      "text/plain": [
       "                                   game_name\n",
       "ID_game                                     \n",
       "0        Monster Hunter Generations Ultimate\n",
       "1                     Alice: Madness Returns\n",
       "2                                  Hold Fast\n",
       "3           Pokémon Trading Card Game Online\n",
       "4                                   Witch It\n",
       "...                                      ...\n",
       "1139       Rise of Nations: Extended Edition\n",
       "1140           Paper Mario: The Origami King\n",
       "1141        The Inheritance of Crimson Manor\n",
       "1142                                  Occult\n",
       "1143                         Sign of Silence\n",
       "\n",
       "[1144 rows x 1 columns]"
      ]
     },
     "execution_count": 3,
     "metadata": {},
     "output_type": "execute_result"
    }
   ],
   "source": [
    "games_tw = pd.read_csv('Output_datasets/Games_dataset_name.csv', index_col='ID_game')\n",
    "games_tw"
   ]
  },
  {
   "cell_type": "markdown",
   "id": "8898ab84",
   "metadata": {},
   "source": [
    "#### Clean strings"
   ]
  },
  {
   "cell_type": "markdown",
   "id": "08abb92a",
   "metadata": {},
   "source": [
    "Create dictionary with:\n",
    "\n",
    "    {'ID_game' : { \\\n",
    "         'twitch_name': ' ', \\\n",
    "         'twitch_clean': ' ', \\\n",
    "         'steam_name' : ' ', \\\n",
    "         'steam_clean' : ' ', \\\n",
    "         'match_score': ' '\\\n",
    "         }}\n",
    "         \n",
    "where `twitch_clean` and `steam_clean` are:\n",
    "\n",
    "    -strip\n",
    "    -lower\n",
    "    -alphanumeric + èòàìùüé\n",
    "    -remove multiple spaces\n",
    "    -remove all duplicates"
   ]
  },
  {
   "cell_type": "code",
   "execution_count": 4,
   "id": "985383d1",
   "metadata": {
    "ExecuteTime": {
     "end_time": "2022-07-14T20:13:25.556293Z",
     "start_time": "2022-07-14T20:13:25.481304Z"
    }
   },
   "outputs": [
    {
     "data": {
      "text/plain": [
       "1144"
      ]
     },
     "execution_count": 4,
     "metadata": {},
     "output_type": "execute_result"
    }
   ],
   "source": [
    "match_dict = {}\n",
    "clean = ''\n",
    "\n",
    "for i in range(len(games_tw)):\n",
    "    match_dict[i] = {}\n",
    "    match_dict[i]['twitch_name'] = games_tw.game_name[i]\n",
    "    clean = re.sub(r\"[^a-zA-Z0-9èòàìùüé ']\",'',games_tw.game_name[i]).lower().strip()\n",
    "    clean = re.sub('\\\\s+', ' ', clean)\n",
    "    match_dict[i]['twitch_clean'] = clean\n",
    "    match_dict[i]['steam_name'] = ''\n",
    "    match_dict[i]['steam_clean'] = ''\n",
    "    match_dict[i]['match_score'] = ''\n",
    "len(match_dict)"
   ]
  },
  {
   "cell_type": "code",
   "execution_count": 5,
   "id": "ce52cf3c",
   "metadata": {
    "ExecuteTime": {
     "end_time": "2022-07-14T20:13:25.588292Z",
     "start_time": "2022-07-14T20:13:25.559294Z"
    },
    "scrolled": true
   },
   "outputs": [
    {
     "data": {
      "text/html": [
       "<div>\n",
       "<style scoped>\n",
       "    .dataframe tbody tr th:only-of-type {\n",
       "        vertical-align: middle;\n",
       "    }\n",
       "\n",
       "    .dataframe tbody tr th {\n",
       "        vertical-align: top;\n",
       "    }\n",
       "\n",
       "    .dataframe thead th {\n",
       "        text-align: right;\n",
       "    }\n",
       "</style>\n",
       "<table border=\"1\" class=\"dataframe\">\n",
       "  <thead>\n",
       "    <tr style=\"text-align: right;\">\n",
       "      <th></th>\n",
       "      <th>twitch_name</th>\n",
       "      <th>twitch_clean</th>\n",
       "      <th>steam_name</th>\n",
       "      <th>steam_clean</th>\n",
       "      <th>match_score</th>\n",
       "    </tr>\n",
       "  </thead>\n",
       "  <tbody>\n",
       "    <tr>\n",
       "      <th>0</th>\n",
       "      <td>Monster Hunter Generations Ultimate</td>\n",
       "      <td>monster hunter generations ultimate</td>\n",
       "      <td></td>\n",
       "      <td></td>\n",
       "      <td></td>\n",
       "    </tr>\n",
       "    <tr>\n",
       "      <th>1</th>\n",
       "      <td>Alice: Madness Returns</td>\n",
       "      <td>alice madness returns</td>\n",
       "      <td></td>\n",
       "      <td></td>\n",
       "      <td></td>\n",
       "    </tr>\n",
       "    <tr>\n",
       "      <th>2</th>\n",
       "      <td>Hold Fast</td>\n",
       "      <td>hold fast</td>\n",
       "      <td></td>\n",
       "      <td></td>\n",
       "      <td></td>\n",
       "    </tr>\n",
       "    <tr>\n",
       "      <th>3</th>\n",
       "      <td>Pokémon Trading Card Game Online</td>\n",
       "      <td>pokémon trading card game online</td>\n",
       "      <td></td>\n",
       "      <td></td>\n",
       "      <td></td>\n",
       "    </tr>\n",
       "    <tr>\n",
       "      <th>4</th>\n",
       "      <td>Witch It</td>\n",
       "      <td>witch it</td>\n",
       "      <td></td>\n",
       "      <td></td>\n",
       "      <td></td>\n",
       "    </tr>\n",
       "    <tr>\n",
       "      <th>...</th>\n",
       "      <td>...</td>\n",
       "      <td>...</td>\n",
       "      <td>...</td>\n",
       "      <td>...</td>\n",
       "      <td>...</td>\n",
       "    </tr>\n",
       "    <tr>\n",
       "      <th>1139</th>\n",
       "      <td>Rise of Nations: Extended Edition</td>\n",
       "      <td>rise of nations extended edition</td>\n",
       "      <td></td>\n",
       "      <td></td>\n",
       "      <td></td>\n",
       "    </tr>\n",
       "    <tr>\n",
       "      <th>1140</th>\n",
       "      <td>Paper Mario: The Origami King</td>\n",
       "      <td>paper mario the origami king</td>\n",
       "      <td></td>\n",
       "      <td></td>\n",
       "      <td></td>\n",
       "    </tr>\n",
       "    <tr>\n",
       "      <th>1141</th>\n",
       "      <td>The Inheritance of Crimson Manor</td>\n",
       "      <td>the inheritance of crimson manor</td>\n",
       "      <td></td>\n",
       "      <td></td>\n",
       "      <td></td>\n",
       "    </tr>\n",
       "    <tr>\n",
       "      <th>1142</th>\n",
       "      <td>Occult</td>\n",
       "      <td>occult</td>\n",
       "      <td></td>\n",
       "      <td></td>\n",
       "      <td></td>\n",
       "    </tr>\n",
       "    <tr>\n",
       "      <th>1143</th>\n",
       "      <td>Sign of Silence</td>\n",
       "      <td>sign of silence</td>\n",
       "      <td></td>\n",
       "      <td></td>\n",
       "      <td></td>\n",
       "    </tr>\n",
       "  </tbody>\n",
       "</table>\n",
       "<p>1144 rows × 5 columns</p>\n",
       "</div>"
      ],
      "text/plain": [
       "                              twitch_name  \\\n",
       "0     Monster Hunter Generations Ultimate   \n",
       "1                  Alice: Madness Returns   \n",
       "2                               Hold Fast   \n",
       "3        Pokémon Trading Card Game Online   \n",
       "4                                Witch It   \n",
       "...                                   ...   \n",
       "1139    Rise of Nations: Extended Edition   \n",
       "1140        Paper Mario: The Origami King   \n",
       "1141     The Inheritance of Crimson Manor   \n",
       "1142                               Occult   \n",
       "1143                      Sign of Silence   \n",
       "\n",
       "                             twitch_clean steam_name steam_clean match_score  \n",
       "0     monster hunter generations ultimate                                     \n",
       "1                   alice madness returns                                     \n",
       "2                               hold fast                                     \n",
       "3        pokémon trading card game online                                     \n",
       "4                                witch it                                     \n",
       "...                                   ...        ...         ...         ...  \n",
       "1139     rise of nations extended edition                                     \n",
       "1140         paper mario the origami king                                     \n",
       "1141     the inheritance of crimson manor                                     \n",
       "1142                               occult                                     \n",
       "1143                      sign of silence                                     \n",
       "\n",
       "[1144 rows x 5 columns]"
      ]
     },
     "execution_count": 5,
     "metadata": {},
     "output_type": "execute_result"
    }
   ],
   "source": [
    "match_df = pd.DataFrame.from_dict(match_dict,orient='index')\n",
    "match_df"
   ]
  },
  {
   "cell_type": "markdown",
   "id": "c99c46ee",
   "metadata": {},
   "source": [
    "### Import Steam games"
   ]
  },
  {
   "cell_type": "markdown",
   "id": "7704da9f",
   "metadata": {},
   "source": [
    "Reading the data from the file"
   ]
  },
  {
   "cell_type": "code",
   "execution_count": 6,
   "id": "f5a31f13",
   "metadata": {
    "ExecuteTime": {
     "end_time": "2022-07-14T20:13:25.620325Z",
     "start_time": "2022-07-14T20:13:25.590292Z"
    }
   },
   "outputs": [],
   "source": [
    "with open('../DataCollection/Steam_games/steam_games.json', 'r') as f:\n",
    "    games = json.load(f)"
   ]
  },
  {
   "cell_type": "code",
   "execution_count": 7,
   "id": "85a95561",
   "metadata": {
    "ExecuteTime": {
     "end_time": "2022-07-14T20:13:25.636294Z",
     "start_time": "2022-07-14T20:13:25.622296Z"
    }
   },
   "outputs": [
    {
     "data": {
      "text/plain": [
       "dict_keys(['title', 'Developer', 'Publisher', 'Release Date', 'Last Update', '24h Player Peak', 'Followers', 'categories'])"
      ]
     },
     "execution_count": 7,
     "metadata": {},
     "output_type": "execute_result"
    }
   ],
   "source": [
    "games['1599340'].keys()"
   ]
  },
  {
   "cell_type": "markdown",
   "id": "26be2585",
   "metadata": {},
   "source": [
    "#### Remove duplicates"
   ]
  },
  {
   "cell_type": "code",
   "execution_count": 8,
   "id": "2d2bb883",
   "metadata": {
    "ExecuteTime": {
     "end_time": "2022-07-14T20:13:25.652385Z",
     "start_time": "2022-07-14T20:13:25.638290Z"
    },
    "scrolled": true
   },
   "outputs": [
    {
     "name": "stdout",
     "output_type": "stream",
     "text": [
      "3498\n",
      "3488\n"
     ]
    }
   ],
   "source": [
    "steam_games = []\n",
    "\n",
    "for keys in games:\n",
    "    steam_games.append(games[keys]['title'])\n",
    "print(len(steam_games))\n",
    "print(len(set(steam_games)))"
   ]
  },
  {
   "cell_type": "code",
   "execution_count": 9,
   "id": "8dd34bb1",
   "metadata": {
    "ExecuteTime": {
     "end_time": "2022-07-14T20:13:25.668384Z",
     "start_time": "2022-07-14T20:13:25.654415Z"
    }
   },
   "outputs": [
    {
     "data": {
      "text/plain": [
       "[\"Conqueror's Blade\",\n",
       " 'DEAD OR ALIVE Xtreme Venus Vacation',\n",
       " 'Fallout: New Vegas',\n",
       " 'Ironsight',\n",
       " 'Romance of the Three Kingdoms Hadou',\n",
       " 'Wolfenstein II: The New Colossus',\n",
       " 'Dishonored',\n",
       " 'Wolfenstein: The New Order',\n",
       " 'Anomaly Zone',\n",
       " 'GRID']"
      ]
     },
     "execution_count": 9,
     "metadata": {},
     "output_type": "execute_result"
    }
   ],
   "source": [
    "dupl_games =[item for item, count in collections.Counter(list(steam_games)).items() if count > 1]\n",
    "dupl_games"
   ]
  },
  {
   "cell_type": "code",
   "execution_count": 10,
   "id": "c78cb99f",
   "metadata": {
    "ExecuteTime": {
     "end_time": "2022-07-14T20:13:25.683417Z",
     "start_time": "2022-07-14T20:13:25.670388Z"
    },
    "scrolled": true
   },
   "outputs": [],
   "source": [
    "keys_dupl = []\n",
    "for elem in dupl_games:\n",
    "    for key in games:\n",
    "        if elem == games[key]['title']:\n",
    "            keys_dupl.append(key)"
   ]
  },
  {
   "cell_type": "markdown",
   "id": "5664a611",
   "metadata": {},
   "source": [
    "Elimino i 10 duplicati presenti nella lista steam_games: dovrò poi risalire alle informazioni del json per capire in caso di match quali informazioni associare al gioco"
   ]
  },
  {
   "cell_type": "code",
   "execution_count": 11,
   "id": "889a6fc1",
   "metadata": {
    "ExecuteTime": {
     "end_time": "2022-07-14T20:13:25.699423Z",
     "start_time": "2022-07-14T20:13:25.687389Z"
    }
   },
   "outputs": [],
   "source": [
    "steam_games = list(set(steam_games))"
   ]
  },
  {
   "cell_type": "markdown",
   "id": "49532f94",
   "metadata": {},
   "source": [
    "#### Clean strings"
   ]
  },
  {
   "cell_type": "markdown",
   "id": "567abaa0",
   "metadata": {},
   "source": [
    "steam_clean ottenuta con:\n",
    "\n",
    "    -strip\n",
    "    -lower\n",
    "    -alphanumeric + èòàìùüé\n",
    "    -remove multiple spaces\n",
    "    -remove all duplicates"
   ]
  },
  {
   "cell_type": "code",
   "execution_count": 12,
   "id": "ffde76f9",
   "metadata": {
    "ExecuteTime": {
     "end_time": "2022-07-14T20:13:25.731385Z",
     "start_time": "2022-07-14T20:13:25.701392Z"
    }
   },
   "outputs": [
    {
     "data": {
      "text/plain": [
       "3488"
      ]
     },
     "execution_count": 12,
     "metadata": {},
     "output_type": "execute_result"
    }
   ],
   "source": [
    "steam_dict = {}\n",
    "\n",
    "for i in range(len(steam_games)):\n",
    "    steam_dict[i] = {}\n",
    "    steam_dict[i]['steam_name'] = steam_games[i]\n",
    "    clean = re.sub(r\"[^a-zA-Z0-9èòàìùüé ']\",'',steam_games[i]).lower().strip()\n",
    "    clean = re.sub('\\\\s+', ' ', clean)\n",
    "    steam_dict[i]['steam_clean'] = clean\n",
    "len(steam_dict)"
   ]
  },
  {
   "cell_type": "code",
   "execution_count": 13,
   "id": "f3c74641",
   "metadata": {
    "ExecuteTime": {
     "end_time": "2022-07-14T20:13:25.747385Z",
     "start_time": "2022-07-14T20:13:25.732419Z"
    }
   },
   "outputs": [
    {
     "data": {
      "text/html": [
       "<div>\n",
       "<style scoped>\n",
       "    .dataframe tbody tr th:only-of-type {\n",
       "        vertical-align: middle;\n",
       "    }\n",
       "\n",
       "    .dataframe tbody tr th {\n",
       "        vertical-align: top;\n",
       "    }\n",
       "\n",
       "    .dataframe thead th {\n",
       "        text-align: right;\n",
       "    }\n",
       "</style>\n",
       "<table border=\"1\" class=\"dataframe\">\n",
       "  <thead>\n",
       "    <tr style=\"text-align: right;\">\n",
       "      <th></th>\n",
       "      <th>steam_name</th>\n",
       "      <th>steam_clean</th>\n",
       "    </tr>\n",
       "  </thead>\n",
       "  <tbody>\n",
       "    <tr>\n",
       "      <th>0</th>\n",
       "      <td>MONOPOLY® PLUS</td>\n",
       "      <td>monopoly plus</td>\n",
       "    </tr>\n",
       "    <tr>\n",
       "      <th>1</th>\n",
       "      <td>The Stanley Parable</td>\n",
       "      <td>the stanley parable</td>\n",
       "    </tr>\n",
       "    <tr>\n",
       "      <th>2</th>\n",
       "      <td>Bejeweled® 3</td>\n",
       "      <td>bejeweled 3</td>\n",
       "    </tr>\n",
       "    <tr>\n",
       "      <th>3</th>\n",
       "      <td>Ghostwire: Tokyo</td>\n",
       "      <td>ghostwire tokyo</td>\n",
       "    </tr>\n",
       "    <tr>\n",
       "      <th>4</th>\n",
       "      <td>Empire of the Gods</td>\n",
       "      <td>empire of the gods</td>\n",
       "    </tr>\n",
       "  </tbody>\n",
       "</table>\n",
       "</div>"
      ],
      "text/plain": [
       "            steam_name          steam_clean\n",
       "0       MONOPOLY® PLUS        monopoly plus\n",
       "1  The Stanley Parable  the stanley parable\n",
       "2         Bejeweled® 3          bejeweled 3\n",
       "3     Ghostwire: Tokyo      ghostwire tokyo\n",
       "4   Empire of the Gods   empire of the gods"
      ]
     },
     "execution_count": 13,
     "metadata": {},
     "output_type": "execute_result"
    }
   ],
   "source": [
    "steam_df = pd.DataFrame.from_dict(steam_dict,orient='index')\n",
    "steam_df.head()"
   ]
  },
  {
   "cell_type": "code",
   "execution_count": 14,
   "id": "9477f2f6",
   "metadata": {
    "ExecuteTime": {
     "end_time": "2022-07-14T20:13:25.763385Z",
     "start_time": "2022-07-14T20:13:25.749389Z"
    },
    "scrolled": true
   },
   "outputs": [
    {
     "data": {
      "text/html": [
       "<div>\n",
       "<style scoped>\n",
       "    .dataframe tbody tr th:only-of-type {\n",
       "        vertical-align: middle;\n",
       "    }\n",
       "\n",
       "    .dataframe tbody tr th {\n",
       "        vertical-align: top;\n",
       "    }\n",
       "\n",
       "    .dataframe thead th {\n",
       "        text-align: right;\n",
       "    }\n",
       "</style>\n",
       "<table border=\"1\" class=\"dataframe\">\n",
       "  <thead>\n",
       "    <tr style=\"text-align: right;\">\n",
       "      <th></th>\n",
       "      <th>steam_name</th>\n",
       "      <th>steam_clean</th>\n",
       "    </tr>\n",
       "  </thead>\n",
       "  <tbody>\n",
       "    <tr>\n",
       "      <th>512</th>\n",
       "      <td>大千世界</td>\n",
       "      <td></td>\n",
       "    </tr>\n",
       "    <tr>\n",
       "      <th>721</th>\n",
       "      <td>魔物讨伐团</td>\n",
       "      <td></td>\n",
       "    </tr>\n",
       "    <tr>\n",
       "      <th>724</th>\n",
       "      <td>太荒初境（试玩版）</td>\n",
       "      <td></td>\n",
       "    </tr>\n",
       "    <tr>\n",
       "      <th>820</th>\n",
       "      <td>飞火动态壁纸</td>\n",
       "      <td></td>\n",
       "    </tr>\n",
       "    <tr>\n",
       "      <th>1117</th>\n",
       "      <td>英雄黄昏-文字版三国志</td>\n",
       "      <td></td>\n",
       "    </tr>\n",
       "    <tr>\n",
       "      <th>1180</th>\n",
       "      <td>小黑盒加速器</td>\n",
       "      <td></td>\n",
       "    </tr>\n",
       "    <tr>\n",
       "      <th>2065</th>\n",
       "      <td>星云纪</td>\n",
       "      <td></td>\n",
       "    </tr>\n",
       "    <tr>\n",
       "      <th>2395</th>\n",
       "      <td>真探</td>\n",
       "      <td></td>\n",
       "    </tr>\n",
       "    <tr>\n",
       "      <th>2666</th>\n",
       "      <td>軒轅劍參外傳 天之痕</td>\n",
       "      <td></td>\n",
       "    </tr>\n",
       "    <tr>\n",
       "      <th>3125</th>\n",
       "      <td>春秋</td>\n",
       "      <td></td>\n",
       "    </tr>\n",
       "    <tr>\n",
       "      <th>3243</th>\n",
       "      <td>觅长生</td>\n",
       "      <td></td>\n",
       "    </tr>\n",
       "    <tr>\n",
       "      <th>3267</th>\n",
       "      <td>龙魂大冒险</td>\n",
       "      <td></td>\n",
       "    </tr>\n",
       "    <tr>\n",
       "      <th>3312</th>\n",
       "      <td>枝江往事</td>\n",
       "      <td></td>\n",
       "    </tr>\n",
       "    <tr>\n",
       "      <th>3390</th>\n",
       "      <td>仙剑奇侠传九野</td>\n",
       "      <td></td>\n",
       "    </tr>\n",
       "  </tbody>\n",
       "</table>\n",
       "</div>"
      ],
      "text/plain": [
       "       steam_name steam_clean\n",
       "512          大千世界            \n",
       "721         魔物讨伐团            \n",
       "724     太荒初境（试玩版）            \n",
       "820        飞火动态壁纸            \n",
       "1117  英雄黄昏-文字版三国志            \n",
       "1180       小黑盒加速器            \n",
       "2065          星云纪            \n",
       "2395           真探            \n",
       "2666   軒轅劍參外傳 天之痕            \n",
       "3125           春秋            \n",
       "3243          觅长生            \n",
       "3267        龙魂大冒险            \n",
       "3312         枝江往事            \n",
       "3390      仙剑奇侠传九野            "
      ]
     },
     "execution_count": 14,
     "metadata": {},
     "output_type": "execute_result"
    }
   ],
   "source": [
    "steam_df[steam_df.steam_clean == '']"
   ]
  },
  {
   "cell_type": "markdown",
   "id": "61e93e6f",
   "metadata": {},
   "source": [
    "Rimuovo queste 14 righe"
   ]
  },
  {
   "cell_type": "code",
   "execution_count": 15,
   "id": "4a471764",
   "metadata": {
    "ExecuteTime": {
     "end_time": "2022-07-14T20:13:25.779415Z",
     "start_time": "2022-07-14T20:13:25.764388Z"
    }
   },
   "outputs": [
    {
     "data": {
      "text/plain": [
       "3474"
      ]
     },
     "execution_count": 15,
     "metadata": {},
     "output_type": "execute_result"
    }
   ],
   "source": [
    "steam_df = steam_df[steam_df.steam_clean != '']\n",
    "len(steam_df)"
   ]
  },
  {
   "cell_type": "markdown",
   "id": "dea29637",
   "metadata": {},
   "source": [
    "## Matching"
   ]
  },
  {
   "cell_type": "markdown",
   "id": "b77c30e8",
   "metadata": {},
   "source": [
    "### Perfect match between strings"
   ]
  },
  {
   "cell_type": "markdown",
   "id": "b75505ad",
   "metadata": {},
   "source": [
    "This obtain a score of 100"
   ]
  },
  {
   "cell_type": "code",
   "execution_count": 16,
   "id": "31c7c681",
   "metadata": {
    "ExecuteTime": {
     "end_time": "2022-07-14T20:13:25.795417Z",
     "start_time": "2022-07-14T20:13:25.781387Z"
    },
    "scrolled": false
   },
   "outputs": [
    {
     "data": {
      "text/plain": [
       "318"
      ]
     },
     "execution_count": 16,
     "metadata": {},
     "output_type": "execute_result"
    }
   ],
   "source": [
    "len(list(set(match_df.twitch_name) & set(steam_df.steam_name)))"
   ]
  },
  {
   "cell_type": "markdown",
   "id": "76c17e8d",
   "metadata": {},
   "source": [
    "Aggiorno il dataframe inserendo i 318 match perfetti"
   ]
  },
  {
   "cell_type": "code",
   "execution_count": 17,
   "id": "ed4c5396",
   "metadata": {
    "ExecuteTime": {
     "end_time": "2022-07-14T20:13:26.226585Z",
     "start_time": "2022-07-14T20:13:25.802415Z"
    },
    "scrolled": true
   },
   "outputs": [
    {
     "data": {
      "text/html": [
       "<div>\n",
       "<style scoped>\n",
       "    .dataframe tbody tr th:only-of-type {\n",
       "        vertical-align: middle;\n",
       "    }\n",
       "\n",
       "    .dataframe tbody tr th {\n",
       "        vertical-align: top;\n",
       "    }\n",
       "\n",
       "    .dataframe thead th {\n",
       "        text-align: right;\n",
       "    }\n",
       "</style>\n",
       "<table border=\"1\" class=\"dataframe\">\n",
       "  <thead>\n",
       "    <tr style=\"text-align: right;\">\n",
       "      <th></th>\n",
       "      <th>twitch_name</th>\n",
       "      <th>twitch_clean</th>\n",
       "      <th>steam_name</th>\n",
       "      <th>steam_clean</th>\n",
       "      <th>match_score</th>\n",
       "    </tr>\n",
       "  </thead>\n",
       "  <tbody>\n",
       "    <tr>\n",
       "      <th>0</th>\n",
       "      <td>Monster Hunter Generations Ultimate</td>\n",
       "      <td>monster hunter generations ultimate</td>\n",
       "      <td></td>\n",
       "      <td></td>\n",
       "      <td></td>\n",
       "    </tr>\n",
       "    <tr>\n",
       "      <th>1</th>\n",
       "      <td>Alice: Madness Returns</td>\n",
       "      <td>alice madness returns</td>\n",
       "      <td>Alice: Madness Returns</td>\n",
       "      <td></td>\n",
       "      <td>100</td>\n",
       "    </tr>\n",
       "    <tr>\n",
       "      <th>2</th>\n",
       "      <td>Hold Fast</td>\n",
       "      <td>hold fast</td>\n",
       "      <td></td>\n",
       "      <td></td>\n",
       "      <td></td>\n",
       "    </tr>\n",
       "    <tr>\n",
       "      <th>3</th>\n",
       "      <td>Pokémon Trading Card Game Online</td>\n",
       "      <td>pokémon trading card game online</td>\n",
       "      <td></td>\n",
       "      <td></td>\n",
       "      <td></td>\n",
       "    </tr>\n",
       "    <tr>\n",
       "      <th>4</th>\n",
       "      <td>Witch It</td>\n",
       "      <td>witch it</td>\n",
       "      <td>Witch It</td>\n",
       "      <td></td>\n",
       "      <td>100</td>\n",
       "    </tr>\n",
       "    <tr>\n",
       "      <th>...</th>\n",
       "      <td>...</td>\n",
       "      <td>...</td>\n",
       "      <td>...</td>\n",
       "      <td>...</td>\n",
       "      <td>...</td>\n",
       "    </tr>\n",
       "    <tr>\n",
       "      <th>1139</th>\n",
       "      <td>Rise of Nations: Extended Edition</td>\n",
       "      <td>rise of nations extended edition</td>\n",
       "      <td>Rise of Nations: Extended Edition</td>\n",
       "      <td></td>\n",
       "      <td>100</td>\n",
       "    </tr>\n",
       "    <tr>\n",
       "      <th>1140</th>\n",
       "      <td>Paper Mario: The Origami King</td>\n",
       "      <td>paper mario the origami king</td>\n",
       "      <td></td>\n",
       "      <td></td>\n",
       "      <td></td>\n",
       "    </tr>\n",
       "    <tr>\n",
       "      <th>1141</th>\n",
       "      <td>The Inheritance of Crimson Manor</td>\n",
       "      <td>the inheritance of crimson manor</td>\n",
       "      <td></td>\n",
       "      <td></td>\n",
       "      <td></td>\n",
       "    </tr>\n",
       "    <tr>\n",
       "      <th>1142</th>\n",
       "      <td>Occult</td>\n",
       "      <td>occult</td>\n",
       "      <td></td>\n",
       "      <td></td>\n",
       "      <td></td>\n",
       "    </tr>\n",
       "    <tr>\n",
       "      <th>1143</th>\n",
       "      <td>Sign of Silence</td>\n",
       "      <td>sign of silence</td>\n",
       "      <td>Sign of Silence</td>\n",
       "      <td></td>\n",
       "      <td>100</td>\n",
       "    </tr>\n",
       "  </tbody>\n",
       "</table>\n",
       "<p>1144 rows × 5 columns</p>\n",
       "</div>"
      ],
      "text/plain": [
       "                              twitch_name  \\\n",
       "0     Monster Hunter Generations Ultimate   \n",
       "1                  Alice: Madness Returns   \n",
       "2                               Hold Fast   \n",
       "3        Pokémon Trading Card Game Online   \n",
       "4                                Witch It   \n",
       "...                                   ...   \n",
       "1139    Rise of Nations: Extended Edition   \n",
       "1140        Paper Mario: The Origami King   \n",
       "1141     The Inheritance of Crimson Manor   \n",
       "1142                               Occult   \n",
       "1143                      Sign of Silence   \n",
       "\n",
       "                             twitch_clean                         steam_name  \\\n",
       "0     monster hunter generations ultimate                                      \n",
       "1                   alice madness returns             Alice: Madness Returns   \n",
       "2                               hold fast                                      \n",
       "3        pokémon trading card game online                                      \n",
       "4                                witch it                           Witch It   \n",
       "...                                   ...                                ...   \n",
       "1139     rise of nations extended edition  Rise of Nations: Extended Edition   \n",
       "1140         paper mario the origami king                                      \n",
       "1141     the inheritance of crimson manor                                      \n",
       "1142                               occult                                      \n",
       "1143                      sign of silence                    Sign of Silence   \n",
       "\n",
       "     steam_clean match_score  \n",
       "0                             \n",
       "1                        100  \n",
       "2                             \n",
       "3                             \n",
       "4                        100  \n",
       "...          ...         ...  \n",
       "1139                     100  \n",
       "1140                          \n",
       "1141                          \n",
       "1142                          \n",
       "1143                     100  \n",
       "\n",
       "[1144 rows x 5 columns]"
      ]
     },
     "execution_count": 17,
     "metadata": {},
     "output_type": "execute_result"
    }
   ],
   "source": [
    "for i in range(len(match_df)):\n",
    "    if match_df.twitch_name[i] in list(steam_df.steam_name):\n",
    "        match_df.match_score[i] = 100\n",
    "        match_df.steam_name[i] = match_df.twitch_name[i]\n",
    "match_df"
   ]
  },
  {
   "cell_type": "markdown",
   "id": "18121de9",
   "metadata": {},
   "source": [
    "### Perfect match between cleaned strings"
   ]
  },
  {
   "cell_type": "markdown",
   "id": "aa95b63b",
   "metadata": {},
   "source": [
    "Prima di effettuare il match devo assicurarmi di rimuovere i duplicati all'interno delle liste corrispondenti"
   ]
  },
  {
   "cell_type": "code",
   "execution_count": 18,
   "id": "26daf908",
   "metadata": {
    "ExecuteTime": {
     "end_time": "2022-07-14T20:13:26.242585Z",
     "start_time": "2022-07-14T20:13:26.227588Z"
    }
   },
   "outputs": [
    {
     "data": {
      "text/plain": [
       "['f1 2021']"
      ]
     },
     "execution_count": 18,
     "metadata": {},
     "output_type": "execute_result"
    }
   ],
   "source": [
    "import collections\n",
    "[item for item, count in collections.Counter(list(match_df.twitch_clean)).items() if count > 1]"
   ]
  },
  {
   "cell_type": "markdown",
   "id": "da75d108",
   "metadata": {},
   "source": [
    "- 'F1 2021' e 'F1® 2021' \\\n",
    "in twitch_names con il cleaning si riducono alla stessa stringa\n",
    "'f1 2021' \\\n",
    "quindi elimino duplicato."
   ]
  },
  {
   "cell_type": "code",
   "execution_count": 19,
   "id": "19539869",
   "metadata": {
    "ExecuteTime": {
     "end_time": "2022-07-14T20:13:26.258589Z",
     "start_time": "2022-07-14T20:13:26.244558Z"
    },
    "scrolled": false
   },
   "outputs": [
    {
     "data": {
      "text/html": [
       "<div>\n",
       "<style scoped>\n",
       "    .dataframe tbody tr th:only-of-type {\n",
       "        vertical-align: middle;\n",
       "    }\n",
       "\n",
       "    .dataframe tbody tr th {\n",
       "        vertical-align: top;\n",
       "    }\n",
       "\n",
       "    .dataframe thead th {\n",
       "        text-align: right;\n",
       "    }\n",
       "</style>\n",
       "<table border=\"1\" class=\"dataframe\">\n",
       "  <thead>\n",
       "    <tr style=\"text-align: right;\">\n",
       "      <th></th>\n",
       "      <th>twitch_name</th>\n",
       "      <th>twitch_clean</th>\n",
       "      <th>steam_name</th>\n",
       "      <th>steam_clean</th>\n",
       "      <th>match_score</th>\n",
       "    </tr>\n",
       "  </thead>\n",
       "  <tbody>\n",
       "    <tr>\n",
       "      <th>121</th>\n",
       "      <td>F1 2021</td>\n",
       "      <td>f1 2021</td>\n",
       "      <td></td>\n",
       "      <td></td>\n",
       "      <td></td>\n",
       "    </tr>\n",
       "    <tr>\n",
       "      <th>482</th>\n",
       "      <td>F1® 2021</td>\n",
       "      <td>f1 2021</td>\n",
       "      <td>F1® 2021</td>\n",
       "      <td></td>\n",
       "      <td>100</td>\n",
       "    </tr>\n",
       "  </tbody>\n",
       "</table>\n",
       "</div>"
      ],
      "text/plain": [
       "    twitch_name twitch_clean steam_name steam_clean match_score\n",
       "121     F1 2021      f1 2021                                   \n",
       "482    F1® 2021      f1 2021   F1® 2021                     100"
      ]
     },
     "execution_count": 19,
     "metadata": {},
     "output_type": "execute_result"
    }
   ],
   "source": [
    "match_df[match_df.twitch_clean=='f1 2021']"
   ]
  },
  {
   "cell_type": "code",
   "execution_count": 20,
   "id": "fc38cda3",
   "metadata": {
    "ExecuteTime": {
     "end_time": "2022-07-14T20:13:26.274587Z",
     "start_time": "2022-07-14T20:13:26.260597Z"
    }
   },
   "outputs": [],
   "source": [
    "dupl = match_df[match_df.twitch_name == 'F1 2021']"
   ]
  },
  {
   "cell_type": "markdown",
   "id": "de7e88b4",
   "metadata": {},
   "source": [
    "Mantengo il duplicato che è già stato matchato"
   ]
  },
  {
   "cell_type": "code",
   "execution_count": 21,
   "id": "70ea6440",
   "metadata": {
    "ExecuteTime": {
     "end_time": "2022-07-14T20:13:26.290591Z",
     "start_time": "2022-07-14T20:13:26.276586Z"
    }
   },
   "outputs": [],
   "source": [
    "match_df = match_df.drop_duplicates(subset=['twitch_clean'], keep='last').reset_index(drop=True)"
   ]
  },
  {
   "cell_type": "code",
   "execution_count": 22,
   "id": "6777fe8d",
   "metadata": {
    "ExecuteTime": {
     "end_time": "2022-07-14T20:13:26.306586Z",
     "start_time": "2022-07-14T20:13:26.292559Z"
    },
    "scrolled": true
   },
   "outputs": [
    {
     "data": {
      "text/html": [
       "<div>\n",
       "<style scoped>\n",
       "    .dataframe tbody tr th:only-of-type {\n",
       "        vertical-align: middle;\n",
       "    }\n",
       "\n",
       "    .dataframe tbody tr th {\n",
       "        vertical-align: top;\n",
       "    }\n",
       "\n",
       "    .dataframe thead th {\n",
       "        text-align: right;\n",
       "    }\n",
       "</style>\n",
       "<table border=\"1\" class=\"dataframe\">\n",
       "  <thead>\n",
       "    <tr style=\"text-align: right;\">\n",
       "      <th></th>\n",
       "      <th>twitch_name</th>\n",
       "      <th>twitch_clean</th>\n",
       "      <th>steam_name</th>\n",
       "      <th>steam_clean</th>\n",
       "      <th>match_score</th>\n",
       "    </tr>\n",
       "  </thead>\n",
       "  <tbody>\n",
       "    <tr>\n",
       "      <th>481</th>\n",
       "      <td>F1® 2021</td>\n",
       "      <td>f1 2021</td>\n",
       "      <td>F1® 2021</td>\n",
       "      <td></td>\n",
       "      <td>100</td>\n",
       "    </tr>\n",
       "  </tbody>\n",
       "</table>\n",
       "</div>"
      ],
      "text/plain": [
       "    twitch_name twitch_clean steam_name steam_clean match_score\n",
       "481    F1® 2021      f1 2021   F1® 2021                     100"
      ]
     },
     "execution_count": 22,
     "metadata": {},
     "output_type": "execute_result"
    }
   ],
   "source": [
    "match_df[match_df.twitch_clean=='f1 2021']"
   ]
  },
  {
   "cell_type": "code",
   "execution_count": 23,
   "id": "f08fe301",
   "metadata": {
    "ExecuteTime": {
     "end_time": "2022-07-14T20:13:26.322593Z",
     "start_time": "2022-07-14T20:13:26.307558Z"
    }
   },
   "outputs": [
    {
     "data": {
      "text/plain": [
       "6"
      ]
     },
     "execution_count": 23,
     "metadata": {},
     "output_type": "execute_result"
    }
   ],
   "source": [
    "len(steam_df.steam_clean) - len(set(steam_df.steam_clean))"
   ]
  },
  {
   "cell_type": "markdown",
   "id": "1af53473",
   "metadata": {},
   "source": [
    "Ci sono 6 duplicati nella lista steam_clean: rimuovo righe associate dal dataframe"
   ]
  },
  {
   "cell_type": "code",
   "execution_count": 24,
   "id": "53c6dd3b",
   "metadata": {
    "ExecuteTime": {
     "end_time": "2022-07-14T20:13:26.353555Z",
     "start_time": "2022-07-14T20:13:26.324558Z"
    }
   },
   "outputs": [
    {
     "data": {
      "text/html": [
       "<div>\n",
       "<style scoped>\n",
       "    .dataframe tbody tr th:only-of-type {\n",
       "        vertical-align: middle;\n",
       "    }\n",
       "\n",
       "    .dataframe tbody tr th {\n",
       "        vertical-align: top;\n",
       "    }\n",
       "\n",
       "    .dataframe thead th {\n",
       "        text-align: right;\n",
       "    }\n",
       "</style>\n",
       "<table border=\"1\" class=\"dataframe\">\n",
       "  <thead>\n",
       "    <tr style=\"text-align: right;\">\n",
       "      <th></th>\n",
       "      <th>steam_name</th>\n",
       "      <th>steam_clean</th>\n",
       "    </tr>\n",
       "  </thead>\n",
       "  <tbody>\n",
       "    <tr>\n",
       "      <th>0</th>\n",
       "      <td>MONOPOLY® PLUS</td>\n",
       "      <td>monopoly plus</td>\n",
       "    </tr>\n",
       "    <tr>\n",
       "      <th>1</th>\n",
       "      <td>The Stanley Parable</td>\n",
       "      <td>the stanley parable</td>\n",
       "    </tr>\n",
       "    <tr>\n",
       "      <th>2</th>\n",
       "      <td>Bejeweled® 3</td>\n",
       "      <td>bejeweled 3</td>\n",
       "    </tr>\n",
       "    <tr>\n",
       "      <th>3</th>\n",
       "      <td>Ghostwire: Tokyo</td>\n",
       "      <td>ghostwire tokyo</td>\n",
       "    </tr>\n",
       "    <tr>\n",
       "      <th>4</th>\n",
       "      <td>Empire of the Gods</td>\n",
       "      <td>empire of the gods</td>\n",
       "    </tr>\n",
       "    <tr>\n",
       "      <th>...</th>\n",
       "      <td>...</td>\n",
       "      <td>...</td>\n",
       "    </tr>\n",
       "    <tr>\n",
       "      <th>3463</th>\n",
       "      <td>DARK SOULS™: Prepare To Die™ Edition</td>\n",
       "      <td>dark souls prepare to die edition</td>\n",
       "    </tr>\n",
       "    <tr>\n",
       "      <th>3464</th>\n",
       "      <td>Grand Tactician: The Civil War (1861-1865)</td>\n",
       "      <td>grand tactician the civil war 18611865</td>\n",
       "    </tr>\n",
       "    <tr>\n",
       "      <th>3465</th>\n",
       "      <td>Octodad: Dadliest Catch</td>\n",
       "      <td>octodad dadliest catch</td>\n",
       "    </tr>\n",
       "    <tr>\n",
       "      <th>3466</th>\n",
       "      <td>VUP- VTuber &amp; Animation &amp; motion capture &amp; 3D ...</td>\n",
       "      <td>vup vtuber animation motion capture 3d live2d</td>\n",
       "    </tr>\n",
       "    <tr>\n",
       "      <th>3467</th>\n",
       "      <td>The Dreamlord</td>\n",
       "      <td>the dreamlord</td>\n",
       "    </tr>\n",
       "  </tbody>\n",
       "</table>\n",
       "<p>3468 rows × 2 columns</p>\n",
       "</div>"
      ],
      "text/plain": [
       "                                             steam_name  \\\n",
       "0                                        MONOPOLY® PLUS   \n",
       "1                                   The Stanley Parable   \n",
       "2                                          Bejeweled® 3   \n",
       "3                                      Ghostwire: Tokyo   \n",
       "4                                    Empire of the Gods   \n",
       "...                                                 ...   \n",
       "3463               DARK SOULS™: Prepare To Die™ Edition   \n",
       "3464         Grand Tactician: The Civil War (1861-1865)   \n",
       "3465                            Octodad: Dadliest Catch   \n",
       "3466  VUP- VTuber & Animation & motion capture & 3D ...   \n",
       "3467                                      The Dreamlord   \n",
       "\n",
       "                                        steam_clean  \n",
       "0                                     monopoly plus  \n",
       "1                               the stanley parable  \n",
       "2                                       bejeweled 3  \n",
       "3                                   ghostwire tokyo  \n",
       "4                                empire of the gods  \n",
       "...                                             ...  \n",
       "3463              dark souls prepare to die edition  \n",
       "3464         grand tactician the civil war 18611865  \n",
       "3465                         octodad dadliest catch  \n",
       "3466  vup vtuber animation motion capture 3d live2d  \n",
       "3467                                  the dreamlord  \n",
       "\n",
       "[3468 rows x 2 columns]"
      ]
     },
     "execution_count": 24,
     "metadata": {},
     "output_type": "execute_result"
    }
   ],
   "source": [
    "steam_df = steam_df.drop_duplicates(subset=[\"steam_clean\"], keep='first').reset_index(drop=True)\n",
    "steam_df"
   ]
  },
  {
   "cell_type": "code",
   "execution_count": 25,
   "id": "fcd03a39",
   "metadata": {
    "ExecuteTime": {
     "end_time": "2022-07-14T20:13:26.369588Z",
     "start_time": "2022-07-14T20:13:26.355558Z"
    },
    "scrolled": true
   },
   "outputs": [
    {
     "data": {
      "text/plain": [
       "402"
      ]
     },
     "execution_count": 25,
     "metadata": {},
     "output_type": "execute_result"
    }
   ],
   "source": [
    "len(list(set(match_df.twitch_clean) & set(steam_df.steam_clean)))"
   ]
  },
  {
   "cell_type": "markdown",
   "id": "40c9ee5a",
   "metadata": {},
   "source": [
    "Ci sono 84 nuovi match tra stringhe pulite: aggiorno il dataframe *match_df*"
   ]
  },
  {
   "cell_type": "code",
   "execution_count": 26,
   "id": "46dfafb6",
   "metadata": {
    "ExecuteTime": {
     "end_time": "2022-07-14T20:13:26.639650Z",
     "start_time": "2022-07-14T20:13:26.371588Z"
    }
   },
   "outputs": [],
   "source": [
    "for i in range(len(match_df)):\n",
    "    if (match_df.match_score[i] != 100) and (match_df.twitch_clean[i] in list(steam_df.steam_clean)):\n",
    "        match_df.steam_clean[i] = match_df.twitch_clean[i]\n",
    "        match_df.match_score[i] = 100"
   ]
  },
  {
   "cell_type": "code",
   "execution_count": 27,
   "id": "ee01b2ca",
   "metadata": {
    "ExecuteTime": {
     "end_time": "2022-07-14T20:13:26.655962Z",
     "start_time": "2022-07-14T20:13:26.641586Z"
    }
   },
   "outputs": [
    {
     "data": {
      "text/html": [
       "<div>\n",
       "<style scoped>\n",
       "    .dataframe tbody tr th:only-of-type {\n",
       "        vertical-align: middle;\n",
       "    }\n",
       "\n",
       "    .dataframe tbody tr th {\n",
       "        vertical-align: top;\n",
       "    }\n",
       "\n",
       "    .dataframe thead th {\n",
       "        text-align: right;\n",
       "    }\n",
       "</style>\n",
       "<table border=\"1\" class=\"dataframe\">\n",
       "  <thead>\n",
       "    <tr style=\"text-align: right;\">\n",
       "      <th></th>\n",
       "      <th>twitch_name</th>\n",
       "      <th>twitch_clean</th>\n",
       "      <th>steam_name</th>\n",
       "      <th>steam_clean</th>\n",
       "      <th>match_score</th>\n",
       "    </tr>\n",
       "  </thead>\n",
       "  <tbody>\n",
       "    <tr>\n",
       "      <th>0</th>\n",
       "      <td>Monster Hunter Generations Ultimate</td>\n",
       "      <td>monster hunter generations ultimate</td>\n",
       "      <td></td>\n",
       "      <td></td>\n",
       "      <td></td>\n",
       "    </tr>\n",
       "    <tr>\n",
       "      <th>1</th>\n",
       "      <td>Alice: Madness Returns</td>\n",
       "      <td>alice madness returns</td>\n",
       "      <td>Alice: Madness Returns</td>\n",
       "      <td></td>\n",
       "      <td>100</td>\n",
       "    </tr>\n",
       "    <tr>\n",
       "      <th>2</th>\n",
       "      <td>Hold Fast</td>\n",
       "      <td>hold fast</td>\n",
       "      <td></td>\n",
       "      <td></td>\n",
       "      <td></td>\n",
       "    </tr>\n",
       "    <tr>\n",
       "      <th>3</th>\n",
       "      <td>Pokémon Trading Card Game Online</td>\n",
       "      <td>pokémon trading card game online</td>\n",
       "      <td></td>\n",
       "      <td></td>\n",
       "      <td></td>\n",
       "    </tr>\n",
       "    <tr>\n",
       "      <th>4</th>\n",
       "      <td>Witch It</td>\n",
       "      <td>witch it</td>\n",
       "      <td>Witch It</td>\n",
       "      <td></td>\n",
       "      <td>100</td>\n",
       "    </tr>\n",
       "    <tr>\n",
       "      <th>5</th>\n",
       "      <td>Dante's Inferno</td>\n",
       "      <td>dante's inferno</td>\n",
       "      <td></td>\n",
       "      <td></td>\n",
       "      <td></td>\n",
       "    </tr>\n",
       "    <tr>\n",
       "      <th>6</th>\n",
       "      <td>The Stanley Parable: Ultra Deluxe</td>\n",
       "      <td>the stanley parable ultra deluxe</td>\n",
       "      <td>The Stanley Parable: Ultra Deluxe</td>\n",
       "      <td></td>\n",
       "      <td>100</td>\n",
       "    </tr>\n",
       "    <tr>\n",
       "      <th>7</th>\n",
       "      <td>The Long Drive</td>\n",
       "      <td>the long drive</td>\n",
       "      <td>The Long Drive</td>\n",
       "      <td></td>\n",
       "      <td>100</td>\n",
       "    </tr>\n",
       "    <tr>\n",
       "      <th>8</th>\n",
       "      <td>Cyber Hunter</td>\n",
       "      <td>cyber hunter</td>\n",
       "      <td></td>\n",
       "      <td></td>\n",
       "      <td></td>\n",
       "    </tr>\n",
       "    <tr>\n",
       "      <th>9</th>\n",
       "      <td>Rogue Lords</td>\n",
       "      <td>rogue lords</td>\n",
       "      <td></td>\n",
       "      <td></td>\n",
       "      <td></td>\n",
       "    </tr>\n",
       "    <tr>\n",
       "      <th>10</th>\n",
       "      <td>Assassin's Creed IV: Black Flag</td>\n",
       "      <td>assassin's creed iv black flag</td>\n",
       "      <td></td>\n",
       "      <td></td>\n",
       "      <td></td>\n",
       "    </tr>\n",
       "    <tr>\n",
       "      <th>11</th>\n",
       "      <td>INSIDE</td>\n",
       "      <td>inside</td>\n",
       "      <td>INSIDE</td>\n",
       "      <td></td>\n",
       "      <td>100</td>\n",
       "    </tr>\n",
       "    <tr>\n",
       "      <th>12</th>\n",
       "      <td>DRAGON BALL Z DOKKAN BATTLE</td>\n",
       "      <td>dragon ball z dokkan battle</td>\n",
       "      <td></td>\n",
       "      <td></td>\n",
       "      <td></td>\n",
       "    </tr>\n",
       "    <tr>\n",
       "      <th>13</th>\n",
       "      <td>V696</td>\n",
       "      <td>v696</td>\n",
       "      <td></td>\n",
       "      <td></td>\n",
       "      <td></td>\n",
       "    </tr>\n",
       "    <tr>\n",
       "      <th>14</th>\n",
       "      <td>Hades</td>\n",
       "      <td>hades</td>\n",
       "      <td>Hades</td>\n",
       "      <td></td>\n",
       "      <td>100</td>\n",
       "    </tr>\n",
       "    <tr>\n",
       "      <th>15</th>\n",
       "      <td>Stranded Deep</td>\n",
       "      <td>stranded deep</td>\n",
       "      <td>Stranded Deep</td>\n",
       "      <td></td>\n",
       "      <td>100</td>\n",
       "    </tr>\n",
       "    <tr>\n",
       "      <th>16</th>\n",
       "      <td>Legacy of Kain: Defiance</td>\n",
       "      <td>legacy of kain defiance</td>\n",
       "      <td></td>\n",
       "      <td></td>\n",
       "      <td></td>\n",
       "    </tr>\n",
       "    <tr>\n",
       "      <th>17</th>\n",
       "      <td>Rounds</td>\n",
       "      <td>rounds</td>\n",
       "      <td></td>\n",
       "      <td>rounds</td>\n",
       "      <td>100</td>\n",
       "    </tr>\n",
       "    <tr>\n",
       "      <th>18</th>\n",
       "      <td>Drawful 2</td>\n",
       "      <td>drawful 2</td>\n",
       "      <td>Drawful 2</td>\n",
       "      <td></td>\n",
       "      <td>100</td>\n",
       "    </tr>\n",
       "    <tr>\n",
       "      <th>19</th>\n",
       "      <td>Sensible World of Soccer</td>\n",
       "      <td>sensible world of soccer</td>\n",
       "      <td></td>\n",
       "      <td></td>\n",
       "      <td></td>\n",
       "    </tr>\n",
       "  </tbody>\n",
       "</table>\n",
       "</div>"
      ],
      "text/plain": [
       "                            twitch_name                         twitch_clean  \\\n",
       "0   Monster Hunter Generations Ultimate  monster hunter generations ultimate   \n",
       "1                Alice: Madness Returns                alice madness returns   \n",
       "2                             Hold Fast                            hold fast   \n",
       "3      Pokémon Trading Card Game Online     pokémon trading card game online   \n",
       "4                              Witch It                             witch it   \n",
       "5                       Dante's Inferno                      dante's inferno   \n",
       "6     The Stanley Parable: Ultra Deluxe     the stanley parable ultra deluxe   \n",
       "7                        The Long Drive                       the long drive   \n",
       "8                          Cyber Hunter                         cyber hunter   \n",
       "9                           Rogue Lords                          rogue lords   \n",
       "10      Assassin's Creed IV: Black Flag       assassin's creed iv black flag   \n",
       "11                               INSIDE                               inside   \n",
       "12          DRAGON BALL Z DOKKAN BATTLE          dragon ball z dokkan battle   \n",
       "13                                 V696                                 v696   \n",
       "14                                Hades                                hades   \n",
       "15                        Stranded Deep                        stranded deep   \n",
       "16             Legacy of Kain: Defiance              legacy of kain defiance   \n",
       "17                               Rounds                               rounds   \n",
       "18                            Drawful 2                            drawful 2   \n",
       "19             Sensible World of Soccer             sensible world of soccer   \n",
       "\n",
       "                           steam_name steam_clean match_score  \n",
       "0                                                              \n",
       "1              Alice: Madness Returns                     100  \n",
       "2                                                              \n",
       "3                                                              \n",
       "4                            Witch It                     100  \n",
       "5                                                              \n",
       "6   The Stanley Parable: Ultra Deluxe                     100  \n",
       "7                      The Long Drive                     100  \n",
       "8                                                              \n",
       "9                                                              \n",
       "10                                                             \n",
       "11                             INSIDE                     100  \n",
       "12                                                             \n",
       "13                                                             \n",
       "14                              Hades                     100  \n",
       "15                      Stranded Deep                     100  \n",
       "16                                                             \n",
       "17                                         rounds         100  \n",
       "18                          Drawful 2                     100  \n",
       "19                                                             "
      ]
     },
     "execution_count": 27,
     "metadata": {},
     "output_type": "execute_result"
    }
   ],
   "source": [
    "match_df.head(20)"
   ]
  },
  {
   "cell_type": "code",
   "execution_count": 28,
   "id": "1ea27331",
   "metadata": {
    "ExecuteTime": {
     "end_time": "2022-07-14T20:13:26.798180Z",
     "start_time": "2022-07-14T20:13:26.658012Z"
    }
   },
   "outputs": [
    {
     "data": {
      "text/html": [
       "<div>\n",
       "<style scoped>\n",
       "    .dataframe tbody tr th:only-of-type {\n",
       "        vertical-align: middle;\n",
       "    }\n",
       "\n",
       "    .dataframe tbody tr th {\n",
       "        vertical-align: top;\n",
       "    }\n",
       "\n",
       "    .dataframe thead th {\n",
       "        text-align: right;\n",
       "    }\n",
       "</style>\n",
       "<table border=\"1\" class=\"dataframe\">\n",
       "  <thead>\n",
       "    <tr style=\"text-align: right;\">\n",
       "      <th></th>\n",
       "      <th>twitch_name</th>\n",
       "      <th>twitch_clean</th>\n",
       "      <th>steam_name</th>\n",
       "      <th>steam_clean</th>\n",
       "      <th>match_score</th>\n",
       "    </tr>\n",
       "  </thead>\n",
       "  <tbody>\n",
       "    <tr>\n",
       "      <th>0</th>\n",
       "      <td>Monster Hunter Generations Ultimate</td>\n",
       "      <td>monster hunter generations ultimate</td>\n",
       "      <td></td>\n",
       "      <td></td>\n",
       "      <td></td>\n",
       "    </tr>\n",
       "    <tr>\n",
       "      <th>1</th>\n",
       "      <td>Alice: Madness Returns</td>\n",
       "      <td>alice madness returns</td>\n",
       "      <td>Alice: Madness Returns</td>\n",
       "      <td></td>\n",
       "      <td>100</td>\n",
       "    </tr>\n",
       "    <tr>\n",
       "      <th>2</th>\n",
       "      <td>Hold Fast</td>\n",
       "      <td>hold fast</td>\n",
       "      <td></td>\n",
       "      <td></td>\n",
       "      <td></td>\n",
       "    </tr>\n",
       "    <tr>\n",
       "      <th>3</th>\n",
       "      <td>Pokémon Trading Card Game Online</td>\n",
       "      <td>pokémon trading card game online</td>\n",
       "      <td></td>\n",
       "      <td></td>\n",
       "      <td></td>\n",
       "    </tr>\n",
       "    <tr>\n",
       "      <th>4</th>\n",
       "      <td>Witch It</td>\n",
       "      <td>witch it</td>\n",
       "      <td>Witch It</td>\n",
       "      <td></td>\n",
       "      <td>100</td>\n",
       "    </tr>\n",
       "    <tr>\n",
       "      <th>...</th>\n",
       "      <td>...</td>\n",
       "      <td>...</td>\n",
       "      <td>...</td>\n",
       "      <td>...</td>\n",
       "      <td>...</td>\n",
       "    </tr>\n",
       "    <tr>\n",
       "      <th>1138</th>\n",
       "      <td>Rise of Nations: Extended Edition</td>\n",
       "      <td>rise of nations extended edition</td>\n",
       "      <td>Rise of Nations: Extended Edition</td>\n",
       "      <td></td>\n",
       "      <td>100</td>\n",
       "    </tr>\n",
       "    <tr>\n",
       "      <th>1139</th>\n",
       "      <td>Paper Mario: The Origami King</td>\n",
       "      <td>paper mario the origami king</td>\n",
       "      <td></td>\n",
       "      <td></td>\n",
       "      <td></td>\n",
       "    </tr>\n",
       "    <tr>\n",
       "      <th>1140</th>\n",
       "      <td>The Inheritance of Crimson Manor</td>\n",
       "      <td>the inheritance of crimson manor</td>\n",
       "      <td></td>\n",
       "      <td></td>\n",
       "      <td></td>\n",
       "    </tr>\n",
       "    <tr>\n",
       "      <th>1141</th>\n",
       "      <td>Occult</td>\n",
       "      <td>occult</td>\n",
       "      <td></td>\n",
       "      <td></td>\n",
       "      <td></td>\n",
       "    </tr>\n",
       "    <tr>\n",
       "      <th>1142</th>\n",
       "      <td>Sign of Silence</td>\n",
       "      <td>sign of silence</td>\n",
       "      <td>Sign of Silence</td>\n",
       "      <td></td>\n",
       "      <td>100</td>\n",
       "    </tr>\n",
       "  </tbody>\n",
       "</table>\n",
       "<p>1143 rows × 5 columns</p>\n",
       "</div>"
      ],
      "text/plain": [
       "                              twitch_name  \\\n",
       "0     Monster Hunter Generations Ultimate   \n",
       "1                  Alice: Madness Returns   \n",
       "2                               Hold Fast   \n",
       "3        Pokémon Trading Card Game Online   \n",
       "4                                Witch It   \n",
       "...                                   ...   \n",
       "1138    Rise of Nations: Extended Edition   \n",
       "1139        Paper Mario: The Origami King   \n",
       "1140     The Inheritance of Crimson Manor   \n",
       "1141                               Occult   \n",
       "1142                      Sign of Silence   \n",
       "\n",
       "                             twitch_clean                         steam_name  \\\n",
       "0     monster hunter generations ultimate                                      \n",
       "1                   alice madness returns             Alice: Madness Returns   \n",
       "2                               hold fast                                      \n",
       "3        pokémon trading card game online                                      \n",
       "4                                witch it                           Witch It   \n",
       "...                                   ...                                ...   \n",
       "1138     rise of nations extended edition  Rise of Nations: Extended Edition   \n",
       "1139         paper mario the origami king                                      \n",
       "1140     the inheritance of crimson manor                                      \n",
       "1141                               occult                                      \n",
       "1142                      sign of silence                    Sign of Silence   \n",
       "\n",
       "     steam_clean match_score  \n",
       "0                             \n",
       "1                        100  \n",
       "2                             \n",
       "3                             \n",
       "4                        100  \n",
       "...          ...         ...  \n",
       "1138                     100  \n",
       "1139                          \n",
       "1140                          \n",
       "1141                          \n",
       "1142                     100  \n",
       "\n",
       "[1143 rows x 5 columns]"
      ]
     },
     "execution_count": 28,
     "metadata": {},
     "output_type": "execute_result"
    }
   ],
   "source": [
    "############ per risalire a steam_name\n",
    "for i in range(len(match_df)):\n",
    "    if (match_df.steam_clean[i] != ''):\n",
    "        index = steam_df.loc[steam_df['steam_clean'] == match_df.steam_clean[i]].index[0]\n",
    "        match_df.steam_name[i] = steam_df.steam_name[index]\n",
    "match_df"
   ]
  },
  {
   "cell_type": "code",
   "execution_count": 29,
   "id": "f802fc34",
   "metadata": {
    "ExecuteTime": {
     "end_time": "2022-07-14T20:13:26.814213Z",
     "start_time": "2022-07-14T20:13:26.803210Z"
    },
    "scrolled": true
   },
   "outputs": [],
   "source": [
    "match_100 = match_df[match_df.match_score==100]"
   ]
  },
  {
   "cell_type": "code",
   "execution_count": 30,
   "id": "af2254e7",
   "metadata": {
    "ExecuteTime": {
     "end_time": "2022-07-14T20:13:26.830183Z",
     "start_time": "2022-07-14T20:13:26.817190Z"
    }
   },
   "outputs": [
    {
     "data": {
      "text/plain": [
       "741"
      ]
     },
     "execution_count": 30,
     "metadata": {},
     "output_type": "execute_result"
    }
   ],
   "source": [
    "len(match_df) - len(match_100)"
   ]
  },
  {
   "cell_type": "markdown",
   "id": "cbbdcfaf",
   "metadata": {},
   "source": [
    "### Fuzzy match between cleaned strings"
   ]
  },
  {
   "cell_type": "markdown",
   "id": "eb2113a1",
   "metadata": {
    "ExecuteTime": {
     "end_time": "2022-07-14T13:17:47.675150Z",
     "start_time": "2022-07-14T13:17:47.669115Z"
    }
   },
   "source": [
    "with subsets matching starts of the strings\n",
    "\n",
    "ancora 741 elementi da matchare ( uno non matcha)"
   ]
  },
  {
   "cell_type": "code",
   "execution_count": 31,
   "id": "9e3c6c11",
   "metadata": {
    "ExecuteTime": {
     "end_time": "2022-07-14T20:13:26.845183Z",
     "start_time": "2022-07-14T20:13:26.831212Z"
    }
   },
   "outputs": [
    {
     "data": {
      "text/plain": [
       "741"
      ]
     },
     "execution_count": 31,
     "metadata": {},
     "output_type": "execute_result"
    }
   ],
   "source": [
    "match_df = match_df[match_df.match_score != 100].reset_index(drop=True)\n",
    "len(match_df)"
   ]
  },
  {
   "cell_type": "code",
   "execution_count": 32,
   "id": "36a83469",
   "metadata": {
    "ExecuteTime": {
     "end_time": "2022-07-14T20:13:26.860181Z",
     "start_time": "2022-07-14T20:13:26.847189Z"
    }
   },
   "outputs": [
    {
     "name": "stdout",
     "output_type": "stream",
     "text": [
      "Saw\n",
      "Art\n"
     ]
    }
   ],
   "source": [
    "for elem in match_df.twitch_name:\n",
    "    if len(elem) < 4:\n",
    "        print(elem)"
   ]
  },
  {
   "cell_type": "code",
   "execution_count": 33,
   "id": "e9806f8a",
   "metadata": {
    "ExecuteTime": {
     "end_time": "2022-07-14T20:13:26.876187Z",
     "start_time": "2022-07-14T20:13:26.862186Z"
    }
   },
   "outputs": [
    {
     "name": "stdout",
     "output_type": "stream",
     "text": [
      "artifact\n"
     ]
    }
   ],
   "source": [
    "for elem in steam_df.steam_clean:\n",
    "    if elem.startswith('saw'):\n",
    "        print(elem)\n",
    "    if elem.startswith('art'):\n",
    "        print(elem)   "
   ]
  },
  {
   "cell_type": "markdown",
   "id": "5587de51",
   "metadata": {},
   "source": [
    "Non ci sono match con 'Saw' e 'Art' di twitch.\n",
    "Considero i subset di stringhe in steam_df.steam_clean con primi 4 elementi matchati"
   ]
  },
  {
   "cell_type": "code",
   "execution_count": 34,
   "id": "c17f9b5d",
   "metadata": {
    "ExecuteTime": {
     "end_time": "2022-07-14T20:13:26.892212Z",
     "start_time": "2022-07-14T20:13:26.878186Z"
    }
   },
   "outputs": [],
   "source": [
    "match_dict = match_df.to_dict('index')"
   ]
  },
  {
   "cell_type": "code",
   "execution_count": 35,
   "id": "92350fbf",
   "metadata": {
    "ExecuteTime": {
     "end_time": "2022-07-14T20:13:30.172028Z",
     "start_time": "2022-07-14T20:13:26.893183Z"
    }
   },
   "outputs": [],
   "source": [
    "for i in range(len(match_dict)):\n",
    "    start = match_dict[i]['twitch_clean'][0:4]\n",
    "    subset = []\n",
    "    for elem in steam_df.steam_clean:\n",
    "        if elem.startswith(start):\n",
    "            subset.append(elem)\n",
    "    if subset != []:\n",
    "        score = {}  #key:nome_gioco / value: fuzz.ratio_score\n",
    "        for elem in subset:\n",
    "            score[elem] = fuzz.ratio(match_dict[i]['twitch_clean'], elem)\n",
    "            keys = [k for k, v in score.items() if v == max(score.values())]\n",
    "            number = list(set([v for k, v in score.items() if v == max(score.values())]))\n",
    "            match_dict[i]['match_score'] = number[0]\n",
    "            match_dict[i]['steam_clean'] = keys[0]"
   ]
  },
  {
   "cell_type": "code",
   "execution_count": 36,
   "id": "56fb5a6c",
   "metadata": {
    "ExecuteTime": {
     "end_time": "2022-07-14T20:13:30.488704Z",
     "start_time": "2022-07-14T20:13:30.173565Z"
    }
   },
   "outputs": [],
   "source": [
    "nuovo = pd.DataFrame.from_dict(match_dict, orient='index')\n",
    "\n",
    "############ per risalire a steam_name\n",
    "for i in range(len(nuovo)):\n",
    "    if (nuovo.steam_clean[i] != ''):\n",
    "        index = steam_df.loc[steam_df['steam_clean'] == nuovo.steam_clean[i]].index[0]\n",
    "        nuovo.steam_name[i] = steam_df.steam_name[index]"
   ]
  },
  {
   "cell_type": "code",
   "execution_count": 37,
   "id": "3382d83e",
   "metadata": {
    "ExecuteTime": {
     "end_time": "2022-07-14T20:13:30.504741Z",
     "start_time": "2022-07-14T20:13:30.489643Z"
    }
   },
   "outputs": [
    {
     "data": {
      "text/html": [
       "<div>\n",
       "<style scoped>\n",
       "    .dataframe tbody tr th:only-of-type {\n",
       "        vertical-align: middle;\n",
       "    }\n",
       "\n",
       "    .dataframe tbody tr th {\n",
       "        vertical-align: top;\n",
       "    }\n",
       "\n",
       "    .dataframe thead th {\n",
       "        text-align: right;\n",
       "    }\n",
       "</style>\n",
       "<table border=\"1\" class=\"dataframe\">\n",
       "  <thead>\n",
       "    <tr style=\"text-align: right;\">\n",
       "      <th></th>\n",
       "      <th>twitch_name</th>\n",
       "      <th>twitch_clean</th>\n",
       "      <th>steam_name</th>\n",
       "      <th>steam_clean</th>\n",
       "      <th>match_score</th>\n",
       "    </tr>\n",
       "  </thead>\n",
       "  <tbody>\n",
       "    <tr>\n",
       "      <th>0</th>\n",
       "      <td>Monkey Island 2 Special Edition: LeChuck's Rev...</td>\n",
       "      <td>monkey island 2 special edition lechuck's revenge</td>\n",
       "      <td>Monkey Island™ 2 Special Edition: LeChuck’s Re...</td>\n",
       "      <td>monkey island 2 special edition lechucks revenge</td>\n",
       "      <td>99</td>\n",
       "    </tr>\n",
       "    <tr>\n",
       "      <th>1</th>\n",
       "      <td>Assassin's Creed IV: Black Flag</td>\n",
       "      <td>assassin's creed iv black flag</td>\n",
       "      <td>Assassin’s Creed® IV Black Flag™</td>\n",
       "      <td>assassins creed iv black flag</td>\n",
       "      <td>98</td>\n",
       "    </tr>\n",
       "    <tr>\n",
       "      <th>2</th>\n",
       "      <td>BlazBlue: Central Fiction</td>\n",
       "      <td>blazblue central fiction</td>\n",
       "      <td>BlazBlue Centralfiction</td>\n",
       "      <td>blazblue centralfiction</td>\n",
       "      <td>98</td>\n",
       "    </tr>\n",
       "    <tr>\n",
       "      <th>3</th>\n",
       "      <td>Sid Meier's Civilization VI</td>\n",
       "      <td>sid meier's civilization vi</td>\n",
       "      <td>Sid Meier’s Civilization® VI</td>\n",
       "      <td>sid meiers civilization vi</td>\n",
       "      <td>98</td>\n",
       "    </tr>\n",
       "    <tr>\n",
       "      <th>4</th>\n",
       "      <td>Assassin's Creed: Brotherhood</td>\n",
       "      <td>assassin's creed brotherhood</td>\n",
       "      <td>Assassin’s Creed® Brotherhood</td>\n",
       "      <td>assassins creed brotherhood</td>\n",
       "      <td>98</td>\n",
       "    </tr>\n",
       "    <tr>\n",
       "      <th>...</th>\n",
       "      <td>...</td>\n",
       "      <td>...</td>\n",
       "      <td>...</td>\n",
       "      <td>...</td>\n",
       "      <td>...</td>\n",
       "    </tr>\n",
       "    <tr>\n",
       "      <th>468</th>\n",
       "      <td>Xenoverse: Per Aspera Ad Astra</td>\n",
       "      <td>xenoverse per aspera ad astra</td>\n",
       "      <td>Xenobox VR</td>\n",
       "      <td>xenobox vr</td>\n",
       "      <td>31</td>\n",
       "    </tr>\n",
       "    <tr>\n",
       "      <th>469</th>\n",
       "      <td>Holdfast: Nations At War</td>\n",
       "      <td>holdfast nations at war</td>\n",
       "      <td>Hold your houses</td>\n",
       "      <td>hold your houses</td>\n",
       "      <td>31</td>\n",
       "    </tr>\n",
       "    <tr>\n",
       "      <th>470</th>\n",
       "      <td>WWE SLAM: Card Trader</td>\n",
       "      <td>wwe slam card trader</td>\n",
       "      <td>WWE 2K16</td>\n",
       "      <td>wwe 2k16</td>\n",
       "      <td>29</td>\n",
       "    </tr>\n",
       "    <tr>\n",
       "      <th>471</th>\n",
       "      <td>Xenoblade Chronicles: Definitive Edition</td>\n",
       "      <td>xenoblade chronicles definitive edition</td>\n",
       "      <td>Xenobox VR</td>\n",
       "      <td>xenobox vr</td>\n",
       "      <td>29</td>\n",
       "    </tr>\n",
       "    <tr>\n",
       "      <th>472</th>\n",
       "      <td>Pocket Monsters Diamond &amp; Pearl: Pokémon wo Sa...</td>\n",
       "      <td>pocket monsters diamond pearl pokémon wo sagas...</td>\n",
       "      <td>Pocket Academy</td>\n",
       "      <td>pocket academy</td>\n",
       "      <td>28</td>\n",
       "    </tr>\n",
       "  </tbody>\n",
       "</table>\n",
       "<p>473 rows × 5 columns</p>\n",
       "</div>"
      ],
      "text/plain": [
       "                                           twitch_name  \\\n",
       "0    Monkey Island 2 Special Edition: LeChuck's Rev...   \n",
       "1                      Assassin's Creed IV: Black Flag   \n",
       "2                            BlazBlue: Central Fiction   \n",
       "3                          Sid Meier's Civilization VI   \n",
       "4                        Assassin's Creed: Brotherhood   \n",
       "..                                                 ...   \n",
       "468                     Xenoverse: Per Aspera Ad Astra   \n",
       "469                           Holdfast: Nations At War   \n",
       "470                              WWE SLAM: Card Trader   \n",
       "471           Xenoblade Chronicles: Definitive Edition   \n",
       "472  Pocket Monsters Diamond & Pearl: Pokémon wo Sa...   \n",
       "\n",
       "                                          twitch_clean  \\\n",
       "0    monkey island 2 special edition lechuck's revenge   \n",
       "1                       assassin's creed iv black flag   \n",
       "2                             blazblue central fiction   \n",
       "3                          sid meier's civilization vi   \n",
       "4                         assassin's creed brotherhood   \n",
       "..                                                 ...   \n",
       "468                      xenoverse per aspera ad astra   \n",
       "469                            holdfast nations at war   \n",
       "470                               wwe slam card trader   \n",
       "471            xenoblade chronicles definitive edition   \n",
       "472  pocket monsters diamond pearl pokémon wo sagas...   \n",
       "\n",
       "                                            steam_name  \\\n",
       "0    Monkey Island™ 2 Special Edition: LeChuck’s Re...   \n",
       "1                     Assassin’s Creed® IV Black Flag™   \n",
       "2                              BlazBlue Centralfiction   \n",
       "3                         Sid Meier’s Civilization® VI   \n",
       "4                        Assassin’s Creed® Brotherhood   \n",
       "..                                                 ...   \n",
       "468                                         Xenobox VR   \n",
       "469                                   Hold your houses   \n",
       "470                                           WWE 2K16   \n",
       "471                                         Xenobox VR   \n",
       "472                                     Pocket Academy   \n",
       "\n",
       "                                          steam_clean match_score  \n",
       "0    monkey island 2 special edition lechucks revenge          99  \n",
       "1                       assassins creed iv black flag          98  \n",
       "2                             blazblue centralfiction          98  \n",
       "3                          sid meiers civilization vi          98  \n",
       "4                         assassins creed brotherhood          98  \n",
       "..                                                ...         ...  \n",
       "468                                        xenobox vr          31  \n",
       "469                                  hold your houses          31  \n",
       "470                                          wwe 2k16          29  \n",
       "471                                        xenobox vr          29  \n",
       "472                                    pocket academy          28  \n",
       "\n",
       "[473 rows x 5 columns]"
      ]
     },
     "execution_count": 37,
     "metadata": {},
     "output_type": "execute_result"
    }
   ],
   "source": [
    "fuzzy_match = nuovo[(nuovo.match_score != '')].sort_values(by=['match_score'], ascending=False).reset_index(drop=True)\n",
    "fuzzy_match"
   ]
  },
  {
   "cell_type": "code",
   "execution_count": 38,
   "id": "4ea21adf",
   "metadata": {
    "ExecuteTime": {
     "end_time": "2022-07-14T20:13:30.552095Z",
     "start_time": "2022-07-14T20:13:30.506249Z"
    },
    "scrolled": true
   },
   "outputs": [
    {
     "data": {
      "text/plain": [
       "473"
      ]
     },
     "execution_count": 38,
     "metadata": {},
     "output_type": "execute_result"
    }
   ],
   "source": [
    "len(fuzzy_match)"
   ]
  },
  {
   "cell_type": "code",
   "execution_count": 39,
   "id": "5545948c",
   "metadata": {
    "ExecuteTime": {
     "end_time": "2022-07-14T20:13:30.568096Z",
     "start_time": "2022-07-14T20:13:30.553095Z"
    }
   },
   "outputs": [
    {
     "data": {
      "text/plain": [
       "268"
      ]
     },
     "execution_count": 39,
     "metadata": {},
     "output_type": "execute_result"
    }
   ],
   "source": [
    "no_match = nuovo[(nuovo.match_score == '')]\n",
    "len(no_match)"
   ]
  },
  {
   "cell_type": "markdown",
   "id": "f6c40669",
   "metadata": {},
   "source": [
    "### Quality assessment and results"
   ]
  },
  {
   "cell_type": "markdown",
   "id": "78b6ec32",
   "metadata": {},
   "source": [
    "- match_score 100 --> inserisco tutte le informazioni"
   ]
  },
  {
   "cell_type": "markdown",
   "id": "f8a0524d",
   "metadata": {},
   "source": [
    "Controllo qualità dei fuzzy con score tra 80 e 100"
   ]
  },
  {
   "cell_type": "code",
   "execution_count": 40,
   "id": "2242adc2",
   "metadata": {
    "ExecuteTime": {
     "end_time": "2022-07-14T20:13:30.584063Z",
     "start_time": "2022-07-14T20:13:30.569093Z"
    }
   },
   "outputs": [
    {
     "data": {
      "text/html": [
       "<div>\n",
       "<style scoped>\n",
       "    .dataframe tbody tr th:only-of-type {\n",
       "        vertical-align: middle;\n",
       "    }\n",
       "\n",
       "    .dataframe tbody tr th {\n",
       "        vertical-align: top;\n",
       "    }\n",
       "\n",
       "    .dataframe thead th {\n",
       "        text-align: right;\n",
       "    }\n",
       "</style>\n",
       "<table border=\"1\" class=\"dataframe\">\n",
       "  <thead>\n",
       "    <tr style=\"text-align: right;\">\n",
       "      <th></th>\n",
       "      <th>twitch_name</th>\n",
       "      <th>steam_name</th>\n",
       "      <th>match_score</th>\n",
       "    </tr>\n",
       "  </thead>\n",
       "  <tbody>\n",
       "    <tr>\n",
       "      <th>0</th>\n",
       "      <td>Monkey Island 2 Special Edition: LeChuck's Rev...</td>\n",
       "      <td>Monkey Island™ 2 Special Edition: LeChuck’s Re...</td>\n",
       "      <td>99</td>\n",
       "    </tr>\n",
       "    <tr>\n",
       "      <th>1</th>\n",
       "      <td>Assassin's Creed IV: Black Flag</td>\n",
       "      <td>Assassin’s Creed® IV Black Flag™</td>\n",
       "      <td>98</td>\n",
       "    </tr>\n",
       "    <tr>\n",
       "      <th>2</th>\n",
       "      <td>BlazBlue: Central Fiction</td>\n",
       "      <td>BlazBlue Centralfiction</td>\n",
       "      <td>98</td>\n",
       "    </tr>\n",
       "    <tr>\n",
       "      <th>3</th>\n",
       "      <td>Sid Meier's Civilization VI</td>\n",
       "      <td>Sid Meier’s Civilization® VI</td>\n",
       "      <td>98</td>\n",
       "    </tr>\n",
       "    <tr>\n",
       "      <th>4</th>\n",
       "      <td>Assassin's Creed: Brotherhood</td>\n",
       "      <td>Assassin’s Creed® Brotherhood</td>\n",
       "      <td>98</td>\n",
       "    </tr>\n",
       "    <tr>\n",
       "      <th>...</th>\n",
       "      <td>...</td>\n",
       "      <td>...</td>\n",
       "      <td>...</td>\n",
       "    </tr>\n",
       "    <tr>\n",
       "      <th>73</th>\n",
       "      <td>Speedrun</td>\n",
       "      <td>SpeedRunners</td>\n",
       "      <td>80</td>\n",
       "    </tr>\n",
       "    <tr>\n",
       "      <th>74</th>\n",
       "      <td>DOOM 3</td>\n",
       "      <td>DOOM</td>\n",
       "      <td>80</td>\n",
       "    </tr>\n",
       "    <tr>\n",
       "      <th>75</th>\n",
       "      <td>The Dark Pictures Anthology: Man of Medan</td>\n",
       "      <td>The Dark Pictures Anthology: House of Ashes</td>\n",
       "      <td>80</td>\n",
       "    </tr>\n",
       "    <tr>\n",
       "      <th>76</th>\n",
       "      <td>Kingdom Hearts</td>\n",
       "      <td>Kingdom Heroes 8</td>\n",
       "      <td>80</td>\n",
       "    </tr>\n",
       "    <tr>\n",
       "      <th>77</th>\n",
       "      <td>Virtual Casino</td>\n",
       "      <td>VirtualCast</td>\n",
       "      <td>80</td>\n",
       "    </tr>\n",
       "  </tbody>\n",
       "</table>\n",
       "<p>78 rows × 3 columns</p>\n",
       "</div>"
      ],
      "text/plain": [
       "                                          twitch_name  \\\n",
       "0   Monkey Island 2 Special Edition: LeChuck's Rev...   \n",
       "1                     Assassin's Creed IV: Black Flag   \n",
       "2                           BlazBlue: Central Fiction   \n",
       "3                         Sid Meier's Civilization VI   \n",
       "4                       Assassin's Creed: Brotherhood   \n",
       "..                                                ...   \n",
       "73                                           Speedrun   \n",
       "74                                             DOOM 3   \n",
       "75          The Dark Pictures Anthology: Man of Medan   \n",
       "76                                     Kingdom Hearts   \n",
       "77                                     Virtual Casino   \n",
       "\n",
       "                                           steam_name match_score  \n",
       "0   Monkey Island™ 2 Special Edition: LeChuck’s Re...          99  \n",
       "1                    Assassin’s Creed® IV Black Flag™          98  \n",
       "2                             BlazBlue Centralfiction          98  \n",
       "3                        Sid Meier’s Civilization® VI          98  \n",
       "4                       Assassin’s Creed® Brotherhood          98  \n",
       "..                                                ...         ...  \n",
       "73                                       SpeedRunners          80  \n",
       "74                                               DOOM          80  \n",
       "75        The Dark Pictures Anthology: House of Ashes          80  \n",
       "76                                   Kingdom Heroes 8          80  \n",
       "77                                        VirtualCast          80  \n",
       "\n",
       "[78 rows x 3 columns]"
      ]
     },
     "execution_count": 40,
     "metadata": {},
     "output_type": "execute_result"
    }
   ],
   "source": [
    "fuzzy_match[fuzzy_match.match_score.between(80,100)][['twitch_name','steam_name','match_score']]"
   ]
  },
  {
   "cell_type": "markdown",
   "id": "e9d632f8",
   "metadata": {},
   "source": [
    "Controllando manualmente la qualità dei match con score tra 80 e 100 otteniamo il seguente subset con 11 *twitch/steam_name* relativi allo stesso gioco: modifichiamo score con 100 e concateniamo"
   ]
  },
  {
   "cell_type": "code",
   "execution_count": 41,
   "id": "8561eed8",
   "metadata": {
    "ExecuteTime": {
     "end_time": "2022-07-14T20:13:30.599094Z",
     "start_time": "2022-07-14T20:13:30.587064Z"
    },
    "scrolled": true
   },
   "outputs": [],
   "source": [
    "nuovi_100 = fuzzy_match.loc[[0,1,2,3,4,7,23,25,28,61,71]]"
   ]
  },
  {
   "cell_type": "markdown",
   "id": "53d9810b",
   "metadata": {},
   "source": [
    "Elimino le righe dal df fuzzy_match"
   ]
  },
  {
   "cell_type": "code",
   "execution_count": 42,
   "id": "92983246",
   "metadata": {
    "ExecuteTime": {
     "end_time": "2022-07-14T20:13:30.615110Z",
     "start_time": "2022-07-14T20:13:30.600095Z"
    }
   },
   "outputs": [],
   "source": [
    "fuzzy_match.drop([0,1,2,3,4,7,23,25,28,61,71], axis=0, inplace=True)"
   ]
  },
  {
   "cell_type": "code",
   "execution_count": 43,
   "id": "277f159a",
   "metadata": {
    "ExecuteTime": {
     "end_time": "2022-07-14T20:13:30.631062Z",
     "start_time": "2022-07-14T20:13:30.617065Z"
    }
   },
   "outputs": [
    {
     "data": {
      "text/plain": [
       "462"
      ]
     },
     "execution_count": 43,
     "metadata": {},
     "output_type": "execute_result"
    }
   ],
   "source": [
    "len(fuzzy_match)"
   ]
  },
  {
   "cell_type": "code",
   "execution_count": 44,
   "id": "5d2a8277",
   "metadata": {
    "ExecuteTime": {
     "end_time": "2022-07-14T20:13:30.646064Z",
     "start_time": "2022-07-14T20:13:30.633068Z"
    }
   },
   "outputs": [
    {
     "data": {
      "text/html": [
       "<div>\n",
       "<style scoped>\n",
       "    .dataframe tbody tr th:only-of-type {\n",
       "        vertical-align: middle;\n",
       "    }\n",
       "\n",
       "    .dataframe tbody tr th {\n",
       "        vertical-align: top;\n",
       "    }\n",
       "\n",
       "    .dataframe thead th {\n",
       "        text-align: right;\n",
       "    }\n",
       "</style>\n",
       "<table border=\"1\" class=\"dataframe\">\n",
       "  <thead>\n",
       "    <tr style=\"text-align: right;\">\n",
       "      <th></th>\n",
       "      <th>twitch_name</th>\n",
       "      <th>twitch_clean</th>\n",
       "      <th>steam_name</th>\n",
       "      <th>steam_clean</th>\n",
       "      <th>match_score</th>\n",
       "    </tr>\n",
       "  </thead>\n",
       "  <tbody>\n",
       "    <tr>\n",
       "      <th>0</th>\n",
       "      <td>Monkey Island 2 Special Edition: LeChuck's Rev...</td>\n",
       "      <td>monkey island 2 special edition lechuck's revenge</td>\n",
       "      <td>Monkey Island™ 2 Special Edition: LeChuck’s Re...</td>\n",
       "      <td>monkey island 2 special edition lechucks revenge</td>\n",
       "      <td>100</td>\n",
       "    </tr>\n",
       "    <tr>\n",
       "      <th>1</th>\n",
       "      <td>Assassin's Creed IV: Black Flag</td>\n",
       "      <td>assassin's creed iv black flag</td>\n",
       "      <td>Assassin’s Creed® IV Black Flag™</td>\n",
       "      <td>assassins creed iv black flag</td>\n",
       "      <td>100</td>\n",
       "    </tr>\n",
       "    <tr>\n",
       "      <th>2</th>\n",
       "      <td>BlazBlue: Central Fiction</td>\n",
       "      <td>blazblue central fiction</td>\n",
       "      <td>BlazBlue Centralfiction</td>\n",
       "      <td>blazblue centralfiction</td>\n",
       "      <td>100</td>\n",
       "    </tr>\n",
       "    <tr>\n",
       "      <th>3</th>\n",
       "      <td>Sid Meier's Civilization VI</td>\n",
       "      <td>sid meier's civilization vi</td>\n",
       "      <td>Sid Meier’s Civilization® VI</td>\n",
       "      <td>sid meiers civilization vi</td>\n",
       "      <td>100</td>\n",
       "    </tr>\n",
       "    <tr>\n",
       "      <th>4</th>\n",
       "      <td>Assassin's Creed: Brotherhood</td>\n",
       "      <td>assassin's creed brotherhood</td>\n",
       "      <td>Assassin’s Creed® Brotherhood</td>\n",
       "      <td>assassins creed brotherhood</td>\n",
       "      <td>100</td>\n",
       "    </tr>\n",
       "    <tr>\n",
       "      <th>7</th>\n",
       "      <td>Puyo Puyo Tetris</td>\n",
       "      <td>puyo puyo tetris</td>\n",
       "      <td>Puyo Puyo™Tetris®</td>\n",
       "      <td>puyo puyotetris</td>\n",
       "      <td>100</td>\n",
       "    </tr>\n",
       "    <tr>\n",
       "      <th>23</th>\n",
       "      <td>Tom Clancy's The Division 2</td>\n",
       "      <td>tom clancy's the division 2</td>\n",
       "      <td>Tom Clancy’s The Division™</td>\n",
       "      <td>tom clancys the division</td>\n",
       "      <td>100</td>\n",
       "    </tr>\n",
       "    <tr>\n",
       "      <th>25</th>\n",
       "      <td>Infernax</td>\n",
       "      <td>infernax</td>\n",
       "      <td>Inferna</td>\n",
       "      <td>inferna</td>\n",
       "      <td>100</td>\n",
       "    </tr>\n",
       "    <tr>\n",
       "      <th>28</th>\n",
       "      <td>Dark Messiah of Might and Magic</td>\n",
       "      <td>dark messiah of might and magic</td>\n",
       "      <td>Dark Messiah of Might &amp; Magic</td>\n",
       "      <td>dark messiah of might magic</td>\n",
       "      <td>100</td>\n",
       "    </tr>\n",
       "    <tr>\n",
       "      <th>61</th>\n",
       "      <td>Friday the 13th: The Computer Game</td>\n",
       "      <td>friday the 13th the computer game</td>\n",
       "      <td>Friday the 13th: The Game</td>\n",
       "      <td>friday the 13th the game</td>\n",
       "      <td>100</td>\n",
       "    </tr>\n",
       "    <tr>\n",
       "      <th>71</th>\n",
       "      <td>The Binding of Isaac: Repentance</td>\n",
       "      <td>the binding of isaac repentance</td>\n",
       "      <td>The Binding of Isaac: Rebirth</td>\n",
       "      <td>the binding of isaac rebirth</td>\n",
       "      <td>100</td>\n",
       "    </tr>\n",
       "  </tbody>\n",
       "</table>\n",
       "</div>"
      ],
      "text/plain": [
       "                                          twitch_name  \\\n",
       "0   Monkey Island 2 Special Edition: LeChuck's Rev...   \n",
       "1                     Assassin's Creed IV: Black Flag   \n",
       "2                           BlazBlue: Central Fiction   \n",
       "3                         Sid Meier's Civilization VI   \n",
       "4                       Assassin's Creed: Brotherhood   \n",
       "7                                    Puyo Puyo Tetris   \n",
       "23                        Tom Clancy's The Division 2   \n",
       "25                                           Infernax   \n",
       "28                    Dark Messiah of Might and Magic   \n",
       "61                 Friday the 13th: The Computer Game   \n",
       "71                   The Binding of Isaac: Repentance   \n",
       "\n",
       "                                         twitch_clean  \\\n",
       "0   monkey island 2 special edition lechuck's revenge   \n",
       "1                      assassin's creed iv black flag   \n",
       "2                            blazblue central fiction   \n",
       "3                         sid meier's civilization vi   \n",
       "4                        assassin's creed brotherhood   \n",
       "7                                    puyo puyo tetris   \n",
       "23                        tom clancy's the division 2   \n",
       "25                                           infernax   \n",
       "28                    dark messiah of might and magic   \n",
       "61                  friday the 13th the computer game   \n",
       "71                    the binding of isaac repentance   \n",
       "\n",
       "                                           steam_name  \\\n",
       "0   Monkey Island™ 2 Special Edition: LeChuck’s Re...   \n",
       "1                    Assassin’s Creed® IV Black Flag™   \n",
       "2                             BlazBlue Centralfiction   \n",
       "3                        Sid Meier’s Civilization® VI   \n",
       "4                       Assassin’s Creed® Brotherhood   \n",
       "7                                   Puyo Puyo™Tetris®   \n",
       "23                         Tom Clancy’s The Division™   \n",
       "25                                            Inferna   \n",
       "28                      Dark Messiah of Might & Magic   \n",
       "61                          Friday the 13th: The Game   \n",
       "71                      The Binding of Isaac: Rebirth   \n",
       "\n",
       "                                         steam_clean  match_score  \n",
       "0   monkey island 2 special edition lechucks revenge          100  \n",
       "1                      assassins creed iv black flag          100  \n",
       "2                            blazblue centralfiction          100  \n",
       "3                         sid meiers civilization vi          100  \n",
       "4                        assassins creed brotherhood          100  \n",
       "7                                    puyo puyotetris          100  \n",
       "23                          tom clancys the division          100  \n",
       "25                                           inferna          100  \n",
       "28                       dark messiah of might magic          100  \n",
       "61                          friday the 13th the game          100  \n",
       "71                      the binding of isaac rebirth          100  "
      ]
     },
     "execution_count": 44,
     "metadata": {},
     "output_type": "execute_result"
    }
   ],
   "source": [
    "nuovi_100['match_score'] = 100\n",
    "nuovi_100"
   ]
  },
  {
   "cell_type": "code",
   "execution_count": 45,
   "id": "3e298183",
   "metadata": {
    "ExecuteTime": {
     "end_time": "2022-07-14T20:13:30.662061Z",
     "start_time": "2022-07-14T20:13:30.647067Z"
    }
   },
   "outputs": [],
   "source": [
    "match_100 = pd.concat([match_100,nuovi_100]).reset_index(drop=True)"
   ]
  },
  {
   "cell_type": "markdown",
   "id": "fc656544",
   "metadata": {},
   "source": [
    "Sempre nei match con score tra 80 e 100 otteniamo il seguente subset con 8 twitch/steam_name relativi giochi diversi: eliminiamo lo score"
   ]
  },
  {
   "cell_type": "code",
   "execution_count": 46,
   "id": "1d4056ff",
   "metadata": {
    "ExecuteTime": {
     "end_time": "2022-07-14T20:13:30.678099Z",
     "start_time": "2022-07-14T20:13:30.664063Z"
    }
   },
   "outputs": [],
   "source": [
    "nuovi_no_match = fuzzy_match.loc[[27,40,56,62,67,69,74,76,77]]"
   ]
  },
  {
   "cell_type": "markdown",
   "id": "de94b034",
   "metadata": {},
   "source": [
    "Elimino le righe dal df fuzzy_match"
   ]
  },
  {
   "cell_type": "code",
   "execution_count": 47,
   "id": "4e86a445",
   "metadata": {
    "ExecuteTime": {
     "end_time": "2022-07-14T20:13:30.694061Z",
     "start_time": "2022-07-14T20:13:30.679093Z"
    }
   },
   "outputs": [
    {
     "data": {
      "text/plain": [
       "453"
      ]
     },
     "execution_count": 47,
     "metadata": {},
     "output_type": "execute_result"
    }
   ],
   "source": [
    "fuzzy_match.drop([27,40,56,62,67,69,74,76,77], axis=0, inplace=True)\n",
    "len(fuzzy_match)"
   ]
  },
  {
   "cell_type": "code",
   "execution_count": 48,
   "id": "83a4b5bb",
   "metadata": {
    "ExecuteTime": {
     "end_time": "2022-07-14T20:13:30.710062Z",
     "start_time": "2022-07-14T20:13:30.695063Z"
    }
   },
   "outputs": [
    {
     "data": {
      "text/html": [
       "<div>\n",
       "<style scoped>\n",
       "    .dataframe tbody tr th:only-of-type {\n",
       "        vertical-align: middle;\n",
       "    }\n",
       "\n",
       "    .dataframe tbody tr th {\n",
       "        vertical-align: top;\n",
       "    }\n",
       "\n",
       "    .dataframe thead th {\n",
       "        text-align: right;\n",
       "    }\n",
       "</style>\n",
       "<table border=\"1\" class=\"dataframe\">\n",
       "  <thead>\n",
       "    <tr style=\"text-align: right;\">\n",
       "      <th></th>\n",
       "      <th>twitch_name</th>\n",
       "      <th>twitch_clean</th>\n",
       "      <th>steam_name</th>\n",
       "      <th>steam_clean</th>\n",
       "      <th>match_score</th>\n",
       "    </tr>\n",
       "  </thead>\n",
       "  <tbody>\n",
       "    <tr>\n",
       "      <th>27</th>\n",
       "      <td>Stronghold Crusader II</td>\n",
       "      <td>stronghold crusader ii</td>\n",
       "      <td>Stronghold Crusader 2</td>\n",
       "      <td>stronghold crusader 2</td>\n",
       "      <td></td>\n",
       "    </tr>\n",
       "    <tr>\n",
       "      <th>40</th>\n",
       "      <td>BUS SIMULATOR</td>\n",
       "      <td>bus simulator</td>\n",
       "      <td>Bus Simulator 18</td>\n",
       "      <td>bus simulator 18</td>\n",
       "      <td></td>\n",
       "    </tr>\n",
       "    <tr>\n",
       "      <th>56</th>\n",
       "      <td>FIFA 21</td>\n",
       "      <td>fifa 21</td>\n",
       "      <td>FIFA 22</td>\n",
       "      <td>fifa 22</td>\n",
       "      <td></td>\n",
       "    </tr>\n",
       "    <tr>\n",
       "      <th>62</th>\n",
       "      <td>Expedition Zero</td>\n",
       "      <td>expedition zero</td>\n",
       "      <td>Expeditions: Rome</td>\n",
       "      <td>expeditions rome</td>\n",
       "      <td></td>\n",
       "    </tr>\n",
       "    <tr>\n",
       "      <th>67</th>\n",
       "      <td>The King of Fighters All-Star</td>\n",
       "      <td>the king of fighters allstar</td>\n",
       "      <td>THE KING OF FIGHTERS XV</td>\n",
       "      <td>the king of fighters xv</td>\n",
       "      <td></td>\n",
       "    </tr>\n",
       "    <tr>\n",
       "      <th>69</th>\n",
       "      <td>Tomb Raider: Gold</td>\n",
       "      <td>tomb raider gold</td>\n",
       "      <td>Tomb Raider</td>\n",
       "      <td>tomb raider</td>\n",
       "      <td></td>\n",
       "    </tr>\n",
       "    <tr>\n",
       "      <th>74</th>\n",
       "      <td>DOOM 3</td>\n",
       "      <td>doom 3</td>\n",
       "      <td>DOOM</td>\n",
       "      <td>doom</td>\n",
       "      <td></td>\n",
       "    </tr>\n",
       "    <tr>\n",
       "      <th>76</th>\n",
       "      <td>Kingdom Hearts</td>\n",
       "      <td>kingdom hearts</td>\n",
       "      <td>Kingdom Heroes 8</td>\n",
       "      <td>kingdom heroes 8</td>\n",
       "      <td></td>\n",
       "    </tr>\n",
       "    <tr>\n",
       "      <th>77</th>\n",
       "      <td>Virtual Casino</td>\n",
       "      <td>virtual casino</td>\n",
       "      <td>VirtualCast</td>\n",
       "      <td>virtualcast</td>\n",
       "      <td></td>\n",
       "    </tr>\n",
       "  </tbody>\n",
       "</table>\n",
       "</div>"
      ],
      "text/plain": [
       "                      twitch_name                  twitch_clean  \\\n",
       "27         Stronghold Crusader II        stronghold crusader ii   \n",
       "40                  BUS SIMULATOR                 bus simulator   \n",
       "56                        FIFA 21                       fifa 21   \n",
       "62                Expedition Zero               expedition zero   \n",
       "67  The King of Fighters All-Star  the king of fighters allstar   \n",
       "69              Tomb Raider: Gold              tomb raider gold   \n",
       "74                         DOOM 3                        doom 3   \n",
       "76                 Kingdom Hearts                kingdom hearts   \n",
       "77                 Virtual Casino                virtual casino   \n",
       "\n",
       "                 steam_name              steam_clean match_score  \n",
       "27    Stronghold Crusader 2    stronghold crusader 2              \n",
       "40         Bus Simulator 18         bus simulator 18              \n",
       "56                  FIFA 22                  fifa 22              \n",
       "62        Expeditions: Rome         expeditions rome              \n",
       "67  THE KING OF FIGHTERS XV  the king of fighters xv              \n",
       "69              Tomb Raider              tomb raider              \n",
       "74                     DOOM                     doom              \n",
       "76         Kingdom Heroes 8         kingdom heroes 8              \n",
       "77              VirtualCast              virtualcast              "
      ]
     },
     "execution_count": 48,
     "metadata": {},
     "output_type": "execute_result"
    }
   ],
   "source": [
    "nuovi_no_match['match_score'] = ''\n",
    "nuovi_no_match"
   ]
  },
  {
   "cell_type": "code",
   "execution_count": 49,
   "id": "df96d582",
   "metadata": {
    "ExecuteTime": {
     "end_time": "2022-07-14T20:13:30.725064Z",
     "start_time": "2022-07-14T20:13:30.711063Z"
    },
    "scrolled": false
   },
   "outputs": [
    {
     "data": {
      "text/plain": [
       "277"
      ]
     },
     "execution_count": 49,
     "metadata": {},
     "output_type": "execute_result"
    }
   ],
   "source": [
    "no_match = pd.concat([no_match,nuovi_no_match]).reset_index(drop=True)\n",
    "len(no_match)"
   ]
  },
  {
   "cell_type": "markdown",
   "id": "c5c0226e",
   "metadata": {},
   "source": [
    "#### Results"
   ]
  },
  {
   "cell_type": "code",
   "execution_count": 50,
   "id": "c8ff3e94",
   "metadata": {
    "ExecuteTime": {
     "end_time": "2022-07-14T20:13:30.741094Z",
     "start_time": "2022-07-14T20:13:30.727062Z"
    }
   },
   "outputs": [
    {
     "data": {
      "text/plain": [
       "1144"
      ]
     },
     "execution_count": 50,
     "metadata": {},
     "output_type": "execute_result"
    }
   ],
   "source": [
    "len(match_100) + len(fuzzy_match) + len(no_match) + len(dupl)"
   ]
  },
  {
   "cell_type": "code",
   "execution_count": 51,
   "id": "3f2628bb",
   "metadata": {
    "ExecuteTime": {
     "end_time": "2022-07-14T20:13:30.757065Z",
     "start_time": "2022-07-14T20:13:30.743092Z"
    }
   },
   "outputs": [
    {
     "data": {
      "text/html": [
       "<div>\n",
       "<style scoped>\n",
       "    .dataframe tbody tr th:only-of-type {\n",
       "        vertical-align: middle;\n",
       "    }\n",
       "\n",
       "    .dataframe tbody tr th {\n",
       "        vertical-align: top;\n",
       "    }\n",
       "\n",
       "    .dataframe thead th {\n",
       "        text-align: right;\n",
       "    }\n",
       "</style>\n",
       "<table border=\"1\" class=\"dataframe\">\n",
       "  <thead>\n",
       "    <tr style=\"text-align: right;\">\n",
       "      <th></th>\n",
       "      <th>twitch_name</th>\n",
       "      <th>twitch_clean</th>\n",
       "      <th>steam_name</th>\n",
       "      <th>steam_clean</th>\n",
       "      <th>match_score</th>\n",
       "    </tr>\n",
       "  </thead>\n",
       "  <tbody>\n",
       "    <tr>\n",
       "      <th>0</th>\n",
       "      <td>Alice: Madness Returns</td>\n",
       "      <td>alice madness returns</td>\n",
       "      <td>Alice: Madness Returns</td>\n",
       "      <td></td>\n",
       "      <td>100</td>\n",
       "    </tr>\n",
       "    <tr>\n",
       "      <th>1</th>\n",
       "      <td>Witch It</td>\n",
       "      <td>witch it</td>\n",
       "      <td>Witch It</td>\n",
       "      <td></td>\n",
       "      <td>100</td>\n",
       "    </tr>\n",
       "    <tr>\n",
       "      <th>2</th>\n",
       "      <td>The Stanley Parable: Ultra Deluxe</td>\n",
       "      <td>the stanley parable ultra deluxe</td>\n",
       "      <td>The Stanley Parable: Ultra Deluxe</td>\n",
       "      <td></td>\n",
       "      <td>100</td>\n",
       "    </tr>\n",
       "    <tr>\n",
       "      <th>3</th>\n",
       "      <td>The Long Drive</td>\n",
       "      <td>the long drive</td>\n",
       "      <td>The Long Drive</td>\n",
       "      <td></td>\n",
       "      <td>100</td>\n",
       "    </tr>\n",
       "    <tr>\n",
       "      <th>4</th>\n",
       "      <td>INSIDE</td>\n",
       "      <td>inside</td>\n",
       "      <td>INSIDE</td>\n",
       "      <td></td>\n",
       "      <td>100</td>\n",
       "    </tr>\n",
       "    <tr>\n",
       "      <th>...</th>\n",
       "      <td>...</td>\n",
       "      <td>...</td>\n",
       "      <td>...</td>\n",
       "      <td>...</td>\n",
       "      <td>...</td>\n",
       "    </tr>\n",
       "    <tr>\n",
       "      <th>1139</th>\n",
       "      <td>Tomb Raider: Gold</td>\n",
       "      <td>tomb raider gold</td>\n",
       "      <td>Tomb Raider</td>\n",
       "      <td>tomb raider</td>\n",
       "      <td></td>\n",
       "    </tr>\n",
       "    <tr>\n",
       "      <th>1140</th>\n",
       "      <td>DOOM 3</td>\n",
       "      <td>doom 3</td>\n",
       "      <td>DOOM</td>\n",
       "      <td>doom</td>\n",
       "      <td></td>\n",
       "    </tr>\n",
       "    <tr>\n",
       "      <th>1141</th>\n",
       "      <td>Kingdom Hearts</td>\n",
       "      <td>kingdom hearts</td>\n",
       "      <td>Kingdom Heroes 8</td>\n",
       "      <td>kingdom heroes 8</td>\n",
       "      <td></td>\n",
       "    </tr>\n",
       "    <tr>\n",
       "      <th>1142</th>\n",
       "      <td>Virtual Casino</td>\n",
       "      <td>virtual casino</td>\n",
       "      <td>VirtualCast</td>\n",
       "      <td>virtualcast</td>\n",
       "      <td></td>\n",
       "    </tr>\n",
       "    <tr>\n",
       "      <th>1143</th>\n",
       "      <td>F1 2021</td>\n",
       "      <td>f1 2021</td>\n",
       "      <td></td>\n",
       "      <td></td>\n",
       "      <td></td>\n",
       "    </tr>\n",
       "  </tbody>\n",
       "</table>\n",
       "<p>1144 rows × 5 columns</p>\n",
       "</div>"
      ],
      "text/plain": [
       "                            twitch_name                      twitch_clean  \\\n",
       "0                Alice: Madness Returns             alice madness returns   \n",
       "1                              Witch It                          witch it   \n",
       "2     The Stanley Parable: Ultra Deluxe  the stanley parable ultra deluxe   \n",
       "3                        The Long Drive                    the long drive   \n",
       "4                                INSIDE                            inside   \n",
       "...                                 ...                               ...   \n",
       "1139                  Tomb Raider: Gold                  tomb raider gold   \n",
       "1140                             DOOM 3                            doom 3   \n",
       "1141                     Kingdom Hearts                    kingdom hearts   \n",
       "1142                     Virtual Casino                    virtual casino   \n",
       "1143                            F1 2021                           f1 2021   \n",
       "\n",
       "                             steam_name       steam_clean match_score  \n",
       "0                Alice: Madness Returns                           100  \n",
       "1                              Witch It                           100  \n",
       "2     The Stanley Parable: Ultra Deluxe                           100  \n",
       "3                        The Long Drive                           100  \n",
       "4                                INSIDE                           100  \n",
       "...                                 ...               ...         ...  \n",
       "1139                        Tomb Raider       tomb raider              \n",
       "1140                               DOOM              doom              \n",
       "1141                   Kingdom Heroes 8  kingdom heroes 8              \n",
       "1142                        VirtualCast       virtualcast              \n",
       "1143                                                                   \n",
       "\n",
       "[1144 rows x 5 columns]"
      ]
     },
     "execution_count": 51,
     "metadata": {},
     "output_type": "execute_result"
    }
   ],
   "source": [
    "games_total = pd.concat([match_100,fuzzy_match,no_match,dupl]).reset_index(drop=True)\n",
    "games_total"
   ]
  },
  {
   "cell_type": "code",
   "execution_count": 52,
   "id": "d5131477",
   "metadata": {
    "ExecuteTime": {
     "end_time": "2022-07-14T20:13:30.773093Z",
     "start_time": "2022-07-14T20:13:30.759080Z"
    }
   },
   "outputs": [],
   "source": [
    "#games_total.to_csv('games_total.csv')"
   ]
  },
  {
   "cell_type": "markdown",
   "id": "788bdd9f",
   "metadata": {},
   "source": [
    "Dall'analisi dei fuzzy_match con score maggiore di 70, estriamo le righe relative a match maggiori o uguali a score 79, perchè relative a match tra edizioni differenti del medesimo videogioco: per questo motivo questi match corrispondono ad un match di categorie di gioco"
   ]
  },
  {
   "cell_type": "code",
   "execution_count": 53,
   "id": "b767c4bb",
   "metadata": {
    "ExecuteTime": {
     "end_time": "2022-07-14T20:13:30.789092Z",
     "start_time": "2022-07-14T20:13:30.774063Z"
    }
   },
   "outputs": [
    {
     "data": {
      "text/plain": [
       "66"
      ]
     },
     "execution_count": 53,
     "metadata": {},
     "output_type": "execute_result"
    }
   ],
   "source": [
    "fuzzy_high = fuzzy_match[fuzzy_match.match_score.between(79,100)]\n",
    "len(fuzzy_high)"
   ]
  },
  {
   "cell_type": "markdown",
   "id": "b917a2dd",
   "metadata": {},
   "source": [
    "## Merging"
   ]
  },
  {
   "cell_type": "markdown",
   "id": "60e3c9ba",
   "metadata": {},
   "source": [
    "- match_100 : enrichment con 'title','Developer','Publisher','Release Date','categories';\n",
    "\n",
    "- fuzzy_high : enrichment con 'title','Developer','Publisher','categories'"
   ]
  },
  {
   "cell_type": "markdown",
   "id": "87b7b334",
   "metadata": {},
   "source": [
    "controllo i 10 giochi duplicati"
   ]
  },
  {
   "cell_type": "code",
   "execution_count": 54,
   "id": "b7d36e83",
   "metadata": {
    "ExecuteTime": {
     "end_time": "2022-07-14T20:13:30.820097Z",
     "start_time": "2022-07-14T20:13:30.791065Z"
    }
   },
   "outputs": [
    {
     "name": "stdout",
     "output_type": "stream",
     "text": [
      "45\n"
     ]
    }
   ],
   "source": [
    "for row in range(len(games_total)):\n",
    "    if games_total.steam_name[row] in dupl_games:\n",
    "        print(row)"
   ]
  },
  {
   "cell_type": "code",
   "execution_count": 55,
   "id": "f0bca72a",
   "metadata": {
    "ExecuteTime": {
     "end_time": "2022-07-14T20:13:30.836098Z",
     "start_time": "2022-07-14T20:13:30.822062Z"
    },
    "scrolled": true
   },
   "outputs": [
    {
     "data": {
      "text/plain": [
       "[\"Conqueror's Blade\",\n",
       " 'DEAD OR ALIVE Xtreme Venus Vacation',\n",
       " 'Fallout: New Vegas',\n",
       " 'Ironsight',\n",
       " 'Romance of the Three Kingdoms Hadou',\n",
       " 'Wolfenstein II: The New Colossus',\n",
       " 'Dishonored',\n",
       " 'Wolfenstein: The New Order',\n",
       " 'Anomaly Zone',\n",
       " 'GRID']"
      ]
     },
     "execution_count": 55,
     "metadata": {},
     "output_type": "execute_result"
    }
   ],
   "source": [
    "dupl_games"
   ]
  },
  {
   "cell_type": "code",
   "execution_count": 56,
   "id": "408d4a33",
   "metadata": {
    "ExecuteTime": {
     "end_time": "2022-07-14T20:13:30.851067Z",
     "start_time": "2022-07-14T20:13:30.837064Z"
    },
    "scrolled": true
   },
   "outputs": [
    {
     "name": "stdout",
     "output_type": "stream",
     "text": [
      "Fallout: New Vegas\n"
     ]
    }
   ],
   "source": [
    "for row in range(len(games_total)):\n",
    "    if games_total.steam_name[row] in dupl_games:\n",
    "        print(games_total.twitch_name[row])"
   ]
  },
  {
   "cell_type": "markdown",
   "id": "8ac996d7",
   "metadata": {},
   "source": [
    "Tra i giochi per cui faremo enrichment, 'Fallout: New Vegas' presenta un duplicato in steam_db"
   ]
  },
  {
   "cell_type": "code",
   "execution_count": 57,
   "id": "6b12b15b",
   "metadata": {
    "ExecuteTime": {
     "end_time": "2022-07-14T20:13:30.867084Z",
     "start_time": "2022-07-14T20:13:30.852064Z"
    },
    "scrolled": true
   },
   "outputs": [
    {
     "name": "stdout",
     "output_type": "stream",
     "text": [
      "22380 {'title': 'Fallout: New Vegas', 'Developer': 'Obsidian Entertainment', 'Publisher': 'Bethesda Softworks', 'Release Date': '19 October 2010', '24h Player Peak': '5,049', 'Followers': '143,057', 'categories': ['Open World', 'RPG', 'Post-apocalyptic', 'Singleplayer', 'Moddable', 'Exploration']}\n",
      "22490 {'title': 'Fallout: New Vegas', 'Developer': 'Obsidian Entertainment', 'Publisher': 'Bethesda Softworks', 'Release Date': '21 October 2010', '24h Player Peak': '817', 'Followers': '9,254', 'categories': ['RPG', 'Post-apocalyptic', 'Open World', 'Atmospheric', 'Story Rich', 'Action']}\n"
     ]
    }
   ],
   "source": [
    "for key in games:\n",
    "    if games[key]['title'] == 'Fallout: New Vegas':\n",
    "        print(key,games[key])"
   ]
  },
  {
   "cell_type": "markdown",
   "id": "16dc3788",
   "metadata": {},
   "source": [
    "Scelgo di arricchirre con le info del gioco associato alla data di rilascio '19 october 2010' [22380], con maggiori followers:\n",
    "il successivo [22490], data di rilascio due giorni dopo, è probabilmente una patch.    "
   ]
  },
  {
   "cell_type": "code",
   "execution_count": 58,
   "id": "3524a453",
   "metadata": {
    "ExecuteTime": {
     "end_time": "2022-07-14T20:13:30.883064Z",
     "start_time": "2022-07-14T20:13:30.869062Z"
    }
   },
   "outputs": [
    {
     "data": {
      "text/html": [
       "<div>\n",
       "<style scoped>\n",
       "    .dataframe tbody tr th:only-of-type {\n",
       "        vertical-align: middle;\n",
       "    }\n",
       "\n",
       "    .dataframe tbody tr th {\n",
       "        vertical-align: top;\n",
       "    }\n",
       "\n",
       "    .dataframe thead th {\n",
       "        text-align: right;\n",
       "    }\n",
       "</style>\n",
       "<table border=\"1\" class=\"dataframe\">\n",
       "  <thead>\n",
       "    <tr style=\"text-align: right;\">\n",
       "      <th></th>\n",
       "      <th>twitch_name</th>\n",
       "      <th>twitch_clean</th>\n",
       "      <th>steam_name</th>\n",
       "      <th>steam_clean</th>\n",
       "      <th>match_score</th>\n",
       "    </tr>\n",
       "  </thead>\n",
       "  <tbody>\n",
       "    <tr>\n",
       "      <th>0</th>\n",
       "      <td>Alice: Madness Returns</td>\n",
       "      <td>alice madness returns</td>\n",
       "      <td>Alice: Madness Returns</td>\n",
       "      <td></td>\n",
       "      <td>100</td>\n",
       "    </tr>\n",
       "    <tr>\n",
       "      <th>1</th>\n",
       "      <td>Witch It</td>\n",
       "      <td>witch it</td>\n",
       "      <td>Witch It</td>\n",
       "      <td></td>\n",
       "      <td>100</td>\n",
       "    </tr>\n",
       "    <tr>\n",
       "      <th>2</th>\n",
       "      <td>The Stanley Parable: Ultra Deluxe</td>\n",
       "      <td>the stanley parable ultra deluxe</td>\n",
       "      <td>The Stanley Parable: Ultra Deluxe</td>\n",
       "      <td></td>\n",
       "      <td>100</td>\n",
       "    </tr>\n",
       "    <tr>\n",
       "      <th>3</th>\n",
       "      <td>The Long Drive</td>\n",
       "      <td>the long drive</td>\n",
       "      <td>The Long Drive</td>\n",
       "      <td></td>\n",
       "      <td>100</td>\n",
       "    </tr>\n",
       "    <tr>\n",
       "      <th>4</th>\n",
       "      <td>INSIDE</td>\n",
       "      <td>inside</td>\n",
       "      <td>INSIDE</td>\n",
       "      <td></td>\n",
       "      <td>100</td>\n",
       "    </tr>\n",
       "    <tr>\n",
       "      <th>...</th>\n",
       "      <td>...</td>\n",
       "      <td>...</td>\n",
       "      <td>...</td>\n",
       "      <td>...</td>\n",
       "      <td>...</td>\n",
       "    </tr>\n",
       "    <tr>\n",
       "      <th>81</th>\n",
       "      <td>Dragon Ball Z</td>\n",
       "      <td>dragon ball z</td>\n",
       "      <td>DRAGON BALL FighterZ</td>\n",
       "      <td>dragon ball fighterz</td>\n",
       "      <td>79</td>\n",
       "    </tr>\n",
       "    <tr>\n",
       "      <th>82</th>\n",
       "      <td>Assassin's Creed Valhalla</td>\n",
       "      <td>assassin's creed valhalla</td>\n",
       "      <td>Assassin's Creed 2</td>\n",
       "      <td>assassin's creed 2</td>\n",
       "      <td>79</td>\n",
       "    </tr>\n",
       "    <tr>\n",
       "      <th>83</th>\n",
       "      <td>Dissidia Final Fantasy NT</td>\n",
       "      <td>dissidia final fantasy nt</td>\n",
       "      <td>DISSIDIA FINAL FANTASY NT Free Edition</td>\n",
       "      <td>dissidia final fantasy nt free edition</td>\n",
       "      <td>79</td>\n",
       "    </tr>\n",
       "    <tr>\n",
       "      <th>84</th>\n",
       "      <td>Call of Duty: Mobile</td>\n",
       "      <td>call of duty mobile</td>\n",
       "      <td>Call of Duty® 2</td>\n",
       "      <td>call of duty 2</td>\n",
       "      <td>79</td>\n",
       "    </tr>\n",
       "    <tr>\n",
       "      <th>85</th>\n",
       "      <td>Batman: Arkham Asylum</td>\n",
       "      <td>batman arkham asylum</td>\n",
       "      <td>Batman: Arkham City</td>\n",
       "      <td>batman arkham city</td>\n",
       "      <td>79</td>\n",
       "    </tr>\n",
       "  </tbody>\n",
       "</table>\n",
       "<p>479 rows × 5 columns</p>\n",
       "</div>"
      ],
      "text/plain": [
       "                          twitch_name                      twitch_clean  \\\n",
       "0              Alice: Madness Returns             alice madness returns   \n",
       "1                            Witch It                          witch it   \n",
       "2   The Stanley Parable: Ultra Deluxe  the stanley parable ultra deluxe   \n",
       "3                      The Long Drive                    the long drive   \n",
       "4                              INSIDE                            inside   \n",
       "..                                ...                               ...   \n",
       "81                      Dragon Ball Z                     dragon ball z   \n",
       "82          Assassin's Creed Valhalla         assassin's creed valhalla   \n",
       "83          Dissidia Final Fantasy NT         dissidia final fantasy nt   \n",
       "84               Call of Duty: Mobile               call of duty mobile   \n",
       "85              Batman: Arkham Asylum              batman arkham asylum   \n",
       "\n",
       "                                steam_name  \\\n",
       "0                   Alice: Madness Returns   \n",
       "1                                 Witch It   \n",
       "2        The Stanley Parable: Ultra Deluxe   \n",
       "3                           The Long Drive   \n",
       "4                                   INSIDE   \n",
       "..                                     ...   \n",
       "81                    DRAGON BALL FighterZ   \n",
       "82                      Assassin's Creed 2   \n",
       "83  DISSIDIA FINAL FANTASY NT Free Edition   \n",
       "84                         Call of Duty® 2   \n",
       "85                     Batman: Arkham City   \n",
       "\n",
       "                               steam_clean match_score  \n",
       "0                                                  100  \n",
       "1                                                  100  \n",
       "2                                                  100  \n",
       "3                                                  100  \n",
       "4                                                  100  \n",
       "..                                     ...         ...  \n",
       "81                    dragon ball fighterz          79  \n",
       "82                      assassin's creed 2          79  \n",
       "83  dissidia final fantasy nt free edition          79  \n",
       "84                          call of duty 2          79  \n",
       "85                      batman arkham city          79  \n",
       "\n",
       "[479 rows x 5 columns]"
      ]
     },
     "execution_count": 58,
     "metadata": {},
     "output_type": "execute_result"
    }
   ],
   "source": [
    "to_enrich = pd.concat([match_100,fuzzy_high])\n",
    "to_enrich"
   ]
  },
  {
   "cell_type": "code",
   "execution_count": 59,
   "id": "2c5d1311",
   "metadata": {
    "ExecuteTime": {
     "end_time": "2022-07-14T20:13:30.898061Z",
     "start_time": "2022-07-14T20:13:30.884062Z"
    },
    "scrolled": false
   },
   "outputs": [
    {
     "data": {
      "text/html": [
       "<div>\n",
       "<style scoped>\n",
       "    .dataframe tbody tr th:only-of-type {\n",
       "        vertical-align: middle;\n",
       "    }\n",
       "\n",
       "    .dataframe tbody tr th {\n",
       "        vertical-align: top;\n",
       "    }\n",
       "\n",
       "    .dataframe thead th {\n",
       "        text-align: right;\n",
       "    }\n",
       "</style>\n",
       "<table border=\"1\" class=\"dataframe\">\n",
       "  <thead>\n",
       "    <tr style=\"text-align: right;\">\n",
       "      <th></th>\n",
       "      <th>twitch_name</th>\n",
       "    </tr>\n",
       "    <tr>\n",
       "      <th>ID_game</th>\n",
       "      <th></th>\n",
       "    </tr>\n",
       "  </thead>\n",
       "  <tbody>\n",
       "    <tr>\n",
       "      <th>0</th>\n",
       "      <td>Monster Hunter Generations Ultimate</td>\n",
       "    </tr>\n",
       "    <tr>\n",
       "      <th>1</th>\n",
       "      <td>Alice: Madness Returns</td>\n",
       "    </tr>\n",
       "    <tr>\n",
       "      <th>2</th>\n",
       "      <td>Hold Fast</td>\n",
       "    </tr>\n",
       "    <tr>\n",
       "      <th>3</th>\n",
       "      <td>Pokémon Trading Card Game Online</td>\n",
       "    </tr>\n",
       "    <tr>\n",
       "      <th>4</th>\n",
       "      <td>Witch It</td>\n",
       "    </tr>\n",
       "    <tr>\n",
       "      <th>...</th>\n",
       "      <td>...</td>\n",
       "    </tr>\n",
       "    <tr>\n",
       "      <th>1139</th>\n",
       "      <td>Rise of Nations: Extended Edition</td>\n",
       "    </tr>\n",
       "    <tr>\n",
       "      <th>1140</th>\n",
       "      <td>Paper Mario: The Origami King</td>\n",
       "    </tr>\n",
       "    <tr>\n",
       "      <th>1141</th>\n",
       "      <td>The Inheritance of Crimson Manor</td>\n",
       "    </tr>\n",
       "    <tr>\n",
       "      <th>1142</th>\n",
       "      <td>Occult</td>\n",
       "    </tr>\n",
       "    <tr>\n",
       "      <th>1143</th>\n",
       "      <td>Sign of Silence</td>\n",
       "    </tr>\n",
       "  </tbody>\n",
       "</table>\n",
       "<p>1144 rows × 1 columns</p>\n",
       "</div>"
      ],
      "text/plain": [
       "                                 twitch_name\n",
       "ID_game                                     \n",
       "0        Monster Hunter Generations Ultimate\n",
       "1                     Alice: Madness Returns\n",
       "2                                  Hold Fast\n",
       "3           Pokémon Trading Card Game Online\n",
       "4                                   Witch It\n",
       "...                                      ...\n",
       "1139       Rise of Nations: Extended Edition\n",
       "1140           Paper Mario: The Origami King\n",
       "1141        The Inheritance of Crimson Manor\n",
       "1142                                  Occult\n",
       "1143                         Sign of Silence\n",
       "\n",
       "[1144 rows x 1 columns]"
      ]
     },
     "execution_count": 59,
     "metadata": {},
     "output_type": "execute_result"
    }
   ],
   "source": [
    "games_tw = games_tw.rename(columns={'game_name':'twitch_name'})\n",
    "games_tw"
   ]
  },
  {
   "cell_type": "code",
   "execution_count": 60,
   "id": "7d01a007",
   "metadata": {
    "ExecuteTime": {
     "end_time": "2022-07-14T20:13:30.930064Z",
     "start_time": "2022-07-14T20:13:30.899063Z"
    }
   },
   "outputs": [
    {
     "data": {
      "text/html": [
       "<div>\n",
       "<style scoped>\n",
       "    .dataframe tbody tr th:only-of-type {\n",
       "        vertical-align: middle;\n",
       "    }\n",
       "\n",
       "    .dataframe tbody tr th {\n",
       "        vertical-align: top;\n",
       "    }\n",
       "\n",
       "    .dataframe thead th {\n",
       "        text-align: right;\n",
       "    }\n",
       "</style>\n",
       "<table border=\"1\" class=\"dataframe\">\n",
       "  <thead>\n",
       "    <tr style=\"text-align: right;\">\n",
       "      <th></th>\n",
       "      <th>twitch_name</th>\n",
       "      <th>steam_name</th>\n",
       "      <th>match_score</th>\n",
       "      <th>Developer</th>\n",
       "      <th>Publisher</th>\n",
       "      <th>Release_Date</th>\n",
       "      <th>categories</th>\n",
       "    </tr>\n",
       "  </thead>\n",
       "  <tbody>\n",
       "    <tr>\n",
       "      <th>0</th>\n",
       "      <td>Monster Hunter Generations Ultimate</td>\n",
       "      <td>NaN</td>\n",
       "      <td>NaN</td>\n",
       "      <td></td>\n",
       "      <td></td>\n",
       "      <td></td>\n",
       "      <td></td>\n",
       "    </tr>\n",
       "    <tr>\n",
       "      <th>1</th>\n",
       "      <td>Alice: Madness Returns</td>\n",
       "      <td>Alice: Madness Returns</td>\n",
       "      <td>100</td>\n",
       "      <td></td>\n",
       "      <td></td>\n",
       "      <td></td>\n",
       "      <td></td>\n",
       "    </tr>\n",
       "    <tr>\n",
       "      <th>2</th>\n",
       "      <td>Hold Fast</td>\n",
       "      <td>NaN</td>\n",
       "      <td>NaN</td>\n",
       "      <td></td>\n",
       "      <td></td>\n",
       "      <td></td>\n",
       "      <td></td>\n",
       "    </tr>\n",
       "    <tr>\n",
       "      <th>3</th>\n",
       "      <td>Pokémon Trading Card Game Online</td>\n",
       "      <td>NaN</td>\n",
       "      <td>NaN</td>\n",
       "      <td></td>\n",
       "      <td></td>\n",
       "      <td></td>\n",
       "      <td></td>\n",
       "    </tr>\n",
       "    <tr>\n",
       "      <th>4</th>\n",
       "      <td>Witch It</td>\n",
       "      <td>Witch It</td>\n",
       "      <td>100</td>\n",
       "      <td></td>\n",
       "      <td></td>\n",
       "      <td></td>\n",
       "      <td></td>\n",
       "    </tr>\n",
       "    <tr>\n",
       "      <th>...</th>\n",
       "      <td>...</td>\n",
       "      <td>...</td>\n",
       "      <td>...</td>\n",
       "      <td>...</td>\n",
       "      <td>...</td>\n",
       "      <td>...</td>\n",
       "      <td>...</td>\n",
       "    </tr>\n",
       "    <tr>\n",
       "      <th>1139</th>\n",
       "      <td>Rise of Nations: Extended Edition</td>\n",
       "      <td>Rise of Nations: Extended Edition</td>\n",
       "      <td>100</td>\n",
       "      <td></td>\n",
       "      <td></td>\n",
       "      <td></td>\n",
       "      <td></td>\n",
       "    </tr>\n",
       "    <tr>\n",
       "      <th>1140</th>\n",
       "      <td>Paper Mario: The Origami King</td>\n",
       "      <td>NaN</td>\n",
       "      <td>NaN</td>\n",
       "      <td></td>\n",
       "      <td></td>\n",
       "      <td></td>\n",
       "      <td></td>\n",
       "    </tr>\n",
       "    <tr>\n",
       "      <th>1141</th>\n",
       "      <td>The Inheritance of Crimson Manor</td>\n",
       "      <td>NaN</td>\n",
       "      <td>NaN</td>\n",
       "      <td></td>\n",
       "      <td></td>\n",
       "      <td></td>\n",
       "      <td></td>\n",
       "    </tr>\n",
       "    <tr>\n",
       "      <th>1142</th>\n",
       "      <td>Occult</td>\n",
       "      <td>NaN</td>\n",
       "      <td>NaN</td>\n",
       "      <td></td>\n",
       "      <td></td>\n",
       "      <td></td>\n",
       "      <td></td>\n",
       "    </tr>\n",
       "    <tr>\n",
       "      <th>1143</th>\n",
       "      <td>Sign of Silence</td>\n",
       "      <td>Sign of Silence</td>\n",
       "      <td>100</td>\n",
       "      <td></td>\n",
       "      <td></td>\n",
       "      <td></td>\n",
       "      <td></td>\n",
       "    </tr>\n",
       "  </tbody>\n",
       "</table>\n",
       "<p>1144 rows × 7 columns</p>\n",
       "</div>"
      ],
      "text/plain": [
       "                              twitch_name                         steam_name  \\\n",
       "0     Monster Hunter Generations Ultimate                                NaN   \n",
       "1                  Alice: Madness Returns             Alice: Madness Returns   \n",
       "2                               Hold Fast                                NaN   \n",
       "3        Pokémon Trading Card Game Online                                NaN   \n",
       "4                                Witch It                           Witch It   \n",
       "...                                   ...                                ...   \n",
       "1139    Rise of Nations: Extended Edition  Rise of Nations: Extended Edition   \n",
       "1140        Paper Mario: The Origami King                                NaN   \n",
       "1141     The Inheritance of Crimson Manor                                NaN   \n",
       "1142                               Occult                                NaN   \n",
       "1143                      Sign of Silence                    Sign of Silence   \n",
       "\n",
       "     match_score Developer Publisher Release_Date categories  \n",
       "0            NaN                                              \n",
       "1            100                                              \n",
       "2            NaN                                              \n",
       "3            NaN                                              \n",
       "4            100                                              \n",
       "...          ...       ...       ...          ...        ...  \n",
       "1139         100                                              \n",
       "1140         NaN                                              \n",
       "1141         NaN                                              \n",
       "1142         NaN                                              \n",
       "1143         100                                              \n",
       "\n",
       "[1144 rows x 7 columns]"
      ]
     },
     "execution_count": 60,
     "metadata": {},
     "output_type": "execute_result"
    }
   ],
   "source": [
    "info_df = games_tw.merge(to_enrich[['twitch_name','steam_name','match_score']] , on= 'twitch_name', how='left')\n",
    "info_df['Developer'] = ''\n",
    "info_df['Publisher'] = ''\n",
    "info_df['Release_Date'] = ''\n",
    "info_df['categories'] = ''\n",
    "info_df"
   ]
  },
  {
   "cell_type": "code",
   "execution_count": 61,
   "id": "d70c3c20",
   "metadata": {
    "ExecuteTime": {
     "end_time": "2022-07-14T20:13:30.962082Z",
     "start_time": "2022-07-14T20:13:30.932063Z"
    }
   },
   "outputs": [
    {
     "data": {
      "text/html": [
       "<div>\n",
       "<style scoped>\n",
       "    .dataframe tbody tr th:only-of-type {\n",
       "        vertical-align: middle;\n",
       "    }\n",
       "\n",
       "    .dataframe tbody tr th {\n",
       "        vertical-align: top;\n",
       "    }\n",
       "\n",
       "    .dataframe thead th {\n",
       "        text-align: right;\n",
       "    }\n",
       "</style>\n",
       "<table border=\"1\" class=\"dataframe\">\n",
       "  <thead>\n",
       "    <tr style=\"text-align: right;\">\n",
       "      <th></th>\n",
       "      <th>title</th>\n",
       "      <th>Developer</th>\n",
       "      <th>Publisher</th>\n",
       "      <th>Release Date</th>\n",
       "      <th>Last Update</th>\n",
       "      <th>24h Player Peak</th>\n",
       "      <th>Followers</th>\n",
       "      <th>categories</th>\n",
       "    </tr>\n",
       "  </thead>\n",
       "  <tbody>\n",
       "    <tr>\n",
       "      <th>1599340</th>\n",
       "      <td>Lost Ark</td>\n",
       "      <td>Smilegate RPG</td>\n",
       "      <td>Amazon Games</td>\n",
       "      <td>11 February 2022</td>\n",
       "      <td>9 June 2022</td>\n",
       "      <td>880,727</td>\n",
       "      <td>268,276</td>\n",
       "      <td>[MMORPG, Free to Play, Action RPG, RPG, Action...</td>\n",
       "    </tr>\n",
       "    <tr>\n",
       "      <th>730</th>\n",
       "      <td>Counter-Strike: Global Offensive</td>\n",
       "      <td>Valve</td>\n",
       "      <td>NaN</td>\n",
       "      <td>21 August 2012</td>\n",
       "      <td>2 June 2022</td>\n",
       "      <td>840,048</td>\n",
       "      <td>3,155,868</td>\n",
       "      <td>[FPS, Shooter, Multiplayer, Competitive, Actio...</td>\n",
       "    </tr>\n",
       "    <tr>\n",
       "      <th>570</th>\n",
       "      <td>Dota 2</td>\n",
       "      <td>Valve</td>\n",
       "      <td>NaN</td>\n",
       "      <td>9 July 2013</td>\n",
       "      <td>13 June 2022</td>\n",
       "      <td>672,736</td>\n",
       "      <td>1,981,324</td>\n",
       "      <td>[Free to Play, MOBA, Multiplayer, Strategy, eS...</td>\n",
       "    </tr>\n",
       "    <tr>\n",
       "      <th>578080</th>\n",
       "      <td>PUBG: BATTLEGROUNDS</td>\n",
       "      <td>KRAFTON, Inc.</td>\n",
       "      <td>NaN</td>\n",
       "      <td>21 December 2017</td>\n",
       "      <td>9 June 2022</td>\n",
       "      <td>367,516</td>\n",
       "      <td>3,032,121</td>\n",
       "      <td>[Survival, Shooter, Multiplayer, Battle Royale...</td>\n",
       "    </tr>\n",
       "    <tr>\n",
       "      <th>1172470</th>\n",
       "      <td>Apex Legends™</td>\n",
       "      <td>Respawn Entertainment</td>\n",
       "      <td>Electronic Arts</td>\n",
       "      <td>4 November 2020</td>\n",
       "      <td>7 June 2022</td>\n",
       "      <td>302,819</td>\n",
       "      <td>323,408</td>\n",
       "      <td>[Free to Play, Battle Royale, Multiplayer, Sho...</td>\n",
       "    </tr>\n",
       "    <tr>\n",
       "      <th>...</th>\n",
       "      <td>...</td>\n",
       "      <td>...</td>\n",
       "      <td>...</td>\n",
       "      <td>...</td>\n",
       "      <td>...</td>\n",
       "      <td>...</td>\n",
       "      <td>...</td>\n",
       "      <td>...</td>\n",
       "    </tr>\n",
       "    <tr>\n",
       "      <th>220820</th>\n",
       "      <td>Zombie Driver HD</td>\n",
       "      <td>Exor Studios</td>\n",
       "      <td>NaN</td>\n",
       "      <td>17 October 2012</td>\n",
       "      <td>NaN</td>\n",
       "      <td>9</td>\n",
       "      <td>6,586</td>\n",
       "      <td>[Zombies, Racing, Top-Down, Gore, Violent, Ope...</td>\n",
       "    </tr>\n",
       "    <tr>\n",
       "      <th>491030</th>\n",
       "      <td>The Last Error</td>\n",
       "      <td>Anatoliy Loginovskikh</td>\n",
       "      <td>NaN</td>\n",
       "      <td>Unknown</td>\n",
       "      <td>NaN</td>\n",
       "      <td>0</td>\n",
       "      <td>108</td>\n",
       "      <td>[Action, 2D, Puzzle, Shooter]</td>\n",
       "    </tr>\n",
       "    <tr>\n",
       "      <th>370510</th>\n",
       "      <td>Marble Mayhem: Fragile Ball</td>\n",
       "      <td>Bimboosoft Co.,Ltd.</td>\n",
       "      <td>Senpai Studios</td>\n",
       "      <td>7 July 2015</td>\n",
       "      <td>NaN</td>\n",
       "      <td>1</td>\n",
       "      <td>696</td>\n",
       "      <td>[Casual, Indie, Puzzle, Difficult, Arcade, 2D]</td>\n",
       "    </tr>\n",
       "    <tr>\n",
       "      <th>524680</th>\n",
       "      <td>Escape From Nazi Labs</td>\n",
       "      <td>Manic Mind Game Lab</td>\n",
       "      <td>NaN</td>\n",
       "      <td>Unknown</td>\n",
       "      <td>NaN</td>\n",
       "      <td>0</td>\n",
       "      <td>325</td>\n",
       "      <td>[Action, RPG, Indie, Perma Death, Retro, Proce...</td>\n",
       "    </tr>\n",
       "    <tr>\n",
       "      <th>686230</th>\n",
       "      <td>OutSplit</td>\n",
       "      <td>Riviysky</td>\n",
       "      <td>NaN</td>\n",
       "      <td>Unknown</td>\n",
       "      <td>NaN</td>\n",
       "      <td>0</td>\n",
       "      <td>1,139</td>\n",
       "      <td>[Indie, Puzzle]</td>\n",
       "    </tr>\n",
       "  </tbody>\n",
       "</table>\n",
       "<p>3498 rows × 8 columns</p>\n",
       "</div>"
      ],
      "text/plain": [
       "                                    title              Developer  \\\n",
       "1599340                          Lost Ark          Smilegate RPG   \n",
       "730      Counter-Strike: Global Offensive                  Valve   \n",
       "570                                Dota 2                  Valve   \n",
       "578080                PUBG: BATTLEGROUNDS          KRAFTON, Inc.   \n",
       "1172470                     Apex Legends™  Respawn Entertainment   \n",
       "...                                   ...                    ...   \n",
       "220820                   Zombie Driver HD           Exor Studios   \n",
       "491030                     The Last Error  Anatoliy Loginovskikh   \n",
       "370510        Marble Mayhem: Fragile Ball    Bimboosoft Co.,Ltd.   \n",
       "524680              Escape From Nazi Labs    Manic Mind Game Lab   \n",
       "686230                           OutSplit               Riviysky   \n",
       "\n",
       "               Publisher      Release Date   Last Update 24h Player Peak  \\\n",
       "1599340     Amazon Games  11 February 2022   9 June 2022         880,727   \n",
       "730                  NaN    21 August 2012   2 June 2022         840,048   \n",
       "570                  NaN       9 July 2013  13 June 2022         672,736   \n",
       "578080               NaN  21 December 2017   9 June 2022         367,516   \n",
       "1172470  Electronic Arts   4 November 2020   7 June 2022         302,819   \n",
       "...                  ...               ...           ...             ...   \n",
       "220820               NaN   17 October 2012           NaN               9   \n",
       "491030               NaN           Unknown           NaN               0   \n",
       "370510    Senpai Studios       7 July 2015           NaN               1   \n",
       "524680               NaN           Unknown           NaN               0   \n",
       "686230               NaN           Unknown           NaN               0   \n",
       "\n",
       "         Followers                                         categories  \n",
       "1599340    268,276  [MMORPG, Free to Play, Action RPG, RPG, Action...  \n",
       "730      3,155,868  [FPS, Shooter, Multiplayer, Competitive, Actio...  \n",
       "570      1,981,324  [Free to Play, MOBA, Multiplayer, Strategy, eS...  \n",
       "578080   3,032,121  [Survival, Shooter, Multiplayer, Battle Royale...  \n",
       "1172470    323,408  [Free to Play, Battle Royale, Multiplayer, Sho...  \n",
       "...            ...                                                ...  \n",
       "220820       6,586  [Zombies, Racing, Top-Down, Gore, Violent, Ope...  \n",
       "491030         108                      [Action, 2D, Puzzle, Shooter]  \n",
       "370510         696     [Casual, Indie, Puzzle, Difficult, Arcade, 2D]  \n",
       "524680         325  [Action, RPG, Indie, Perma Death, Retro, Proce...  \n",
       "686230       1,139                                    [Indie, Puzzle]  \n",
       "\n",
       "[3498 rows x 8 columns]"
      ]
     },
     "execution_count": 61,
     "metadata": {},
     "output_type": "execute_result"
    }
   ],
   "source": [
    "games_df = pd.DataFrame.from_dict(games,orient='index')\n",
    "games_df"
   ]
  },
  {
   "cell_type": "markdown",
   "id": "c1b83995",
   "metadata": {},
   "source": [
    "Aggiungo le informazioni di 'Fallout: New Vegas' relative alla chiave '22380', escludendo la patch successiva"
   ]
  },
  {
   "cell_type": "code",
   "execution_count": 62,
   "id": "d4abe65c",
   "metadata": {
    "ExecuteTime": {
     "end_time": "2022-07-14T20:13:30.994091Z",
     "start_time": "2022-07-14T20:13:30.963084Z"
    }
   },
   "outputs": [],
   "source": [
    "for i in range(len(info_df)):\n",
    "    if info_df.twitch_name[i] == 'Fallout: New Vegas': #22380\n",
    "        info_df.Developer[i] = games_df['Developer']['22380']\n",
    "        info_df.Publisher[i] = games_df['Publisher']['22380']\n",
    "        info_df.Release_Date[i] = games_df['Release Date']['22380']\n",
    "        info_df.Developer[i] = games_df['Developer']['22380']\n",
    "        info_df.categories[i] = games_df['categories']['22380']"
   ]
  },
  {
   "cell_type": "code",
   "execution_count": 63,
   "id": "95025605",
   "metadata": {
    "ExecuteTime": {
     "end_time": "2022-07-14T20:13:31.010067Z",
     "start_time": "2022-07-14T20:13:30.996063Z"
    }
   },
   "outputs": [
    {
     "data": {
      "text/plain": [
       "Index(['twitch_name', 'steam_name', 'match_score', 'Developer', 'Publisher',\n",
       "       'Release_Date', 'categories'],\n",
       "      dtype='object')"
      ]
     },
     "execution_count": 63,
     "metadata": {},
     "output_type": "execute_result"
    }
   ],
   "source": [
    "info_df.columns"
   ]
  },
  {
   "cell_type": "markdown",
   "id": "0260ede7",
   "metadata": {},
   "source": [
    "Per match perfetti con score 100 inserisco tutte le informazioni presenti nel json"
   ]
  },
  {
   "cell_type": "code",
   "execution_count": 64,
   "id": "a8d3c930",
   "metadata": {
    "ExecuteTime": {
     "end_time": "2022-07-14T20:13:31.710286Z",
     "start_time": "2022-07-14T20:13:31.012066Z"
    }
   },
   "outputs": [],
   "source": [
    "for i in range(len(info_df)):\n",
    "    if (info_df.twitch_name[i] != 'Fallout: New Vegas') & (info_df.match_score[i] == 100):\n",
    "        index = games_df.loc[games_df['title'] == info_df.steam_name[i]].index[0]\n",
    "        info_df.Developer[i] = games_df['Developer'][index]\n",
    "        info_df.Publisher[i] = games_df['Publisher'][index]\n",
    "        info_df.Release_Date[i] = games_df['Release Date'][index]\n",
    "        info_df.categories[i] = games_df['categories'][index]"
   ]
  },
  {
   "cell_type": "code",
   "execution_count": 65,
   "id": "4fe88d6f",
   "metadata": {
    "ExecuteTime": {
     "end_time": "2022-07-14T20:13:31.725527Z",
     "start_time": "2022-07-14T20:13:31.711278Z"
    }
   },
   "outputs": [],
   "source": [
    "info_df['match_score'] = info_df['match_score'].fillna(0)"
   ]
  },
  {
   "cell_type": "markdown",
   "id": "87dace75",
   "metadata": {},
   "source": [
    "Per match con score tra 79 e 99 inserisco le informazioni 'developer','publisher','categories' presenti nel json"
   ]
  },
  {
   "cell_type": "code",
   "execution_count": 66,
   "id": "dd1b7ee9",
   "metadata": {
    "ExecuteTime": {
     "end_time": "2022-07-14T20:13:31.947953Z",
     "start_time": "2022-07-14T20:13:31.726323Z"
    }
   },
   "outputs": [
    {
     "name": "stderr",
     "output_type": "stream",
     "text": [
      "C:\\Users\\gianl\\AppData\\Local\\Temp/ipykernel_19440/779521762.py:4: SettingWithCopyWarning: \n",
      "A value is trying to be set on a copy of a slice from a DataFrame\n",
      "\n",
      "See the caveats in the documentation: https://pandas.pydata.org/pandas-docs/stable/user_guide/indexing.html#returning-a-view-versus-a-copy\n",
      "  info_df.Developer[i] = games_df['Developer'][index]\n",
      "C:\\Users\\gianl\\AppData\\Local\\Temp/ipykernel_19440/779521762.py:5: SettingWithCopyWarning: \n",
      "A value is trying to be set on a copy of a slice from a DataFrame\n",
      "\n",
      "See the caveats in the documentation: https://pandas.pydata.org/pandas-docs/stable/user_guide/indexing.html#returning-a-view-versus-a-copy\n",
      "  info_df.Publisher[i] = games_df['Publisher'][index]\n",
      "C:\\Users\\gianl\\AppData\\Local\\Temp/ipykernel_19440/779521762.py:6: SettingWithCopyWarning: \n",
      "A value is trying to be set on a copy of a slice from a DataFrame\n",
      "\n",
      "See the caveats in the documentation: https://pandas.pydata.org/pandas-docs/stable/user_guide/indexing.html#returning-a-view-versus-a-copy\n",
      "  info_df.categories[i] = games_df['categories'][index]\n"
     ]
    }
   ],
   "source": [
    "for i in range(len(info_df)):\n",
    "    if (info_df.twitch_name[i] != 'Fallout: New Vegas') & (79 <= info_df['match_score'][i] <= 99):\n",
    "        index = games_df.loc[games_df['title'] == info_df.steam_name[i]].index[0]\n",
    "        info_df.Developer[i] = games_df['Developer'][index]\n",
    "        info_df.Publisher[i] = games_df['Publisher'][index]\n",
    "        info_df.categories[i] = games_df['categories'][index]"
   ]
  },
  {
   "cell_type": "code",
   "execution_count": 67,
   "id": "501f770f",
   "metadata": {
    "ExecuteTime": {
     "end_time": "2022-07-14T20:13:31.979982Z",
     "start_time": "2022-07-14T20:13:31.948996Z"
    }
   },
   "outputs": [
    {
     "data": {
      "text/html": [
       "<div>\n",
       "<style scoped>\n",
       "    .dataframe tbody tr th:only-of-type {\n",
       "        vertical-align: middle;\n",
       "    }\n",
       "\n",
       "    .dataframe tbody tr th {\n",
       "        vertical-align: top;\n",
       "    }\n",
       "\n",
       "    .dataframe thead th {\n",
       "        text-align: right;\n",
       "    }\n",
       "</style>\n",
       "<table border=\"1\" class=\"dataframe\">\n",
       "  <thead>\n",
       "    <tr style=\"text-align: right;\">\n",
       "      <th></th>\n",
       "      <th>twitch_name</th>\n",
       "      <th>steam_name</th>\n",
       "      <th>match_score</th>\n",
       "      <th>Developer</th>\n",
       "      <th>Publisher</th>\n",
       "      <th>Release_Date</th>\n",
       "      <th>categories</th>\n",
       "    </tr>\n",
       "  </thead>\n",
       "  <tbody>\n",
       "    <tr>\n",
       "      <th>0</th>\n",
       "      <td>Monster Hunter Generations Ultimate</td>\n",
       "      <td>NaN</td>\n",
       "      <td>0</td>\n",
       "      <td></td>\n",
       "      <td></td>\n",
       "      <td>NaN</td>\n",
       "      <td></td>\n",
       "    </tr>\n",
       "    <tr>\n",
       "      <th>1</th>\n",
       "      <td>Alice: Madness Returns</td>\n",
       "      <td>Alice: Madness Returns</td>\n",
       "      <td>100</td>\n",
       "      <td>Spicy Horse Games</td>\n",
       "      <td>Electronic Arts</td>\n",
       "      <td>17 June 2011</td>\n",
       "      <td>[3D Platformer, Action-Adventure, Hack and Sla...</td>\n",
       "    </tr>\n",
       "    <tr>\n",
       "      <th>2</th>\n",
       "      <td>Hold Fast</td>\n",
       "      <td>NaN</td>\n",
       "      <td>0</td>\n",
       "      <td></td>\n",
       "      <td></td>\n",
       "      <td>NaN</td>\n",
       "      <td></td>\n",
       "    </tr>\n",
       "    <tr>\n",
       "      <th>3</th>\n",
       "      <td>Pokémon Trading Card Game Online</td>\n",
       "      <td>NaN</td>\n",
       "      <td>0</td>\n",
       "      <td></td>\n",
       "      <td></td>\n",
       "      <td>NaN</td>\n",
       "      <td></td>\n",
       "    </tr>\n",
       "    <tr>\n",
       "      <th>4</th>\n",
       "      <td>Witch It</td>\n",
       "      <td>Witch It</td>\n",
       "      <td>100</td>\n",
       "      <td>Barrel Roll Games</td>\n",
       "      <td>Daedalic Entertainment</td>\n",
       "      <td>22 October 2020</td>\n",
       "      <td>[Multiplayer, Funny, Casual, Action, Indie, Hi...</td>\n",
       "    </tr>\n",
       "    <tr>\n",
       "      <th>...</th>\n",
       "      <td>...</td>\n",
       "      <td>...</td>\n",
       "      <td>...</td>\n",
       "      <td>...</td>\n",
       "      <td>...</td>\n",
       "      <td>...</td>\n",
       "      <td>...</td>\n",
       "    </tr>\n",
       "    <tr>\n",
       "      <th>1139</th>\n",
       "      <td>Rise of Nations: Extended Edition</td>\n",
       "      <td>Rise of Nations: Extended Edition</td>\n",
       "      <td>100</td>\n",
       "      <td>SkyBox Labs</td>\n",
       "      <td>Xbox Game Studios</td>\n",
       "      <td>12 June 2014</td>\n",
       "      <td>[Strategy, RTS, Classic, Multiplayer, Historic...</td>\n",
       "    </tr>\n",
       "    <tr>\n",
       "      <th>1140</th>\n",
       "      <td>Paper Mario: The Origami King</td>\n",
       "      <td>NaN</td>\n",
       "      <td>0</td>\n",
       "      <td></td>\n",
       "      <td></td>\n",
       "      <td>NaN</td>\n",
       "      <td></td>\n",
       "    </tr>\n",
       "    <tr>\n",
       "      <th>1141</th>\n",
       "      <td>The Inheritance of Crimson Manor</td>\n",
       "      <td>NaN</td>\n",
       "      <td>0</td>\n",
       "      <td></td>\n",
       "      <td></td>\n",
       "      <td>NaN</td>\n",
       "      <td></td>\n",
       "    </tr>\n",
       "    <tr>\n",
       "      <th>1142</th>\n",
       "      <td>Occult</td>\n",
       "      <td>NaN</td>\n",
       "      <td>0</td>\n",
       "      <td></td>\n",
       "      <td></td>\n",
       "      <td>NaN</td>\n",
       "      <td></td>\n",
       "    </tr>\n",
       "    <tr>\n",
       "      <th>1143</th>\n",
       "      <td>Sign of Silence</td>\n",
       "      <td>Sign of Silence</td>\n",
       "      <td>100</td>\n",
       "      <td>Renderise</td>\n",
       "      <td>NaN</td>\n",
       "      <td>1 October 2020</td>\n",
       "      <td>[Horror, Co-op, Multiplayer, Atmospheric, Sing...</td>\n",
       "    </tr>\n",
       "  </tbody>\n",
       "</table>\n",
       "<p>1144 rows × 7 columns</p>\n",
       "</div>"
      ],
      "text/plain": [
       "                              twitch_name                         steam_name  \\\n",
       "0     Monster Hunter Generations Ultimate                                NaN   \n",
       "1                  Alice: Madness Returns             Alice: Madness Returns   \n",
       "2                               Hold Fast                                NaN   \n",
       "3        Pokémon Trading Card Game Online                                NaN   \n",
       "4                                Witch It                           Witch It   \n",
       "...                                   ...                                ...   \n",
       "1139    Rise of Nations: Extended Edition  Rise of Nations: Extended Edition   \n",
       "1140        Paper Mario: The Origami King                                NaN   \n",
       "1141     The Inheritance of Crimson Manor                                NaN   \n",
       "1142                               Occult                                NaN   \n",
       "1143                      Sign of Silence                    Sign of Silence   \n",
       "\n",
       "      match_score          Developer               Publisher     Release_Date  \\\n",
       "0               0                                                         NaN   \n",
       "1             100  Spicy Horse Games         Electronic Arts     17 June 2011   \n",
       "2               0                                                         NaN   \n",
       "3               0                                                         NaN   \n",
       "4             100  Barrel Roll Games  Daedalic Entertainment  22 October 2020   \n",
       "...           ...                ...                     ...              ...   \n",
       "1139          100        SkyBox Labs       Xbox Game Studios     12 June 2014   \n",
       "1140            0                                                         NaN   \n",
       "1141            0                                                         NaN   \n",
       "1142            0                                                         NaN   \n",
       "1143          100          Renderise                     NaN   1 October 2020   \n",
       "\n",
       "                                             categories  \n",
       "0                                                        \n",
       "1     [3D Platformer, Action-Adventure, Hack and Sla...  \n",
       "2                                                        \n",
       "3                                                        \n",
       "4     [Multiplayer, Funny, Casual, Action, Indie, Hi...  \n",
       "...                                                 ...  \n",
       "1139  [Strategy, RTS, Classic, Multiplayer, Historic...  \n",
       "1140                                                     \n",
       "1141                                                     \n",
       "1142                                                     \n",
       "1143  [Horror, Co-op, Multiplayer, Atmospheric, Sing...  \n",
       "\n",
       "[1144 rows x 7 columns]"
      ]
     },
     "execution_count": 67,
     "metadata": {},
     "output_type": "execute_result"
    }
   ],
   "source": [
    "info_df['Release_Date'] = info_df['Release_Date'].replace(['Unknown', ''], np.nan, regex=True)\n",
    "info_df"
   ]
  },
  {
   "cell_type": "code",
   "execution_count": 68,
   "id": "c49385db",
   "metadata": {
    "ExecuteTime": {
     "end_time": "2022-07-14T20:13:31.995953Z",
     "start_time": "2022-07-14T20:13:31.981952Z"
    }
   },
   "outputs": [],
   "source": [
    "#info_df = info_df.replace(np.nan, '', regex=True)\n",
    "info_df.drop(['match_score'], axis = 1, inplace = True)"
   ]
  },
  {
   "cell_type": "code",
   "execution_count": 69,
   "id": "9a0d8ae4",
   "metadata": {
    "ExecuteTime": {
     "end_time": "2022-07-14T20:13:32.027991Z",
     "start_time": "2022-07-14T20:13:31.996951Z"
    }
   },
   "outputs": [
    {
     "data": {
      "text/html": [
       "<div>\n",
       "<style scoped>\n",
       "    .dataframe tbody tr th:only-of-type {\n",
       "        vertical-align: middle;\n",
       "    }\n",
       "\n",
       "    .dataframe tbody tr th {\n",
       "        vertical-align: top;\n",
       "    }\n",
       "\n",
       "    .dataframe thead th {\n",
       "        text-align: right;\n",
       "    }\n",
       "</style>\n",
       "<table border=\"1\" class=\"dataframe\">\n",
       "  <thead>\n",
       "    <tr style=\"text-align: right;\">\n",
       "      <th></th>\n",
       "      <th>twitch_name</th>\n",
       "      <th>steam_name</th>\n",
       "      <th>Developer</th>\n",
       "      <th>Publisher</th>\n",
       "      <th>Release_Date</th>\n",
       "      <th>categories</th>\n",
       "    </tr>\n",
       "  </thead>\n",
       "  <tbody>\n",
       "    <tr>\n",
       "      <th>0</th>\n",
       "      <td>Monster Hunter Generations Ultimate</td>\n",
       "      <td>NaN</td>\n",
       "      <td></td>\n",
       "      <td></td>\n",
       "      <td>NaT</td>\n",
       "      <td></td>\n",
       "    </tr>\n",
       "    <tr>\n",
       "      <th>1</th>\n",
       "      <td>Alice: Madness Returns</td>\n",
       "      <td>Alice: Madness Returns</td>\n",
       "      <td>Spicy Horse Games</td>\n",
       "      <td>Electronic Arts</td>\n",
       "      <td>2011-06-17</td>\n",
       "      <td>[3D Platformer, Action-Adventure, Hack and Sla...</td>\n",
       "    </tr>\n",
       "    <tr>\n",
       "      <th>2</th>\n",
       "      <td>Hold Fast</td>\n",
       "      <td>NaN</td>\n",
       "      <td></td>\n",
       "      <td></td>\n",
       "      <td>NaT</td>\n",
       "      <td></td>\n",
       "    </tr>\n",
       "    <tr>\n",
       "      <th>3</th>\n",
       "      <td>Pokémon Trading Card Game Online</td>\n",
       "      <td>NaN</td>\n",
       "      <td></td>\n",
       "      <td></td>\n",
       "      <td>NaT</td>\n",
       "      <td></td>\n",
       "    </tr>\n",
       "    <tr>\n",
       "      <th>4</th>\n",
       "      <td>Witch It</td>\n",
       "      <td>Witch It</td>\n",
       "      <td>Barrel Roll Games</td>\n",
       "      <td>Daedalic Entertainment</td>\n",
       "      <td>2020-10-22</td>\n",
       "      <td>[Multiplayer, Funny, Casual, Action, Indie, Hi...</td>\n",
       "    </tr>\n",
       "    <tr>\n",
       "      <th>...</th>\n",
       "      <td>...</td>\n",
       "      <td>...</td>\n",
       "      <td>...</td>\n",
       "      <td>...</td>\n",
       "      <td>...</td>\n",
       "      <td>...</td>\n",
       "    </tr>\n",
       "    <tr>\n",
       "      <th>1139</th>\n",
       "      <td>Rise of Nations: Extended Edition</td>\n",
       "      <td>Rise of Nations: Extended Edition</td>\n",
       "      <td>SkyBox Labs</td>\n",
       "      <td>Xbox Game Studios</td>\n",
       "      <td>2014-06-12</td>\n",
       "      <td>[Strategy, RTS, Classic, Multiplayer, Historic...</td>\n",
       "    </tr>\n",
       "    <tr>\n",
       "      <th>1140</th>\n",
       "      <td>Paper Mario: The Origami King</td>\n",
       "      <td>NaN</td>\n",
       "      <td></td>\n",
       "      <td></td>\n",
       "      <td>NaT</td>\n",
       "      <td></td>\n",
       "    </tr>\n",
       "    <tr>\n",
       "      <th>1141</th>\n",
       "      <td>The Inheritance of Crimson Manor</td>\n",
       "      <td>NaN</td>\n",
       "      <td></td>\n",
       "      <td></td>\n",
       "      <td>NaT</td>\n",
       "      <td></td>\n",
       "    </tr>\n",
       "    <tr>\n",
       "      <th>1142</th>\n",
       "      <td>Occult</td>\n",
       "      <td>NaN</td>\n",
       "      <td></td>\n",
       "      <td></td>\n",
       "      <td>NaT</td>\n",
       "      <td></td>\n",
       "    </tr>\n",
       "    <tr>\n",
       "      <th>1143</th>\n",
       "      <td>Sign of Silence</td>\n",
       "      <td>Sign of Silence</td>\n",
       "      <td>Renderise</td>\n",
       "      <td>NaN</td>\n",
       "      <td>2020-10-01</td>\n",
       "      <td>[Horror, Co-op, Multiplayer, Atmospheric, Sing...</td>\n",
       "    </tr>\n",
       "  </tbody>\n",
       "</table>\n",
       "<p>1144 rows × 6 columns</p>\n",
       "</div>"
      ],
      "text/plain": [
       "                              twitch_name                         steam_name  \\\n",
       "0     Monster Hunter Generations Ultimate                                NaN   \n",
       "1                  Alice: Madness Returns             Alice: Madness Returns   \n",
       "2                               Hold Fast                                NaN   \n",
       "3        Pokémon Trading Card Game Online                                NaN   \n",
       "4                                Witch It                           Witch It   \n",
       "...                                   ...                                ...   \n",
       "1139    Rise of Nations: Extended Edition  Rise of Nations: Extended Edition   \n",
       "1140        Paper Mario: The Origami King                                NaN   \n",
       "1141     The Inheritance of Crimson Manor                                NaN   \n",
       "1142                               Occult                                NaN   \n",
       "1143                      Sign of Silence                    Sign of Silence   \n",
       "\n",
       "              Developer               Publisher Release_Date  \\\n",
       "0                                                        NaT   \n",
       "1     Spicy Horse Games         Electronic Arts   2011-06-17   \n",
       "2                                                        NaT   \n",
       "3                                                        NaT   \n",
       "4     Barrel Roll Games  Daedalic Entertainment   2020-10-22   \n",
       "...                 ...                     ...          ...   \n",
       "1139        SkyBox Labs       Xbox Game Studios   2014-06-12   \n",
       "1140                                                     NaT   \n",
       "1141                                                     NaT   \n",
       "1142                                                     NaT   \n",
       "1143          Renderise                     NaN   2020-10-01   \n",
       "\n",
       "                                             categories  \n",
       "0                                                        \n",
       "1     [3D Platformer, Action-Adventure, Hack and Sla...  \n",
       "2                                                        \n",
       "3                                                        \n",
       "4     [Multiplayer, Funny, Casual, Action, Indie, Hi...  \n",
       "...                                                 ...  \n",
       "1139  [Strategy, RTS, Classic, Multiplayer, Historic...  \n",
       "1140                                                     \n",
       "1141                                                     \n",
       "1142                                                     \n",
       "1143  [Horror, Co-op, Multiplayer, Atmospheric, Sing...  \n",
       "\n",
       "[1144 rows x 6 columns]"
      ]
     },
     "execution_count": 69,
     "metadata": {},
     "output_type": "execute_result"
    }
   ],
   "source": [
    "info_df['Release_Date'] = pd.to_datetime(info_df['Release_Date'], format='%d %B %Y')\n",
    "info_df"
   ]
  },
  {
   "cell_type": "code",
   "execution_count": 70,
   "id": "58bf49d4",
   "metadata": {
    "ExecuteTime": {
     "end_time": "2022-07-14T20:13:32.059983Z",
     "start_time": "2022-07-14T20:13:32.029952Z"
    },
    "scrolled": true
   },
   "outputs": [
    {
     "data": {
      "text/html": [
       "<div>\n",
       "<style scoped>\n",
       "    .dataframe tbody tr th:only-of-type {\n",
       "        vertical-align: middle;\n",
       "    }\n",
       "\n",
       "    .dataframe tbody tr th {\n",
       "        vertical-align: top;\n",
       "    }\n",
       "\n",
       "    .dataframe thead th {\n",
       "        text-align: right;\n",
       "    }\n",
       "</style>\n",
       "<table border=\"1\" class=\"dataframe\">\n",
       "  <thead>\n",
       "    <tr style=\"text-align: right;\">\n",
       "      <th></th>\n",
       "      <th>gameName</th>\n",
       "      <th>steamName</th>\n",
       "      <th>developer</th>\n",
       "      <th>publisher</th>\n",
       "      <th>releaseDate</th>\n",
       "      <th>categories</th>\n",
       "    </tr>\n",
       "    <tr>\n",
       "      <th>idGame</th>\n",
       "      <th></th>\n",
       "      <th></th>\n",
       "      <th></th>\n",
       "      <th></th>\n",
       "      <th></th>\n",
       "      <th></th>\n",
       "    </tr>\n",
       "  </thead>\n",
       "  <tbody>\n",
       "    <tr>\n",
       "      <th>0</th>\n",
       "      <td>Monster Hunter Generations Ultimate</td>\n",
       "      <td>NaN</td>\n",
       "      <td></td>\n",
       "      <td></td>\n",
       "      <td>NaT</td>\n",
       "      <td></td>\n",
       "    </tr>\n",
       "    <tr>\n",
       "      <th>1</th>\n",
       "      <td>Alice: Madness Returns</td>\n",
       "      <td>Alice: Madness Returns</td>\n",
       "      <td>Spicy Horse Games</td>\n",
       "      <td>Electronic Arts</td>\n",
       "      <td>2011-06-17</td>\n",
       "      <td>[3D Platformer, Action-Adventure, Hack and Sla...</td>\n",
       "    </tr>\n",
       "    <tr>\n",
       "      <th>2</th>\n",
       "      <td>Hold Fast</td>\n",
       "      <td>NaN</td>\n",
       "      <td></td>\n",
       "      <td></td>\n",
       "      <td>NaT</td>\n",
       "      <td></td>\n",
       "    </tr>\n",
       "    <tr>\n",
       "      <th>3</th>\n",
       "      <td>Pokémon Trading Card Game Online</td>\n",
       "      <td>NaN</td>\n",
       "      <td></td>\n",
       "      <td></td>\n",
       "      <td>NaT</td>\n",
       "      <td></td>\n",
       "    </tr>\n",
       "    <tr>\n",
       "      <th>4</th>\n",
       "      <td>Witch It</td>\n",
       "      <td>Witch It</td>\n",
       "      <td>Barrel Roll Games</td>\n",
       "      <td>Daedalic Entertainment</td>\n",
       "      <td>2020-10-22</td>\n",
       "      <td>[Multiplayer, Funny, Casual, Action, Indie, Hi...</td>\n",
       "    </tr>\n",
       "    <tr>\n",
       "      <th>...</th>\n",
       "      <td>...</td>\n",
       "      <td>...</td>\n",
       "      <td>...</td>\n",
       "      <td>...</td>\n",
       "      <td>...</td>\n",
       "      <td>...</td>\n",
       "    </tr>\n",
       "    <tr>\n",
       "      <th>1139</th>\n",
       "      <td>Rise of Nations: Extended Edition</td>\n",
       "      <td>Rise of Nations: Extended Edition</td>\n",
       "      <td>SkyBox Labs</td>\n",
       "      <td>Xbox Game Studios</td>\n",
       "      <td>2014-06-12</td>\n",
       "      <td>[Strategy, RTS, Classic, Multiplayer, Historic...</td>\n",
       "    </tr>\n",
       "    <tr>\n",
       "      <th>1140</th>\n",
       "      <td>Paper Mario: The Origami King</td>\n",
       "      <td>NaN</td>\n",
       "      <td></td>\n",
       "      <td></td>\n",
       "      <td>NaT</td>\n",
       "      <td></td>\n",
       "    </tr>\n",
       "    <tr>\n",
       "      <th>1141</th>\n",
       "      <td>The Inheritance of Crimson Manor</td>\n",
       "      <td>NaN</td>\n",
       "      <td></td>\n",
       "      <td></td>\n",
       "      <td>NaT</td>\n",
       "      <td></td>\n",
       "    </tr>\n",
       "    <tr>\n",
       "      <th>1142</th>\n",
       "      <td>Occult</td>\n",
       "      <td>NaN</td>\n",
       "      <td></td>\n",
       "      <td></td>\n",
       "      <td>NaT</td>\n",
       "      <td></td>\n",
       "    </tr>\n",
       "    <tr>\n",
       "      <th>1143</th>\n",
       "      <td>Sign of Silence</td>\n",
       "      <td>Sign of Silence</td>\n",
       "      <td>Renderise</td>\n",
       "      <td>NaN</td>\n",
       "      <td>2020-10-01</td>\n",
       "      <td>[Horror, Co-op, Multiplayer, Atmospheric, Sing...</td>\n",
       "    </tr>\n",
       "  </tbody>\n",
       "</table>\n",
       "<p>1144 rows × 6 columns</p>\n",
       "</div>"
      ],
      "text/plain": [
       "                                   gameName  \\\n",
       "idGame                                        \n",
       "0       Monster Hunter Generations Ultimate   \n",
       "1                    Alice: Madness Returns   \n",
       "2                                 Hold Fast   \n",
       "3          Pokémon Trading Card Game Online   \n",
       "4                                  Witch It   \n",
       "...                                     ...   \n",
       "1139      Rise of Nations: Extended Edition   \n",
       "1140          Paper Mario: The Origami King   \n",
       "1141       The Inheritance of Crimson Manor   \n",
       "1142                                 Occult   \n",
       "1143                        Sign of Silence   \n",
       "\n",
       "                                steamName          developer  \\\n",
       "idGame                                                         \n",
       "0                                     NaN                      \n",
       "1                  Alice: Madness Returns  Spicy Horse Games   \n",
       "2                                     NaN                      \n",
       "3                                     NaN                      \n",
       "4                                Witch It  Barrel Roll Games   \n",
       "...                                   ...                ...   \n",
       "1139    Rise of Nations: Extended Edition        SkyBox Labs   \n",
       "1140                                  NaN                      \n",
       "1141                                  NaN                      \n",
       "1142                                  NaN                      \n",
       "1143                      Sign of Silence          Renderise   \n",
       "\n",
       "                     publisher releaseDate  \\\n",
       "idGame                                       \n",
       "0                                      NaT   \n",
       "1              Electronic Arts  2011-06-17   \n",
       "2                                      NaT   \n",
       "3                                      NaT   \n",
       "4       Daedalic Entertainment  2020-10-22   \n",
       "...                        ...         ...   \n",
       "1139         Xbox Game Studios  2014-06-12   \n",
       "1140                                   NaT   \n",
       "1141                                   NaT   \n",
       "1142                                   NaT   \n",
       "1143                       NaN  2020-10-01   \n",
       "\n",
       "                                               categories  \n",
       "idGame                                                     \n",
       "0                                                          \n",
       "1       [3D Platformer, Action-Adventure, Hack and Sla...  \n",
       "2                                                          \n",
       "3                                                          \n",
       "4       [Multiplayer, Funny, Casual, Action, Indie, Hi...  \n",
       "...                                                   ...  \n",
       "1139    [Strategy, RTS, Classic, Multiplayer, Historic...  \n",
       "1140                                                       \n",
       "1141                                                       \n",
       "1142                                                       \n",
       "1143    [Horror, Co-op, Multiplayer, Atmospheric, Sing...  \n",
       "\n",
       "[1144 rows x 6 columns]"
      ]
     },
     "execution_count": 70,
     "metadata": {},
     "output_type": "execute_result"
    }
   ],
   "source": [
    "info_df.index.name = 'idGame'\n",
    "info_df.columns = ['gameName', 'steamName', 'developer', 'publisher', 'releaseDate', 'categories']\n",
    "info_df"
   ]
  },
  {
   "cell_type": "code",
   "execution_count": 71,
   "id": "2a1c5636",
   "metadata": {
    "ExecuteTime": {
     "end_time": "2022-07-14T20:13:32.107983Z",
     "start_time": "2022-07-14T20:13:32.061953Z"
    }
   },
   "outputs": [
    {
     "data": {
      "text/html": [
       "<div>\n",
       "<style scoped>\n",
       "    .dataframe tbody tr th:only-of-type {\n",
       "        vertical-align: middle;\n",
       "    }\n",
       "\n",
       "    .dataframe tbody tr th {\n",
       "        vertical-align: top;\n",
       "    }\n",
       "\n",
       "    .dataframe thead th {\n",
       "        text-align: right;\n",
       "    }\n",
       "</style>\n",
       "<table border=\"1\" class=\"dataframe\">\n",
       "  <thead>\n",
       "    <tr style=\"text-align: right;\">\n",
       "      <th></th>\n",
       "      <th>gameName</th>\n",
       "      <th>steamName</th>\n",
       "      <th>developer</th>\n",
       "      <th>publisher</th>\n",
       "      <th>releaseDate</th>\n",
       "      <th>categories</th>\n",
       "    </tr>\n",
       "    <tr>\n",
       "      <th>idGame</th>\n",
       "      <th></th>\n",
       "      <th></th>\n",
       "      <th></th>\n",
       "      <th></th>\n",
       "      <th></th>\n",
       "      <th></th>\n",
       "    </tr>\n",
       "  </thead>\n",
       "  <tbody>\n",
       "    <tr>\n",
       "      <th>0</th>\n",
       "      <td>Monster Hunter Generations Ultimate</td>\n",
       "      <td>NaN</td>\n",
       "      <td></td>\n",
       "      <td></td>\n",
       "      <td>NaT</td>\n",
       "      <td></td>\n",
       "    </tr>\n",
       "    <tr>\n",
       "      <th>1</th>\n",
       "      <td>Alice: Madness Returns</td>\n",
       "      <td>Alice: Madness Returns</td>\n",
       "      <td>Spicy Horse Games</td>\n",
       "      <td>Electronic Arts</td>\n",
       "      <td>2011-06-17</td>\n",
       "      <td>3D Platformer; Action-Adventure; Hack and Slas...</td>\n",
       "    </tr>\n",
       "    <tr>\n",
       "      <th>2</th>\n",
       "      <td>Hold Fast</td>\n",
       "      <td>NaN</td>\n",
       "      <td></td>\n",
       "      <td></td>\n",
       "      <td>NaT</td>\n",
       "      <td></td>\n",
       "    </tr>\n",
       "    <tr>\n",
       "      <th>3</th>\n",
       "      <td>Pokémon Trading Card Game Online</td>\n",
       "      <td>NaN</td>\n",
       "      <td></td>\n",
       "      <td></td>\n",
       "      <td>NaT</td>\n",
       "      <td></td>\n",
       "    </tr>\n",
       "    <tr>\n",
       "      <th>4</th>\n",
       "      <td>Witch It</td>\n",
       "      <td>Witch It</td>\n",
       "      <td>Barrel Roll Games</td>\n",
       "      <td>Daedalic Entertainment</td>\n",
       "      <td>2020-10-22</td>\n",
       "      <td>Multiplayer; Funny; Casual; Action; Indie; Hid...</td>\n",
       "    </tr>\n",
       "    <tr>\n",
       "      <th>...</th>\n",
       "      <td>...</td>\n",
       "      <td>...</td>\n",
       "      <td>...</td>\n",
       "      <td>...</td>\n",
       "      <td>...</td>\n",
       "      <td>...</td>\n",
       "    </tr>\n",
       "    <tr>\n",
       "      <th>1139</th>\n",
       "      <td>Rise of Nations: Extended Edition</td>\n",
       "      <td>Rise of Nations: Extended Edition</td>\n",
       "      <td>SkyBox Labs</td>\n",
       "      <td>Xbox Game Studios</td>\n",
       "      <td>2014-06-12</td>\n",
       "      <td>Strategy; RTS; Classic; Multiplayer; Historica...</td>\n",
       "    </tr>\n",
       "    <tr>\n",
       "      <th>1140</th>\n",
       "      <td>Paper Mario: The Origami King</td>\n",
       "      <td>NaN</td>\n",
       "      <td></td>\n",
       "      <td></td>\n",
       "      <td>NaT</td>\n",
       "      <td></td>\n",
       "    </tr>\n",
       "    <tr>\n",
       "      <th>1141</th>\n",
       "      <td>The Inheritance of Crimson Manor</td>\n",
       "      <td>NaN</td>\n",
       "      <td></td>\n",
       "      <td></td>\n",
       "      <td>NaT</td>\n",
       "      <td></td>\n",
       "    </tr>\n",
       "    <tr>\n",
       "      <th>1142</th>\n",
       "      <td>Occult</td>\n",
       "      <td>NaN</td>\n",
       "      <td></td>\n",
       "      <td></td>\n",
       "      <td>NaT</td>\n",
       "      <td></td>\n",
       "    </tr>\n",
       "    <tr>\n",
       "      <th>1143</th>\n",
       "      <td>Sign of Silence</td>\n",
       "      <td>Sign of Silence</td>\n",
       "      <td>Renderise</td>\n",
       "      <td>NaN</td>\n",
       "      <td>2020-10-01</td>\n",
       "      <td>Horror; Co-op; Multiplayer; Atmospheric; Singl...</td>\n",
       "    </tr>\n",
       "  </tbody>\n",
       "</table>\n",
       "<p>1144 rows × 6 columns</p>\n",
       "</div>"
      ],
      "text/plain": [
       "                                   gameName  \\\n",
       "idGame                                        \n",
       "0       Monster Hunter Generations Ultimate   \n",
       "1                    Alice: Madness Returns   \n",
       "2                                 Hold Fast   \n",
       "3          Pokémon Trading Card Game Online   \n",
       "4                                  Witch It   \n",
       "...                                     ...   \n",
       "1139      Rise of Nations: Extended Edition   \n",
       "1140          Paper Mario: The Origami King   \n",
       "1141       The Inheritance of Crimson Manor   \n",
       "1142                                 Occult   \n",
       "1143                        Sign of Silence   \n",
       "\n",
       "                                steamName          developer  \\\n",
       "idGame                                                         \n",
       "0                                     NaN                      \n",
       "1                  Alice: Madness Returns  Spicy Horse Games   \n",
       "2                                     NaN                      \n",
       "3                                     NaN                      \n",
       "4                                Witch It  Barrel Roll Games   \n",
       "...                                   ...                ...   \n",
       "1139    Rise of Nations: Extended Edition        SkyBox Labs   \n",
       "1140                                  NaN                      \n",
       "1141                                  NaN                      \n",
       "1142                                  NaN                      \n",
       "1143                      Sign of Silence          Renderise   \n",
       "\n",
       "                     publisher releaseDate  \\\n",
       "idGame                                       \n",
       "0                                      NaT   \n",
       "1              Electronic Arts  2011-06-17   \n",
       "2                                      NaT   \n",
       "3                                      NaT   \n",
       "4       Daedalic Entertainment  2020-10-22   \n",
       "...                        ...         ...   \n",
       "1139         Xbox Game Studios  2014-06-12   \n",
       "1140                                   NaT   \n",
       "1141                                   NaT   \n",
       "1142                                   NaT   \n",
       "1143                       NaN  2020-10-01   \n",
       "\n",
       "                                               categories  \n",
       "idGame                                                     \n",
       "0                                                          \n",
       "1       3D Platformer; Action-Adventure; Hack and Slas...  \n",
       "2                                                          \n",
       "3                                                          \n",
       "4       Multiplayer; Funny; Casual; Action; Indie; Hid...  \n",
       "...                                                   ...  \n",
       "1139    Strategy; RTS; Classic; Multiplayer; Historica...  \n",
       "1140                                                       \n",
       "1141                                                       \n",
       "1142                                                       \n",
       "1143    Horror; Co-op; Multiplayer; Atmospheric; Singl...  \n",
       "\n",
       "[1144 rows x 6 columns]"
      ]
     },
     "execution_count": 71,
     "metadata": {},
     "output_type": "execute_result"
    }
   ],
   "source": [
    "info_df['categories']=info_df['categories'].astype(str)\n",
    "info_df['categories']=info_df['categories'].replace([\"\\[\",\"\\]\",\"'\"], \"\",regex=True)\n",
    "info_df['categories']=info_df['categories'].replace(',', ';',regex=True)\n",
    "info_df"
   ]
  },
  {
   "cell_type": "code",
   "execution_count": 72,
   "id": "2ba7134f",
   "metadata": {
    "ExecuteTime": {
     "end_time": "2022-07-14T20:13:32.139983Z",
     "start_time": "2022-07-14T20:13:32.109954Z"
    }
   },
   "outputs": [],
   "source": [
    "info_df.to_csv('Output_datasets/games_dataset.csv')"
   ]
  }
 ],
 "metadata": {
  "kernelspec": {
   "display_name": "Python 3 (ipykernel)",
   "language": "python",
   "name": "python3"
  },
  "language_info": {
   "codemirror_mode": {
    "name": "ipython",
    "version": 3
   },
   "file_extension": ".py",
   "mimetype": "text/x-python",
   "name": "python",
   "nbconvert_exporter": "python",
   "pygments_lexer": "ipython3",
   "version": "3.9.7"
  },
  "toc": {
   "base_numbering": "1",
   "nav_menu": {},
   "number_sections": true,
   "sideBar": true,
   "skip_h1_title": true,
   "title_cell": "Table of Contents",
   "title_sidebar": "Contents",
   "toc_cell": false,
   "toc_position": {},
   "toc_section_display": true,
   "toc_window_display": true
  }
 },
 "nbformat": 4,
 "nbformat_minor": 5
}
