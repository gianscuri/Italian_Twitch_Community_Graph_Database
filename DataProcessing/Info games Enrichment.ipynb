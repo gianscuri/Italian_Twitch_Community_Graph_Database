{
 "cells": [
  {
   "cell_type": "code",
   "execution_count": 1,
   "id": "9573496f",
   "metadata": {},
   "outputs": [],
   "source": [
    "import pandas as pd\n",
    "import json\n",
    "import re\n",
    "import numpy as np"
   ]
  },
  {
   "cell_type": "code",
   "execution_count": 2,
   "id": "24e37697",
   "metadata": {},
   "outputs": [
    {
     "data": {
      "text/plain": [
       "1144"
      ]
     },
     "execution_count": 2,
     "metadata": {},
     "output_type": "execute_result"
    }
   ],
   "source": [
    "games_tw = pd.read_csv('https://raw.githubusercontent.com/gianscuri/Twitch_Community_Graph/main/DataProcessing/Games_dataset.csv', sep = ',')\n",
    "len(games_tw)"
   ]
  },
  {
   "cell_type": "markdown",
   "id": "08abb92a",
   "metadata": {},
   "source": [
    "Creo dizionario : \\\n",
    "    {'ID_game' : { \\\n",
    "        'twitch_name': ' ', \\\n",
    "         'steam_name' : ' ', \\\n",
    "         'match_score': ' '\\\n",
    "          'twitch_clean': ' ', \\\n",
    "         'steam_clean' : ' ', \\\n",
    "         }"
   ]
  },
  {
   "cell_type": "code",
   "execution_count": 5,
   "id": "46e2e881",
   "metadata": {},
   "outputs": [],
   "source": [
    "match_dict = {}\n",
    "\n",
    "for i in range(len(games_tw)):\n",
    "    match_dict[i] = {}\n",
    "    match_dict[i]['twitch_name'] = games_tw.game_name[i]\n",
    "    match_dict[i]['steam_name'] = ''\n",
    "    match_dict[i]['match_score'] = ''\n",
    "    match_dict[i]['twitch_clean'] = re.sub(r\"[^a-zA-Z0-9 ']\",'',match_dict[i]['twitch_name']).lower().strip()\n",
    "    match_dict[i]['steam_clean'] = ''"
   ]
  },
  {
   "cell_type": "code",
   "execution_count": 16,
   "id": "d2ec9620",
   "metadata": {},
   "outputs": [
    {
     "ename": "OSError",
     "evalue": "[Errno 22] Invalid argument: 'https://raw.githubusercontent.com/gianscuri/Twitch_Community_Graph/main/DataCollection/Steam_games_scraping/steam_games.json'",
     "output_type": "error",
     "traceback": [
      "\u001b[1;31m---------------------------------------------------------------------------\u001b[0m",
      "\u001b[1;31mOSError\u001b[0m                                   Traceback (most recent call last)",
      "Input \u001b[1;32mIn [16]\u001b[0m, in \u001b[0;36m<cell line: 2>\u001b[1;34m()\u001b[0m\n\u001b[0;32m      1\u001b[0m \u001b[38;5;66;03m# reading the data from the file\u001b[39;00m\n\u001b[1;32m----> 2\u001b[0m \u001b[38;5;28;01mwith\u001b[39;00m \u001b[38;5;28;43mopen\u001b[39;49m\u001b[43m(\u001b[49m\u001b[38;5;124;43m'\u001b[39;49m\u001b[38;5;124;43mhttps://raw.githubusercontent.com/gianscuri/Twitch_Community_Graph/main/DataCollection/Steam_games_scraping/steam_games.json\u001b[39;49m\u001b[38;5;124;43m'\u001b[39;49m\u001b[43m)\u001b[49m \u001b[38;5;28;01mas\u001b[39;00m f:\n\u001b[0;32m      3\u001b[0m     data \u001b[38;5;241m=\u001b[39m f\u001b[38;5;241m.\u001b[39mread()\n\u001b[0;32m      5\u001b[0m \u001b[38;5;28mprint\u001b[39m(\u001b[38;5;124m\"\u001b[39m\u001b[38;5;124mData type before reconstruction : \u001b[39m\u001b[38;5;124m\"\u001b[39m, \u001b[38;5;28mtype\u001b[39m(data))\n",
      "\u001b[1;31mOSError\u001b[0m: [Errno 22] Invalid argument: 'https://raw.githubusercontent.com/gianscuri/Twitch_Community_Graph/main/DataCollection/Steam_games_scraping/steam_games.json'"
     ]
    }
   ],
   "source": [
    "# reading the data from the file\n",
    "with open('https://raw.githubusercontent.com/gianscuri/Twitch_Community_Graph/main/DataCollection/Steam_games_scraping/steam_games.json') as f:\n",
    "    data = f.read()\n",
    "  \n",
    "print(\"Data type before reconstruction : \", type(data))\n",
    "      \n",
    "# reconstructing the data as a dictionary\n",
    "js = json.loads(data)\n",
    "  \n",
    "print(\"Data type after reconstruction : \", type(js))\n",
    "print(js)"
   ]
  },
  {
   "cell_type": "code",
   "execution_count": 13,
   "id": "8da72cb4",
   "metadata": {},
   "outputs": [
    {
     "ename": "SyntaxError",
     "evalue": "invalid syntax (3239716063.py, line 1)",
     "output_type": "error",
     "traceback": [
      "\u001b[1;36m  Input \u001b[1;32mIn [13]\u001b[1;36m\u001b[0m\n\u001b[1;33m    file open('https://raw.githubusercontent.com\\\\gianscuri\\\\Twitch_Community_Graph\\\\main\\\\DataCollection\\\\Steam_games_scraping\\\\scraping game-categories.txt', 'r')\u001b[0m\n\u001b[1;37m         ^\u001b[0m\n\u001b[1;31mSyntaxError\u001b[0m\u001b[1;31m:\u001b[0m invalid syntax\n"
     ]
    }
   ],
   "source": [
    "file open('https://raw.githubusercontent.com\\\\gianscuri\\\\Twitch_Community_Graph\\\\main\\\\DataCollection\\\\Steam_games_scraping\\\\scraping game-categories.txt', 'r')\n"
   ]
  },
  {
   "cell_type": "code",
   "execution_count": null,
   "id": "2d2bb883",
   "metadata": {},
   "outputs": [],
   "source": []
  }
 ],
 "metadata": {
  "kernelspec": {
   "display_name": "Python 3 (ipykernel)",
   "language": "python",
   "name": "python3"
  },
  "language_info": {
   "codemirror_mode": {
    "name": "ipython",
    "version": 3
   },
   "file_extension": ".py",
   "mimetype": "text/x-python",
   "name": "python",
   "nbconvert_exporter": "python",
   "pygments_lexer": "ipython3",
   "version": "3.9.12"
  }
 },
 "nbformat": 4,
 "nbformat_minor": 5
}
