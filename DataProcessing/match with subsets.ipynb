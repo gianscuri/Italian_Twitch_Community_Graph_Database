{
 "cells": [
  {
   "cell_type": "markdown",
   "id": "0d41204a",
   "metadata": {},
   "source": [
    "Considero solo game che non sono stati perfettamente matchati"
   ]
  },
  {
   "cell_type": "code",
   "execution_count": 2,
   "id": "b681d144",
   "metadata": {},
   "outputs": [],
   "source": [
    "import pandas as pd\n",
    "import json\n",
    "import re\n",
    "import numpy as np"
   ]
  },
  {
   "cell_type": "code",
   "execution_count": 3,
   "id": "169dde23",
   "metadata": {},
   "outputs": [
    {
     "data": {
      "text/html": [
       "<div>\n",
       "<style scoped>\n",
       "    .dataframe tbody tr th:only-of-type {\n",
       "        vertical-align: middle;\n",
       "    }\n",
       "\n",
       "    .dataframe tbody tr th {\n",
       "        vertical-align: top;\n",
       "    }\n",
       "\n",
       "    .dataframe thead th {\n",
       "        text-align: right;\n",
       "    }\n",
       "</style>\n",
       "<table border=\"1\" class=\"dataframe\">\n",
       "  <thead>\n",
       "    <tr style=\"text-align: right;\">\n",
       "      <th></th>\n",
       "      <th>twitch_name</th>\n",
       "      <th>steam_name</th>\n",
       "      <th>match_score</th>\n",
       "      <th>twitch_clean</th>\n",
       "      <th>steam_clean</th>\n",
       "    </tr>\n",
       "  </thead>\n",
       "  <tbody>\n",
       "    <tr>\n",
       "      <th>0</th>\n",
       "      <td>Alice: Madness Returns</td>\n",
       "      <td>Alice: Madness Returns</td>\n",
       "      <td>100</td>\n",
       "      <td>alice madness returns</td>\n",
       "      <td></td>\n",
       "    </tr>\n",
       "    <tr>\n",
       "      <th>1</th>\n",
       "      <td>Witch It</td>\n",
       "      <td>Witch It</td>\n",
       "      <td>100</td>\n",
       "      <td>witch it</td>\n",
       "      <td></td>\n",
       "    </tr>\n",
       "    <tr>\n",
       "      <th>2</th>\n",
       "      <td>Cyber Hunter</td>\n",
       "      <td>Cyber Hunter</td>\n",
       "      <td>100</td>\n",
       "      <td>cyber hunter</td>\n",
       "      <td></td>\n",
       "    </tr>\n",
       "    <tr>\n",
       "      <th>3</th>\n",
       "      <td>Rogue Lords</td>\n",
       "      <td>Rogue Lords</td>\n",
       "      <td>100</td>\n",
       "      <td>rogue lords</td>\n",
       "      <td></td>\n",
       "    </tr>\n",
       "    <tr>\n",
       "      <th>4</th>\n",
       "      <td>INSIDE</td>\n",
       "      <td>INSIDE</td>\n",
       "      <td>100</td>\n",
       "      <td>inside</td>\n",
       "      <td></td>\n",
       "    </tr>\n",
       "    <tr>\n",
       "      <th>...</th>\n",
       "      <td>...</td>\n",
       "      <td>...</td>\n",
       "      <td>...</td>\n",
       "      <td>...</td>\n",
       "      <td>...</td>\n",
       "    </tr>\n",
       "    <tr>\n",
       "      <th>407</th>\n",
       "      <td>Persona 4 Arena Ultimax</td>\n",
       "      <td>Persona 4 Arena Ultimax</td>\n",
       "      <td>100</td>\n",
       "      <td>persona 4 arena ultimax</td>\n",
       "      <td></td>\n",
       "    </tr>\n",
       "    <tr>\n",
       "      <th>408</th>\n",
       "      <td>Indivisible</td>\n",
       "      <td>Indivisible</td>\n",
       "      <td>100</td>\n",
       "      <td>indivisible</td>\n",
       "      <td></td>\n",
       "    </tr>\n",
       "    <tr>\n",
       "      <th>409</th>\n",
       "      <td>The Wolf Among Us</td>\n",
       "      <td>The Wolf Among Us</td>\n",
       "      <td>100</td>\n",
       "      <td>the wolf among us</td>\n",
       "      <td></td>\n",
       "    </tr>\n",
       "    <tr>\n",
       "      <th>410</th>\n",
       "      <td>Rise of Nations: Extended Edition</td>\n",
       "      <td>Rise of Nations: Extended Edition</td>\n",
       "      <td>100</td>\n",
       "      <td>rise of nations extended edition</td>\n",
       "      <td></td>\n",
       "    </tr>\n",
       "    <tr>\n",
       "      <th>411</th>\n",
       "      <td>Sign of Silence</td>\n",
       "      <td>Sign of Silence</td>\n",
       "      <td>100</td>\n",
       "      <td>sign of silence</td>\n",
       "      <td></td>\n",
       "    </tr>\n",
       "  </tbody>\n",
       "</table>\n",
       "<p>412 rows × 5 columns</p>\n",
       "</div>"
      ],
      "text/plain": [
       "                           twitch_name                         steam_name  \\\n",
       "0               Alice: Madness Returns             Alice: Madness Returns   \n",
       "1                             Witch It                           Witch It   \n",
       "2                         Cyber Hunter                       Cyber Hunter   \n",
       "3                          Rogue Lords                        Rogue Lords   \n",
       "4                               INSIDE                             INSIDE   \n",
       "..                                 ...                                ...   \n",
       "407            Persona 4 Arena Ultimax            Persona 4 Arena Ultimax   \n",
       "408                        Indivisible                        Indivisible   \n",
       "409                  The Wolf Among Us                  The Wolf Among Us   \n",
       "410  Rise of Nations: Extended Edition  Rise of Nations: Extended Edition   \n",
       "411                    Sign of Silence                    Sign of Silence   \n",
       "\n",
       "     match_score                      twitch_clean steam_clean  \n",
       "0            100             alice madness returns              \n",
       "1            100                          witch it              \n",
       "2            100                      cyber hunter              \n",
       "3            100                       rogue lords              \n",
       "4            100                            inside              \n",
       "..           ...                               ...         ...  \n",
       "407          100           persona 4 arena ultimax              \n",
       "408          100                       indivisible              \n",
       "409          100                 the wolf among us              \n",
       "410          100  rise of nations extended edition              \n",
       "411          100                   sign of silence              \n",
       "\n",
       "[412 rows x 5 columns]"
      ]
     },
     "execution_count": 3,
     "metadata": {},
     "output_type": "execute_result"
    }
   ],
   "source": [
    "match_100 = pd.read_csv('C:\\\\Users\\\\gross\\\\OneDrive\\\\Documenti\\\\GitHub\\\\Twitch_Community_Graph\\\\DataProcessing\\\\match_100.csv',sep=',')\n",
    "match_100 = match_100.replace(np.nan, '', regex=True).drop(['Unnamed: 0'],axis=1)\n",
    "match_100"
   ]
  },
  {
   "cell_type": "markdown",
   "id": "69309345",
   "metadata": {},
   "source": [
    "Importo lista giochi di twitch e steam, rimuovo i già matchati e pulisco:\n",
    "\n",
    "    -strip\n",
    "    -lower\n",
    "    -alphanumeric\n",
    "    -remove multiple spaces"
   ]
  },
  {
   "cell_type": "code",
   "execution_count": 10,
   "id": "653daa69",
   "metadata": {},
   "outputs": [
    {
     "data": {
      "text/plain": [
       "732"
      ]
     },
     "execution_count": 10,
     "metadata": {},
     "output_type": "execute_result"
    }
   ],
   "source": [
    "games_tw = pd.read_csv('https://raw.githubusercontent.com/gianscuri/Twitch_Community_Graph/main/DataProcessing/Games_dataset.csv', sep = ',')\n",
    "\n",
    "twitch_name = games_tw['game_name'].to_list()\n",
    "\n",
    "twitch_to_match = []\n",
    "for elem in twitch_name:\n",
    "    if elem not in set(match_100.twitch_name):\n",
    "        twitch_to_match.append(elem)\n",
    "len(twitch_to_match)"
   ]
  },
  {
   "cell_type": "code",
   "execution_count": null,
   "id": "b2f68a4e",
   "metadata": {},
   "outputs": [],
   "source": [
    "Olympic Games Tokyo 2020: The Official Video Game"
   ]
  },
  {
   "cell_type": "code",
   "execution_count": 43,
   "id": "7cb4d396",
   "metadata": {},
   "outputs": [
    {
     "data": {
      "text/plain": [
       "732"
      ]
     },
     "execution_count": 43,
     "metadata": {},
     "output_type": "execute_result"
    }
   ],
   "source": [
    "for i in range(len(twitch_to_match)):\n",
    "    twitch_to_match[i] = re.sub(r\"[^a-zA-Z0-9 ']\",'',twitch_to_match[i]).lower().strip()\n",
    "    twitch_to_match[i] = re.sub('\\\\s+', ' ', twitch_to_match[i])"
   ]
  },
  {
   "cell_type": "code",
   "execution_count": null,
   "id": "ea90e613",
   "metadata": {},
   "outputs": [],
   "source": []
  },
  {
   "cell_type": "code",
   "execution_count": null,
   "id": "7f2e8a42",
   "metadata": {},
   "outputs": [],
   "source": []
  }
 ],
 "metadata": {
  "kernelspec": {
   "display_name": "Python 3 (ipykernel)",
   "language": "python",
   "name": "python3"
  },
  "language_info": {
   "codemirror_mode": {
    "name": "ipython",
    "version": 3
   },
   "file_extension": ".py",
   "mimetype": "text/x-python",
   "name": "python",
   "nbconvert_exporter": "python",
   "pygments_lexer": "ipython3",
   "version": "3.9.12"
  }
 },
 "nbformat": 4,
 "nbformat_minor": 5
}
