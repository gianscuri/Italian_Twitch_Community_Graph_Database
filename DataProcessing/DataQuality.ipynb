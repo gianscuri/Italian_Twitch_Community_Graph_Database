{
 "cells": [
  {
   "cell_type": "markdown",
   "id": "6e020c7b",
   "metadata": {},
   "source": [
    "## Data quality"
   ]
  },
  {
   "cell_type": "code",
   "execution_count": 1,
   "id": "dcab82d3",
   "metadata": {},
   "outputs": [],
   "source": [
    "import pandas as pd\n",
    "import numpy as np\n",
    "import datetime\n",
    "from datetime import datetime\n",
    "import seaborn as sns\n",
    "import matplotlib.pyplot as plt"
   ]
  },
  {
   "cell_type": "code",
   "execution_count": 2,
   "id": "a19f5258",
   "metadata": {},
   "outputs": [],
   "source": [
    "log= pd.read_csv('https://raw.githubusercontent.com/gianscuri/Twitch_Community_Graph/main/DataCollection/Twitch_stream_spect/Twitch_stream_collection.log', \n",
    "               names=['Time', 'num', 'Type', 'Cod', 'Message'], header=None)"
   ]
  },
  {
   "cell_type": "code",
   "execution_count": 3,
   "id": "b5dafed0",
   "metadata": {
    "scrolled": true
   },
   "outputs": [
    {
     "data": {
      "text/html": [
       "<div>\n",
       "<style scoped>\n",
       "    .dataframe tbody tr th:only-of-type {\n",
       "        vertical-align: middle;\n",
       "    }\n",
       "\n",
       "    .dataframe tbody tr th {\n",
       "        vertical-align: top;\n",
       "    }\n",
       "\n",
       "    .dataframe thead th {\n",
       "        text-align: right;\n",
       "    }\n",
       "</style>\n",
       "<table border=\"1\" class=\"dataframe\">\n",
       "  <thead>\n",
       "    <tr style=\"text-align: right;\">\n",
       "      <th></th>\n",
       "      <th>Time</th>\n",
       "      <th>num</th>\n",
       "      <th>Type</th>\n",
       "      <th>Cod</th>\n",
       "      <th>Message</th>\n",
       "    </tr>\n",
       "  </thead>\n",
       "  <tbody>\n",
       "    <tr>\n",
       "      <th>0</th>\n",
       "      <td>2022-05-05 15:09:10</td>\n",
       "      <td>508</td>\n",
       "      <td>INFO</td>\n",
       "      <td>1</td>\n",
       "      <td>Caricamento chiavi di accesso</td>\n",
       "    </tr>\n",
       "    <tr>\n",
       "      <th>1</th>\n",
       "      <td>2022-05-05 15:09:18</td>\n",
       "      <td>133</td>\n",
       "      <td>INFO</td>\n",
       "      <td>2</td>\n",
       "      <td>Numero di stream online: 1597</td>\n",
       "    </tr>\n",
       "    <tr>\n",
       "      <th>2</th>\n",
       "      <td>2022-05-05 15:09:25</td>\n",
       "      <td>487</td>\n",
       "      <td>INFO</td>\n",
       "      <td>3</td>\n",
       "      <td>Numero di spettatori online: 44353</td>\n",
       "    </tr>\n",
       "    <tr>\n",
       "      <th>3</th>\n",
       "      <td>2022-05-05 15:09:25</td>\n",
       "      <td>568</td>\n",
       "      <td>INFO</td>\n",
       "      <td>4</td>\n",
       "      <td>file 2022-05-05_15-09 salvato</td>\n",
       "    </tr>\n",
       "    <tr>\n",
       "      <th>4</th>\n",
       "      <td>2022-05-05 15:14:10</td>\n",
       "      <td>398</td>\n",
       "      <td>INFO</td>\n",
       "      <td>1</td>\n",
       "      <td>Caricamento chiavi di accesso</td>\n",
       "    </tr>\n",
       "  </tbody>\n",
       "</table>\n",
       "</div>"
      ],
      "text/plain": [
       "                  Time  num  Type Cod                             Message\n",
       "0  2022-05-05 15:09:10  508  INFO   1       Caricamento chiavi di accesso\n",
       "1  2022-05-05 15:09:18  133  INFO   2       Numero di stream online: 1597\n",
       "2  2022-05-05 15:09:25  487  INFO   3  Numero di spettatori online: 44353\n",
       "3  2022-05-05 15:09:25  568  INFO   4       file 2022-05-05_15-09 salvato\n",
       "4  2022-05-05 15:14:10  398  INFO   1       Caricamento chiavi di accesso"
      ]
     },
     "execution_count": 3,
     "metadata": {},
     "output_type": "execute_result"
    }
   ],
   "source": [
    "log.head()"
   ]
  },
  {
   "cell_type": "code",
   "execution_count": 4,
   "id": "2d8ae99d",
   "metadata": {},
   "outputs": [],
   "source": [
    "df_noERR= pd.read_csv('log_noERR')# file ripulito dagli errori"
   ]
  },
  {
   "cell_type": "code",
   "execution_count": 5,
   "id": "8443c33b",
   "metadata": {},
   "outputs": [
    {
     "data": {
      "text/html": [
       "<div>\n",
       "<style scoped>\n",
       "    .dataframe tbody tr th:only-of-type {\n",
       "        vertical-align: middle;\n",
       "    }\n",
       "\n",
       "    .dataframe tbody tr th {\n",
       "        vertical-align: top;\n",
       "    }\n",
       "\n",
       "    .dataframe thead th {\n",
       "        text-align: right;\n",
       "    }\n",
       "</style>\n",
       "<table border=\"1\" class=\"dataframe\">\n",
       "  <thead>\n",
       "    <tr style=\"text-align: right;\">\n",
       "      <th></th>\n",
       "      <th>Unnamed: 0</th>\n",
       "      <th>Time</th>\n",
       "      <th>num</th>\n",
       "      <th>Type</th>\n",
       "      <th>Cod</th>\n",
       "      <th>Message</th>\n",
       "    </tr>\n",
       "  </thead>\n",
       "  <tbody>\n",
       "    <tr>\n",
       "      <th>0</th>\n",
       "      <td>0</td>\n",
       "      <td>2022-05-05 15:09:10</td>\n",
       "      <td>508</td>\n",
       "      <td>INFO</td>\n",
       "      <td>1</td>\n",
       "      <td>Caricamento chiavi di accesso</td>\n",
       "    </tr>\n",
       "    <tr>\n",
       "      <th>1</th>\n",
       "      <td>1</td>\n",
       "      <td>2022-05-05 15:09:18</td>\n",
       "      <td>133</td>\n",
       "      <td>INFO</td>\n",
       "      <td>2</td>\n",
       "      <td>Numero di stream online: 1597</td>\n",
       "    </tr>\n",
       "    <tr>\n",
       "      <th>2</th>\n",
       "      <td>2</td>\n",
       "      <td>2022-05-05 15:09:25</td>\n",
       "      <td>487</td>\n",
       "      <td>INFO</td>\n",
       "      <td>3</td>\n",
       "      <td>Numero di spettatori online: 44353</td>\n",
       "    </tr>\n",
       "    <tr>\n",
       "      <th>3</th>\n",
       "      <td>3</td>\n",
       "      <td>2022-05-05 15:09:25</td>\n",
       "      <td>568</td>\n",
       "      <td>INFO</td>\n",
       "      <td>4</td>\n",
       "      <td>file 2022-05-05_15-09 salvato</td>\n",
       "    </tr>\n",
       "    <tr>\n",
       "      <th>4</th>\n",
       "      <td>4</td>\n",
       "      <td>2022-05-05 15:14:10</td>\n",
       "      <td>398</td>\n",
       "      <td>INFO</td>\n",
       "      <td>1</td>\n",
       "      <td>Caricamento chiavi di accesso</td>\n",
       "    </tr>\n",
       "  </tbody>\n",
       "</table>\n",
       "</div>"
      ],
      "text/plain": [
       "   Unnamed: 0                 Time  num  Type  Cod  \\\n",
       "0           0  2022-05-05 15:09:10  508  INFO    1   \n",
       "1           1  2022-05-05 15:09:18  133  INFO    2   \n",
       "2           2  2022-05-05 15:09:25  487  INFO    3   \n",
       "3           3  2022-05-05 15:09:25  568  INFO    4   \n",
       "4           4  2022-05-05 15:14:10  398  INFO    1   \n",
       "\n",
       "                              Message  \n",
       "0       Caricamento chiavi di accesso  \n",
       "1       Numero di stream online: 1597  \n",
       "2  Numero di spettatori online: 44353  \n",
       "3       file 2022-05-05_15-09 salvato  \n",
       "4       Caricamento chiavi di accesso  "
      ]
     },
     "execution_count": 5,
     "metadata": {},
     "output_type": "execute_result"
    }
   ],
   "source": [
    "df_noERR.head()"
   ]
  },
  {
   "cell_type": "markdown",
   "id": "b979a5ca",
   "metadata": {},
   "source": [
    "### Currency"
   ]
  },
  {
   "cell_type": "code",
   "execution_count": 6,
   "id": "08cf053d",
   "metadata": {},
   "outputs": [
    {
     "data": {
      "text/html": [
       "<div>\n",
       "<style scoped>\n",
       "    .dataframe tbody tr th:only-of-type {\n",
       "        vertical-align: middle;\n",
       "    }\n",
       "\n",
       "    .dataframe tbody tr th {\n",
       "        vertical-align: top;\n",
       "    }\n",
       "\n",
       "    .dataframe thead th {\n",
       "        text-align: right;\n",
       "    }\n",
       "</style>\n",
       "<table border=\"1\" class=\"dataframe\">\n",
       "  <thead>\n",
       "    <tr style=\"text-align: right;\">\n",
       "      <th></th>\n",
       "      <th>Unnamed: 0</th>\n",
       "      <th>Time</th>\n",
       "      <th>num</th>\n",
       "      <th>Type</th>\n",
       "      <th>Cod</th>\n",
       "      <th>Message</th>\n",
       "    </tr>\n",
       "  </thead>\n",
       "  <tbody>\n",
       "    <tr>\n",
       "      <th>0</th>\n",
       "      <td>0</td>\n",
       "      <td>2022-05-05 15:09:10</td>\n",
       "      <td>508</td>\n",
       "      <td>INFO</td>\n",
       "      <td>1</td>\n",
       "      <td>Caricamento chiavi di accesso</td>\n",
       "    </tr>\n",
       "    <tr>\n",
       "      <th>3</th>\n",
       "      <td>3</td>\n",
       "      <td>2022-05-05 15:09:25</td>\n",
       "      <td>568</td>\n",
       "      <td>INFO</td>\n",
       "      <td>4</td>\n",
       "      <td>file 2022-05-05_15-09 salvato</td>\n",
       "    </tr>\n",
       "    <tr>\n",
       "      <th>4</th>\n",
       "      <td>4</td>\n",
       "      <td>2022-05-05 15:14:10</td>\n",
       "      <td>398</td>\n",
       "      <td>INFO</td>\n",
       "      <td>1</td>\n",
       "      <td>Caricamento chiavi di accesso</td>\n",
       "    </tr>\n",
       "    <tr>\n",
       "      <th>7</th>\n",
       "      <td>7</td>\n",
       "      <td>2022-05-05 15:14:26</td>\n",
       "      <td>965</td>\n",
       "      <td>INFO</td>\n",
       "      <td>4</td>\n",
       "      <td>file 2022-05-05_15-14 salvato</td>\n",
       "    </tr>\n",
       "    <tr>\n",
       "      <th>8</th>\n",
       "      <td>8</td>\n",
       "      <td>2022-05-05 15:19:30</td>\n",
       "      <td>551</td>\n",
       "      <td>INFO</td>\n",
       "      <td>1</td>\n",
       "      <td>Caricamento chiavi di accesso</td>\n",
       "    </tr>\n",
       "  </tbody>\n",
       "</table>\n",
       "</div>"
      ],
      "text/plain": [
       "   Unnamed: 0                 Time  num  Type  Cod  \\\n",
       "0           0  2022-05-05 15:09:10  508  INFO    1   \n",
       "3           3  2022-05-05 15:09:25  568  INFO    4   \n",
       "4           4  2022-05-05 15:14:10  398  INFO    1   \n",
       "7           7  2022-05-05 15:14:26  965  INFO    4   \n",
       "8           8  2022-05-05 15:19:30  551  INFO    1   \n",
       "\n",
       "                         Message  \n",
       "0  Caricamento chiavi di accesso  \n",
       "3  file 2022-05-05_15-09 salvato  \n",
       "4  Caricamento chiavi di accesso  \n",
       "7  file 2022-05-05_15-14 salvato  \n",
       "8  Caricamento chiavi di accesso  "
      ]
     },
     "execution_count": 6,
     "metadata": {},
     "output_type": "execute_result"
    }
   ],
   "source": [
    "df=df_noERR[(df_noERR['Cod']== 1) |(df_noERR['Cod']== 4)]\n",
    "df.head()"
   ]
  },
  {
   "cell_type": "code",
   "execution_count": 7,
   "id": "8de7ff07",
   "metadata": {},
   "outputs": [],
   "source": [
    "times=[]\n",
    "for time in  df['Time']:\n",
    "    times.append(datetime.strptime(time, '%Y-%m-%d %H:%M:%S'))"
   ]
  },
  {
   "cell_type": "code",
   "execution_count": 8,
   "id": "0d0a4c07",
   "metadata": {
    "scrolled": true
   },
   "outputs": [
    {
     "name": "stderr",
     "output_type": "stream",
     "text": [
      "C:\\Users\\paola\\Anaconda\\lib\\site-packages\\ipykernel_launcher.py:1: SettingWithCopyWarning: \n",
      "A value is trying to be set on a copy of a slice from a DataFrame.\n",
      "Try using .loc[row_indexer,col_indexer] = value instead\n",
      "\n",
      "See the caveats in the documentation: https://pandas.pydata.org/pandas-docs/stable/user_guide/indexing.html#returning-a-view-versus-a-copy\n",
      "  \"\"\"Entry point for launching an IPython kernel.\n"
     ]
    }
   ],
   "source": [
    "df['datetime']= times"
   ]
  },
  {
   "cell_type": "code",
   "execution_count": 9,
   "id": "84d0aebc",
   "metadata": {},
   "outputs": [],
   "source": [
    "curr = np.diff(times)[::2]"
   ]
  },
  {
   "cell_type": "code",
   "execution_count": 10,
   "id": "3ddb73df",
   "metadata": {},
   "outputs": [
    {
     "data": {
      "text/plain": [
       "array([datetime.timedelta(seconds=15), datetime.timedelta(seconds=16),\n",
       "       datetime.timedelta(seconds=31), ...,\n",
       "       datetime.timedelta(seconds=12), datetime.timedelta(seconds=12),\n",
       "       datetime.timedelta(seconds=13)], dtype=object)"
      ]
     },
     "execution_count": 10,
     "metadata": {},
     "output_type": "execute_result"
    }
   ],
   "source": [
    "curr"
   ]
  },
  {
   "cell_type": "code",
   "execution_count": 11,
   "id": "85c596c4",
   "metadata": {},
   "outputs": [],
   "source": [
    "sec=[]\n",
    "for i in range(len(curr)):\n",
    "    sec.append(curr[i].seconds)"
   ]
  },
  {
   "cell_type": "code",
   "execution_count": 12,
   "id": "7bf0608f",
   "metadata": {},
   "outputs": [
    {
     "data": {
      "text/plain": [
       "(3823, 7)"
      ]
     },
     "execution_count": 12,
     "metadata": {},
     "output_type": "execute_result"
    }
   ],
   "source": [
    "f= df[df['Cod']==4]\n",
    "f.shape"
   ]
  },
  {
   "cell_type": "code",
   "execution_count": 13,
   "id": "c922ebef",
   "metadata": {},
   "outputs": [
    {
     "name": "stderr",
     "output_type": "stream",
     "text": [
      "C:\\Users\\paola\\Anaconda\\lib\\site-packages\\ipykernel_launcher.py:1: SettingWithCopyWarning: \n",
      "A value is trying to be set on a copy of a slice from a DataFrame.\n",
      "Try using .loc[row_indexer,col_indexer] = value instead\n",
      "\n",
      "See the caveats in the documentation: https://pandas.pydata.org/pandas-docs/stable/user_guide/indexing.html#returning-a-view-versus-a-copy\n",
      "  \"\"\"Entry point for launching an IPython kernel.\n"
     ]
    }
   ],
   "source": [
    "f['delta']= sec"
   ]
  },
  {
   "cell_type": "code",
   "execution_count": 14,
   "id": "454c64da",
   "metadata": {},
   "outputs": [
    {
     "data": {
      "text/html": [
       "<div>\n",
       "<style scoped>\n",
       "    .dataframe tbody tr th:only-of-type {\n",
       "        vertical-align: middle;\n",
       "    }\n",
       "\n",
       "    .dataframe tbody tr th {\n",
       "        vertical-align: top;\n",
       "    }\n",
       "\n",
       "    .dataframe thead th {\n",
       "        text-align: right;\n",
       "    }\n",
       "</style>\n",
       "<table border=\"1\" class=\"dataframe\">\n",
       "  <thead>\n",
       "    <tr style=\"text-align: right;\">\n",
       "      <th></th>\n",
       "      <th>Unnamed: 0</th>\n",
       "      <th>Time</th>\n",
       "      <th>num</th>\n",
       "      <th>Type</th>\n",
       "      <th>Cod</th>\n",
       "      <th>Message</th>\n",
       "      <th>datetime</th>\n",
       "      <th>delta</th>\n",
       "    </tr>\n",
       "  </thead>\n",
       "  <tbody>\n",
       "    <tr>\n",
       "      <th>3</th>\n",
       "      <td>3</td>\n",
       "      <td>2022-05-05 15:09:25</td>\n",
       "      <td>568</td>\n",
       "      <td>INFO</td>\n",
       "      <td>4</td>\n",
       "      <td>file 2022-05-05_15-09 salvato</td>\n",
       "      <td>2022-05-05 15:09:25</td>\n",
       "      <td>15</td>\n",
       "    </tr>\n",
       "    <tr>\n",
       "      <th>7</th>\n",
       "      <td>7</td>\n",
       "      <td>2022-05-05 15:14:26</td>\n",
       "      <td>965</td>\n",
       "      <td>INFO</td>\n",
       "      <td>4</td>\n",
       "      <td>file 2022-05-05_15-14 salvato</td>\n",
       "      <td>2022-05-05 15:14:26</td>\n",
       "      <td>16</td>\n",
       "    </tr>\n",
       "    <tr>\n",
       "      <th>11</th>\n",
       "      <td>11</td>\n",
       "      <td>2022-05-05 15:20:01</td>\n",
       "      <td>914</td>\n",
       "      <td>INFO</td>\n",
       "      <td>4</td>\n",
       "      <td>file 2022-05-05_15-20 salvato</td>\n",
       "      <td>2022-05-05 15:20:01</td>\n",
       "      <td>31</td>\n",
       "    </tr>\n",
       "    <tr>\n",
       "      <th>15</th>\n",
       "      <td>15</td>\n",
       "      <td>2022-05-05 15:24:25</td>\n",
       "      <td>214</td>\n",
       "      <td>INFO</td>\n",
       "      <td>4</td>\n",
       "      <td>file 2022-05-05_15-24 salvato</td>\n",
       "      <td>2022-05-05 15:24:25</td>\n",
       "      <td>16</td>\n",
       "    </tr>\n",
       "    <tr>\n",
       "      <th>19</th>\n",
       "      <td>19</td>\n",
       "      <td>2022-05-05 15:29:25</td>\n",
       "      <td>469</td>\n",
       "      <td>INFO</td>\n",
       "      <td>4</td>\n",
       "      <td>file 2022-05-05_15-29 salvato</td>\n",
       "      <td>2022-05-05 15:29:25</td>\n",
       "      <td>16</td>\n",
       "    </tr>\n",
       "  </tbody>\n",
       "</table>\n",
       "</div>"
      ],
      "text/plain": [
       "    Unnamed: 0                 Time  num  Type  Cod  \\\n",
       "3            3  2022-05-05 15:09:25  568  INFO    4   \n",
       "7            7  2022-05-05 15:14:26  965  INFO    4   \n",
       "11          11  2022-05-05 15:20:01  914  INFO    4   \n",
       "15          15  2022-05-05 15:24:25  214  INFO    4   \n",
       "19          19  2022-05-05 15:29:25  469  INFO    4   \n",
       "\n",
       "                          Message            datetime  delta  \n",
       "3   file 2022-05-05_15-09 salvato 2022-05-05 15:09:25     15  \n",
       "7   file 2022-05-05_15-14 salvato 2022-05-05 15:14:26     16  \n",
       "11  file 2022-05-05_15-20 salvato 2022-05-05 15:20:01     31  \n",
       "15  file 2022-05-05_15-24 salvato 2022-05-05 15:24:25     16  \n",
       "19  file 2022-05-05_15-29 salvato 2022-05-05 15:29:25     16  "
      ]
     },
     "execution_count": 14,
     "metadata": {},
     "output_type": "execute_result"
    }
   ],
   "source": [
    "f.head()"
   ]
  },
  {
   "cell_type": "code",
   "execution_count": 15,
   "id": "f60aa741",
   "metadata": {},
   "outputs": [
    {
     "data": {
      "text/plain": [
       "Unnamed: 0             int64\n",
       "Time                  object\n",
       "num                    int64\n",
       "Type                  object\n",
       "Cod                    int64\n",
       "Message               object\n",
       "datetime      datetime64[ns]\n",
       "delta                  int64\n",
       "dtype: object"
      ]
     },
     "execution_count": 15,
     "metadata": {},
     "output_type": "execute_result"
    }
   ],
   "source": [
    "f.dtypes"
   ]
  },
  {
   "cell_type": "code",
   "execution_count": 16,
   "id": "baf20cf9",
   "metadata": {},
   "outputs": [
    {
     "name": "stderr",
     "output_type": "stream",
     "text": [
      "C:\\Users\\paola\\Anaconda\\lib\\site-packages\\ipykernel_launcher.py:1: SettingWithCopyWarning: \n",
      "A value is trying to be set on a copy of a slice from a DataFrame.\n",
      "Try using .loc[row_indexer,col_indexer] = value instead\n",
      "\n",
      "See the caveats in the documentation: https://pandas.pydata.org/pandas-docs/stable/user_guide/indexing.html#returning-a-view-versus-a-copy\n",
      "  \"\"\"Entry point for launching an IPython kernel.\n"
     ]
    }
   ],
   "source": [
    "f['hour']= f['datetime'].dt.hour"
   ]
  },
  {
   "cell_type": "code",
   "execution_count": 17,
   "id": "e5f161a4",
   "metadata": {},
   "outputs": [
    {
     "data": {
      "text/html": [
       "<div>\n",
       "<style scoped>\n",
       "    .dataframe tbody tr th:only-of-type {\n",
       "        vertical-align: middle;\n",
       "    }\n",
       "\n",
       "    .dataframe tbody tr th {\n",
       "        vertical-align: top;\n",
       "    }\n",
       "\n",
       "    .dataframe thead th {\n",
       "        text-align: right;\n",
       "    }\n",
       "</style>\n",
       "<table border=\"1\" class=\"dataframe\">\n",
       "  <thead>\n",
       "    <tr style=\"text-align: right;\">\n",
       "      <th></th>\n",
       "      <th>Unnamed: 0</th>\n",
       "      <th>Time</th>\n",
       "      <th>num</th>\n",
       "      <th>Type</th>\n",
       "      <th>Cod</th>\n",
       "      <th>Message</th>\n",
       "      <th>datetime</th>\n",
       "      <th>delta</th>\n",
       "      <th>hour</th>\n",
       "    </tr>\n",
       "  </thead>\n",
       "  <tbody>\n",
       "    <tr>\n",
       "      <th>3</th>\n",
       "      <td>3</td>\n",
       "      <td>2022-05-05 15:09:25</td>\n",
       "      <td>568</td>\n",
       "      <td>INFO</td>\n",
       "      <td>4</td>\n",
       "      <td>file 2022-05-05_15-09 salvato</td>\n",
       "      <td>2022-05-05 15:09:25</td>\n",
       "      <td>15</td>\n",
       "      <td>15</td>\n",
       "    </tr>\n",
       "    <tr>\n",
       "      <th>7</th>\n",
       "      <td>7</td>\n",
       "      <td>2022-05-05 15:14:26</td>\n",
       "      <td>965</td>\n",
       "      <td>INFO</td>\n",
       "      <td>4</td>\n",
       "      <td>file 2022-05-05_15-14 salvato</td>\n",
       "      <td>2022-05-05 15:14:26</td>\n",
       "      <td>16</td>\n",
       "      <td>15</td>\n",
       "    </tr>\n",
       "    <tr>\n",
       "      <th>11</th>\n",
       "      <td>11</td>\n",
       "      <td>2022-05-05 15:20:01</td>\n",
       "      <td>914</td>\n",
       "      <td>INFO</td>\n",
       "      <td>4</td>\n",
       "      <td>file 2022-05-05_15-20 salvato</td>\n",
       "      <td>2022-05-05 15:20:01</td>\n",
       "      <td>31</td>\n",
       "      <td>15</td>\n",
       "    </tr>\n",
       "    <tr>\n",
       "      <th>15</th>\n",
       "      <td>15</td>\n",
       "      <td>2022-05-05 15:24:25</td>\n",
       "      <td>214</td>\n",
       "      <td>INFO</td>\n",
       "      <td>4</td>\n",
       "      <td>file 2022-05-05_15-24 salvato</td>\n",
       "      <td>2022-05-05 15:24:25</td>\n",
       "      <td>16</td>\n",
       "      <td>15</td>\n",
       "    </tr>\n",
       "    <tr>\n",
       "      <th>19</th>\n",
       "      <td>19</td>\n",
       "      <td>2022-05-05 15:29:25</td>\n",
       "      <td>469</td>\n",
       "      <td>INFO</td>\n",
       "      <td>4</td>\n",
       "      <td>file 2022-05-05_15-29 salvato</td>\n",
       "      <td>2022-05-05 15:29:25</td>\n",
       "      <td>16</td>\n",
       "      <td>15</td>\n",
       "    </tr>\n",
       "  </tbody>\n",
       "</table>\n",
       "</div>"
      ],
      "text/plain": [
       "    Unnamed: 0                 Time  num  Type  Cod  \\\n",
       "3            3  2022-05-05 15:09:25  568  INFO    4   \n",
       "7            7  2022-05-05 15:14:26  965  INFO    4   \n",
       "11          11  2022-05-05 15:20:01  914  INFO    4   \n",
       "15          15  2022-05-05 15:24:25  214  INFO    4   \n",
       "19          19  2022-05-05 15:29:25  469  INFO    4   \n",
       "\n",
       "                          Message            datetime  delta  hour  \n",
       "3   file 2022-05-05_15-09 salvato 2022-05-05 15:09:25     15    15  \n",
       "7   file 2022-05-05_15-14 salvato 2022-05-05 15:14:26     16    15  \n",
       "11  file 2022-05-05_15-20 salvato 2022-05-05 15:20:01     31    15  \n",
       "15  file 2022-05-05_15-24 salvato 2022-05-05 15:24:25     16    15  \n",
       "19  file 2022-05-05_15-29 salvato 2022-05-05 15:29:25     16    15  "
      ]
     },
     "execution_count": 17,
     "metadata": {},
     "output_type": "execute_result"
    }
   ],
   "source": [
    "f.head()"
   ]
  },
  {
   "cell_type": "code",
   "execution_count": 18,
   "id": "b952aed0",
   "metadata": {},
   "outputs": [
    {
     "data": {
      "text/plain": [
       "14.35207951870259"
      ]
     },
     "execution_count": 18,
     "metadata": {},
     "output_type": "execute_result"
    }
   ],
   "source": [
    "np.mean(sec)"
   ]
  },
  {
   "cell_type": "code",
   "execution_count": 19,
   "id": "713d2c98",
   "metadata": {},
   "outputs": [
    {
     "data": {
      "text/html": [
       "<div>\n",
       "<style scoped>\n",
       "    .dataframe tbody tr th:only-of-type {\n",
       "        vertical-align: middle;\n",
       "    }\n",
       "\n",
       "    .dataframe tbody tr th {\n",
       "        vertical-align: top;\n",
       "    }\n",
       "\n",
       "    .dataframe thead th {\n",
       "        text-align: right;\n",
       "    }\n",
       "</style>\n",
       "<table border=\"1\" class=\"dataframe\">\n",
       "  <thead>\n",
       "    <tr style=\"text-align: right;\">\n",
       "      <th></th>\n",
       "      <th>Unnamed: 0</th>\n",
       "      <th>Time</th>\n",
       "      <th>num</th>\n",
       "      <th>Type</th>\n",
       "      <th>Cod</th>\n",
       "      <th>Message</th>\n",
       "      <th>datetime</th>\n",
       "      <th>delta</th>\n",
       "      <th>hour</th>\n",
       "    </tr>\n",
       "  </thead>\n",
       "  <tbody>\n",
       "    <tr>\n",
       "      <th>3</th>\n",
       "      <td>3</td>\n",
       "      <td>2022-05-05 15:09:25</td>\n",
       "      <td>568</td>\n",
       "      <td>INFO</td>\n",
       "      <td>4</td>\n",
       "      <td>file 2022-05-05_15-09 salvato</td>\n",
       "      <td>2022-05-05 15:09:25</td>\n",
       "      <td>15</td>\n",
       "      <td>15</td>\n",
       "    </tr>\n",
       "    <tr>\n",
       "      <th>7</th>\n",
       "      <td>7</td>\n",
       "      <td>2022-05-05 15:14:26</td>\n",
       "      <td>965</td>\n",
       "      <td>INFO</td>\n",
       "      <td>4</td>\n",
       "      <td>file 2022-05-05_15-14 salvato</td>\n",
       "      <td>2022-05-05 15:14:26</td>\n",
       "      <td>16</td>\n",
       "      <td>15</td>\n",
       "    </tr>\n",
       "    <tr>\n",
       "      <th>11</th>\n",
       "      <td>11</td>\n",
       "      <td>2022-05-05 15:20:01</td>\n",
       "      <td>914</td>\n",
       "      <td>INFO</td>\n",
       "      <td>4</td>\n",
       "      <td>file 2022-05-05_15-20 salvato</td>\n",
       "      <td>2022-05-05 15:20:01</td>\n",
       "      <td>31</td>\n",
       "      <td>15</td>\n",
       "    </tr>\n",
       "    <tr>\n",
       "      <th>15</th>\n",
       "      <td>15</td>\n",
       "      <td>2022-05-05 15:24:25</td>\n",
       "      <td>214</td>\n",
       "      <td>INFO</td>\n",
       "      <td>4</td>\n",
       "      <td>file 2022-05-05_15-24 salvato</td>\n",
       "      <td>2022-05-05 15:24:25</td>\n",
       "      <td>16</td>\n",
       "      <td>15</td>\n",
       "    </tr>\n",
       "    <tr>\n",
       "      <th>19</th>\n",
       "      <td>19</td>\n",
       "      <td>2022-05-05 15:29:25</td>\n",
       "      <td>469</td>\n",
       "      <td>INFO</td>\n",
       "      <td>4</td>\n",
       "      <td>file 2022-05-05_15-29 salvato</td>\n",
       "      <td>2022-05-05 15:29:25</td>\n",
       "      <td>16</td>\n",
       "      <td>15</td>\n",
       "    </tr>\n",
       "    <tr>\n",
       "      <th>...</th>\n",
       "      <td>...</td>\n",
       "      <td>...</td>\n",
       "      <td>...</td>\n",
       "      <td>...</td>\n",
       "      <td>...</td>\n",
       "      <td>...</td>\n",
       "      <td>...</td>\n",
       "      <td>...</td>\n",
       "      <td>...</td>\n",
       "    </tr>\n",
       "    <tr>\n",
       "      <th>14607</th>\n",
       "      <td>17038</td>\n",
       "      <td>2022-05-19 00:44:25</td>\n",
       "      <td>326</td>\n",
       "      <td>INFO</td>\n",
       "      <td>4</td>\n",
       "      <td>file 2022-05-19_00-44 salvato</td>\n",
       "      <td>2022-05-19 00:44:25</td>\n",
       "      <td>17</td>\n",
       "      <td>0</td>\n",
       "    </tr>\n",
       "    <tr>\n",
       "      <th>14611</th>\n",
       "      <td>17042</td>\n",
       "      <td>2022-05-19 00:49:24</td>\n",
       "      <td>552</td>\n",
       "      <td>INFO</td>\n",
       "      <td>4</td>\n",
       "      <td>file 2022-05-19_00-49 salvato</td>\n",
       "      <td>2022-05-19 00:49:24</td>\n",
       "      <td>16</td>\n",
       "      <td>0</td>\n",
       "    </tr>\n",
       "    <tr>\n",
       "      <th>14615</th>\n",
       "      <td>17046</td>\n",
       "      <td>2022-05-19 00:54:24</td>\n",
       "      <td>377</td>\n",
       "      <td>INFO</td>\n",
       "      <td>4</td>\n",
       "      <td>file 2022-05-19_00-54 salvato</td>\n",
       "      <td>2022-05-19 00:54:24</td>\n",
       "      <td>16</td>\n",
       "      <td>0</td>\n",
       "    </tr>\n",
       "    <tr>\n",
       "      <th>14619</th>\n",
       "      <td>17050</td>\n",
       "      <td>2022-05-19 00:59:23</td>\n",
       "      <td>326</td>\n",
       "      <td>INFO</td>\n",
       "      <td>4</td>\n",
       "      <td>file 2022-05-19_00-59 salvato</td>\n",
       "      <td>2022-05-19 00:59:23</td>\n",
       "      <td>15</td>\n",
       "      <td>0</td>\n",
       "    </tr>\n",
       "    <tr>\n",
       "      <th>14731</th>\n",
       "      <td>17162</td>\n",
       "      <td>2022-05-19 03:19:24</td>\n",
       "      <td>546</td>\n",
       "      <td>INFO</td>\n",
       "      <td>4</td>\n",
       "      <td>file 2022-05-19_03-19 salvato</td>\n",
       "      <td>2022-05-19 03:19:24</td>\n",
       "      <td>15</td>\n",
       "      <td>3</td>\n",
       "    </tr>\n",
       "  </tbody>\n",
       "</table>\n",
       "<p>1650 rows × 9 columns</p>\n",
       "</div>"
      ],
      "text/plain": [
       "       Unnamed: 0                 Time  num  Type  Cod  \\\n",
       "3               3  2022-05-05 15:09:25  568  INFO    4   \n",
       "7               7  2022-05-05 15:14:26  965  INFO    4   \n",
       "11             11  2022-05-05 15:20:01  914  INFO    4   \n",
       "15             15  2022-05-05 15:24:25  214  INFO    4   \n",
       "19             19  2022-05-05 15:29:25  469  INFO    4   \n",
       "...           ...                  ...  ...   ...  ...   \n",
       "14607       17038  2022-05-19 00:44:25  326  INFO    4   \n",
       "14611       17042  2022-05-19 00:49:24  552  INFO    4   \n",
       "14615       17046  2022-05-19 00:54:24  377  INFO    4   \n",
       "14619       17050  2022-05-19 00:59:23  326  INFO    4   \n",
       "14731       17162  2022-05-19 03:19:24  546  INFO    4   \n",
       "\n",
       "                             Message            datetime  delta  hour  \n",
       "3      file 2022-05-05_15-09 salvato 2022-05-05 15:09:25     15    15  \n",
       "7      file 2022-05-05_15-14 salvato 2022-05-05 15:14:26     16    15  \n",
       "11     file 2022-05-05_15-20 salvato 2022-05-05 15:20:01     31    15  \n",
       "15     file 2022-05-05_15-24 salvato 2022-05-05 15:24:25     16    15  \n",
       "19     file 2022-05-05_15-29 salvato 2022-05-05 15:29:25     16    15  \n",
       "...                              ...                 ...    ...   ...  \n",
       "14607  file 2022-05-19_00-44 salvato 2022-05-19 00:44:25     17     0  \n",
       "14611  file 2022-05-19_00-49 salvato 2022-05-19 00:49:24     16     0  \n",
       "14615  file 2022-05-19_00-54 salvato 2022-05-19 00:54:24     16     0  \n",
       "14619  file 2022-05-19_00-59 salvato 2022-05-19 00:59:23     15     0  \n",
       "14731  file 2022-05-19_03-19 salvato 2022-05-19 03:19:24     15     3  \n",
       "\n",
       "[1650 rows x 9 columns]"
      ]
     },
     "execution_count": 19,
     "metadata": {},
     "output_type": "execute_result"
    }
   ],
   "source": [
    "above= f[f['delta']>14]\n",
    "above"
   ]
  },
  {
   "cell_type": "code",
   "execution_count": 20,
   "id": "d6adb4bb",
   "metadata": {},
   "outputs": [
    {
     "data": {
      "text/plain": [
       "16    167\n",
       "18    163\n",
       "17    159\n",
       "23    154\n",
       "15    152\n",
       "19    152\n",
       "0     151\n",
       "21    145\n",
       "22    145\n",
       "20    144\n",
       "1      42\n",
       "14     37\n",
       "9      13\n",
       "5       5\n",
       "2       5\n",
       "6       4\n",
       "12      3\n",
       "13      3\n",
       "3       2\n",
       "4       2\n",
       "10      1\n",
       "11      1\n",
       "Name: hour, dtype: int64"
      ]
     },
     "execution_count": 20,
     "metadata": {},
     "output_type": "execute_result"
    }
   ],
   "source": [
    "above['hour'].value_counts()"
   ]
  },
  {
   "cell_type": "code",
   "execution_count": 21,
   "id": "e8a359aa",
   "metadata": {},
   "outputs": [
    {
     "data": {
      "text/plain": [
       "21.884848484848487"
      ]
     },
     "execution_count": 21,
     "metadata": {},
     "output_type": "execute_result"
    }
   ],
   "source": [
    "above['delta'].mean()"
   ]
  },
  {
   "cell_type": "code",
   "execution_count": 22,
   "id": "1d6fdcf5",
   "metadata": {},
   "outputs": [
    {
     "data": {
      "text/html": [
       "<div>\n",
       "<style scoped>\n",
       "    .dataframe tbody tr th:only-of-type {\n",
       "        vertical-align: middle;\n",
       "    }\n",
       "\n",
       "    .dataframe tbody tr th {\n",
       "        vertical-align: top;\n",
       "    }\n",
       "\n",
       "    .dataframe thead th {\n",
       "        text-align: right;\n",
       "    }\n",
       "</style>\n",
       "<table border=\"1\" class=\"dataframe\">\n",
       "  <thead>\n",
       "    <tr style=\"text-align: right;\">\n",
       "      <th></th>\n",
       "      <th>Unnamed: 0</th>\n",
       "      <th>Time</th>\n",
       "      <th>num</th>\n",
       "      <th>Type</th>\n",
       "      <th>Cod</th>\n",
       "      <th>Message</th>\n",
       "      <th>datetime</th>\n",
       "      <th>delta</th>\n",
       "      <th>hour</th>\n",
       "    </tr>\n",
       "  </thead>\n",
       "  <tbody>\n",
       "    <tr>\n",
       "      <th>487</th>\n",
       "      <td>496</td>\n",
       "      <td>2022-05-06 01:29:21</td>\n",
       "      <td>879</td>\n",
       "      <td>INFO</td>\n",
       "      <td>4</td>\n",
       "      <td>file 2022-05-06_01-29 salvato</td>\n",
       "      <td>2022-05-06 01:29:21</td>\n",
       "      <td>13</td>\n",
       "      <td>1</td>\n",
       "    </tr>\n",
       "    <tr>\n",
       "      <th>491</th>\n",
       "      <td>500</td>\n",
       "      <td>2022-05-06 01:34:21</td>\n",
       "      <td>666</td>\n",
       "      <td>INFO</td>\n",
       "      <td>4</td>\n",
       "      <td>file 2022-05-06_01-34 salvato</td>\n",
       "      <td>2022-05-06 01:34:21</td>\n",
       "      <td>13</td>\n",
       "      <td>1</td>\n",
       "    </tr>\n",
       "    <tr>\n",
       "      <th>507</th>\n",
       "      <td>516</td>\n",
       "      <td>2022-05-06 01:54:20</td>\n",
       "      <td>973</td>\n",
       "      <td>INFO</td>\n",
       "      <td>4</td>\n",
       "      <td>file 2022-05-06_01-54 salvato</td>\n",
       "      <td>2022-05-06 01:54:20</td>\n",
       "      <td>12</td>\n",
       "      <td>1</td>\n",
       "    </tr>\n",
       "    <tr>\n",
       "      <th>511</th>\n",
       "      <td>520</td>\n",
       "      <td>2022-05-06 01:59:21</td>\n",
       "      <td>640</td>\n",
       "      <td>INFO</td>\n",
       "      <td>4</td>\n",
       "      <td>file 2022-05-06_01-59 salvato</td>\n",
       "      <td>2022-05-06 01:59:21</td>\n",
       "      <td>13</td>\n",
       "      <td>1</td>\n",
       "    </tr>\n",
       "    <tr>\n",
       "      <th>523</th>\n",
       "      <td>532</td>\n",
       "      <td>2022-05-06 02:14:21</td>\n",
       "      <td>229</td>\n",
       "      <td>INFO</td>\n",
       "      <td>4</td>\n",
       "      <td>file 2022-05-06_02-14 salvato</td>\n",
       "      <td>2022-05-06 02:14:21</td>\n",
       "      <td>13</td>\n",
       "      <td>2</td>\n",
       "    </tr>\n",
       "    <tr>\n",
       "      <th>...</th>\n",
       "      <td>...</td>\n",
       "      <td>...</td>\n",
       "      <td>...</td>\n",
       "      <td>...</td>\n",
       "      <td>...</td>\n",
       "      <td>...</td>\n",
       "      <td>...</td>\n",
       "      <td>...</td>\n",
       "      <td>...</td>\n",
       "    </tr>\n",
       "    <tr>\n",
       "      <th>15275</th>\n",
       "      <td>17706</td>\n",
       "      <td>2022-05-19 14:39:20</td>\n",
       "      <td>377</td>\n",
       "      <td>INFO</td>\n",
       "      <td>4</td>\n",
       "      <td>file 2022-05-19_14-39 salvato</td>\n",
       "      <td>2022-05-19 14:39:20</td>\n",
       "      <td>12</td>\n",
       "      <td>14</td>\n",
       "    </tr>\n",
       "    <tr>\n",
       "      <th>15279</th>\n",
       "      <td>17710</td>\n",
       "      <td>2022-05-19 14:44:20</td>\n",
       "      <td>935</td>\n",
       "      <td>INFO</td>\n",
       "      <td>4</td>\n",
       "      <td>file 2022-05-19_14-44 salvato</td>\n",
       "      <td>2022-05-19 14:44:20</td>\n",
       "      <td>12</td>\n",
       "      <td>14</td>\n",
       "    </tr>\n",
       "    <tr>\n",
       "      <th>15283</th>\n",
       "      <td>17714</td>\n",
       "      <td>2022-05-19 14:49:20</td>\n",
       "      <td>883</td>\n",
       "      <td>INFO</td>\n",
       "      <td>4</td>\n",
       "      <td>file 2022-05-19_14-49 salvato</td>\n",
       "      <td>2022-05-19 14:49:20</td>\n",
       "      <td>12</td>\n",
       "      <td>14</td>\n",
       "    </tr>\n",
       "    <tr>\n",
       "      <th>15287</th>\n",
       "      <td>17718</td>\n",
       "      <td>2022-05-19 14:54:20</td>\n",
       "      <td>981</td>\n",
       "      <td>INFO</td>\n",
       "      <td>4</td>\n",
       "      <td>file 2022-05-19_14-54 salvato</td>\n",
       "      <td>2022-05-19 14:54:20</td>\n",
       "      <td>12</td>\n",
       "      <td>14</td>\n",
       "    </tr>\n",
       "    <tr>\n",
       "      <th>15291</th>\n",
       "      <td>17722</td>\n",
       "      <td>2022-05-19 14:59:21</td>\n",
       "      <td>66</td>\n",
       "      <td>INFO</td>\n",
       "      <td>4</td>\n",
       "      <td>file 2022-05-19_14-59 salvato</td>\n",
       "      <td>2022-05-19 14:59:21</td>\n",
       "      <td>13</td>\n",
       "      <td>14</td>\n",
       "    </tr>\n",
       "  </tbody>\n",
       "</table>\n",
       "<p>2071 rows × 9 columns</p>\n",
       "</div>"
      ],
      "text/plain": [
       "       Unnamed: 0                 Time  num  Type  Cod  \\\n",
       "487           496  2022-05-06 01:29:21  879  INFO    4   \n",
       "491           500  2022-05-06 01:34:21  666  INFO    4   \n",
       "507           516  2022-05-06 01:54:20  973  INFO    4   \n",
       "511           520  2022-05-06 01:59:21  640  INFO    4   \n",
       "523           532  2022-05-06 02:14:21  229  INFO    4   \n",
       "...           ...                  ...  ...   ...  ...   \n",
       "15275       17706  2022-05-19 14:39:20  377  INFO    4   \n",
       "15279       17710  2022-05-19 14:44:20  935  INFO    4   \n",
       "15283       17714  2022-05-19 14:49:20  883  INFO    4   \n",
       "15287       17718  2022-05-19 14:54:20  981  INFO    4   \n",
       "15291       17722  2022-05-19 14:59:21   66  INFO    4   \n",
       "\n",
       "                             Message            datetime  delta  hour  \n",
       "487    file 2022-05-06_01-29 salvato 2022-05-06 01:29:21     13     1  \n",
       "491    file 2022-05-06_01-34 salvato 2022-05-06 01:34:21     13     1  \n",
       "507    file 2022-05-06_01-54 salvato 2022-05-06 01:54:20     12     1  \n",
       "511    file 2022-05-06_01-59 salvato 2022-05-06 01:59:21     13     1  \n",
       "523    file 2022-05-06_02-14 salvato 2022-05-06 02:14:21     13     2  \n",
       "...                              ...                 ...    ...   ...  \n",
       "15275  file 2022-05-19_14-39 salvato 2022-05-19 14:39:20     12    14  \n",
       "15279  file 2022-05-19_14-44 salvato 2022-05-19 14:44:20     12    14  \n",
       "15283  file 2022-05-19_14-49 salvato 2022-05-19 14:49:20     12    14  \n",
       "15287  file 2022-05-19_14-54 salvato 2022-05-19 14:54:20     12    14  \n",
       "15291  file 2022-05-19_14-59 salvato 2022-05-19 14:59:21     13    14  \n",
       "\n",
       "[2071 rows x 9 columns]"
      ]
     },
     "execution_count": 22,
     "metadata": {},
     "output_type": "execute_result"
    }
   ],
   "source": [
    "under= f[f['delta']<14]\n",
    "under"
   ]
  },
  {
   "cell_type": "code",
   "execution_count": 23,
   "id": "2553c0c0",
   "metadata": {},
   "outputs": [
    {
     "data": {
      "text/plain": [
       "10    166\n",
       "11    165\n",
       "12    165\n",
       "3     162\n",
       "13    160\n",
       "9     156\n",
       "7     155\n",
       "8     155\n",
       "4     153\n",
       "5     151\n",
       "6     150\n",
       "2     147\n",
       "14    106\n",
       "1      72\n",
       "20      6\n",
       "15      2\n",
       "Name: hour, dtype: int64"
      ]
     },
     "execution_count": 23,
     "metadata": {},
     "output_type": "execute_result"
    }
   ],
   "source": [
    "under['hour'].value_counts()"
   ]
  },
  {
   "cell_type": "code",
   "execution_count": 24,
   "id": "3cae9f5b",
   "metadata": {},
   "outputs": [
    {
     "name": "stderr",
     "output_type": "stream",
     "text": [
      "C:\\Users\\paola\\Anaconda\\lib\\site-packages\\seaborn\\_decorators.py:43: FutureWarning: Pass the following variable as a keyword arg: x. From version 0.12, the only valid positional argument will be `data`, and passing other arguments without an explicit keyword will result in an error or misinterpretation.\n",
      "  FutureWarning\n",
      "C:\\Users\\paola\\Anaconda\\lib\\site-packages\\seaborn\\_core.py:1326: UserWarning: Vertical orientation ignored with only `x` specified.\n",
      "  warnings.warn(single_var_warning.format(\"Vertical\", \"x\"))\n"
     ]
    },
    {
     "data": {
      "text/plain": [
       "<AxesSubplot:>"
      ]
     },
     "execution_count": 24,
     "metadata": {},
     "output_type": "execute_result"
    },
    {
     "data": {
      "image/png": "[encoded data removed]",
      "text/plain": [
       "<Figure size 432x288 with 1 Axes>"
      ]
     },
     "metadata": {
      "needs_background": "light"
     },
     "output_type": "display_data"
    }
   ],
   "source": [
    "sns.violinplot(sec, orient= \"v\", color= 'crimson')"
   ]
  },
  {
   "cell_type": "markdown",
   "id": "4c4539c6",
   "metadata": {},
   "source": [
    "### Completeness"
   ]
  },
  {
   "cell_type": "code",
   "execution_count": 25,
   "id": "a673f16c",
   "metadata": {},
   "outputs": [],
   "source": [
    "idealtot= 4032 # in 2 settimane"
   ]
  },
  {
   "cell_type": "code",
   "execution_count": 26,
   "id": "4a5e23cf",
   "metadata": {},
   "outputs": [],
   "source": [
    "effective= log[log['Cod'] == '4']['Cod'].count()"
   ]
  },
  {
   "cell_type": "code",
   "execution_count": 27,
   "id": "0971b656",
   "metadata": {},
   "outputs": [
    {
     "data": {
      "text/plain": [
       "3823"
      ]
     },
     "execution_count": 27,
     "metadata": {},
     "output_type": "execute_result"
    }
   ],
   "source": [
    "effective"
   ]
  },
  {
   "cell_type": "code",
   "execution_count": 28,
   "id": "79aff4d2",
   "metadata": {},
   "outputs": [],
   "source": [
    "errors = log[log['Type'] == 'ERROR']"
   ]
  },
  {
   "cell_type": "code",
   "execution_count": 29,
   "id": "fff7b2e0",
   "metadata": {
    "scrolled": true
   },
   "outputs": [
    {
     "data": {
      "text/html": [
       "<div>\n",
       "<style scoped>\n",
       "    .dataframe tbody tr th:only-of-type {\n",
       "        vertical-align: middle;\n",
       "    }\n",
       "\n",
       "    .dataframe tbody tr th {\n",
       "        vertical-align: top;\n",
       "    }\n",
       "\n",
       "    .dataframe thead th {\n",
       "        text-align: right;\n",
       "    }\n",
       "</style>\n",
       "<table border=\"1\" class=\"dataframe\">\n",
       "  <thead>\n",
       "    <tr style=\"text-align: right;\">\n",
       "      <th></th>\n",
       "      <th>Time</th>\n",
       "      <th>num</th>\n",
       "      <th>Type</th>\n",
       "      <th>Cod</th>\n",
       "      <th>Message</th>\n",
       "    </tr>\n",
       "  </thead>\n",
       "  <tbody>\n",
       "    <tr>\n",
       "      <th>270</th>\n",
       "      <td>2022-05-05 20:48:37</td>\n",
       "      <td>561</td>\n",
       "      <td>ERROR</td>\n",
       "      <td>Esecuzione terminata per Timeout</td>\n",
       "      <td>NaN</td>\n",
       "    </tr>\n",
       "    <tr>\n",
       "      <th>361</th>\n",
       "      <td>2022-05-05 22:43:37</td>\n",
       "      <td>446</td>\n",
       "      <td>ERROR</td>\n",
       "      <td>Esecuzione terminata per Timeout</td>\n",
       "      <td>NaN</td>\n",
       "    </tr>\n",
       "    <tr>\n",
       "      <th>364</th>\n",
       "      <td>2022-05-05 22:48:37</td>\n",
       "      <td>456</td>\n",
       "      <td>ERROR</td>\n",
       "      <td>Esecuzione terminata per Timeout</td>\n",
       "      <td>NaN</td>\n",
       "    </tr>\n",
       "    <tr>\n",
       "      <th>1346</th>\n",
       "      <td>2022-05-06 19:28:37</td>\n",
       "      <td>561</td>\n",
       "      <td>ERROR</td>\n",
       "      <td>Esecuzione terminata per Timeout</td>\n",
       "      <td>NaN</td>\n",
       "    </tr>\n",
       "    <tr>\n",
       "      <th>1349</th>\n",
       "      <td>2022-05-06 19:33:37</td>\n",
       "      <td>538</td>\n",
       "      <td>ERROR</td>\n",
       "      <td>Esecuzione terminata per Timeout</td>\n",
       "      <td>NaN</td>\n",
       "    </tr>\n",
       "  </tbody>\n",
       "</table>\n",
       "</div>"
      ],
      "text/plain": [
       "                     Time  num   Type                               Cod  \\\n",
       "270   2022-05-05 20:48:37  561  ERROR  Esecuzione terminata per Timeout   \n",
       "361   2022-05-05 22:43:37  446  ERROR  Esecuzione terminata per Timeout   \n",
       "364   2022-05-05 22:48:37  456  ERROR  Esecuzione terminata per Timeout   \n",
       "1346  2022-05-06 19:28:37  561  ERROR  Esecuzione terminata per Timeout   \n",
       "1349  2022-05-06 19:33:37  538  ERROR  Esecuzione terminata per Timeout   \n",
       "\n",
       "     Message  \n",
       "270      NaN  \n",
       "361      NaN  \n",
       "364      NaN  \n",
       "1346     NaN  \n",
       "1349     NaN  "
      ]
     },
     "execution_count": 29,
     "metadata": {},
     "output_type": "execute_result"
    }
   ],
   "source": [
    "errors.head()"
   ]
  },
  {
   "cell_type": "code",
   "execution_count": 30,
   "id": "9b0743b7",
   "metadata": {},
   "outputs": [
    {
     "data": {
      "text/plain": [
       "(229, 5)"
      ]
     },
     "execution_count": 30,
     "metadata": {},
     "output_type": "execute_result"
    }
   ],
   "source": [
    "errors.shape"
   ]
  },
  {
   "cell_type": "code",
   "execution_count": 31,
   "id": "53547210",
   "metadata": {},
   "outputs": [
    {
     "data": {
      "text/plain": [
       "(115, 5)"
      ]
     },
     "execution_count": 31,
     "metadata": {},
     "output_type": "execute_result"
    }
   ],
   "source": [
    "failed_timeout= errors[errors['Cod']== 'Esecuzione terminata per Timeout']\n",
    "failed_timeout.shape"
   ]
  },
  {
   "cell_type": "code",
   "execution_count": 32,
   "id": "8531b06a",
   "metadata": {},
   "outputs": [],
   "source": [
    "timeout= 115"
   ]
  },
  {
   "cell_type": "code",
   "execution_count": 33,
   "id": "15abd4f5",
   "metadata": {},
   "outputs": [
    {
     "data": {
      "text/html": [
       "<div>\n",
       "<style scoped>\n",
       "    .dataframe tbody tr th:only-of-type {\n",
       "        vertical-align: middle;\n",
       "    }\n",
       "\n",
       "    .dataframe tbody tr th {\n",
       "        vertical-align: top;\n",
       "    }\n",
       "\n",
       "    .dataframe thead th {\n",
       "        text-align: right;\n",
       "    }\n",
       "</style>\n",
       "<table border=\"1\" class=\"dataframe\">\n",
       "  <thead>\n",
       "    <tr style=\"text-align: right;\">\n",
       "      <th></th>\n",
       "      <th>Time</th>\n",
       "      <th>num</th>\n",
       "      <th>Type</th>\n",
       "      <th>Cod</th>\n",
       "      <th>Message</th>\n",
       "    </tr>\n",
       "  </thead>\n",
       "  <tbody>\n",
       "    <tr>\n",
       "      <th>7218</th>\n",
       "      <td>2022-05-11 23:24:58</td>\n",
       "      <td>295</td>\n",
       "      <td>ERROR</td>\n",
       "      <td>Error in user_login: Attempt to decode JSON wi...</td>\n",
       "      <td>NaN</td>\n",
       "    </tr>\n",
       "    <tr>\n",
       "      <th>13655</th>\n",
       "      <td>2022-05-17 20:59:28</td>\n",
       "      <td>243</td>\n",
       "      <td>ERROR</td>\n",
       "      <td>Error in user_login: Attempt to decode JSON wi...</td>\n",
       "      <td>NaN</td>\n",
       "    </tr>\n",
       "    <tr>\n",
       "      <th>13656</th>\n",
       "      <td>2022-05-17 20:59:28</td>\n",
       "      <td>244</td>\n",
       "      <td>ERROR</td>\n",
       "      <td>Error in user_login: Attempt to decode JSON wi...</td>\n",
       "      <td>NaN</td>\n",
       "    </tr>\n",
       "    <tr>\n",
       "      <th>13687</th>\n",
       "      <td>2022-05-17 21:39:38</td>\n",
       "      <td>388</td>\n",
       "      <td>ERROR</td>\n",
       "      <td>Error in user_login: Attempt to decode JSON wi...</td>\n",
       "      <td>NaN</td>\n",
       "    </tr>\n",
       "    <tr>\n",
       "      <th>13688</th>\n",
       "      <td>2022-05-17 21:39:38</td>\n",
       "      <td>391</td>\n",
       "      <td>ERROR</td>\n",
       "      <td>Error in user_login: Attempt to decode JSON wi...</td>\n",
       "      <td>NaN</td>\n",
       "    </tr>\n",
       "    <tr>\n",
       "      <th>...</th>\n",
       "      <td>...</td>\n",
       "      <td>...</td>\n",
       "      <td>...</td>\n",
       "      <td>...</td>\n",
       "      <td>...</td>\n",
       "    </tr>\n",
       "    <tr>\n",
       "      <th>16635</th>\n",
       "      <td>2022-05-18 16:24:26</td>\n",
       "      <td>501</td>\n",
       "      <td>ERROR</td>\n",
       "      <td>Error in user_login: Attempt to decode JSON wi...</td>\n",
       "      <td>NaN</td>\n",
       "    </tr>\n",
       "    <tr>\n",
       "      <th>16636</th>\n",
       "      <td>2022-05-18 16:24:26</td>\n",
       "      <td>501</td>\n",
       "      <td>ERROR</td>\n",
       "      <td>Error in user_login: Attempt to decode JSON wi...</td>\n",
       "      <td>NaN</td>\n",
       "    </tr>\n",
       "    <tr>\n",
       "      <th>16637</th>\n",
       "      <td>2022-05-18 16:24:26</td>\n",
       "      <td>502</td>\n",
       "      <td>ERROR</td>\n",
       "      <td>Error in user_login: Attempt to decode JSON wi...</td>\n",
       "      <td>NaN</td>\n",
       "    </tr>\n",
       "    <tr>\n",
       "      <th>16638</th>\n",
       "      <td>2022-05-18 16:24:26</td>\n",
       "      <td>502</td>\n",
       "      <td>ERROR</td>\n",
       "      <td>Error in user_login: Attempt to decode JSON wi...</td>\n",
       "      <td>NaN</td>\n",
       "    </tr>\n",
       "    <tr>\n",
       "      <th>16639</th>\n",
       "      <td>2022-05-18 16:24:26</td>\n",
       "      <td>502</td>\n",
       "      <td>ERROR</td>\n",
       "      <td>Error in user_login: Attempt to decode JSON wi...</td>\n",
       "      <td>NaN</td>\n",
       "    </tr>\n",
       "  </tbody>\n",
       "</table>\n",
       "<p>114 rows × 5 columns</p>\n",
       "</div>"
      ],
      "text/plain": [
       "                      Time  num   Type  \\\n",
       "7218   2022-05-11 23:24:58  295  ERROR   \n",
       "13655  2022-05-17 20:59:28  243  ERROR   \n",
       "13656  2022-05-17 20:59:28  244  ERROR   \n",
       "13687  2022-05-17 21:39:38  388  ERROR   \n",
       "13688  2022-05-17 21:39:38  391  ERROR   \n",
       "...                    ...  ...    ...   \n",
       "16635  2022-05-18 16:24:26  501  ERROR   \n",
       "16636  2022-05-18 16:24:26  501  ERROR   \n",
       "16637  2022-05-18 16:24:26  502  ERROR   \n",
       "16638  2022-05-18 16:24:26  502  ERROR   \n",
       "16639  2022-05-18 16:24:26  502  ERROR   \n",
       "\n",
       "                                                     Cod Message  \n",
       "7218   Error in user_login: Attempt to decode JSON wi...     NaN  \n",
       "13655  Error in user_login: Attempt to decode JSON wi...     NaN  \n",
       "13656  Error in user_login: Attempt to decode JSON wi...     NaN  \n",
       "13687  Error in user_login: Attempt to decode JSON wi...     NaN  \n",
       "13688  Error in user_login: Attempt to decode JSON wi...     NaN  \n",
       "...                                                  ...     ...  \n",
       "16635  Error in user_login: Attempt to decode JSON wi...     NaN  \n",
       "16636  Error in user_login: Attempt to decode JSON wi...     NaN  \n",
       "16637  Error in user_login: Attempt to decode JSON wi...     NaN  \n",
       "16638  Error in user_login: Attempt to decode JSON wi...     NaN  \n",
       "16639  Error in user_login: Attempt to decode JSON wi...     NaN  \n",
       "\n",
       "[114 rows x 5 columns]"
      ]
     },
     "execution_count": 33,
     "metadata": {},
     "output_type": "execute_result"
    }
   ],
   "source": [
    "other= errors[errors['Cod']!= 'Esecuzione terminata per Timeout']\n",
    "other"
   ]
  },
  {
   "cell_type": "code",
   "execution_count": 34,
   "id": "28108729",
   "metadata": {},
   "outputs": [],
   "source": [
    "runtime= 94"
   ]
  },
  {
   "cell_type": "code",
   "execution_count": 35,
   "id": "e42c2068",
   "metadata": {},
   "outputs": [
    {
     "data": {
      "text/plain": [
       "Text(0, 0.5, 'Num. files')"
      ]
     },
     "execution_count": 35,
     "metadata": {},
     "output_type": "execute_result"
    },
    {
     "data": {
      "image/png": "[encoded data removed]",
      "text/plain": [
       "<Figure size 432x288 with 1 Axes>"
      ]
     },
     "metadata": {
      "needs_background": "light"
     },
     "output_type": "display_data"
    }
   ],
   "source": [
    "\n",
    "vals=[idealtot,effective,timeout,runtime]\n",
    "inds=range(len(vals))\n",
    "labels=[\"Total expected\",\"Files stored\",\"Timeout\",\"Runtime exception\"]\n",
    "\n",
    "fig,ax = plt.subplots()\n",
    "rects = ax.bar(inds, vals, color='crimson')\n",
    "ax.set_xticks([ind for ind in inds])\n",
    "ax.set_xticklabels(labels)\n",
    "ax.set_ylabel('Num. files')"
   ]
  },
  {
   "cell_type": "code",
   "execution_count": 36,
   "id": "c8ab3f83",
   "metadata": {},
   "outputs": [],
   "source": [
    "t= pd.date_range('2022-05-05 15:00:00', '2022-05-19 15:00:00')"
   ]
  },
  {
   "cell_type": "code",
   "execution_count": null,
   "id": "a52202c8",
   "metadata": {},
   "outputs": [],
   "source": []
  },
  {
   "cell_type": "code",
   "execution_count": 37,
   "id": "5b26aded",
   "metadata": {},
   "outputs": [],
   "source": [
    "social= pd.read_csv('https://raw.githubusercontent.com/gianscuri/Twitch_Community_Graph/main/DataCollection/Twitch_social_link/social_link.csv')"
   ]
  },
  {
   "cell_type": "code",
   "execution_count": 38,
   "id": "7da05d59",
   "metadata": {
    "scrolled": true
   },
   "outputs": [
    {
     "data": {
      "text/html": [
       "<div>\n",
       "<style scoped>\n",
       "    .dataframe tbody tr th:only-of-type {\n",
       "        vertical-align: middle;\n",
       "    }\n",
       "\n",
       "    .dataframe tbody tr th {\n",
       "        vertical-align: top;\n",
       "    }\n",
       "\n",
       "    .dataframe thead th {\n",
       "        text-align: right;\n",
       "    }\n",
       "</style>\n",
       "<table border=\"1\" class=\"dataframe\">\n",
       "  <thead>\n",
       "    <tr style=\"text-align: right;\">\n",
       "      <th></th>\n",
       "      <th>streamer</th>\n",
       "      <th>social_list</th>\n",
       "    </tr>\n",
       "  </thead>\n",
       "  <tbody>\n",
       "    <tr>\n",
       "      <th>0</th>\n",
       "      <td>LyonWGFLive</td>\n",
       "      <td>['https://www.youtube.com/user/WhenGamersFail'...</td>\n",
       "    </tr>\n",
       "    <tr>\n",
       "      <th>1</th>\n",
       "      <td>Tumblurr</td>\n",
       "      <td>[]</td>\n",
       "    </tr>\n",
       "    <tr>\n",
       "      <th>2</th>\n",
       "      <td>ChristianVieriOfficial</td>\n",
       "      <td>['https://www.instagram.com/christianvieri/', ...</td>\n",
       "    </tr>\n",
       "    <tr>\n",
       "      <th>3</th>\n",
       "      <td>GrenBaud</td>\n",
       "      <td>['https://www.tiktok.com/@grenbaud', 'https://...</td>\n",
       "    </tr>\n",
       "    <tr>\n",
       "      <th>4</th>\n",
       "      <td>ZanoXVII</td>\n",
       "      <td>['https://www.instagram.com/zanoxvii/', 'https...</td>\n",
       "    </tr>\n",
       "  </tbody>\n",
       "</table>\n",
       "</div>"
      ],
      "text/plain": [
       "                 streamer                                        social_list\n",
       "0             LyonWGFLive  ['https://www.youtube.com/user/WhenGamersFail'...\n",
       "1                Tumblurr                                                 []\n",
       "2  ChristianVieriOfficial  ['https://www.instagram.com/christianvieri/', ...\n",
       "3                GrenBaud  ['https://www.tiktok.com/@grenbaud', 'https://...\n",
       "4                ZanoXVII  ['https://www.instagram.com/zanoxvii/', 'https..."
      ]
     },
     "execution_count": 38,
     "metadata": {},
     "output_type": "execute_result"
    }
   ],
   "source": [
    "social.head()"
   ]
  },
  {
   "cell_type": "code",
   "execution_count": 39,
   "id": "0b696561",
   "metadata": {},
   "outputs": [
    {
     "data": {
      "text/plain": [
       "(2945, 2)"
      ]
     },
     "execution_count": 39,
     "metadata": {},
     "output_type": "execute_result"
    }
   ],
   "source": [
    "social.shape"
   ]
  },
  {
   "cell_type": "code",
   "execution_count": 40,
   "id": "0aecebf0",
   "metadata": {},
   "outputs": [
    {
     "data": {
      "text/plain": [
       "360"
      ]
     },
     "execution_count": 40,
     "metadata": {},
     "output_type": "execute_result"
    }
   ],
   "source": [
    "social[social['social_list']== '[]'].shape[0] #nessun link (degli streamer di cui si è fatto scraping)"
   ]
  },
  {
   "cell_type": "code",
   "execution_count": null,
   "id": "edc6df4e",
   "metadata": {},
   "outputs": [],
   "source": []
  },
  {
   "cell_type": "code",
   "execution_count": 41,
   "id": "6d2e78a2",
   "metadata": {},
   "outputs": [],
   "source": [
    "streamer_dataset = pd.read_csv('https://raw.githubusercontent.com/gianscuri/Twitch_Community_Graph/main/DataProcessing/Streamer_dataset.csv')"
   ]
  },
  {
   "cell_type": "code",
   "execution_count": 42,
   "id": "0067d32b",
   "metadata": {},
   "outputs": [
    {
     "data": {
      "text/html": [
       "<div>\n",
       "<style scoped>\n",
       "    .dataframe tbody tr th:only-of-type {\n",
       "        vertical-align: middle;\n",
       "    }\n",
       "\n",
       "    .dataframe tbody tr th {\n",
       "        vertical-align: top;\n",
       "    }\n",
       "\n",
       "    .dataframe thead th {\n",
       "        text-align: right;\n",
       "    }\n",
       "</style>\n",
       "<table border=\"1\" class=\"dataframe\">\n",
       "  <thead>\n",
       "    <tr style=\"text-align: right;\">\n",
       "      <th></th>\n",
       "      <th>idStreamer</th>\n",
       "      <th>streamer</th>\n",
       "      <th>minutesLive</th>\n",
       "      <th>viewerMean</th>\n",
       "      <th>viewerPeak</th>\n",
       "      <th>spectMean</th>\n",
       "      <th>spectTot</th>\n",
       "      <th>socialLinks</th>\n",
       "    </tr>\n",
       "  </thead>\n",
       "  <tbody>\n",
       "    <tr>\n",
       "      <th>0</th>\n",
       "      <td>0</td>\n",
       "      <td>LyonWGFLive</td>\n",
       "      <td>1155</td>\n",
       "      <td>14011</td>\n",
       "      <td>19727</td>\n",
       "      <td>9337</td>\n",
       "      <td>58801</td>\n",
       "      <td>https://www.youtube.com/user/WhenGamersFail; h...</td>\n",
       "    </tr>\n",
       "    <tr>\n",
       "      <th>1</th>\n",
       "      <td>1</td>\n",
       "      <td>Tumblurr</td>\n",
       "      <td>2925</td>\n",
       "      <td>13683</td>\n",
       "      <td>32436</td>\n",
       "      <td>10655</td>\n",
       "      <td>148019</td>\n",
       "      <td>NaN</td>\n",
       "    </tr>\n",
       "    <tr>\n",
       "      <th>2</th>\n",
       "      <td>2</td>\n",
       "      <td>ChristianVieriOfficial</td>\n",
       "      <td>570</td>\n",
       "      <td>11014</td>\n",
       "      <td>24931</td>\n",
       "      <td>7056</td>\n",
       "      <td>64614</td>\n",
       "      <td>https://www.instagram.com/christianvieri/; htt...</td>\n",
       "    </tr>\n",
       "    <tr>\n",
       "      <th>3</th>\n",
       "      <td>3</td>\n",
       "      <td>GrenBaud</td>\n",
       "      <td>1005</td>\n",
       "      <td>10285</td>\n",
       "      <td>30017</td>\n",
       "      <td>7600</td>\n",
       "      <td>78521</td>\n",
       "      <td>https://www.tiktok.com/@grenbaud; https://www....</td>\n",
       "    </tr>\n",
       "    <tr>\n",
       "      <th>4</th>\n",
       "      <td>4</td>\n",
       "      <td>ZanoXVII</td>\n",
       "      <td>3480</td>\n",
       "      <td>7681</td>\n",
       "      <td>13973</td>\n",
       "      <td>5699</td>\n",
       "      <td>157718</td>\n",
       "      <td>https://www.instagram.com/zanoxvii/; https://w...</td>\n",
       "    </tr>\n",
       "  </tbody>\n",
       "</table>\n",
       "</div>"
      ],
      "text/plain": [
       "   idStreamer                streamer  minutesLive  viewerMean  viewerPeak  \\\n",
       "0           0             LyonWGFLive         1155       14011       19727   \n",
       "1           1                Tumblurr         2925       13683       32436   \n",
       "2           2  ChristianVieriOfficial          570       11014       24931   \n",
       "3           3                GrenBaud         1005       10285       30017   \n",
       "4           4                ZanoXVII         3480        7681       13973   \n",
       "\n",
       "   spectMean  spectTot                                        socialLinks  \n",
       "0       9337     58801  https://www.youtube.com/user/WhenGamersFail; h...  \n",
       "1      10655    148019                                                NaN  \n",
       "2       7056     64614  https://www.instagram.com/christianvieri/; htt...  \n",
       "3       7600     78521  https://www.tiktok.com/@grenbaud; https://www....  \n",
       "4       5699    157718  https://www.instagram.com/zanoxvii/; https://w...  "
      ]
     },
     "execution_count": 42,
     "metadata": {},
     "output_type": "execute_result"
    }
   ],
   "source": [
    "streamer_dataset.head()"
   ]
  },
  {
   "cell_type": "code",
   "execution_count": 43,
   "id": "3c5b237e",
   "metadata": {},
   "outputs": [
    {
     "data": {
      "text/plain": [
       "(2977, 8)"
      ]
     },
     "execution_count": 43,
     "metadata": {},
     "output_type": "execute_result"
    }
   ],
   "source": [
    "streamer_dataset.shape"
   ]
  },
  {
   "cell_type": "code",
   "execution_count": 44,
   "id": "bf241807",
   "metadata": {},
   "outputs": [
    {
     "data": {
      "text/plain": [
       "idStreamer       0\n",
       "streamer         0\n",
       "minutesLive      0\n",
       "viewerMean       0\n",
       "viewerPeak       0\n",
       "spectMean        0\n",
       "spectTot         0\n",
       "socialLinks    392\n",
       "dtype: int64"
      ]
     },
     "execution_count": 44,
     "metadata": {},
     "output_type": "execute_result"
    }
   ],
   "source": [
    "streamer_dataset.isnull().sum()"
   ]
  },
  {
   "cell_type": "code",
   "execution_count": 47,
   "id": "5f8c9a9a",
   "metadata": {},
   "outputs": [],
   "source": [
    "games_match= pd.read_csv('https://raw.githubusercontent.com/gianscuri/Twitch_Community_Graph/main/DataProcessing/temp.csv')"
   ]
  },
  {
   "cell_type": "code",
   "execution_count": 48,
   "id": "d4a299e1",
   "metadata": {},
   "outputs": [
    {
     "data": {
      "text/html": [
       "<div>\n",
       "<style scoped>\n",
       "    .dataframe tbody tr th:only-of-type {\n",
       "        vertical-align: middle;\n",
       "    }\n",
       "\n",
       "    .dataframe tbody tr th {\n",
       "        vertical-align: top;\n",
       "    }\n",
       "\n",
       "    .dataframe thead th {\n",
       "        text-align: right;\n",
       "    }\n",
       "</style>\n",
       "<table border=\"1\" class=\"dataframe\">\n",
       "  <thead>\n",
       "    <tr style=\"text-align: right;\">\n",
       "      <th></th>\n",
       "      <th>idGame</th>\n",
       "      <th>gameName</th>\n",
       "      <th>steamName</th>\n",
       "      <th>developer</th>\n",
       "      <th>publisher</th>\n",
       "      <th>releaseDate</th>\n",
       "      <th>categories</th>\n",
       "    </tr>\n",
       "  </thead>\n",
       "  <tbody>\n",
       "    <tr>\n",
       "      <th>0</th>\n",
       "      <td>0</td>\n",
       "      <td>Monster Hunter Generations Ultimate</td>\n",
       "      <td>NaN</td>\n",
       "      <td>NaN</td>\n",
       "      <td>NaN</td>\n",
       "      <td>NaN</td>\n",
       "      <td>NaN</td>\n",
       "    </tr>\n",
       "    <tr>\n",
       "      <th>1</th>\n",
       "      <td>1</td>\n",
       "      <td>Alice: Madness Returns</td>\n",
       "      <td>Alice: Madness Returns</td>\n",
       "      <td>Spicy Horse Games</td>\n",
       "      <td>Electronic Arts</td>\n",
       "      <td>2011-06-17</td>\n",
       "      <td>['3D Platformer', 'Action-Adventure', 'Hack an...</td>\n",
       "    </tr>\n",
       "    <tr>\n",
       "      <th>2</th>\n",
       "      <td>2</td>\n",
       "      <td>Hold Fast</td>\n",
       "      <td>NaN</td>\n",
       "      <td>NaN</td>\n",
       "      <td>NaN</td>\n",
       "      <td>NaN</td>\n",
       "      <td>NaN</td>\n",
       "    </tr>\n",
       "    <tr>\n",
       "      <th>3</th>\n",
       "      <td>3</td>\n",
       "      <td>Pokémon Trading Card Game Online</td>\n",
       "      <td>NaN</td>\n",
       "      <td>NaN</td>\n",
       "      <td>NaN</td>\n",
       "      <td>NaN</td>\n",
       "      <td>NaN</td>\n",
       "    </tr>\n",
       "    <tr>\n",
       "      <th>4</th>\n",
       "      <td>4</td>\n",
       "      <td>Witch It</td>\n",
       "      <td>Witch It</td>\n",
       "      <td>Barrel Roll Games</td>\n",
       "      <td>Daedalic Entertainment</td>\n",
       "      <td>2020-10-22</td>\n",
       "      <td>['Multiplayer', 'Funny', 'Casual', 'Action', '...</td>\n",
       "    </tr>\n",
       "  </tbody>\n",
       "</table>\n",
       "</div>"
      ],
      "text/plain": [
       "   idGame                             gameName               steamName  \\\n",
       "0       0  Monster Hunter Generations Ultimate                     NaN   \n",
       "1       1               Alice: Madness Returns  Alice: Madness Returns   \n",
       "2       2                            Hold Fast                     NaN   \n",
       "3       3     Pokémon Trading Card Game Online                     NaN   \n",
       "4       4                             Witch It                Witch It   \n",
       "\n",
       "           developer               publisher releaseDate  \\\n",
       "0                NaN                     NaN         NaN   \n",
       "1  Spicy Horse Games         Electronic Arts  2011-06-17   \n",
       "2                NaN                     NaN         NaN   \n",
       "3                NaN                     NaN         NaN   \n",
       "4  Barrel Roll Games  Daedalic Entertainment  2020-10-22   \n",
       "\n",
       "                                          categories  \n",
       "0                                                NaN  \n",
       "1  ['3D Platformer', 'Action-Adventure', 'Hack an...  \n",
       "2                                                NaN  \n",
       "3                                                NaN  \n",
       "4  ['Multiplayer', 'Funny', 'Casual', 'Action', '...  "
      ]
     },
     "execution_count": 48,
     "metadata": {},
     "output_type": "execute_result"
    }
   ],
   "source": [
    "games_match.head()"
   ]
  },
  {
   "cell_type": "code",
   "execution_count": 49,
   "id": "7b95d063",
   "metadata": {},
   "outputs": [
    {
     "data": {
      "text/plain": [
       "idGame           0\n",
       "gameName         0\n",
       "steamName      665\n",
       "developer      666\n",
       "publisher      910\n",
       "releaseDate    733\n",
       "categories     667\n",
       "dtype: int64"
      ]
     },
     "execution_count": 49,
     "metadata": {},
     "output_type": "execute_result"
    }
   ],
   "source": [
    "games_match.isnull().sum()"
   ]
  },
  {
   "cell_type": "code",
   "execution_count": null,
   "id": "9ab37cf2",
   "metadata": {},
   "outputs": [],
   "source": [
    "games_match.shape[0]"
   ]
  },
  {
   "cell_type": "code",
   "execution_count": 50,
   "id": "98963494",
   "metadata": {},
   "outputs": [
    {
     "name": "stdout",
     "output_type": "stream",
     "text": [
      "% di missing in idgame 0.0\n",
      "% di missing in gameName 0.0\n",
      "% di missing in steamName 58.12937062937063\n",
      "% di missing in developer 58.21678321678322\n",
      "% di missing in publisher 79.54545454545455\n",
      "% di missing in releaseDate 64.07342657342657\n",
      "% di missing in categories 58.3041958041958\n"
     ]
    }
   ],
   "source": [
    "print(f\"% di missing in idgame {0/games_match.shape[0]*100}\")\n",
    "print(f\"% di missing in gameName {0/games_match.shape[0]*100}\")\n",
    "print(f\"% di missing in steamName {665/games_match.shape[0]*100}\")\n",
    "print(f\"% di missing in developer {666/games_match.shape[0]*100}\")\n",
    "print(f\"% di missing in publisher {910/games_match.shape[0]*100}\")\n",
    "print(f\"% di missing in releaseDate {733/games_match.shape[0]*100}\")\n",
    "print(f\"% di missing in categories {667/games_match.shape[0]*100}\")"
   ]
  },
  {
   "cell_type": "code",
   "execution_count": 52,
   "id": "2d8c1e67",
   "metadata": {},
   "outputs": [
    {
     "name": "stdout",
     "output_type": "stream",
     "text": [
      "% di completeness in idgame 100.0\n",
      "% di completeness in gameName 100.0\n",
      "% di completeness in steamName 41.87062937062937\n",
      "% di completeness in developer 41.78321678321678\n",
      "% di completeness in publisher 20.45454545454546\n",
      "% di completeness in releaseDate 35.92657342657343\n",
      "% di completeness in categories 41.6958041958042\n"
     ]
    }
   ],
   "source": [
    "print(f\"% di completeness in idgame {(1-0/games_match.shape[0])*100}\")\n",
    "print(f\"% di completeness in gameName {(1-0/games_match.shape[0])*100}\")\n",
    "print(f\"% di completeness in steamName {(1-665/games_match.shape[0])*100}\")\n",
    "print(f\"% di completeness in developer {(1-666/games_match.shape[0])*100}\")\n",
    "print(f\"% di completeness in publisher {(1-910/games_match.shape[0])*100}\")\n",
    "print(f\"% di completeness in releaseDate {(1-733/games_match.shape[0])*100}\")\n",
    "print(f\"% di completeness in categories {(1-667/games_match.shape[0])*100}\")"
   ]
  },
  {
   "cell_type": "code",
   "execution_count": null,
   "id": "663e4d3f",
   "metadata": {},
   "outputs": [],
   "source": []
  }
 ],
 "metadata": {
  "kernelspec": {
   "display_name": "Python 3 (ipykernel)",
   "language": "python",
   "name": "python3"
  },
  "language_info": {
   "codemirror_mode": {
    "name": "ipython",
    "version": 3
   },
   "file_extension": ".py",
   "mimetype": "text/x-python",
   "name": "python",
   "nbconvert_exporter": "python",
   "pygments_lexer": "ipython3",
   "version": "3.7.11"
  }
 },
 "nbformat": 4,
 "nbformat_minor": 5
}
